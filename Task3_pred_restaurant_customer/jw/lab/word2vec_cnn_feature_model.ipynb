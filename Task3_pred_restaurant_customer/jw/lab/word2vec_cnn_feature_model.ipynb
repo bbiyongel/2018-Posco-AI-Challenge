{
 "cells": [
  {
   "cell_type": "code",
   "execution_count": 1,
   "metadata": {},
   "outputs": [],
   "source": [
    "import pandas as pd\n",
    "import numpy as np\n",
    "\n",
    "from gensim.models import Word2Vec"
   ]
  },
  {
   "cell_type": "code",
   "execution_count": 2,
   "metadata": {
    "collapsed": true
   },
   "outputs": [],
   "source": [
    "w2v_model = Word2Vec.load('./food.model')"
   ]
  },
  {
   "cell_type": "code",
   "execution_count": 3,
   "metadata": {
    "collapsed": true
   },
   "outputs": [],
   "source": [
    "import math\n",
    "import matplotlib.pyplot as plt\n",
    "from datetime import datetime\n",
    "%matplotlib inline\n",
    "\n",
    "plt.rcParams[\"figure.figsize\"] = (20,3)"
   ]
  },
  {
   "cell_type": "code",
   "execution_count": 4,
   "metadata": {},
   "outputs": [
    {
     "name": "stdout",
     "output_type": "stream",
     "text": [
      "<class 'pandas.core.frame.DataFrame'>\n",
      "RangeIndex: 20010 entries, 0 to 20009\n",
      "Data columns (total 5 columns):\n",
      "일자      20010 non-null int64\n",
      "time    20010 non-null object\n",
      "식사내용    20010 non-null object\n",
      "매출일자    20010 non-null float64\n",
      "수량      20010 non-null float64\n",
      "dtypes: float64(2), int64(1), object(2)\n",
      "memory usage: 781.7+ KB\n"
     ]
    }
   ],
   "source": [
    "train_df = pd.read_csv('./train_data.tsv',sep='\\t')\n",
    "train_df.info()"
   ]
  },
  {
   "cell_type": "code",
   "execution_count": 5,
   "metadata": {
    "collapsed": true
   },
   "outputs": [],
   "source": [
    "time_dummy = pd.get_dummies(train_df['time'])"
   ]
  },
  {
   "cell_type": "code",
   "execution_count": 6,
   "metadata": {
    "collapsed": true
   },
   "outputs": [],
   "source": [
    "train_df = pd.concat([train_df, time_dummy],axis=1)"
   ]
  },
  {
   "cell_type": "code",
   "execution_count": 7,
   "metadata": {
    "scrolled": true
   },
   "outputs": [
    {
     "name": "stdout",
     "output_type": "stream",
     "text": [
      "[   0.           51.42857143  102.85714286  154.28571429  205.71428571\n",
      "  257.14285714  308.57142857]\n",
      "[ 0.          0.78183148  0.97492791  0.43388374 -0.43388374 -0.97492791\n",
      " -0.78183148]\n",
      "[ 1.          0.6234898  -0.22252093 -0.90096887 -0.90096887 -0.22252093\n",
      "  0.6234898 ]\n",
      "[   0.   30.   60.   90.  120.  150.  180.  210.  240.  270.  300.  330.]\n",
      "[  0.00000000e+00   5.00000000e-01   8.66025404e-01   1.00000000e+00\n",
      "   8.66025404e-01   5.00000000e-01   1.22464680e-16  -5.00000000e-01\n",
      "  -8.66025404e-01  -1.00000000e+00  -8.66025404e-01  -5.00000000e-01]\n",
      "[  1.00000000e+00   8.66025404e-01   5.00000000e-01   6.12323400e-17\n",
      "  -5.00000000e-01  -8.66025404e-01  -1.00000000e+00  -8.66025404e-01\n",
      "  -5.00000000e-01  -1.83697020e-16   5.00000000e-01   8.66025404e-01]\n",
      "[   0.           11.61290323   23.22580645   34.83870968   46.4516129\n",
      "   58.06451613   69.67741935   81.29032258   92.90322581  104.51612903\n",
      "  116.12903226  127.74193548  139.35483871  150.96774194  162.58064516\n",
      "  174.19354839  185.80645161  197.41935484  209.03225806  220.64516129\n",
      "  232.25806452  243.87096774  255.48387097  267.09677419  278.70967742\n",
      "  290.32258065  301.93548387  313.5483871   325.16129032  336.77419355\n",
      "  348.38709677]\n",
      "[ 0.          0.20129852  0.39435586  0.57126822  0.72479279  0.84864426\n",
      "  0.93775213  0.98846832  0.99871651  0.96807712  0.89780454  0.79077574\n",
      "  0.65137248  0.48530196  0.29936312  0.10116832 -0.10116832 -0.29936312\n",
      " -0.48530196 -0.65137248 -0.79077574 -0.89780454 -0.96807712 -0.99871651\n",
      " -0.98846832 -0.93775213 -0.84864426 -0.72479279 -0.57126822 -0.39435586\n",
      " -0.20129852]\n",
      "[ 1.          0.97952994  0.91895781  0.82076344  0.68896692  0.52896401\n",
      "  0.34730525  0.15142778 -0.05064917 -0.25065253 -0.44039415 -0.61210598\n",
      " -0.75875812 -0.87434662 -0.95413926 -0.99486932 -0.99486932 -0.95413926\n",
      " -0.87434662 -0.75875812 -0.61210598 -0.44039415 -0.25065253 -0.05064917\n",
      "  0.15142778  0.34730525  0.52896401  0.68896692  0.82076344  0.91895781\n",
      "  0.97952994]\n"
     ]
    }
   ],
   "source": [
    "num_values = 7\n",
    "degrees_week = np.linspace(0, 360, num_values + 1)[:-1]\n",
    "print(degrees_week)\n",
    "sin_week = np.sin(np.deg2rad(degrees_week))\n",
    "print(sin_week)\n",
    "cos_week = np.cos(np.deg2rad(degrees_week))\n",
    "print(cos_week)\n",
    "\n",
    "num_values = 12\n",
    "degrees_month = np.linspace(0, 360, num_values + 1)[:-1]\n",
    "print(degrees_month)\n",
    "sin_month = np.sin(np.deg2rad(degrees_month))\n",
    "print(sin_month)\n",
    "cos_month = np.cos(np.deg2rad(degrees_month))\n",
    "print(cos_month)\n",
    "\n",
    "num_values = 31\n",
    "degrees_day = np.linspace(0, 360, num_values + 1)[:-1]\n",
    "print(degrees_day)\n",
    "sin_day = np.sin(np.deg2rad(degrees_day))\n",
    "print(sin_day)\n",
    "cos_day = np.cos(np.deg2rad(degrees_day))\n",
    "print(cos_day)"
   ]
  },
  {
   "cell_type": "code",
   "execution_count": 8,
   "metadata": {
    "collapsed": true
   },
   "outputs": [],
   "source": [
    "def make_coord(date,num_class):\n",
    "    # 1 ~ 12, 1 ~ 7, 1 ~ 31\n",
    "    degrees = np.linspace(0,360,num_values + 1)[:-1]\n",
    "    sin = np.sin(np.deg2rad(degrees))\n",
    "    cos = np.cos(np.deg2rad(degrees))\n",
    "    return sin, cos\n",
    "\n",
    "\n",
    "def date2coord(date, sin, cos):\n",
    "    return cos[date-1], sin[date-1]\n",
    "\n",
    "\n",
    "def date2week(x):\n",
    "    y = int(str(x)[:4])\n",
    "    m = int(str(x)[4:6])\n",
    "    d = int(str(x)[6:])\n",
    "    day = datetime(y, m, d)\n",
    "    return day.weekday()"
   ]
  },
  {
   "cell_type": "markdown",
   "metadata": {},
   "source": [
    "### aux feature"
   ]
  },
  {
   "cell_type": "code",
   "execution_count": 9,
   "metadata": {
    "collapsed": true
   },
   "outputs": [],
   "source": [
    "train_df['month'] = train_df['일자'].apply(lambda x:int(str(x)[4:6]))\n",
    "train_df['day'] = train_df['일자'].apply(lambda x:int(str(x)[6:]))\n",
    "train_df['week'] = train_df['일자'].apply(date2week)\n",
    "train_df['week'] = train_df['week'] + 1 "
   ]
  },
  {
   "cell_type": "code",
   "execution_count": 10,
   "metadata": {
    "collapsed": true
   },
   "outputs": [],
   "source": [
    "train_df['day_coord'] = train_df['day'].apply(date2coord, args=(sin_day, cos_day,))\n",
    "train_df['month_coord'] = train_df['month'].apply(date2coord, args=(sin_month, cos_month))\n",
    "train_df['week_coord'] = train_df['week'].apply(date2coord, args=(sin_week, cos_week,))"
   ]
  },
  {
   "cell_type": "code",
   "execution_count": 11,
   "metadata": {
    "collapsed": true
   },
   "outputs": [],
   "source": [
    "x_list = []"
   ]
  },
  {
   "cell_type": "code",
   "execution_count": 12,
   "metadata": {
    "collapsed": true
   },
   "outputs": [],
   "source": [
    "X_arr = np.array(train_df['day_coord'].apply(lambda x:np.array(x)).tolist())\n",
    "x_list.append(X_arr)"
   ]
  },
  {
   "cell_type": "code",
   "execution_count": 13,
   "metadata": {
    "collapsed": true
   },
   "outputs": [],
   "source": [
    "X_arr = np.array(train_df['month_coord'].apply(lambda x:np.array(x)).tolist())\n",
    "x_list.append(X_arr)"
   ]
  },
  {
   "cell_type": "code",
   "execution_count": 14,
   "metadata": {
    "collapsed": true
   },
   "outputs": [],
   "source": [
    "X_arr = np.array(train_df['week_coord'].apply(lambda x:np.array(x)).tolist())\n",
    "x_list.append(X_arr)"
   ]
  },
  {
   "cell_type": "code",
   "execution_count": 15,
   "metadata": {
    "collapsed": true
   },
   "outputs": [],
   "source": [
    "X_arr = train_df['아침'].values.reshape(-1,1)\n",
    "x_list.append(X_arr)\n",
    "X_arr = train_df['점심'].values.reshape(-1,1)\n",
    "x_list.append(X_arr)\n",
    "X_arr = train_df['점심2'].values.reshape(-1,1)\n",
    "x_list.append(X_arr)\n",
    "X_arr = train_df['저녁'].values.reshape(-1,1)\n",
    "x_list.append(X_arr)"
   ]
  },
  {
   "cell_type": "markdown",
   "metadata": {},
   "source": [
    "### cnn feature"
   ]
  },
  {
   "cell_type": "code",
   "execution_count": 16,
   "metadata": {
    "collapsed": true
   },
   "outputs": [],
   "source": [
    "train_df['split_content'] = train_df['식사내용'].apply(lambda x: x[:-1].split(','))\n",
    "train_df['content_len'] = train_df['split_content'].apply(lambda x: len(x))"
   ]
  },
  {
   "cell_type": "code",
   "execution_count": 17,
   "metadata": {},
   "outputs": [
    {
     "data": {
      "text/plain": [
       "7     6319\n",
       "8     3799\n",
       "6     3576\n",
       "16    1770\n",
       "10    1040\n",
       "14     730\n",
       "5      503\n",
       "9      483\n",
       "15     364\n",
       "13     354\n",
       "12     325\n",
       "17     278\n",
       "11     277\n",
       "4       91\n",
       "18      66\n",
       "19      19\n",
       "3       10\n",
       "20       3\n",
       "2        1\n",
       "23       1\n",
       "1        1\n",
       "Name: content_len, dtype: int64"
      ]
     },
     "execution_count": 17,
     "metadata": {},
     "output_type": "execute_result"
    }
   ],
   "source": [
    "s = train_df['content_len'].value_counts()\n",
    "s"
   ]
  },
  {
   "cell_type": "code",
   "execution_count": 18,
   "metadata": {},
   "outputs": [],
   "source": [
    "train_df['padded_content'] = train_df['split_content'].apply(lambda x: x + ['<PAD>']*(24 - len(x)))"
   ]
  },
  {
   "cell_type": "code",
   "execution_count": 19,
   "metadata": {
    "scrolled": true
   },
   "outputs": [
    {
     "data": {
      "text/plain": [
       "0    [과일샐러드, 닭죽, 돈육마늘장조림, 떡만두국, 부추김무침, 쌀밥, 딸기잼(중), ...\n",
       "1    [감자으깸샐러드, 비프까스, 스위트피클, 쌀밥, 옥수수스프, <PAD>, <PAD>...\n",
       "2    [골뱅이야채무침, 새우맛살튀김, 쌀밥(사무직), 열무겉절이, 칼국수, <PAD>, ...\n",
       "3    [계란죽, 곤약멸치조림, 김치국, 마카로니샐러드, 쌀밥, 오징어회무침, 딸기잼(중)...\n",
       "4    [계란탕, 단무지잔파무침, 자장소스, 잡채밥, 탕수만두, <PAD>, <PAD>, ...\n",
       "Name: padded_content, dtype: object"
      ]
     },
     "execution_count": 19,
     "metadata": {},
     "output_type": "execute_result"
    }
   ],
   "source": [
    "train_df['padded_content'].head()"
   ]
  },
  {
   "cell_type": "code",
   "execution_count": 20,
   "metadata": {
    "collapsed": true
   },
   "outputs": [],
   "source": [
    "def foodlist2wordmat(x):\n",
    "    return w2v_model.wv[x]"
   ]
  },
  {
   "cell_type": "code",
   "execution_count": 21,
   "metadata": {},
   "outputs": [
    {
     "data": {
      "text/plain": [
       "(24, 100)"
      ]
     },
     "execution_count": 21,
     "metadata": {},
     "output_type": "execute_result"
    }
   ],
   "source": [
    "foodlist2wordmat(train_df.iloc[0]['padded_content']).shape"
   ]
  },
  {
   "cell_type": "code",
   "execution_count": 22,
   "metadata": {},
   "outputs": [],
   "source": [
    "X_train = np.array(train_df['padded_content'].apply(foodlist2wordmat).tolist()).reshape(len(train_df),24,100,1)"
   ]
  },
  {
   "cell_type": "code",
   "execution_count": 23,
   "metadata": {
    "collapsed": true
   },
   "outputs": [],
   "source": [
    "y_train = train_df['수량'].values.reshape(-1,1)"
   ]
  },
  {
   "cell_type": "code",
   "execution_count": 24,
   "metadata": {},
   "outputs": [
    {
     "name": "stdout",
     "output_type": "stream",
     "text": [
      "(20010, 24, 100, 1) (20010, 1)\n"
     ]
    }
   ],
   "source": [
    "print(X_train.shape, y_train.shape)"
   ]
  },
  {
   "cell_type": "code",
   "execution_count": 25,
   "metadata": {
    "scrolled": false
   },
   "outputs": [
    {
     "name": "stderr",
     "output_type": "stream",
     "text": [
      "Using TensorFlow backend.\n"
     ]
    }
   ],
   "source": [
    "import keras"
   ]
  },
  {
   "cell_type": "code",
   "execution_count": 26,
   "metadata": {},
   "outputs": [],
   "source": [
    "from keras.models import Sequential, Model\n",
    "from keras.layers import Conv2D, MaxPooling2D, Dense, Flatten, Input"
   ]
  },
  {
   "cell_type": "code",
   "execution_count": 45,
   "metadata": {
    "collapsed": true
   },
   "outputs": [],
   "source": [
    "def base_cnn_model():\n",
    "    visible = Input(shape=(24,100,1))\n",
    "    conv1 = Conv2D(16,kernel_size=4, activation='relu')(visible)\n",
    "    pool1 = MaxPooling2D(pool_size=(2, 2))(conv1)\n",
    "    \n",
    "    conv2 = Conv2D(8, kernel_size=4, activation='relu')(pool1)\n",
    "    pool2 = MaxPooling2D(pool_size=(2, 2))(conv2)\n",
    "    flat2 = Flatten()(pool2)\n",
    "    hidden1 = Dense(128, activation='relu')(flat2)\n",
    "    output = Dense(1, activation='sigmoid')(hidden1)\n",
    "    model = Model(inputs=visible, outputs=output)\n",
    "    model.compile(optimizer='adam',loss='mean_squared_error')\n",
    "    model.summary()\n",
    "    return model"
   ]
  },
  {
   "cell_type": "code",
   "execution_count": 46,
   "metadata": {},
   "outputs": [
    {
     "name": "stdout",
     "output_type": "stream",
     "text": [
      "_________________________________________________________________\n",
      "Layer (type)                 Output Shape              Param #   \n",
      "=================================================================\n",
      "input_4 (InputLayer)         (None, 24, 100, 1)        0         \n",
      "_________________________________________________________________\n",
      "conv2d_7 (Conv2D)            (None, 21, 97, 16)        272       \n",
      "_________________________________________________________________\n",
      "max_pooling2d_7 (MaxPooling2 (None, 10, 48, 16)        0         \n",
      "_________________________________________________________________\n",
      "conv2d_8 (Conv2D)            (None, 7, 45, 8)          2056      \n",
      "_________________________________________________________________\n",
      "max_pooling2d_8 (MaxPooling2 (None, 3, 22, 8)          0         \n",
      "_________________________________________________________________\n",
      "flatten_4 (Flatten)          (None, 528)               0         \n",
      "_________________________________________________________________\n",
      "dense_7 (Dense)              (None, 128)               67712     \n",
      "_________________________________________________________________\n",
      "dense_8 (Dense)              (None, 1)                 129       \n",
      "=================================================================\n",
      "Total params: 70,169\n",
      "Trainable params: 70,169\n",
      "Non-trainable params: 0\n",
      "_________________________________________________________________\n"
     ]
    }
   ],
   "source": [
    "cnn_model = base_cnn_model()"
   ]
  },
  {
   "cell_type": "code",
   "execution_count": 48,
   "metadata": {},
   "outputs": [
    {
     "name": "stdout",
     "output_type": "stream",
     "text": [
      "Epoch 1/3\n",
      "20010/20010 [==============================] - 17s 863us/step - loss: 648.6376\n",
      "Epoch 2/3\n",
      "20010/20010 [==============================] - 17s 866us/step - loss: 648.6376\n",
      "Epoch 3/3\n",
      "20010/20010 [==============================] - 18s 883us/step - loss: 648.6376\n"
     ]
    },
    {
     "data": {
      "text/plain": [
       "<keras.callbacks.History at 0x1179154e0>"
      ]
     },
     "execution_count": 48,
     "metadata": {},
     "output_type": "execute_result"
    }
   ],
   "source": [
    "cnn_model.fit(x=X_train,y=y_train,batch_size=100,epochs=3)"
   ]
  },
  {
   "cell_type": "code",
   "execution_count": 49,
   "metadata": {},
   "outputs": [
    {
     "data": {
      "text/plain": [
       "(array([[ 1.]], dtype=float32), array([ 37.47292419]))"
      ]
     },
     "execution_count": 49,
     "metadata": {},
     "output_type": "execute_result"
    }
   ],
   "source": [
    "cnn_model.predict(X_train[0].reshape(1,24,100,1)), y_train[0]"
   ]
  },
  {
   "cell_type": "code",
   "execution_count": 50,
   "metadata": {},
   "outputs": [],
   "source": [
    "pred = cnn_model.predict(X_train[:100])\n",
    "y_test = y_train[:100]"
   ]
  },
  {
   "cell_type": "code",
   "execution_count": 51,
   "metadata": {},
   "outputs": [
    {
     "data": {
      "text/plain": [
       "[<matplotlib.lines.Line2D at 0x133897b70>]"
      ]
     },
     "execution_count": 51,
     "metadata": {},
     "output_type": "execute_result"
    },
    {
     "name": "stderr",
     "output_type": "stream",
     "text": [
      "/Users/1003874/anaconda/envs/gcp-vision/lib/python3.6/site-packages/matplotlib/font_manager.py:1297: UserWarning: findfont: Font family ['nanumgothic'] not found. Falling back to DejaVu Sans\n",
      "  (prop.get_family(), self.defaultFamily[fontext]))\n"
     ]
    },
    {
     "data": {
      "image/png": "[encoded data removed]",
      "text/plain": [
       "<matplotlib.figure.Figure at 0x133897eb8>"
      ]
     },
     "metadata": {},
     "output_type": "display_data"
    }
   ],
   "source": [
    "plt.plot(pred[:100])\n",
    "plt.plot(y_test[:100])"
   ]
  },
  {
   "cell_type": "code",
   "execution_count": null,
   "metadata": {
    "collapsed": true
   },
   "outputs": [],
   "source": []
  }
 ],
 "metadata": {
  "kernelspec": {
   "display_name": "Python 3",
   "language": "python",
   "name": "python3"
  },
  "language_info": {
   "codemirror_mode": {
    "name": "ipython",
    "version": 3
   },
   "file_extension": ".py",
   "mimetype": "text/x-python",
   "name": "python",
   "nbconvert_exporter": "python",
   "pygments_lexer": "ipython3",
   "version": "3.6.1"
  }
 },
 "nbformat": 4,
 "nbformat_minor": 2
}
