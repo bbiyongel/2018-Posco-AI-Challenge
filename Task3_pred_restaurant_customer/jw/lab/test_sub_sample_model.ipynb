{
 "cells": [
  {
   "cell_type": "code",
   "execution_count": 1,
   "metadata": {
    "collapsed": true
   },
   "outputs": [],
   "source": [
    "import pandas as pd\n",
    "import numpy as np"
   ]
  },
  {
   "cell_type": "code",
   "execution_count": 2,
   "metadata": {},
   "outputs": [
    {
     "name": "stdout",
     "output_type": "stream",
     "text": [
      "<class 'pandas.core.frame.DataFrame'>\n",
      "RangeIndex: 20010 entries, 0 to 20009\n",
      "Data columns (total 11 columns):\n",
      "일자             20010 non-null int64\n",
      "time           20010 non-null object\n",
      "식사내용           20010 non-null object\n",
      "매출일자           20010 non-null float64\n",
      "수량             20010 non-null float64\n",
      "일시             20010 non-null object\n",
      "평균기온(°C)       20010 non-null float64\n",
      "최저기온(°C)       20010 non-null float64\n",
      "최고기온(°C)       20010 non-null float64\n",
      "강수 계속시간(hr)    20010 non-null float64\n",
      "일강수량(mm)       20010 non-null float64\n",
      "dtypes: float64(7), int64(1), object(3)\n",
      "memory usage: 1.7+ MB\n"
     ]
    }
   ],
   "source": [
    "df = pd.read_csv('../cli_train.tsv',sep='\\t')\n",
    "df.info()"
   ]
  },
  {
   "cell_type": "code",
   "execution_count": 3,
   "metadata": {},
   "outputs": [],
   "source": [
    "#df[df['일자']== 20030722]"
   ]
  },
  {
   "cell_type": "code",
   "execution_count": 4,
   "metadata": {},
   "outputs": [],
   "source": [
    "#df.drop([428],axis=0,inplace=True)"
   ]
  },
  {
   "cell_type": "code",
   "execution_count": 5,
   "metadata": {},
   "outputs": [],
   "source": [
    "df['year'] = (df['일자']/10000).astype(int)\n",
    "df['month'] = (df['일자'] % 10000 /100).astype(int)\n",
    "df['day'] = (df['일자'] % 100).astype(int)"
   ]
  },
  {
   "cell_type": "code",
   "execution_count": 6,
   "metadata": {
    "collapsed": true
   },
   "outputs": [],
   "source": [
    "df['weekday'] = pd.to_datetime(df['일자'], format='%Y%m%d').dt.dayofweek\n",
    "df.drop(['일자'],axis=1,inplace=True)"
   ]
  },
  {
   "cell_type": "code",
   "execution_count": 7,
   "metadata": {
    "collapsed": true
   },
   "outputs": [],
   "source": [
    "df['year'] = (df['year']-min(df['year'])) / (max(df['year']) - min(df['year']))\n",
    "df['month_sin'] = [np.sin(x*2*np.pi/12) for x in df['month']]\n",
    "df['month_cos'] = [np.cos(x*2*np.pi/12) for x in df['month']]\n",
    "df['day_sin'] = [np.sin(x*2*np.pi/31) for x in df['day']]\n",
    "df['day_cos'] = [np.cos(x*2*np.pi/31) for x in df['day']]\n",
    "df['weekday_sin'] = [np.sin(x*2*np.pi/7) for x in df['weekday']]\n",
    "df['weekday_cos'] = [np.cos(x*2*np.pi/7) for x in df['weekday']]\n",
    "df.drop(['month','day','weekday'], axis=1,inplace=True)"
   ]
  },
  {
   "cell_type": "code",
   "execution_count": 8,
   "metadata": {
    "collapsed": true
   },
   "outputs": [],
   "source": [
    "df = df.join(pd.get_dummies(df['time'], prefix='식사명'))\n",
    "df.drop(['time'],axis=1, inplace=True)"
   ]
  },
  {
   "cell_type": "code",
   "execution_count": 9,
   "metadata": {
    "scrolled": true
   },
   "outputs": [
    {
     "data": {
      "text/html": [
       "<div>\n",
       "<style>\n",
       "    .dataframe thead tr:only-child th {\n",
       "        text-align: right;\n",
       "    }\n",
       "\n",
       "    .dataframe thead th {\n",
       "        text-align: left;\n",
       "    }\n",
       "\n",
       "    .dataframe tbody tr th {\n",
       "        vertical-align: top;\n",
       "    }\n",
       "</style>\n",
       "<table border=\"1\" class=\"dataframe\">\n",
       "  <thead>\n",
       "    <tr style=\"text-align: right;\">\n",
       "      <th></th>\n",
       "      <th>매출일자</th>\n",
       "      <th>수량</th>\n",
       "      <th>일시</th>\n",
       "      <th>평균기온(°C)</th>\n",
       "      <th>최저기온(°C)</th>\n",
       "      <th>최고기온(°C)</th>\n",
       "      <th>강수 계속시간(hr)</th>\n",
       "      <th>일강수량(mm)</th>\n",
       "      <th>year</th>\n",
       "      <th>month_sin</th>\n",
       "      <th>...</th>\n",
       "      <th>휘)</th>\n",
       "      <th>흑미밥</th>\n",
       "      <th>흑미밥(현장)</th>\n",
       "      <th>흑임자밥</th>\n",
       "      <th>흑임자죽</th>\n",
       "      <th>흑콩견과류조림</th>\n",
       "      <th>흑콩밥</th>\n",
       "      <th>흑콩조림</th>\n",
       "      <th>흰죽</th>\n",
       "      <th>흰콩곤약조림</th>\n",
       "    </tr>\n",
       "  </thead>\n",
       "  <tbody>\n",
       "    <tr>\n",
       "      <th>0</th>\n",
       "      <td>20030301.0</td>\n",
       "      <td>37.472924</td>\n",
       "      <td>2003-03-01</td>\n",
       "      <td>6.1</td>\n",
       "      <td>4.5</td>\n",
       "      <td>8.0</td>\n",
       "      <td>9.25</td>\n",
       "      <td>8.0</td>\n",
       "      <td>0.0</td>\n",
       "      <td>1.0</td>\n",
       "      <td>...</td>\n",
       "      <td>0</td>\n",
       "      <td>0</td>\n",
       "      <td>0</td>\n",
       "      <td>0</td>\n",
       "      <td>0</td>\n",
       "      <td>0</td>\n",
       "      <td>0</td>\n",
       "      <td>0</td>\n",
       "      <td>0</td>\n",
       "      <td>0</td>\n",
       "    </tr>\n",
       "    <tr>\n",
       "      <th>1</th>\n",
       "      <td>20030301.0</td>\n",
       "      <td>19.566787</td>\n",
       "      <td>2003-03-01</td>\n",
       "      <td>6.1</td>\n",
       "      <td>4.5</td>\n",
       "      <td>8.0</td>\n",
       "      <td>9.25</td>\n",
       "      <td>8.0</td>\n",
       "      <td>0.0</td>\n",
       "      <td>1.0</td>\n",
       "      <td>...</td>\n",
       "      <td>0</td>\n",
       "      <td>0</td>\n",
       "      <td>0</td>\n",
       "      <td>0</td>\n",
       "      <td>0</td>\n",
       "      <td>0</td>\n",
       "      <td>0</td>\n",
       "      <td>0</td>\n",
       "      <td>0</td>\n",
       "      <td>0</td>\n",
       "    </tr>\n",
       "    <tr>\n",
       "      <th>2</th>\n",
       "      <td>20030301.0</td>\n",
       "      <td>31.191336</td>\n",
       "      <td>2003-03-01</td>\n",
       "      <td>6.1</td>\n",
       "      <td>4.5</td>\n",
       "      <td>8.0</td>\n",
       "      <td>9.25</td>\n",
       "      <td>8.0</td>\n",
       "      <td>0.0</td>\n",
       "      <td>1.0</td>\n",
       "      <td>...</td>\n",
       "      <td>0</td>\n",
       "      <td>0</td>\n",
       "      <td>0</td>\n",
       "      <td>0</td>\n",
       "      <td>0</td>\n",
       "      <td>0</td>\n",
       "      <td>0</td>\n",
       "      <td>0</td>\n",
       "      <td>0</td>\n",
       "      <td>0</td>\n",
       "    </tr>\n",
       "    <tr>\n",
       "      <th>3</th>\n",
       "      <td>20030302.0</td>\n",
       "      <td>36.101083</td>\n",
       "      <td>2003-03-02</td>\n",
       "      <td>9.5</td>\n",
       "      <td>3.7</td>\n",
       "      <td>15.1</td>\n",
       "      <td>0.00</td>\n",
       "      <td>0.0</td>\n",
       "      <td>0.0</td>\n",
       "      <td>1.0</td>\n",
       "      <td>...</td>\n",
       "      <td>0</td>\n",
       "      <td>0</td>\n",
       "      <td>0</td>\n",
       "      <td>0</td>\n",
       "      <td>0</td>\n",
       "      <td>0</td>\n",
       "      <td>0</td>\n",
       "      <td>0</td>\n",
       "      <td>0</td>\n",
       "      <td>0</td>\n",
       "    </tr>\n",
       "    <tr>\n",
       "      <th>4</th>\n",
       "      <td>20030302.0</td>\n",
       "      <td>21.949458</td>\n",
       "      <td>2003-03-02</td>\n",
       "      <td>9.5</td>\n",
       "      <td>3.7</td>\n",
       "      <td>15.1</td>\n",
       "      <td>0.00</td>\n",
       "      <td>0.0</td>\n",
       "      <td>0.0</td>\n",
       "      <td>1.0</td>\n",
       "      <td>...</td>\n",
       "      <td>0</td>\n",
       "      <td>0</td>\n",
       "      <td>0</td>\n",
       "      <td>0</td>\n",
       "      <td>0</td>\n",
       "      <td>0</td>\n",
       "      <td>0</td>\n",
       "      <td>0</td>\n",
       "      <td>0</td>\n",
       "      <td>0</td>\n",
       "    </tr>\n",
       "  </tbody>\n",
       "</table>\n",
       "<p>5 rows × 1894 columns</p>\n",
       "</div>"
      ],
      "text/plain": [
       "         매출일자         수량          일시  평균기온(°C)  최저기온(°C)  최고기온(°C)  \\\n",
       "0  20030301.0  37.472924  2003-03-01       6.1       4.5       8.0   \n",
       "1  20030301.0  19.566787  2003-03-01       6.1       4.5       8.0   \n",
       "2  20030301.0  31.191336  2003-03-01       6.1       4.5       8.0   \n",
       "3  20030302.0  36.101083  2003-03-02       9.5       3.7      15.1   \n",
       "4  20030302.0  21.949458  2003-03-02       9.5       3.7      15.1   \n",
       "\n",
       "   강수 계속시간(hr)  일강수량(mm)  year  month_sin   ...    휘)  흑미밥  흑미밥(현장)  흑임자밥  \\\n",
       "0         9.25       8.0   0.0        1.0   ...     0    0        0     0   \n",
       "1         9.25       8.0   0.0        1.0   ...     0    0        0     0   \n",
       "2         9.25       8.0   0.0        1.0   ...     0    0        0     0   \n",
       "3         0.00       0.0   0.0        1.0   ...     0    0        0     0   \n",
       "4         0.00       0.0   0.0        1.0   ...     0    0        0     0   \n",
       "\n",
       "   흑임자죽  흑콩견과류조림  흑콩밥  흑콩조림  흰죽  흰콩곤약조림  \n",
       "0     0        0    0     0   0       0  \n",
       "1     0        0    0     0   0       0  \n",
       "2     0        0    0     0   0       0  \n",
       "3     0        0    0     0   0       0  \n",
       "4     0        0    0     0   0       0  \n",
       "\n",
       "[5 rows x 1894 columns]"
      ]
     },
     "execution_count": 9,
     "metadata": {},
     "output_type": "execute_result"
    }
   ],
   "source": [
    "from sklearn.feature_extraction.text import CountVectorizer\n",
    "def tokenize(text):\n",
    "    return text.split(',')\n",
    "vectorizer = CountVectorizer(tokenizer=tokenize)\n",
    "bow = vectorizer.fit_transform(df['식사내용']).toarray()\n",
    "df = df.join(pd.DataFrame(bow,columns=vectorizer.get_feature_names()))\n",
    "df.drop(['식사내용'], axis=1, inplace=True)\n",
    "df.head()"
   ]
  },
  {
   "cell_type": "code",
   "execution_count": 10,
   "metadata": {},
   "outputs": [
    {
     "name": "stdout",
     "output_type": "stream",
     "text": [
      "CPU times: user 2.24 s, sys: 13.2 ms, total: 2.25 s\n",
      "Wall time: 2.25 s\n"
     ]
    }
   ],
   "source": [
    "%%time\n",
    "coe_list = []\n",
    "for feature in vectorizer.get_feature_names():\n",
    "    corr_df = df[['수량',feature]].corr()\n",
    "    coe_list.append(corr_df.iloc[0,1])"
   ]
  },
  {
   "cell_type": "code",
   "execution_count": 11,
   "metadata": {},
   "outputs": [
    {
     "name": "stdout",
     "output_type": "stream",
     "text": [
      "<class 'pandas.core.frame.DataFrame'>\n",
      "RangeIndex: 1875 entries, 0 to 1874\n",
      "Data columns (total 2 columns):\n",
      "coe        1874 non-null float64\n",
      "feature    1875 non-null object\n",
      "dtypes: float64(1), object(1)\n",
      "memory usage: 29.4+ KB\n"
     ]
    }
   ],
   "source": [
    "corr_df = pd.DataFrame({'feature':vectorizer.get_feature_names(),'coe':coe_list})\n",
    "corr_df.info()\n",
    "corr_df.sort_values('coe',ascending=False)\n",
    "drop_feature_list = corr_df[(corr_df['coe'] < 0.01) & (corr_df['coe']  > -0.01)].feature.tolist()"
   ]
  },
  {
   "cell_type": "code",
   "execution_count": 12,
   "metadata": {},
   "outputs": [],
   "source": [
    "df.drop(drop_feature_list,axis=1,inplace=True)"
   ]
  },
  {
   "cell_type": "code",
   "execution_count": 13,
   "metadata": {
    "collapsed": true
   },
   "outputs": [],
   "source": [
    "df.drop(['매출일자','일시'],axis=1,inplace=True)"
   ]
  },
  {
   "cell_type": "code",
   "execution_count": 14,
   "metadata": {
    "collapsed": true
   },
   "outputs": [],
   "source": [
    "df.drop(['평균기온(°C)', '최저기온(°C)', '최고기온(°C)', '강수 계속시간(hr)', '일강수량(mm)'],axis=1,inplace=True)"
   ]
  },
  {
   "cell_type": "code",
   "execution_count": 15,
   "metadata": {},
   "outputs": [
    {
     "data": {
      "text/html": [
       "<div>\n",
       "<style>\n",
       "    .dataframe thead tr:only-child th {\n",
       "        text-align: right;\n",
       "    }\n",
       "\n",
       "    .dataframe thead th {\n",
       "        text-align: left;\n",
       "    }\n",
       "\n",
       "    .dataframe tbody tr th {\n",
       "        vertical-align: top;\n",
       "    }\n",
       "</style>\n",
       "<table border=\"1\" class=\"dataframe\">\n",
       "  <thead>\n",
       "    <tr style=\"text-align: right;\">\n",
       "      <th></th>\n",
       "      <th>수량</th>\n",
       "      <th>year</th>\n",
       "      <th>month_sin</th>\n",
       "      <th>month_cos</th>\n",
       "      <th>day_sin</th>\n",
       "      <th>day_cos</th>\n",
       "      <th>weekday_sin</th>\n",
       "      <th>weekday_cos</th>\n",
       "      <th>식사명_아침</th>\n",
       "      <th>식사명_저녁</th>\n",
       "      <th>...</th>\n",
       "      <th>후랑크구이(2개씩)</th>\n",
       "      <th>후루츠탕수육</th>\n",
       "      <th>후르츠펀치</th>\n",
       "      <th>훈제오리샐러드</th>\n",
       "      <th>휘)</th>\n",
       "      <th>흑미밥</th>\n",
       "      <th>흑임자죽</th>\n",
       "      <th>흑콩밥</th>\n",
       "      <th>흑콩조림</th>\n",
       "      <th>흰죽</th>\n",
       "    </tr>\n",
       "  </thead>\n",
       "  <tbody>\n",
       "    <tr>\n",
       "      <th>0</th>\n",
       "      <td>37.472924</td>\n",
       "      <td>0.0</td>\n",
       "      <td>1.0</td>\n",
       "      <td>6.123234e-17</td>\n",
       "      <td>0.201299</td>\n",
       "      <td>0.979530</td>\n",
       "      <td>-0.974928</td>\n",
       "      <td>-0.222521</td>\n",
       "      <td>1</td>\n",
       "      <td>0</td>\n",
       "      <td>...</td>\n",
       "      <td>0</td>\n",
       "      <td>0</td>\n",
       "      <td>0</td>\n",
       "      <td>0</td>\n",
       "      <td>0</td>\n",
       "      <td>0</td>\n",
       "      <td>0</td>\n",
       "      <td>0</td>\n",
       "      <td>0</td>\n",
       "      <td>0</td>\n",
       "    </tr>\n",
       "    <tr>\n",
       "      <th>1</th>\n",
       "      <td>19.566787</td>\n",
       "      <td>0.0</td>\n",
       "      <td>1.0</td>\n",
       "      <td>6.123234e-17</td>\n",
       "      <td>0.201299</td>\n",
       "      <td>0.979530</td>\n",
       "      <td>-0.974928</td>\n",
       "      <td>-0.222521</td>\n",
       "      <td>0</td>\n",
       "      <td>1</td>\n",
       "      <td>...</td>\n",
       "      <td>0</td>\n",
       "      <td>0</td>\n",
       "      <td>0</td>\n",
       "      <td>0</td>\n",
       "      <td>0</td>\n",
       "      <td>0</td>\n",
       "      <td>0</td>\n",
       "      <td>0</td>\n",
       "      <td>0</td>\n",
       "      <td>0</td>\n",
       "    </tr>\n",
       "    <tr>\n",
       "      <th>2</th>\n",
       "      <td>31.191336</td>\n",
       "      <td>0.0</td>\n",
       "      <td>1.0</td>\n",
       "      <td>6.123234e-17</td>\n",
       "      <td>0.201299</td>\n",
       "      <td>0.979530</td>\n",
       "      <td>-0.974928</td>\n",
       "      <td>-0.222521</td>\n",
       "      <td>0</td>\n",
       "      <td>0</td>\n",
       "      <td>...</td>\n",
       "      <td>0</td>\n",
       "      <td>0</td>\n",
       "      <td>0</td>\n",
       "      <td>0</td>\n",
       "      <td>0</td>\n",
       "      <td>0</td>\n",
       "      <td>0</td>\n",
       "      <td>0</td>\n",
       "      <td>0</td>\n",
       "      <td>0</td>\n",
       "    </tr>\n",
       "    <tr>\n",
       "      <th>3</th>\n",
       "      <td>36.101083</td>\n",
       "      <td>0.0</td>\n",
       "      <td>1.0</td>\n",
       "      <td>6.123234e-17</td>\n",
       "      <td>0.394356</td>\n",
       "      <td>0.918958</td>\n",
       "      <td>-0.781831</td>\n",
       "      <td>0.623490</td>\n",
       "      <td>1</td>\n",
       "      <td>0</td>\n",
       "      <td>...</td>\n",
       "      <td>0</td>\n",
       "      <td>0</td>\n",
       "      <td>1</td>\n",
       "      <td>0</td>\n",
       "      <td>0</td>\n",
       "      <td>0</td>\n",
       "      <td>0</td>\n",
       "      <td>0</td>\n",
       "      <td>0</td>\n",
       "      <td>0</td>\n",
       "    </tr>\n",
       "    <tr>\n",
       "      <th>4</th>\n",
       "      <td>21.949458</td>\n",
       "      <td>0.0</td>\n",
       "      <td>1.0</td>\n",
       "      <td>6.123234e-17</td>\n",
       "      <td>0.394356</td>\n",
       "      <td>0.918958</td>\n",
       "      <td>-0.781831</td>\n",
       "      <td>0.623490</td>\n",
       "      <td>0</td>\n",
       "      <td>1</td>\n",
       "      <td>...</td>\n",
       "      <td>0</td>\n",
       "      <td>0</td>\n",
       "      <td>0</td>\n",
       "      <td>0</td>\n",
       "      <td>0</td>\n",
       "      <td>0</td>\n",
       "      <td>0</td>\n",
       "      <td>0</td>\n",
       "      <td>0</td>\n",
       "      <td>0</td>\n",
       "    </tr>\n",
       "  </tbody>\n",
       "</table>\n",
       "<p>5 rows × 932 columns</p>\n",
       "</div>"
      ],
      "text/plain": [
       "          수량  year  month_sin     month_cos   day_sin   day_cos  weekday_sin  \\\n",
       "0  37.472924   0.0        1.0  6.123234e-17  0.201299  0.979530    -0.974928   \n",
       "1  19.566787   0.0        1.0  6.123234e-17  0.201299  0.979530    -0.974928   \n",
       "2  31.191336   0.0        1.0  6.123234e-17  0.201299  0.979530    -0.974928   \n",
       "3  36.101083   0.0        1.0  6.123234e-17  0.394356  0.918958    -0.781831   \n",
       "4  21.949458   0.0        1.0  6.123234e-17  0.394356  0.918958    -0.781831   \n",
       "\n",
       "   weekday_cos  식사명_아침  식사명_저녁 ...  후랑크구이(2개씩)  후루츠탕수육  후르츠펀치  훈제오리샐러드  휘)  \\\n",
       "0    -0.222521       1       0 ...           0       0      0        0   0   \n",
       "1    -0.222521       0       1 ...           0       0      0        0   0   \n",
       "2    -0.222521       0       0 ...           0       0      0        0   0   \n",
       "3     0.623490       1       0 ...           0       0      1        0   0   \n",
       "4     0.623490       0       1 ...           0       0      0        0   0   \n",
       "\n",
       "   흑미밥  흑임자죽  흑콩밥  흑콩조림  흰죽  \n",
       "0    0     0    0     0   0  \n",
       "1    0     0    0     0   0  \n",
       "2    0     0    0     0   0  \n",
       "3    0     0    0     0   0  \n",
       "4    0     0    0     0   0  \n",
       "\n",
       "[5 rows x 932 columns]"
      ]
     },
     "execution_count": 15,
     "metadata": {},
     "output_type": "execute_result"
    }
   ],
   "source": [
    "df.head()"
   ]
  },
  {
   "cell_type": "code",
   "execution_count": 16,
   "metadata": {},
   "outputs": [
    {
     "name": "stdout",
     "output_type": "stream",
     "text": [
      "(16008, 932)\n",
      "(4002, 932)\n"
     ]
    }
   ],
   "source": [
    "from sklearn.model_selection import train_test_split\n",
    "train_df, dev_df = train_test_split(df,test_size=0.2, random_state=10)\n",
    "print(train_df.shape)\n",
    "print(dev_df.shape)"
   ]
  },
  {
   "cell_type": "code",
   "execution_count": 17,
   "metadata": {
    "collapsed": true
   },
   "outputs": [],
   "source": [
    "train_y = train_df['수량']\n",
    "train_x = train_df.drop(['수량'],axis=1)\n",
    "dev_y = dev_df['수량']\n",
    "dev_x = dev_df.drop(['수량'],axis=1)"
   ]
  },
  {
   "cell_type": "code",
   "execution_count": 18,
   "metadata": {
    "collapsed": true
   },
   "outputs": [],
   "source": [
    "from sklearn.metrics import mean_squared_error\n",
    "import math\n",
    "\n",
    "def train_and_predict(model,train_x,train_y,dev_x):\n",
    "    model.fit(train_x, train_y)\n",
    "    return model.predict(dev_x)\n",
    "\n",
    "def evaluate(predict_y, actual_y):\n",
    "    rmse = math.sqrt(mean_squared_error(actual_y, predict_y))\n",
    "    print('RMSE:', round(np.mean(rmse), 4))"
   ]
  },
  {
   "cell_type": "code",
   "execution_count": 19,
   "metadata": {
    "collapsed": true
   },
   "outputs": [],
   "source": [
    "from sklearn.model_selection import GridSearchCV\n",
    "import xgboost as xgb"
   ]
  },
  {
   "cell_type": "markdown",
   "metadata": {},
   "source": [
    "### main_model"
   ]
  },
  {
   "cell_type": "code",
   "execution_count": 23,
   "metadata": {},
   "outputs": [
    {
     "name": "stdout",
     "output_type": "stream",
     "text": [
      "RMSE: 4.695\n",
      "CPU times: user 3min 58s, sys: 1.38 s, total: 3min 59s\n",
      "Wall time: 4min\n"
     ]
    }
   ],
   "source": [
    "%%time\n",
    "model = xgb.XGBRegressor(n_estimators=150, \n",
    "                         learning_rate=0.05, \n",
    "                         max_depth=12,\n",
    "                         colsample_bytree=0.9,\n",
    "                         gamma=0.4,\n",
    "                         min_child_weight=7,\n",
    "                         subsample=0.9,\n",
    "                         reg_alpha=0.1,\n",
    "                         seed=10)\n",
    "pred = train_and_predict(model, train_x,train_y,dev_x)\n",
    "evaluate(pred,dev_y)"
   ]
  },
  {
   "cell_type": "markdown",
   "metadata": {},
   "source": [
    "## sub_sample_model\n",
    "### 아침"
   ]
  },
  {
   "cell_type": "code",
   "execution_count": 24,
   "metadata": {
    "collapsed": true
   },
   "outputs": [],
   "source": [
    "time_features = ['식사명_아침', '식사명_점심', '식사명_점심2', '식사명_저녁']"
   ]
  },
  {
   "cell_type": "code",
   "execution_count": 25,
   "metadata": {},
   "outputs": [
    {
     "name": "stdout",
     "output_type": "stream",
     "text": [
      "<class 'pandas.core.frame.DataFrame'>\n",
      "Int64Index: 4147 entries, 4060 to 17728\n",
      "Columns: 928 entries, 수량 to 흰죽\n",
      "dtypes: float64(8), int64(920)\n",
      "memory usage: 29.4 MB\n"
     ]
    }
   ],
   "source": [
    "mor_train_df = train_df[train_df['식사명_아침'] == 1].drop(time_features,axis=1)\n",
    "mor_train_df.info()"
   ]
  },
  {
   "cell_type": "code",
   "execution_count": 26,
   "metadata": {},
   "outputs": [
    {
     "name": "stdout",
     "output_type": "stream",
     "text": [
      "<class 'pandas.core.frame.DataFrame'>\n",
      "Int64Index: 1049 entries, 10185 to 11232\n",
      "Columns: 928 entries, 수량 to 흰죽\n",
      "dtypes: float64(8), int64(920)\n",
      "memory usage: 7.4 MB\n"
     ]
    }
   ],
   "source": [
    "mor_dev_df = dev_df[dev_df['식사명_아침'] == 1].drop(time_features,axis=1)\n",
    "mor_dev_df.info()"
   ]
  },
  {
   "cell_type": "code",
   "execution_count": 27,
   "metadata": {
    "collapsed": true
   },
   "outputs": [],
   "source": [
    "mor_train_y = mor_train_df['수량']\n",
    "mor_train_x = mor_train_df.drop(['수량'],axis=1)\n",
    "mor_dev_y = mor_dev_df['수량']\n",
    "mor_dev_x = mor_dev_df.drop(['수량'],axis=1)"
   ]
  },
  {
   "cell_type": "code",
   "execution_count": 28,
   "metadata": {},
   "outputs": [
    {
     "name": "stdout",
     "output_type": "stream",
     "text": [
      "RMSE: 4.7378\n",
      "CPU times: user 53.2 s, sys: 328 ms, total: 53.5 s\n",
      "Wall time: 53.8 s\n"
     ]
    }
   ],
   "source": [
    "%%time\n",
    "mor_model = xgb.XGBRegressor(n_estimators=150, \n",
    "                         learning_rate=0.05, \n",
    "                         max_depth=11,\n",
    "                         colsample_bytree=0.9,\n",
    "                         gamma=0.4,\n",
    "                         min_child_weight=7,\n",
    "                         subsample=0.9,\n",
    "                         reg_alpha=0.1,\n",
    "                         seed=10)\n",
    "pred = train_and_predict(mor_model, mor_train_x,mor_train_y,mor_dev_x)\n",
    "evaluate(pred,mor_dev_y)"
   ]
  },
  {
   "cell_type": "code",
   "execution_count": 29,
   "metadata": {},
   "outputs": [
    {
     "name": "stdout",
     "output_type": "stream",
     "text": [
      "RMSE: 4.7081\n"
     ]
    }
   ],
   "source": [
    "pred = model.predict(dev_x[dev_x['식사명_아침']==1])\n",
    "evaluate(pred,mor_dev_y)"
   ]
  },
  {
   "cell_type": "markdown",
   "metadata": {
    "collapsed": true
   },
   "source": [
    "### 점심 "
   ]
  },
  {
   "cell_type": "code",
   "execution_count": 30,
   "metadata": {},
   "outputs": [
    {
     "name": "stdout",
     "output_type": "stream",
     "text": [
      "<class 'pandas.core.frame.DataFrame'>\n",
      "Int64Index: 4192 entries, 3543 to 9372\n",
      "Columns: 928 entries, 수량 to 흰죽\n",
      "dtypes: float64(8), int64(920)\n",
      "memory usage: 29.7 MB\n"
     ]
    }
   ],
   "source": [
    "lun_train_df = train_df[train_df['식사명_점심'] == 1].drop(time_features,axis=1)\n",
    "lun_train_df.info()"
   ]
  },
  {
   "cell_type": "code",
   "execution_count": 31,
   "metadata": {},
   "outputs": [
    {
     "name": "stdout",
     "output_type": "stream",
     "text": [
      "<class 'pandas.core.frame.DataFrame'>\n",
      "Int64Index: 1001 entries, 7252 to 13911\n",
      "Columns: 928 entries, 수량 to 흰죽\n",
      "dtypes: float64(8), int64(920)\n",
      "memory usage: 7.1 MB\n"
     ]
    }
   ],
   "source": [
    "lun_dev_df = dev_df[dev_df['식사명_점심'] == 1].drop(time_features,axis=1)\n",
    "lun_dev_df.info()"
   ]
  },
  {
   "cell_type": "code",
   "execution_count": 32,
   "metadata": {
    "collapsed": true
   },
   "outputs": [],
   "source": [
    "lun_train_y = lun_train_df['수량']\n",
    "lun_train_x = lun_train_df.drop(['수량'],axis=1)\n",
    "lun_dev_y = lun_dev_df['수량']\n",
    "lun_dev_x = lun_dev_df.drop(['수량'],axis=1)"
   ]
  },
  {
   "cell_type": "code",
   "execution_count": 33,
   "metadata": {},
   "outputs": [
    {
     "name": "stdout",
     "output_type": "stream",
     "text": [
      "RMSE: 6.122\n",
      "CPU times: user 56.8 s, sys: 427 ms, total: 57.2 s\n",
      "Wall time: 57.5 s\n"
     ]
    }
   ],
   "source": [
    "%%time\n",
    "lun_model = xgb.XGBRegressor(n_estimators=150, \n",
    "                         learning_rate=0.05, \n",
    "                         max_depth=11,\n",
    "                         colsample_bytree=0.9,\n",
    "                         gamma=0.4,\n",
    "                         min_child_weight=7,\n",
    "                         subsample=0.9,\n",
    "                         reg_alpha=0.1,\n",
    "                         seed=10)\n",
    "pred = train_and_predict(lun_model, lun_train_x,lun_train_y,lun_dev_x)\n",
    "evaluate(pred,lun_dev_y)"
   ]
  },
  {
   "cell_type": "code",
   "execution_count": 34,
   "metadata": {},
   "outputs": [
    {
     "name": "stdout",
     "output_type": "stream",
     "text": [
      "RMSE: 6.0308\n"
     ]
    }
   ],
   "source": [
    "pred = model.predict(dev_x[dev_x['식사명_점심']==1])\n",
    "evaluate(pred,lun_dev_y)"
   ]
  },
  {
   "cell_type": "markdown",
   "metadata": {},
   "source": [
    "### 점심-양식"
   ]
  },
  {
   "cell_type": "code",
   "execution_count": 35,
   "metadata": {},
   "outputs": [
    {
     "name": "stdout",
     "output_type": "stream",
     "text": [
      "<class 'pandas.core.frame.DataFrame'>\n",
      "Int64Index: 3489 entries, 19526 to 7293\n",
      "Columns: 928 entries, 수량 to 흰죽\n",
      "dtypes: float64(8), int64(920)\n",
      "memory usage: 24.7 MB\n"
     ]
    }
   ],
   "source": [
    "lun2_train_df = train_df[train_df['식사명_점심2'] == 1].drop(time_features,axis=1)\n",
    "lun2_train_df.info()"
   ]
  },
  {
   "cell_type": "code",
   "execution_count": 36,
   "metadata": {},
   "outputs": [
    {
     "name": "stdout",
     "output_type": "stream",
     "text": [
      "<class 'pandas.core.frame.DataFrame'>\n",
      "Int64Index: 936 entries, 19247 to 15861\n",
      "Columns: 928 entries, 수량 to 흰죽\n",
      "dtypes: float64(8), int64(920)\n",
      "memory usage: 6.6 MB\n"
     ]
    }
   ],
   "source": [
    "lun2_dev_df = dev_df[dev_df['식사명_점심2'] == 1].drop(time_features,axis=1)\n",
    "lun2_dev_df.info()"
   ]
  },
  {
   "cell_type": "code",
   "execution_count": 37,
   "metadata": {
    "collapsed": true
   },
   "outputs": [],
   "source": [
    "lun2_train_y = lun2_train_df['수량']\n",
    "lun2_train_x = lun2_train_df.drop(['수량'],axis=1)\n",
    "lun2_dev_y = lun2_dev_df['수량']\n",
    "lun2_dev_x = lun2_dev_df.drop(['수량'],axis=1)"
   ]
  },
  {
   "cell_type": "code",
   "execution_count": 38,
   "metadata": {},
   "outputs": [
    {
     "name": "stdout",
     "output_type": "stream",
     "text": [
      "RMSE: 4.0105\n",
      "CPU times: user 48.1 s, sys: 354 ms, total: 48.4 s\n",
      "Wall time: 48.6 s\n"
     ]
    }
   ],
   "source": [
    "%%time\n",
    "lun2_model = xgb.XGBRegressor(n_estimators=150, \n",
    "                         learning_rate=0.05, \n",
    "                         max_depth=11,\n",
    "                         colsample_bytree=0.9,\n",
    "                         gamma=0.4,\n",
    "                         min_child_weight=7,\n",
    "                         subsample=0.9,\n",
    "                         reg_alpha=0.1,\n",
    "                         seed=10)\n",
    "pred = train_and_predict(lun2_model, lun2_train_x,lun2_train_y,lun2_dev_x)\n",
    "evaluate(pred,lun2_dev_y)"
   ]
  },
  {
   "cell_type": "code",
   "execution_count": 39,
   "metadata": {},
   "outputs": [
    {
     "name": "stdout",
     "output_type": "stream",
     "text": [
      "RMSE: 3.9856\n"
     ]
    }
   ],
   "source": [
    "pred = model.predict(dev_x[dev_x['식사명_점심2']==1])\n",
    "evaluate(pred,lun2_dev_y)"
   ]
  },
  {
   "cell_type": "markdown",
   "metadata": {},
   "source": [
    "### 저녁"
   ]
  },
  {
   "cell_type": "code",
   "execution_count": 40,
   "metadata": {},
   "outputs": [
    {
     "name": "stdout",
     "output_type": "stream",
     "text": [
      "<class 'pandas.core.frame.DataFrame'>\n",
      "Int64Index: 4180 entries, 14273 to 17673\n",
      "Columns: 928 entries, 수량 to 흰죽\n",
      "dtypes: float64(8), int64(920)\n",
      "memory usage: 29.6 MB\n"
     ]
    }
   ],
   "source": [
    "din_train_df = train_df[train_df['식사명_저녁'] == 1].drop(time_features,axis=1)\n",
    "din_train_df.info()"
   ]
  },
  {
   "cell_type": "code",
   "execution_count": 41,
   "metadata": {},
   "outputs": [
    {
     "name": "stdout",
     "output_type": "stream",
     "text": [
      "<class 'pandas.core.frame.DataFrame'>\n",
      "Int64Index: 1016 entries, 1876 to 16106\n",
      "Columns: 928 entries, 수량 to 흰죽\n",
      "dtypes: float64(8), int64(920)\n",
      "memory usage: 7.2 MB\n"
     ]
    }
   ],
   "source": [
    "din_dev_df = dev_df[dev_df['식사명_저녁'] == 1].drop(time_features,axis=1)\n",
    "din_dev_df.info()"
   ]
  },
  {
   "cell_type": "code",
   "execution_count": 42,
   "metadata": {
    "collapsed": true
   },
   "outputs": [],
   "source": [
    "din_train_y = din_train_df['수량']\n",
    "din_train_x = din_train_df.drop(['수량'],axis=1)\n",
    "din_dev_y = din_dev_df['수량']\n",
    "din_dev_x = din_dev_df.drop(['수량'],axis=1)"
   ]
  },
  {
   "cell_type": "code",
   "execution_count": 43,
   "metadata": {},
   "outputs": [
    {
     "name": "stdout",
     "output_type": "stream",
     "text": [
      "RMSE: 3.7191\n",
      "CPU times: user 52.5 s, sys: 159 ms, total: 52.7 s\n",
      "Wall time: 52.7 s\n"
     ]
    }
   ],
   "source": [
    "%%time\n",
    "din_model = xgb.XGBRegressor(n_estimators=150, \n",
    "                         learning_rate=0.05, \n",
    "                         max_depth=11,\n",
    "                         colsample_bytree=0.9,\n",
    "                         gamma=0.4,\n",
    "                         min_child_weight=7,\n",
    "                         subsample=0.9,\n",
    "                         reg_alpha=0.1,\n",
    "                         seed=10)\n",
    "pred = train_and_predict(din_model, din_train_x,din_train_y,din_dev_x)\n",
    "evaluate(pred,din_dev_y)"
   ]
  },
  {
   "cell_type": "code",
   "execution_count": 46,
   "metadata": {},
   "outputs": [
    {
     "name": "stdout",
     "output_type": "stream",
     "text": [
      "RMSE: 3.6706\n"
     ]
    }
   ],
   "source": [
    "pred = model.predict(dev_x[dev_x['식사명_저녁']==1])\n",
    "evaluate(pred,din_dev_y)"
   ]
  },
  {
   "cell_type": "code",
   "execution_count": null,
   "metadata": {
    "collapsed": true
   },
   "outputs": [],
   "source": []
  }
 ],
 "metadata": {
  "kernelspec": {
   "display_name": "Python 3",
   "language": "python",
   "name": "python3"
  },
  "language_info": {
   "codemirror_mode": {
    "name": "ipython",
    "version": 3
   },
   "file_extension": ".py",
   "mimetype": "text/x-python",
   "name": "python",
   "nbconvert_exporter": "python",
   "pygments_lexer": "ipython3",
   "version": "3.6.1"
  }
 },
 "nbformat": 4,
 "nbformat_minor": 2
}
