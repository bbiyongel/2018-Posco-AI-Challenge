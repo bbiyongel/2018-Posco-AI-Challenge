{
 "cells": [
  {
   "cell_type": "code",
   "execution_count": 1,
   "metadata": {
    "collapsed": true
   },
   "outputs": [],
   "source": [
    "import pandas as pd\n",
    "import numpy as np"
   ]
  },
  {
   "cell_type": "code",
   "execution_count": 2,
   "metadata": {},
   "outputs": [
    {
     "name": "stdout",
     "output_type": "stream",
     "text": [
      "<class 'pandas.core.frame.DataFrame'>\n",
      "RangeIndex: 20010 entries, 0 to 20009\n",
      "Data columns (total 11 columns):\n",
      "일자             20010 non-null int64\n",
      "time           20010 non-null object\n",
      "식사내용           20010 non-null object\n",
      "매출일자           20010 non-null float64\n",
      "수량             20010 non-null float64\n",
      "일시             20010 non-null object\n",
      "평균기온(°C)       20010 non-null float64\n",
      "최저기온(°C)       20010 non-null float64\n",
      "최고기온(°C)       20010 non-null float64\n",
      "강수 계속시간(hr)    20010 non-null float64\n",
      "일강수량(mm)       20010 non-null float64\n",
      "dtypes: float64(7), int64(1), object(3)\n",
      "memory usage: 1.7+ MB\n"
     ]
    }
   ],
   "source": [
    "df = pd.read_csv('./cli_train.tsv',sep='\\t')\n",
    "df.info()"
   ]
  },
  {
   "cell_type": "code",
   "execution_count": 3,
   "metadata": {},
   "outputs": [],
   "source": [
    "df['year'] = (df['일자']/10000).astype(int)\n",
    "df['month'] = (df['일자'] % 10000 /100).astype(int)\n",
    "df['day'] = (df['일자'] % 100).astype(int)"
   ]
  },
  {
   "cell_type": "code",
   "execution_count": 4,
   "metadata": {
    "collapsed": true
   },
   "outputs": [],
   "source": [
    "df['weekday'] = pd.to_datetime(df['일자'], format='%Y%m%d').dt.dayofweek\n",
    "df.drop(['일자'],axis=1,inplace=True)"
   ]
  },
  {
   "cell_type": "code",
   "execution_count": 5,
   "metadata": {
    "collapsed": true
   },
   "outputs": [],
   "source": [
    "df['year'] = (df['year']-min(df['year'])) / (max(df['year']) - min(df['year']))\n",
    "df['month_sin'] = [np.sin(x*2*np.pi/12) for x in df['month']]\n",
    "df['month_cos'] = [np.cos(x*2*np.pi/12) for x in df['month']]\n",
    "df['day_sin'] = [np.sin(x*2*np.pi/31) for x in df['day']]\n",
    "df['day_cos'] = [np.cos(x*2*np.pi/31) for x in df['day']]\n",
    "df['weekday_sin'] = [np.sin(x*2*np.pi/7) for x in df['weekday']]\n",
    "df['weekday_cos'] = [np.cos(x*2*np.pi/7) for x in df['weekday']]\n",
    "df.drop(['month','day','weekday'], axis=1,inplace=True)"
   ]
  },
  {
   "cell_type": "code",
   "execution_count": 6,
   "metadata": {},
   "outputs": [],
   "source": [
    "df = df.join(pd.get_dummies(df['time'], prefix='식사명'))\n",
    "df.drop(['time'],axis=1, inplace=True)"
   ]
  },
  {
   "cell_type": "code",
   "execution_count": 7,
   "metadata": {},
   "outputs": [
    {
     "data": {
      "text/html": [
       "<div>\n",
       "<style>\n",
       "    .dataframe thead tr:only-child th {\n",
       "        text-align: right;\n",
       "    }\n",
       "\n",
       "    .dataframe thead th {\n",
       "        text-align: left;\n",
       "    }\n",
       "\n",
       "    .dataframe tbody tr th {\n",
       "        vertical-align: top;\n",
       "    }\n",
       "</style>\n",
       "<table border=\"1\" class=\"dataframe\">\n",
       "  <thead>\n",
       "    <tr style=\"text-align: right;\">\n",
       "      <th></th>\n",
       "      <th>매출일자</th>\n",
       "      <th>수량</th>\n",
       "      <th>일시</th>\n",
       "      <th>평균기온(°C)</th>\n",
       "      <th>최저기온(°C)</th>\n",
       "      <th>최고기온(°C)</th>\n",
       "      <th>강수 계속시간(hr)</th>\n",
       "      <th>일강수량(mm)</th>\n",
       "      <th>year</th>\n",
       "      <th>month_sin</th>\n",
       "      <th>...</th>\n",
       "      <th>휘)</th>\n",
       "      <th>흑미밥</th>\n",
       "      <th>흑미밥(현장)</th>\n",
       "      <th>흑임자밥</th>\n",
       "      <th>흑임자죽</th>\n",
       "      <th>흑콩견과류조림</th>\n",
       "      <th>흑콩밥</th>\n",
       "      <th>흑콩조림</th>\n",
       "      <th>흰죽</th>\n",
       "      <th>흰콩곤약조림</th>\n",
       "    </tr>\n",
       "  </thead>\n",
       "  <tbody>\n",
       "    <tr>\n",
       "      <th>0</th>\n",
       "      <td>20030301.0</td>\n",
       "      <td>37.472924</td>\n",
       "      <td>2003-03-01</td>\n",
       "      <td>6.1</td>\n",
       "      <td>4.5</td>\n",
       "      <td>8.0</td>\n",
       "      <td>9.25</td>\n",
       "      <td>8.0</td>\n",
       "      <td>0.0</td>\n",
       "      <td>1.0</td>\n",
       "      <td>...</td>\n",
       "      <td>0</td>\n",
       "      <td>0</td>\n",
       "      <td>0</td>\n",
       "      <td>0</td>\n",
       "      <td>0</td>\n",
       "      <td>0</td>\n",
       "      <td>0</td>\n",
       "      <td>0</td>\n",
       "      <td>0</td>\n",
       "      <td>0</td>\n",
       "    </tr>\n",
       "    <tr>\n",
       "      <th>1</th>\n",
       "      <td>20030301.0</td>\n",
       "      <td>19.566787</td>\n",
       "      <td>2003-03-01</td>\n",
       "      <td>6.1</td>\n",
       "      <td>4.5</td>\n",
       "      <td>8.0</td>\n",
       "      <td>9.25</td>\n",
       "      <td>8.0</td>\n",
       "      <td>0.0</td>\n",
       "      <td>1.0</td>\n",
       "      <td>...</td>\n",
       "      <td>0</td>\n",
       "      <td>0</td>\n",
       "      <td>0</td>\n",
       "      <td>0</td>\n",
       "      <td>0</td>\n",
       "      <td>0</td>\n",
       "      <td>0</td>\n",
       "      <td>0</td>\n",
       "      <td>0</td>\n",
       "      <td>0</td>\n",
       "    </tr>\n",
       "    <tr>\n",
       "      <th>2</th>\n",
       "      <td>20030301.0</td>\n",
       "      <td>31.191336</td>\n",
       "      <td>2003-03-01</td>\n",
       "      <td>6.1</td>\n",
       "      <td>4.5</td>\n",
       "      <td>8.0</td>\n",
       "      <td>9.25</td>\n",
       "      <td>8.0</td>\n",
       "      <td>0.0</td>\n",
       "      <td>1.0</td>\n",
       "      <td>...</td>\n",
       "      <td>0</td>\n",
       "      <td>0</td>\n",
       "      <td>0</td>\n",
       "      <td>0</td>\n",
       "      <td>0</td>\n",
       "      <td>0</td>\n",
       "      <td>0</td>\n",
       "      <td>0</td>\n",
       "      <td>0</td>\n",
       "      <td>0</td>\n",
       "    </tr>\n",
       "    <tr>\n",
       "      <th>3</th>\n",
       "      <td>20030302.0</td>\n",
       "      <td>36.101083</td>\n",
       "      <td>2003-03-02</td>\n",
       "      <td>9.5</td>\n",
       "      <td>3.7</td>\n",
       "      <td>15.1</td>\n",
       "      <td>0.00</td>\n",
       "      <td>0.0</td>\n",
       "      <td>0.0</td>\n",
       "      <td>1.0</td>\n",
       "      <td>...</td>\n",
       "      <td>0</td>\n",
       "      <td>0</td>\n",
       "      <td>0</td>\n",
       "      <td>0</td>\n",
       "      <td>0</td>\n",
       "      <td>0</td>\n",
       "      <td>0</td>\n",
       "      <td>0</td>\n",
       "      <td>0</td>\n",
       "      <td>0</td>\n",
       "    </tr>\n",
       "    <tr>\n",
       "      <th>4</th>\n",
       "      <td>20030302.0</td>\n",
       "      <td>21.949458</td>\n",
       "      <td>2003-03-02</td>\n",
       "      <td>9.5</td>\n",
       "      <td>3.7</td>\n",
       "      <td>15.1</td>\n",
       "      <td>0.00</td>\n",
       "      <td>0.0</td>\n",
       "      <td>0.0</td>\n",
       "      <td>1.0</td>\n",
       "      <td>...</td>\n",
       "      <td>0</td>\n",
       "      <td>0</td>\n",
       "      <td>0</td>\n",
       "      <td>0</td>\n",
       "      <td>0</td>\n",
       "      <td>0</td>\n",
       "      <td>0</td>\n",
       "      <td>0</td>\n",
       "      <td>0</td>\n",
       "      <td>0</td>\n",
       "    </tr>\n",
       "  </tbody>\n",
       "</table>\n",
       "<p>5 rows × 1894 columns</p>\n",
       "</div>"
      ],
      "text/plain": [
       "         매출일자         수량          일시  평균기온(°C)  최저기온(°C)  최고기온(°C)  \\\n",
       "0  20030301.0  37.472924  2003-03-01       6.1       4.5       8.0   \n",
       "1  20030301.0  19.566787  2003-03-01       6.1       4.5       8.0   \n",
       "2  20030301.0  31.191336  2003-03-01       6.1       4.5       8.0   \n",
       "3  20030302.0  36.101083  2003-03-02       9.5       3.7      15.1   \n",
       "4  20030302.0  21.949458  2003-03-02       9.5       3.7      15.1   \n",
       "\n",
       "   강수 계속시간(hr)  일강수량(mm)  year  month_sin   ...    휘)  흑미밥  흑미밥(현장)  흑임자밥  \\\n",
       "0         9.25       8.0   0.0        1.0   ...     0    0        0     0   \n",
       "1         9.25       8.0   0.0        1.0   ...     0    0        0     0   \n",
       "2         9.25       8.0   0.0        1.0   ...     0    0        0     0   \n",
       "3         0.00       0.0   0.0        1.0   ...     0    0        0     0   \n",
       "4         0.00       0.0   0.0        1.0   ...     0    0        0     0   \n",
       "\n",
       "   흑임자죽  흑콩견과류조림  흑콩밥  흑콩조림  흰죽  흰콩곤약조림  \n",
       "0     0        0    0     0   0       0  \n",
       "1     0        0    0     0   0       0  \n",
       "2     0        0    0     0   0       0  \n",
       "3     0        0    0     0   0       0  \n",
       "4     0        0    0     0   0       0  \n",
       "\n",
       "[5 rows x 1894 columns]"
      ]
     },
     "execution_count": 7,
     "metadata": {},
     "output_type": "execute_result"
    }
   ],
   "source": [
    "from sklearn.feature_extraction.text import CountVectorizer\n",
    "def tokenize(text):\n",
    "    return text.split(',')\n",
    "vectorizer = CountVectorizer(tokenizer=tokenize)\n",
    "bow = vectorizer.fit_transform(df['식사내용']).toarray()\n",
    "df = df.join(pd.DataFrame(bow,columns=vectorizer.get_feature_names()))\n",
    "df.drop(['식사내용'], axis=1, inplace=True)\n",
    "df.head()"
   ]
  },
  {
   "cell_type": "code",
   "execution_count": 8,
   "metadata": {},
   "outputs": [],
   "source": [
    "df.drop(['매출일자','일시'],axis=1,inplace=True)"
   ]
  },
  {
   "cell_type": "code",
   "execution_count": 9,
   "metadata": {},
   "outputs": [],
   "source": [
    "df.drop(['평균기온(°C)', '최저기온(°C)', '최고기온(°C)', '강수 계속시간(hr)', '일강수량(mm)'],axis=1,inplace=True)"
   ]
  },
  {
   "cell_type": "code",
   "execution_count": 10,
   "metadata": {},
   "outputs": [
    {
     "data": {
      "text/html": [
       "<div>\n",
       "<style>\n",
       "    .dataframe thead tr:only-child th {\n",
       "        text-align: right;\n",
       "    }\n",
       "\n",
       "    .dataframe thead th {\n",
       "        text-align: left;\n",
       "    }\n",
       "\n",
       "    .dataframe tbody tr th {\n",
       "        vertical-align: top;\n",
       "    }\n",
       "</style>\n",
       "<table border=\"1\" class=\"dataframe\">\n",
       "  <thead>\n",
       "    <tr style=\"text-align: right;\">\n",
       "      <th></th>\n",
       "      <th>수량</th>\n",
       "      <th>year</th>\n",
       "      <th>month_sin</th>\n",
       "      <th>month_cos</th>\n",
       "      <th>day_sin</th>\n",
       "      <th>day_cos</th>\n",
       "      <th>weekday_sin</th>\n",
       "      <th>weekday_cos</th>\n",
       "      <th>식사명_아침</th>\n",
       "      <th>식사명_저녁</th>\n",
       "      <th>...</th>\n",
       "      <th>휘)</th>\n",
       "      <th>흑미밥</th>\n",
       "      <th>흑미밥(현장)</th>\n",
       "      <th>흑임자밥</th>\n",
       "      <th>흑임자죽</th>\n",
       "      <th>흑콩견과류조림</th>\n",
       "      <th>흑콩밥</th>\n",
       "      <th>흑콩조림</th>\n",
       "      <th>흰죽</th>\n",
       "      <th>흰콩곤약조림</th>\n",
       "    </tr>\n",
       "  </thead>\n",
       "  <tbody>\n",
       "    <tr>\n",
       "      <th>0</th>\n",
       "      <td>37.472924</td>\n",
       "      <td>0.0</td>\n",
       "      <td>1.0</td>\n",
       "      <td>6.123234e-17</td>\n",
       "      <td>0.201299</td>\n",
       "      <td>0.979530</td>\n",
       "      <td>-0.974928</td>\n",
       "      <td>-0.222521</td>\n",
       "      <td>1</td>\n",
       "      <td>0</td>\n",
       "      <td>...</td>\n",
       "      <td>0</td>\n",
       "      <td>0</td>\n",
       "      <td>0</td>\n",
       "      <td>0</td>\n",
       "      <td>0</td>\n",
       "      <td>0</td>\n",
       "      <td>0</td>\n",
       "      <td>0</td>\n",
       "      <td>0</td>\n",
       "      <td>0</td>\n",
       "    </tr>\n",
       "    <tr>\n",
       "      <th>1</th>\n",
       "      <td>19.566787</td>\n",
       "      <td>0.0</td>\n",
       "      <td>1.0</td>\n",
       "      <td>6.123234e-17</td>\n",
       "      <td>0.201299</td>\n",
       "      <td>0.979530</td>\n",
       "      <td>-0.974928</td>\n",
       "      <td>-0.222521</td>\n",
       "      <td>0</td>\n",
       "      <td>1</td>\n",
       "      <td>...</td>\n",
       "      <td>0</td>\n",
       "      <td>0</td>\n",
       "      <td>0</td>\n",
       "      <td>0</td>\n",
       "      <td>0</td>\n",
       "      <td>0</td>\n",
       "      <td>0</td>\n",
       "      <td>0</td>\n",
       "      <td>0</td>\n",
       "      <td>0</td>\n",
       "    </tr>\n",
       "    <tr>\n",
       "      <th>2</th>\n",
       "      <td>31.191336</td>\n",
       "      <td>0.0</td>\n",
       "      <td>1.0</td>\n",
       "      <td>6.123234e-17</td>\n",
       "      <td>0.201299</td>\n",
       "      <td>0.979530</td>\n",
       "      <td>-0.974928</td>\n",
       "      <td>-0.222521</td>\n",
       "      <td>0</td>\n",
       "      <td>0</td>\n",
       "      <td>...</td>\n",
       "      <td>0</td>\n",
       "      <td>0</td>\n",
       "      <td>0</td>\n",
       "      <td>0</td>\n",
       "      <td>0</td>\n",
       "      <td>0</td>\n",
       "      <td>0</td>\n",
       "      <td>0</td>\n",
       "      <td>0</td>\n",
       "      <td>0</td>\n",
       "    </tr>\n",
       "    <tr>\n",
       "      <th>3</th>\n",
       "      <td>36.101083</td>\n",
       "      <td>0.0</td>\n",
       "      <td>1.0</td>\n",
       "      <td>6.123234e-17</td>\n",
       "      <td>0.394356</td>\n",
       "      <td>0.918958</td>\n",
       "      <td>-0.781831</td>\n",
       "      <td>0.623490</td>\n",
       "      <td>1</td>\n",
       "      <td>0</td>\n",
       "      <td>...</td>\n",
       "      <td>0</td>\n",
       "      <td>0</td>\n",
       "      <td>0</td>\n",
       "      <td>0</td>\n",
       "      <td>0</td>\n",
       "      <td>0</td>\n",
       "      <td>0</td>\n",
       "      <td>0</td>\n",
       "      <td>0</td>\n",
       "      <td>0</td>\n",
       "    </tr>\n",
       "    <tr>\n",
       "      <th>4</th>\n",
       "      <td>21.949458</td>\n",
       "      <td>0.0</td>\n",
       "      <td>1.0</td>\n",
       "      <td>6.123234e-17</td>\n",
       "      <td>0.394356</td>\n",
       "      <td>0.918958</td>\n",
       "      <td>-0.781831</td>\n",
       "      <td>0.623490</td>\n",
       "      <td>0</td>\n",
       "      <td>1</td>\n",
       "      <td>...</td>\n",
       "      <td>0</td>\n",
       "      <td>0</td>\n",
       "      <td>0</td>\n",
       "      <td>0</td>\n",
       "      <td>0</td>\n",
       "      <td>0</td>\n",
       "      <td>0</td>\n",
       "      <td>0</td>\n",
       "      <td>0</td>\n",
       "      <td>0</td>\n",
       "    </tr>\n",
       "  </tbody>\n",
       "</table>\n",
       "<p>5 rows × 1887 columns</p>\n",
       "</div>"
      ],
      "text/plain": [
       "          수량  year  month_sin     month_cos   day_sin   day_cos  weekday_sin  \\\n",
       "0  37.472924   0.0        1.0  6.123234e-17  0.201299  0.979530    -0.974928   \n",
       "1  19.566787   0.0        1.0  6.123234e-17  0.201299  0.979530    -0.974928   \n",
       "2  31.191336   0.0        1.0  6.123234e-17  0.201299  0.979530    -0.974928   \n",
       "3  36.101083   0.0        1.0  6.123234e-17  0.394356  0.918958    -0.781831   \n",
       "4  21.949458   0.0        1.0  6.123234e-17  0.394356  0.918958    -0.781831   \n",
       "\n",
       "   weekday_cos  식사명_아침  식사명_저녁   ...    휘)  흑미밥  흑미밥(현장)  흑임자밥  흑임자죽  흑콩견과류조림  \\\n",
       "0    -0.222521       1       0   ...     0    0        0     0     0        0   \n",
       "1    -0.222521       0       1   ...     0    0        0     0     0        0   \n",
       "2    -0.222521       0       0   ...     0    0        0     0     0        0   \n",
       "3     0.623490       1       0   ...     0    0        0     0     0        0   \n",
       "4     0.623490       0       1   ...     0    0        0     0     0        0   \n",
       "\n",
       "   흑콩밥  흑콩조림  흰죽  흰콩곤약조림  \n",
       "0    0     0   0       0  \n",
       "1    0     0   0       0  \n",
       "2    0     0   0       0  \n",
       "3    0     0   0       0  \n",
       "4    0     0   0       0  \n",
       "\n",
       "[5 rows x 1887 columns]"
      ]
     },
     "execution_count": 10,
     "metadata": {},
     "output_type": "execute_result"
    }
   ],
   "source": [
    "df.head()"
   ]
  },
  {
   "cell_type": "code",
   "execution_count": 11,
   "metadata": {},
   "outputs": [
    {
     "name": "stdout",
     "output_type": "stream",
     "text": [
      "(16008, 1887)\n",
      "(4002, 1887)\n"
     ]
    }
   ],
   "source": [
    "from sklearn.model_selection import train_test_split\n",
    "train_df, dev_df = train_test_split(df,test_size=0.2, random_state=10)\n",
    "print(train_df.shape)\n",
    "print(dev_df.shape)"
   ]
  },
  {
   "cell_type": "code",
   "execution_count": 12,
   "metadata": {
    "collapsed": true
   },
   "outputs": [],
   "source": [
    "train_y = train_df['수량']\n",
    "train_x = train_df.drop(['수량'],axis=1)\n",
    "dev_y = dev_df['수량']\n",
    "dev_x = dev_df.drop(['수량'],axis=1)"
   ]
  },
  {
   "cell_type": "code",
   "execution_count": 13,
   "metadata": {},
   "outputs": [],
   "source": [
    "from sklearn.metrics import mean_squared_error\n",
    "import math\n",
    "\n",
    "def train_and_predict(model,train_x,train_y,dev_x):\n",
    "    model.fit(train_x, train_y)\n",
    "    return model.predict(dev_x)\n",
    "\n",
    "def evaluate(predict_y, actual_y):\n",
    "    rmse = math.sqrt(mean_squared_error(actual_y, predict_y))\n",
    "    print('RMSE:', round(np.mean(rmse), 4))"
   ]
  },
  {
   "cell_type": "code",
   "execution_count": 14,
   "metadata": {
    "collapsed": true
   },
   "outputs": [],
   "source": [
    "from sklearn.ensemble import RandomForestRegressor\n",
    "model = RandomForestRegressor(n_estimators=100, random_state=10)"
   ]
  },
  {
   "cell_type": "code",
   "execution_count": 15,
   "metadata": {},
   "outputs": [
    {
     "name": "stdout",
     "output_type": "stream",
     "text": [
      "RMSE: 4.8305\n"
     ]
    }
   ],
   "source": [
    "pred = train_and_predict(model,train_x, train_y, dev_x)\n",
    "evaluate(pred,dev_y)"
   ]
  },
  {
   "cell_type": "code",
   "execution_count": 22,
   "metadata": {
    "collapsed": true
   },
   "outputs": [],
   "source": [
    "from sklearn.model_selection import GridSearchCV"
   ]
  },
  {
   "cell_type": "code",
   "execution_count": 20,
   "metadata": {},
   "outputs": [],
   "source": [
    "import xgboost as xgb\n",
    "model = xgb.XGBRegressor(n_estimators=100, \n",
    "                        learning_rate=0.05, max_depth=10,\n",
    "                        seed=10)"
   ]
  },
  {
   "cell_type": "code",
   "execution_count": 28,
   "metadata": {
    "collapsed": true
   },
   "outputs": [],
   "source": [
    "parameters = {'max_depth':(3,6,10),'learning_rate':(0.3, 0.1,0.05 ,0.01)}"
   ]
  },
  {
   "cell_type": "code",
   "execution_count": 29,
   "metadata": {
    "collapsed": true
   },
   "outputs": [],
   "source": [
    "clf = GridSearchCV(model,parameters,verbose=1)"
   ]
  },
  {
   "cell_type": "code",
   "execution_count": 30,
   "metadata": {},
   "outputs": [
    {
     "data": {
      "text/plain": [
       "GridSearchCV(cv=None, error_score='raise',\n",
       "       estimator=XGBRegressor(base_score=0.5, booster='gbtree', colsample_bylevel=1,\n",
       "       colsample_bytree=1, gamma=0, learning_rate=0.05, max_delta_step=0,\n",
       "       max_depth=10, min_child_weight=1, missing=None, n_estimators=100,\n",
       "       n_jobs=1, nthread=None, objective='reg:linear', random_state=0,\n",
       "       reg_alpha=0, reg_lambda=1, scale_pos_weight=1, seed=10, silent=True,\n",
       "       subsample=1),\n",
       "       fit_params=None, iid=True, n_jobs=1,\n",
       "       param_grid={'max_depth': (3, 6, 10), 'learning_rate': (0.3, 0.1, 0.05, 0.01)},\n",
       "       pre_dispatch='2*n_jobs', refit=True, return_train_score='warn',\n",
       "       scoring=None, verbose=0)"
      ]
     },
     "execution_count": 30,
     "metadata": {},
     "output_type": "execute_result"
    }
   ],
   "source": [
    "%%time\n",
    "clf.fit(train_x,train_y)"
   ]
  },
  {
   "cell_type": "code",
   "execution_count": 33,
   "metadata": {},
   "outputs": [
    {
     "data": {
      "text/plain": [
       "{'learning_rate': 0.1, 'max_depth': 10}"
      ]
     },
     "execution_count": 33,
     "metadata": {},
     "output_type": "execute_result"
    }
   ],
   "source": [
    "clf.best_params_"
   ]
  },
  {
   "cell_type": "code",
   "execution_count": 34,
   "metadata": {},
   "outputs": [
    {
     "name": "stdout",
     "output_type": "stream",
     "text": [
      "RMSE: 4.7967\n",
      "CPU times: user 2min 2s, sys: 1.42 s, total: 2min 3s\n",
      "Wall time: 2min 3s\n"
     ]
    }
   ],
   "source": [
    "%%time\n",
    "model = xgb.XGBRegressor(n_estimators=100, \n",
    "                        learning_rate=0.1, max_depth=10,\n",
    "                        seed=10)\n",
    "pred = train_and_predict(model, train_x,train_y,dev_x)\n",
    "evaluate(pred,dev_y)"
   ]
  },
  {
   "cell_type": "code",
   "execution_count": 18,
   "metadata": {},
   "outputs": [
    {
     "name": "stdout",
     "output_type": "stream",
     "text": [
      "0\n"
     ]
    },
    {
     "data": {
      "text/plain": [
       "[]"
      ]
     },
     "execution_count": 18,
     "metadata": {},
     "output_type": "execute_result"
    }
   ],
   "source": [
    "import matplotlib.font_manager as font_manager\n",
    "\n",
    "font_list = font_manager.findSystemFonts(fontpaths=None)\n",
    "print(len(font_list))\n",
    "font_list"
   ]
  },
  {
   "cell_type": "code",
   "execution_count": 33,
   "metadata": {
    "collapsed": true
   },
   "outputs": [],
   "source": [
    "import matplotlib.pyplot as plt\n",
    "import matplotlib\n",
    "\n",
    "\n",
    "plt.rcParams['figure.figsize'] = (16,4)\n",
    "plt.rcParams['font.family'] = 'NanumGothic'\n",
    "\n",
    "%matplotlib inline"
   ]
  },
  {
   "cell_type": "code",
   "execution_count": 14,
   "metadata": {},
   "outputs": [
    {
     "ename": "NameError",
     "evalue": "name 'xgb' is not defined",
     "output_type": "error",
     "traceback": [
      "\u001b[0;31m---------------------------------------------------------------------------\u001b[0m",
      "\u001b[0;31mNameError\u001b[0m                                 Traceback (most recent call last)",
      "\u001b[0;32m<ipython-input-14-d75a5b0ee1cf>\u001b[0m in \u001b[0;36m<module>\u001b[0;34m()\u001b[0m\n\u001b[1;32m      7\u001b[0m \u001b[0;34m\u001b[0m\u001b[0m\n\u001b[1;32m      8\u001b[0m \u001b[0mget_ipython\u001b[0m\u001b[0;34m(\u001b[0m\u001b[0;34m)\u001b[0m\u001b[0;34m.\u001b[0m\u001b[0mmagic\u001b[0m\u001b[0;34m(\u001b[0m\u001b[0;34m'matplotlib inline'\u001b[0m\u001b[0;34m)\u001b[0m\u001b[0;34m\u001b[0m\u001b[0m\n\u001b[0;32m----> 9\u001b[0;31m \u001b[0mxgb\u001b[0m\u001b[0;34m.\u001b[0m\u001b[0mplot_importance\u001b[0m\u001b[0;34m(\u001b[0m\u001b[0mmodel\u001b[0m\u001b[0;34m,\u001b[0m\u001b[0mmax_num_features\u001b[0m\u001b[0;34m=\u001b[0m\u001b[0;36m10\u001b[0m\u001b[0;34m)\u001b[0m\u001b[0;34m\u001b[0m\u001b[0m\n\u001b[0m",
      "\u001b[0;31mNameError\u001b[0m: name 'xgb' is not defined"
     ]
    }
   ],
   "source": [
    "xgb.plot_importance(model,max_num_features=10)"
   ]
  },
  {
   "cell_type": "markdown",
   "metadata": {},
   "source": [
    "### nn model processing"
   ]
  },
  {
   "cell_type": "code",
   "execution_count": 16,
   "metadata": {},
   "outputs": [
    {
     "name": "stderr",
     "output_type": "stream",
     "text": [
      "Using TensorFlow backend.\n"
     ]
    }
   ],
   "source": [
    "from keras.models import Sequential, Model\n",
    "from keras.layers import Dense, Flatten, Input, Dropout\n",
    "from keras.layers.normalization import BatchNormalization\n",
    "from keras.optimizers import Adam, SGD\n",
    "from keras.regularizers import l2"
   ]
  },
  {
   "cell_type": "code",
   "execution_count": 17,
   "metadata": {},
   "outputs": [
    {
     "name": "stdout",
     "output_type": "stream",
     "text": [
      "(16008, 1886) (16008,)\n",
      "(4002, 1886) (4002,)\n"
     ]
    }
   ],
   "source": [
    "print(train_x.shape, train_y.shape)\n",
    "print(dev_x.shape, dev_y.shape)"
   ]
  },
  {
   "cell_type": "markdown",
   "metadata": {},
   "source": [
    "### LSA"
   ]
  },
  {
   "cell_type": "code",
   "execution_count": 18,
   "metadata": {
    "collapsed": true
   },
   "outputs": [],
   "source": [
    "from sklearn.decomposition import TruncatedSVD\n",
    "from sklearn.preprocessing import Normalizer\n",
    "from sklearn.pipeline import make_pipeline"
   ]
  },
  {
   "cell_type": "code",
   "execution_count": 19,
   "metadata": {
    "collapsed": true
   },
   "outputs": [],
   "source": [
    "svd = TruncatedSVD(n_components=200)\n",
    "normalizer = Normalizer(copy=False)\n",
    "lsa = make_pipeline(svd,normalizer)"
   ]
  },
  {
   "cell_type": "code",
   "execution_count": 20,
   "metadata": {
    "scrolled": true
   },
   "outputs": [
    {
     "name": "stdout",
     "output_type": "stream",
     "text": [
      "(16008, 200) 0.802281088022\n"
     ]
    }
   ],
   "source": [
    "lsa.fit(pd.concat([train_x, dev_x],axis=0))\n",
    "train_x = lsa.transform(train_x)\n",
    "dev_x = lsa.transform(dev_x)\n",
    "\n",
    "exp_var = svd.explained_variance_ratio_.sum()\n",
    "print(train_x.shape, exp_var)"
   ]
  },
  {
   "cell_type": "markdown",
   "metadata": {},
   "source": [
    "### PCA"
   ]
  },
  {
   "cell_type": "code",
   "execution_count": 17,
   "metadata": {},
   "outputs": [],
   "source": [
    "from sklearn.decomposition import PCA\n",
    "pca = PCA(n_components=300)"
   ]
  },
  {
   "cell_type": "code",
   "execution_count": 18,
   "metadata": {},
   "outputs": [],
   "source": [
    "pca.fit(pd.concat([train_x, dev_x],axis=0))\n",
    "train_x = pca.transform(train_x)\n",
    "dev_x = pca.transform(dev_x)"
   ]
  },
  {
   "cell_type": "code",
   "execution_count": 19,
   "metadata": {},
   "outputs": [
    {
     "data": {
      "text/plain": [
       "0.86007041388919836"
      ]
     },
     "execution_count": 19,
     "metadata": {},
     "output_type": "execute_result"
    }
   ],
   "source": [
    "pca.explained_variance_ratio_.sum()"
   ]
  },
  {
   "cell_type": "markdown",
   "metadata": {},
   "source": [
    "### dnn"
   ]
  },
  {
   "cell_type": "code",
   "execution_count": 21,
   "metadata": {},
   "outputs": [],
   "source": [
    "#train_X = train_x.iloc[:,:7]\n",
    "#dev_X = dev_x.iloc[:,:7]\n",
    "\n",
    "train_X = train_x\n",
    "dev_X = dev_x"
   ]
  },
  {
   "cell_type": "code",
   "execution_count": 22,
   "metadata": {
    "collapsed": true
   },
   "outputs": [],
   "source": [
    "from sklearn.linear_model import LinearRegression\n",
    "from sklearn.model_selection import cross_val_score\n",
    "from sklearn.preprocessing import minmax_scale\n",
    "from sklearn.preprocessing import MinMaxScaler"
   ]
  },
  {
   "cell_type": "code",
   "execution_count": 23,
   "metadata": {
    "collapsed": true
   },
   "outputs": [],
   "source": [
    "minmax_x = MinMaxScaler(feature_range=(0,1))\n",
    "minmax_y = MinMaxScaler(feature_range=(0,1))"
   ]
  },
  {
   "cell_type": "code",
   "execution_count": 24,
   "metadata": {},
   "outputs": [
    {
     "name": "stderr",
     "output_type": "stream",
     "text": [
      "/app/anaconda3/lib/python3.6/site-packages/ipykernel_launcher.py:3: FutureWarning: reshape is deprecated and will raise in a subsequent release. Please use .values.reshape(...) instead\n",
      "  This is separate from the ipykernel package so we can avoid doing imports until\n"
     ]
    }
   ],
   "source": [
    "#mtrain_X = minmax_x.fit_transform(train_x.values)\n",
    "mtrain_X = train_X#.values\n",
    "mtrain_y = minmax_y.fit_transform(train_y.reshape(-1,1))#.values)"
   ]
  },
  {
   "cell_type": "code",
   "execution_count": 25,
   "metadata": {},
   "outputs": [
    {
     "name": "stderr",
     "output_type": "stream",
     "text": [
      "/app/anaconda3/lib/python3.6/site-packages/ipykernel_launcher.py:3: FutureWarning: reshape is deprecated and will raise in a subsequent release. Please use .values.reshape(...) instead\n",
      "  This is separate from the ipykernel package so we can avoid doing imports until\n"
     ]
    }
   ],
   "source": [
    "#mtest_X = minmax_x.transform(dev_x.values)\n",
    "mtest_X = dev_X#.values\n",
    "mtest_y = minmax_y.transform(dev_y.reshape(-1,1))#.values.reshape(-1,1))"
   ]
  },
  {
   "cell_type": "code",
   "execution_count": 26,
   "metadata": {},
   "outputs": [
    {
     "name": "stdout",
     "output_type": "stream",
     "text": [
      "(16008, 200) (16008, 1)\n",
      "(4002, 200) (4002, 1)\n"
     ]
    }
   ],
   "source": [
    "print(mtrain_X.shape, mtrain_y.shape)\n",
    "print(mtest_X.shape, mtest_y.shape)"
   ]
  },
  {
   "cell_type": "code",
   "execution_count": 27,
   "metadata": {},
   "outputs": [],
   "source": [
    "# define base model\n",
    "def baseline_model():\n",
    "    visible = Input(shape=(200,))\n",
    "    #hidden1 = Dense(1024, activation='relu')(visible)\n",
    "    #hidden1 = BatchNormalization()(hidden1)\n",
    "    #hidden1 = Dropout(0.8)(hidden1)\n",
    "    #hidden1 = Dense(512, activation='relu')(hidden1)    \n",
    "    #hidden1 = BatchNormalization()(visible)\n",
    "    #hidden1 = Dropout(0.8)(hidden1)\n",
    "    #hidden1 = Dense(256, activation='relu')(visible)\n",
    "    #hidden1 = BatchNormalization()(hidden1)\n",
    "    #hidden1 = Dropout(0.8)(hidden1)\n",
    "    hidden1 = Dense(128, activation='relu')(visible)\n",
    "    hidden1 = Dropout(0.8)(hidden1)\n",
    "    #hidden1 = BatchNormalization()(hidden1)\n",
    "    hidden1 = Dense(64, activation='relu')(hidden1)\n",
    "    hidden1 = Dropout(0.8)(hidden1)\n",
    "    #hidden1 = BatchNormalization()(hidden1)\n",
    "    hidden1 = Dense(32, activation='relu')(hidden1)\n",
    "    hidden1 = Dropout(0.8)(hidden1)\n",
    "    #hidden1 = BatchNormalization()(hidden1)\n",
    "    hidden1 = Dense(16, activation='relu')(hidden1)\n",
    "    #hidden1 = BatchNormalization()(hidden1)\n",
    "    output = Dense(1, activation='tanh')(hidden1)\n",
    "    adam = Adam(lr=0.001, beta_1=0.9, beta_2=0.999, epsilon=None, decay=0.0, amsgrad=False)\n",
    "    #sgd = SGD(lr=0.001, decay=0, momentum=0.9, nesterov=True)\n",
    "    \n",
    "    \n",
    "    model = Model(inputs=visible, outputs=output)\n",
    "    #model = multi_gpu_model(model,gpus=2)\n",
    "    model.compile(optimizer=adam,loss='mean_squared_error',)\n",
    "    model.summary()\n",
    "    \n",
    "    return model"
   ]
  },
  {
   "cell_type": "code",
   "execution_count": 28,
   "metadata": {},
   "outputs": [
    {
     "name": "stdout",
     "output_type": "stream",
     "text": [
      "_________________________________________________________________\n",
      "Layer (type)                 Output Shape              Param #   \n",
      "=================================================================\n",
      "input_1 (InputLayer)         (None, 200)               0         \n",
      "_________________________________________________________________\n",
      "dense_1 (Dense)              (None, 128)               25728     \n",
      "_________________________________________________________________\n",
      "dropout_1 (Dropout)          (None, 128)               0         \n",
      "_________________________________________________________________\n",
      "dense_2 (Dense)              (None, 64)                8256      \n",
      "_________________________________________________________________\n",
      "dropout_2 (Dropout)          (None, 64)                0         \n",
      "_________________________________________________________________\n",
      "dense_3 (Dense)              (None, 32)                2080      \n",
      "_________________________________________________________________\n",
      "dropout_3 (Dropout)          (None, 32)                0         \n",
      "_________________________________________________________________\n",
      "dense_4 (Dense)              (None, 16)                528       \n",
      "_________________________________________________________________\n",
      "dense_5 (Dense)              (None, 1)                 17        \n",
      "=================================================================\n",
      "Total params: 36,609\n",
      "Trainable params: 36,609\n",
      "Non-trainable params: 0\n",
      "_________________________________________________________________\n"
     ]
    }
   ],
   "source": [
    "dnn = baseline_model()"
   ]
  },
  {
   "cell_type": "code",
   "execution_count": 36,
   "metadata": {
    "scrolled": true
   },
   "outputs": [
    {
     "name": "stdout",
     "output_type": "stream",
     "text": [
      "1 ] **************************************************\n",
      "train_RMSE: 6.88\n",
      "test_RMSE: 7.60\n",
      "2 ] **************************************************\n",
      "train_RMSE: 7.11\n",
      "test_RMSE: 7.78\n",
      "3 ] **************************************************\n",
      "train_RMSE: 7.03\n",
      "test_RMSE: 7.69\n",
      "4 ] **************************************************\n",
      "train_RMSE: 6.85\n",
      "test_RMSE: 7.56\n",
      "5 ] **************************************************\n",
      "train_RMSE: 6.97\n",
      "test_RMSE: 7.67\n",
      "6 ] **************************************************\n",
      "train_RMSE: 6.50\n",
      "test_RMSE: 7.33\n",
      "7 ] **************************************************\n",
      "train_RMSE: 7.05\n",
      "test_RMSE: 7.72\n",
      "8 ] **************************************************\n",
      "train_RMSE: 6.53\n",
      "test_RMSE: 7.36\n",
      "9 ] **************************************************\n",
      "train_RMSE: 7.41\n",
      "test_RMSE: 8.01\n",
      "10 ] **************************************************\n",
      "train_RMSE: 7.08\n",
      "test_RMSE: 7.76\n",
      "11 ] **************************************************\n",
      "train_RMSE: 6.01\n",
      "test_RMSE: 6.96\n",
      "12 ] **************************************************\n",
      "train_RMSE: 7.14\n",
      "test_RMSE: 7.82\n",
      "13 ] **************************************************\n",
      "train_RMSE: 7.13\n",
      "test_RMSE: 7.82\n",
      "14 ] **************************************************\n",
      "train_RMSE: 6.68\n",
      "test_RMSE: 7.47\n",
      "15 ] **************************************************\n",
      "train_RMSE: 6.50\n",
      "test_RMSE: 7.33\n",
      "16 ] **************************************************\n",
      "train_RMSE: 6.93\n",
      "test_RMSE: 7.65\n",
      "17 ] **************************************************\n",
      "train_RMSE: 6.84\n",
      "test_RMSE: 7.62\n",
      "18 ] **************************************************\n",
      "train_RMSE: 6.49\n",
      "test_RMSE: 7.34\n",
      "19 ] **************************************************\n",
      "train_RMSE: 6.66\n",
      "test_RMSE: 7.44\n",
      "20 ] **************************************************\n",
      "train_RMSE: 6.39\n",
      "test_RMSE: 7.28\n",
      "21 ] **************************************************\n",
      "train_RMSE: 6.76\n",
      "test_RMSE: 7.54\n",
      "22 ] **************************************************\n",
      "train_RMSE: 7.27\n",
      "test_RMSE: 7.96\n",
      "23 ] **************************************************\n",
      "train_RMSE: 6.69\n",
      "test_RMSE: 7.50\n",
      "24 ] **************************************************\n",
      "train_RMSE: 6.37\n",
      "test_RMSE: 7.24\n",
      "25 ] **************************************************\n",
      "train_RMSE: 7.05\n",
      "test_RMSE: 7.80\n",
      "26 ] **************************************************\n",
      "train_RMSE: 8.07\n",
      "test_RMSE: 8.64\n",
      "27 ] **************************************************\n",
      "train_RMSE: 8.19\n",
      "test_RMSE: 8.69\n",
      "28 ] **************************************************\n",
      "train_RMSE: 7.11\n",
      "test_RMSE: 7.86\n",
      "29 ] **************************************************\n",
      "train_RMSE: 7.24\n",
      "test_RMSE: 7.99\n",
      "30 ] **************************************************\n",
      "train_RMSE: 7.72\n",
      "test_RMSE: 8.35\n",
      "31 ] **************************************************\n",
      "train_RMSE: 9.44\n",
      "test_RMSE: 9.79\n",
      "32 ] **************************************************\n",
      "train_RMSE: 6.92\n",
      "test_RMSE: 7.76\n",
      "33 ] **************************************************\n",
      "train_RMSE: 7.54\n",
      "test_RMSE: 8.24\n",
      "34 ] **************************************************\n",
      "train_RMSE: 7.37\n",
      "test_RMSE: 8.12\n",
      "35 ] **************************************************\n",
      "train_RMSE: 7.97\n",
      "test_RMSE: 8.60\n",
      "36 ] **************************************************\n",
      "train_RMSE: 7.62\n",
      "test_RMSE: 8.36\n",
      "37 ] **************************************************\n",
      "train_RMSE: 8.49\n",
      "test_RMSE: 9.01\n",
      "38 ] **************************************************\n",
      "train_RMSE: 7.33\n",
      "test_RMSE: 8.12\n",
      "39 ] **************************************************\n",
      "train_RMSE: 7.02\n",
      "test_RMSE: 7.88\n",
      "40 ] **************************************************\n",
      "train_RMSE: 6.58\n",
      "test_RMSE: 7.50\n",
      "41 ] **************************************************\n",
      "train_RMSE: 7.24\n",
      "test_RMSE: 8.00\n",
      "42 ] **************************************************\n",
      "train_RMSE: 7.92\n",
      "test_RMSE: 8.54\n",
      "43 ] **************************************************\n",
      "train_RMSE: 7.74\n",
      "test_RMSE: 8.43\n",
      "44 ] **************************************************\n",
      "train_RMSE: 7.55\n",
      "test_RMSE: 8.25\n",
      "45 ] **************************************************\n",
      "train_RMSE: 8.20\n",
      "test_RMSE: 8.83\n",
      "46 ] **************************************************\n",
      "train_RMSE: 8.22\n",
      "test_RMSE: 8.82\n",
      "47 ] **************************************************\n",
      "train_RMSE: 7.92\n",
      "test_RMSE: 8.65\n",
      "48 ] **************************************************\n",
      "train_RMSE: 8.32\n",
      "test_RMSE: 8.86\n",
      "49 ] **************************************************\n",
      "train_RMSE: 8.56\n",
      "test_RMSE: 9.08\n",
      "50 ] **************************************************\n",
      "train_RMSE: 7.36\n",
      "test_RMSE: 8.20\n",
      "CPU times: user 4min 59s, sys: 34.4 s, total: 5min 34s\n",
      "Wall time: 3min 15s\n"
     ]
    }
   ],
   "source": [
    "%%time\n",
    "test_rmse_list = []\n",
    "train_rmse_list = []\n",
    "for i in range(50):\n",
    "    dnn.fit(x=mtrain_X,y=mtrain_y,batch_size=1000,epochs=50,verbose=0)\n",
    "#    print(mtrain_X.shape,mtest_X.shape)\n",
    "#    train_rmse = math.sqrt(np.mean(dnn.predict(mtrain_X).reshape(-1,) - mtrain_y) ** 2)\n",
    "#   test_rmse = math.sqrt(np.mean(dnn.predict(mtest_X) - mtest_y) ** 2)\n",
    "    train_rmse = math.sqrt(np.mean(( minmax_y.inverse_transform(dnn.predict(mtrain_X).reshape(-1,1)) - minmax_y.inverse_transform(mtrain_y)) ** 2))\n",
    "    test_rmse = math.sqrt(np.mean((minmax_y.inverse_transform(dnn.predict(mtest_X).reshape(-1,1)) -  minmax_y.inverse_transform(mtest_y)) ** 2))\n",
    "    test_rmse_list.append(test_rmse)\n",
    "    train_rmse_list.append(train_rmse)\n",
    "    print(i+1,']','*'*50)\n",
    "    print(\"train_RMSE: %.2f\"%train_rmse )\n",
    "    print(\"test_RMSE: %.2f\"% test_rmse)"
   ]
  },
  {
   "cell_type": "code",
   "execution_count": 37,
   "metadata": {},
   "outputs": [
    {
     "data": {
      "text/plain": [
       "[<matplotlib.lines.Line2D at 0x7fcd9c711ac8>]"
      ]
     },
     "execution_count": 37,
     "metadata": {},
     "output_type": "execute_result"
    },
    {
     "name": "stderr",
     "output_type": "stream",
     "text": [
      "/app/anaconda3/lib/python3.6/site-packages/matplotlib/font_manager.py:1316: UserWarning: findfont: Font family ['NanumGothic'] not found. Falling back to DejaVu Sans\n",
      "  (prop.get_family(), self.defaultFamily[fontext]))\n"
     ]
    },
    {
     "data": {
      "image/png": "[encoded data removed]",
      "text/plain": [
       "<matplotlib.figure.Figure at 0x7fcd9c7fdb00>"
      ]
     },
     "metadata": {},
     "output_type": "display_data"
    }
   ],
   "source": [
    "plt.plot(train_rmse_list)\n",
    "plt.plot(test_rmse_list)"
   ]
  },
  {
   "cell_type": "code",
   "execution_count": 35,
   "metadata": {},
   "outputs": [],
   "source": [
    "pred = dnn.predict(mtest_X)"
   ]
  },
  {
   "cell_type": "code",
   "execution_count": 32,
   "metadata": {},
   "outputs": [
    {
     "data": {
      "text/plain": [
       "[<matplotlib.lines.Line2D at 0x7fcd9c821278>]"
      ]
     },
     "execution_count": 32,
     "metadata": {},
     "output_type": "execute_result"
    }
   ],
   "source": [
    "\n",
    "plt.rcParams[\"figure.figsize\"] = (20,3)\n",
    "index = 100\n",
    "\n",
    "plt.plot(pred[index:index+100])\n",
    "plt.plot(mtest_y[index:index+100])"
   ]
  },
  {
   "cell_type": "code",
   "execution_count": null,
   "metadata": {
    "collapsed": true
   },
   "outputs": [],
   "source": []
  },
  {
   "cell_type": "code",
   "execution_count": null,
   "metadata": {
    "collapsed": true
   },
   "outputs": [],
   "source": []
  }
 ],
 "metadata": {
  "kernelspec": {
   "display_name": "Python 3",
   "language": "python",
   "name": "python3"
  },
  "language_info": {
   "codemirror_mode": {
    "name": "ipython",
    "version": 3
   },
   "file_extension": ".py",
   "mimetype": "text/x-python",
   "name": "python",
   "nbconvert_exporter": "python",
   "pygments_lexer": "ipython3",
   "version": "3.6.3"
  }
 },
 "nbformat": 4,
 "nbformat_minor": 2
}
