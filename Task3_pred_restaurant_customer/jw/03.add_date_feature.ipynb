{
 "cells": [
  {
   "cell_type": "code",
   "execution_count": 1,
   "metadata": {
    "collapsed": true
   },
   "outputs": [],
   "source": [
    "import pandas as pd\n",
    "import numpy as np\n",
    "import math\n",
    "import matplotlib.pyplot as plt\n",
    "from datetime import datetime\n",
    "%matplotlib inline\n",
    "\n",
    "plt.rcParams[\"figure.figsize\"] = (20,3)"
   ]
  },
  {
   "cell_type": "code",
   "execution_count": 2,
   "metadata": {
    "collapsed": true
   },
   "outputs": [],
   "source": [
    "fig_size = plt.rcParams[\"figure.figsize\"]"
   ]
  },
  {
   "cell_type": "code",
   "execution_count": 3,
   "metadata": {},
   "outputs": [
    {
     "data": {
      "text/plain": [
       "[20.0, 3.0]"
      ]
     },
     "execution_count": 3,
     "metadata": {},
     "output_type": "execute_result"
    }
   ],
   "source": [
    "fig_size"
   ]
  },
  {
   "cell_type": "code",
   "execution_count": 4,
   "metadata": {
    "collapsed": true
   },
   "outputs": [],
   "source": [
    "from sklearn.model_selection import train_test_split\n",
    "from sklearn.metrics import explained_variance_score"
   ]
  },
  {
   "cell_type": "code",
   "execution_count": 5,
   "metadata": {},
   "outputs": [
    {
     "name": "stdout",
     "output_type": "stream",
     "text": [
      "<class 'pandas.core.frame.DataFrame'>\n",
      "RangeIndex: 20010 entries, 0 to 20009\n",
      "Data columns (total 11 columns):\n",
      "일자             20010 non-null int64\n",
      "time           20010 non-null object\n",
      "식사내용           20010 non-null object\n",
      "매출일자           20010 non-null float64\n",
      "수량             20010 non-null float64\n",
      "일시             20010 non-null object\n",
      "평균기온(°C)       20010 non-null float64\n",
      "최저기온(°C)       20010 non-null float64\n",
      "최고기온(°C)       20010 non-null float64\n",
      "강수 계속시간(hr)    20010 non-null float64\n",
      "일강수량(mm)       20010 non-null float64\n",
      "dtypes: float64(7), int64(1), object(3)\n",
      "memory usage: 1.7+ MB\n"
     ]
    }
   ],
   "source": [
    "train_df = pd.read_csv('./cli_train.tsv',sep='\\t')\n",
    "train_df.info()"
   ]
  },
  {
   "cell_type": "code",
   "execution_count": 6,
   "metadata": {
    "collapsed": true,
    "scrolled": true
   },
   "outputs": [],
   "source": [
    "time_dummy = pd.get_dummies(train_df['time'])"
   ]
  },
  {
   "cell_type": "code",
   "execution_count": 7,
   "metadata": {
    "collapsed": true
   },
   "outputs": [],
   "source": [
    "train_df = pd.concat([train_df, time_dummy],axis=1)"
   ]
  },
  {
   "cell_type": "code",
   "execution_count": 8,
   "metadata": {
    "scrolled": true
   },
   "outputs": [
    {
     "name": "stdout",
     "output_type": "stream",
     "text": [
      "[   0.           51.42857143  102.85714286  154.28571429  205.71428571\n",
      "  257.14285714  308.57142857]\n",
      "[ 0.          0.78183148  0.97492791  0.43388374 -0.43388374 -0.97492791\n",
      " -0.78183148]\n",
      "[ 1.          0.6234898  -0.22252093 -0.90096887 -0.90096887 -0.22252093\n",
      "  0.6234898 ]\n",
      "[   0.   30.   60.   90.  120.  150.  180.  210.  240.  270.  300.  330.]\n",
      "[  0.00000000e+00   5.00000000e-01   8.66025404e-01   1.00000000e+00\n",
      "   8.66025404e-01   5.00000000e-01   1.22464680e-16  -5.00000000e-01\n",
      "  -8.66025404e-01  -1.00000000e+00  -8.66025404e-01  -5.00000000e-01]\n",
      "[  1.00000000e+00   8.66025404e-01   5.00000000e-01   6.12323400e-17\n",
      "  -5.00000000e-01  -8.66025404e-01  -1.00000000e+00  -8.66025404e-01\n",
      "  -5.00000000e-01  -1.83697020e-16   5.00000000e-01   8.66025404e-01]\n",
      "[   0.           11.61290323   23.22580645   34.83870968   46.4516129\n",
      "   58.06451613   69.67741935   81.29032258   92.90322581  104.51612903\n",
      "  116.12903226  127.74193548  139.35483871  150.96774194  162.58064516\n",
      "  174.19354839  185.80645161  197.41935484  209.03225806  220.64516129\n",
      "  232.25806452  243.87096774  255.48387097  267.09677419  278.70967742\n",
      "  290.32258065  301.93548387  313.5483871   325.16129032  336.77419355\n",
      "  348.38709677]\n",
      "[ 0.          0.20129852  0.39435586  0.57126822  0.72479279  0.84864426\n",
      "  0.93775213  0.98846832  0.99871651  0.96807712  0.89780454  0.79077574\n",
      "  0.65137248  0.48530196  0.29936312  0.10116832 -0.10116832 -0.29936312\n",
      " -0.48530196 -0.65137248 -0.79077574 -0.89780454 -0.96807712 -0.99871651\n",
      " -0.98846832 -0.93775213 -0.84864426 -0.72479279 -0.57126822 -0.39435586\n",
      " -0.20129852]\n",
      "[ 1.          0.97952994  0.91895781  0.82076344  0.68896692  0.52896401\n",
      "  0.34730525  0.15142778 -0.05064917 -0.25065253 -0.44039415 -0.61210598\n",
      " -0.75875812 -0.87434662 -0.95413926 -0.99486932 -0.99486932 -0.95413926\n",
      " -0.87434662 -0.75875812 -0.61210598 -0.44039415 -0.25065253 -0.05064917\n",
      "  0.15142778  0.34730525  0.52896401  0.68896692  0.82076344  0.91895781\n",
      "  0.97952994]\n"
     ]
    }
   ],
   "source": [
    "num_values = 7\n",
    "degrees_week = np.linspace(0, 360, num_values + 1)[:-1]\n",
    "print(degrees_week)\n",
    "sin_week = np.sin(np.deg2rad(degrees_week))\n",
    "print(sin_week)\n",
    "cos_week = np.cos(np.deg2rad(degrees_week))\n",
    "print(cos_week)\n",
    "\n",
    "num_values = 12\n",
    "degrees_month = np.linspace(0, 360, num_values + 1)[:-1]\n",
    "print(degrees_month)\n",
    "sin_month = np.sin(np.deg2rad(degrees_month))\n",
    "print(sin_month)\n",
    "cos_month = np.cos(np.deg2rad(degrees_month))\n",
    "print(cos_month)\n",
    "\n",
    "num_values = 31\n",
    "degrees_day = np.linspace(0, 360, num_values + 1)[:-1]\n",
    "print(degrees_day)\n",
    "sin_day = np.sin(np.deg2rad(degrees_day))\n",
    "print(sin_day)\n",
    "cos_day = np.cos(np.deg2rad(degrees_day))\n",
    "print(cos_day)"
   ]
  },
  {
   "cell_type": "code",
   "execution_count": 9,
   "metadata": {
    "collapsed": true
   },
   "outputs": [],
   "source": [
    "def make_coord(date,num_class):\n",
    "    # 1 ~ 12, 1 ~ 7, 1 ~ 31\n",
    "    degrees = np.linspace(0,360,num_values + 1)[:-1]\n",
    "    sin = np.sin(np.deg2rad(degrees))\n",
    "    cos = np.cos(np.deg2rad(degrees))\n",
    "    return sin, cos\n",
    "\n",
    "\n",
    "def date2coord(date, sin, cos):\n",
    "    return cos[date-1], sin[date-1]\n",
    "\n",
    "\n",
    "def date2week(x):\n",
    "    y = int(str(x)[:4])\n",
    "    m = int(str(x)[4:6])\n",
    "    d = int(str(x)[6:])\n",
    "    day = datetime(y, m, d)\n",
    "    return day.weekday()"
   ]
  },
  {
   "cell_type": "code",
   "execution_count": 10,
   "metadata": {
    "collapsed": true
   },
   "outputs": [],
   "source": [
    "train_df['month'] = train_df['일자'].apply(lambda x:int(str(x)[4:6]))\n",
    "train_df['day'] = train_df['일자'].apply(lambda x:int(str(x)[6:]))\n",
    "train_df['week'] = train_df['일자'].apply(date2week)\n",
    "train_df['week'] = train_df['week'] + 1 \n",
    "train_df['year'] = train_df['일자'].apply(lambda x:int(str(x)[:4]))"
   ]
  },
  {
   "cell_type": "code",
   "execution_count": 11,
   "metadata": {
    "collapsed": true
   },
   "outputs": [],
   "source": [
    "train_df['day_coord'] = train_df['day'].apply(date2coord, args=(sin_day, cos_day,))\n",
    "train_df['month_coord'] = train_df['month'].apply(date2coord, args=(sin_month, cos_month))\n",
    "train_df['week_coord'] = train_df['week'].apply(date2coord, args=(sin_week, cos_week,))"
   ]
  },
  {
   "cell_type": "code",
   "execution_count": 12,
   "metadata": {
    "collapsed": true
   },
   "outputs": [],
   "source": [
    "x_list = []"
   ]
  },
  {
   "cell_type": "code",
   "execution_count": 13,
   "metadata": {
    "collapsed": true
   },
   "outputs": [],
   "source": [
    "X_arr = pd.get_dummies(train_df['year']).values\n",
    "x_list.append(X_arr)"
   ]
  },
  {
   "cell_type": "code",
   "execution_count": 14,
   "metadata": {
    "collapsed": true
   },
   "outputs": [],
   "source": [
    "X_arr = np.array(train_df['day_coord'].apply(lambda x:np.array(x)).tolist())\n",
    "x_list.append(X_arr)"
   ]
  },
  {
   "cell_type": "code",
   "execution_count": 15,
   "metadata": {
    "collapsed": true
   },
   "outputs": [],
   "source": [
    "X_arr = np.array(train_df['month_coord'].apply(lambda x:np.array(x)).tolist())\n",
    "x_list.append(X_arr)"
   ]
  },
  {
   "cell_type": "code",
   "execution_count": 16,
   "metadata": {
    "collapsed": true
   },
   "outputs": [],
   "source": [
    "X_arr = np.array(train_df['week_coord'].apply(lambda x:np.array(x)).tolist())\n",
    "x_list.append(X_arr)"
   ]
  },
  {
   "cell_type": "code",
   "execution_count": 17,
   "metadata": {
    "collapsed": true
   },
   "outputs": [],
   "source": [
    "X_arr = train_df['아침'].values.reshape(-1,1)\n",
    "x_list.append(X_arr)\n",
    "X_arr = train_df['점심'].values.reshape(-1,1)\n",
    "x_list.append(X_arr)\n",
    "X_arr = train_df['점심2'].values.reshape(-1,1)\n",
    "x_list.append(X_arr)\n",
    "X_arr = train_df['저녁'].values.reshape(-1,1)\n",
    "x_list.append(X_arr)"
   ]
  },
  {
   "cell_type": "code",
   "execution_count": 18,
   "metadata": {
    "collapsed": true
   },
   "outputs": [],
   "source": [
    "X_arr = train_df['평균기온(°C)'].values.reshape(-1,1)\n",
    "x_list.append(X_arr)\n",
    "X_arr = train_df['최저기온(°C)'].values.reshape(-1,1)\n",
    "x_list.append(X_arr)\n",
    "X_arr = train_df['최고기온(°C)'].values.reshape(-1,1)\n",
    "x_list.append(X_arr)\n",
    "X_arr = train_df['강수 계속시간(hr)'].values.reshape(-1,1)\n",
    "x_list.append(X_arr)\n",
    "X_arr = train_df['일강수량(mm)'].values.reshape(-1,1)\n",
    "x_list.append(X_arr)"
   ]
  },
  {
   "cell_type": "code",
   "execution_count": 19,
   "metadata": {},
   "outputs": [
    {
     "data": {
      "text/plain": [
       "(20010, 1)"
      ]
     },
     "execution_count": 19,
     "metadata": {},
     "output_type": "execute_result"
    }
   ],
   "source": [
    "X_arr.shape"
   ]
  },
  {
   "cell_type": "code",
   "execution_count": 21,
   "metadata": {},
   "outputs": [],
   "source": [
    "# from konlpy.tag import Twitter\n",
    "# twitter = Twitter()"
   ]
  },
  {
   "cell_type": "code",
   "execution_count": 22,
   "metadata": {
    "collapsed": true
   },
   "outputs": [],
   "source": [
    "# from sklearn.feature_extraction.text import CountVectorizer\n",
    "# def tokenize(text):\n",
    "#     return text.split()\n",
    "# vectorizer = CountVectorizer(tokenizer=tokenize)"
   ]
  },
  {
   "cell_type": "code",
   "execution_count": 23,
   "metadata": {
    "collapsed": true
   },
   "outputs": [],
   "source": [
    "doc_list = train_df['식사내용'].apply(lambda x: ' '.join(x[:-1].split(','))).tolist()"
   ]
  },
  {
   "cell_type": "code",
   "execution_count": 24,
   "metadata": {
    "collapsed": true
   },
   "outputs": [],
   "source": [
    "#doc_list = train_df['식사내용'].apply(lambda x: ' '.join(twitter.morphs(' '.join(x[:-1].split(','))))).tolist()"
   ]
  },
  {
   "cell_type": "code",
   "execution_count": 25,
   "metadata": {
    "scrolled": true
   },
   "outputs": [
    {
     "data": {
      "text/plain": [
       "'과일샐러드 닭죽 돈육마늘장조림 떡만두국 부추김무침 쌀밥 딸기잼(중) 비엔나구이 스크램블에그(경양식) 야채샐러드 크림스프(경양식) 토스트&모닝빵'"
      ]
     },
     "execution_count": 25,
     "metadata": {},
     "output_type": "execute_result"
    }
   ],
   "source": [
    "doc_list[0]"
   ]
  },
  {
   "cell_type": "code",
   "execution_count": 26,
   "metadata": {
    "collapsed": true
   },
   "outputs": [],
   "source": [
    "from sklearn.feature_extraction.text import TfidfVectorizer\n",
    "vectorizer = TfidfVectorizer()"
   ]
  },
  {
   "cell_type": "code",
   "execution_count": 27,
   "metadata": {},
   "outputs": [
    {
     "name": "stdout",
     "output_type": "stream",
     "text": [
      "(20010, 1835)\n"
     ]
    }
   ],
   "source": [
    "X_food = vectorizer.fit_transform(doc_list)\n",
    "\n",
    "print(X_food.shape)"
   ]
  },
  {
   "cell_type": "code",
   "execution_count": 28,
   "metadata": {
    "collapsed": true
   },
   "outputs": [],
   "source": [
    "from sklearn.decomposition import TruncatedSVD\n",
    "from sklearn.preprocessing import Normalizer\n",
    "from sklearn.pipeline import make_pipeline"
   ]
  },
  {
   "cell_type": "code",
   "execution_count": 29,
   "metadata": {
    "collapsed": true
   },
   "outputs": [],
   "source": [
    "svd = TruncatedSVD(n_components=1000)\n",
    "normalizer = Normalizer(copy=False)\n",
    "lsa = make_pipeline(svd,normalizer)"
   ]
  },
  {
   "cell_type": "code",
   "execution_count": 30,
   "metadata": {},
   "outputs": [
    {
     "name": "stdout",
     "output_type": "stream",
     "text": [
      "(20010, 1000) 0.956235580331\n"
     ]
    }
   ],
   "source": [
    "X_lsa = lsa.fit_transform(X_food)\n",
    "exp_var = svd.explained_variance_ratio_.sum()\n",
    "print(X_lsa.shape, exp_var)"
   ]
  },
  {
   "cell_type": "code",
   "execution_count": 31,
   "metadata": {},
   "outputs": [
    {
     "name": "stdout",
     "output_type": "stream",
     "text": [
      "(20010, 30) (20010, 1)\n"
     ]
    }
   ],
   "source": [
    "X_coord = np.concatenate(x_list,axis=1)\n",
    "y = train_df['수량'].values.reshape(-1,1)\n",
    "print(X_coord.shape, y.shape)"
   ]
  },
  {
   "cell_type": "code",
   "execution_count": 32,
   "metadata": {
    "collapsed": true
   },
   "outputs": [],
   "source": [
    "from scipy import sparse"
   ]
  },
  {
   "cell_type": "code",
   "execution_count": 33,
   "metadata": {},
   "outputs": [
    {
     "data": {
      "text/plain": [
       "((20010, 1835), (20010, 30))"
      ]
     },
     "execution_count": 33,
     "metadata": {},
     "output_type": "execute_result"
    }
   ],
   "source": [
    "X_food.shape, X_coord.shape"
   ]
  },
  {
   "cell_type": "code",
   "execution_count": 34,
   "metadata": {},
   "outputs": [
    {
     "data": {
      "text/plain": [
       "numpy.ndarray"
      ]
     },
     "execution_count": 34,
     "metadata": {},
     "output_type": "execute_result"
    }
   ],
   "source": [
    "type(X_food.toarray())"
   ]
  },
  {
   "cell_type": "code",
   "execution_count": 35,
   "metadata": {
    "collapsed": true
   },
   "outputs": [],
   "source": [
    "X = np.concatenate([X_lsa, X_coord],axis=1)\n",
    "#X = np.concatenate([X_food.toarray(), X_coord],axis=1)"
   ]
  },
  {
   "cell_type": "code",
   "execution_count": 36,
   "metadata": {
    "collapsed": true,
    "scrolled": true
   },
   "outputs": [],
   "source": [
    "#X = sparse.hstack((X_lsa,X_coord))"
   ]
  },
  {
   "cell_type": "code",
   "execution_count": 37,
   "metadata": {},
   "outputs": [
    {
     "data": {
      "text/plain": [
       "(20010, 1030)"
      ]
     },
     "execution_count": 37,
     "metadata": {},
     "output_type": "execute_result"
    }
   ],
   "source": [
    "X.shape"
   ]
  },
  {
   "cell_type": "code",
   "execution_count": 38,
   "metadata": {
    "collapsed": true
   },
   "outputs": [],
   "source": [
    "from sklearn.linear_model import LinearRegression\n",
    "from sklearn.model_selection import cross_val_score\n",
    "from sklearn.preprocessing import minmax_scale\n",
    "from sklearn.preprocessing import MinMaxScaler"
   ]
  },
  {
   "cell_type": "code",
   "execution_count": 39,
   "metadata": {
    "collapsed": true
   },
   "outputs": [],
   "source": [
    "minmax_y = MinMaxScaler(feature_range=(0,1))"
   ]
  },
  {
   "cell_type": "code",
   "execution_count": 40,
   "metadata": {
    "collapsed": true
   },
   "outputs": [],
   "source": [
    "model = LinearRegression()"
   ]
  },
  {
   "cell_type": "code",
   "execution_count": 41,
   "metadata": {
    "collapsed": true
   },
   "outputs": [],
   "source": [
    "mX = minmax_scale(X,feature_range=(0,1))\n",
    "my = minmax_y.fit_transform(y)"
   ]
  },
  {
   "cell_type": "code",
   "execution_count": 42,
   "metadata": {},
   "outputs": [
    {
     "data": {
      "text/plain": [
       "0.67228317809699334"
      ]
     },
     "execution_count": 42,
     "metadata": {},
     "output_type": "execute_result"
    }
   ],
   "source": [
    "X_train, X_test, y_train, y_test = train_test_split(mX, my, test_size=0.2,)\n",
    "model.fit(X_train,y_train)\n",
    "model.score(X_test,y_test)"
   ]
  },
  {
   "cell_type": "code",
   "execution_count": 43,
   "metadata": {},
   "outputs": [
    {
     "name": "stdout",
     "output_type": "stream",
     "text": [
      "RMSE: 6.7246\n"
     ]
    }
   ],
   "source": [
    "print(\"RMSE: %.4f\"% math.sqrt(np.mean(( minmax_y.inverse_transform(model.predict(X_test)) - minmax_y.inverse_transform(y_test)) ** 2)))"
   ]
  },
  {
   "cell_type": "code",
   "execution_count": 44,
   "metadata": {},
   "outputs": [
    {
     "name": "stdout",
     "output_type": "stream",
     "text": [
      "RMSE: 6.3749\n"
     ]
    }
   ],
   "source": [
    "print(\"RMSE: %.4f\"% math.sqrt(np.mean(( minmax_y.inverse_transform(model.predict(X_train)) - minmax_y.inverse_transform(y_train)) ** 2)))"
   ]
  },
  {
   "cell_type": "code",
   "execution_count": 45,
   "metadata": {},
   "outputs": [
    {
     "name": "stdout",
     "output_type": "stream",
     "text": [
      "RMSE: 23.40\n"
     ]
    }
   ],
   "source": [
    "print(\"RMSE: %.2f\"% math.sqrt(np.mean(([train_df['수량'].mean()]*len(y_test) - y_test) ** 2)))"
   ]
  },
  {
   "cell_type": "code",
   "execution_count": 46,
   "metadata": {
    "collapsed": true
   },
   "outputs": [],
   "source": [
    "pred = model.predict(X_test)"
   ]
  },
  {
   "cell_type": "code",
   "execution_count": 47,
   "metadata": {},
   "outputs": [
    {
     "data": {
      "text/plain": [
       "[<matplotlib.lines.Line2D at 0x11736b2b0>]"
      ]
     },
     "execution_count": 47,
     "metadata": {},
     "output_type": "execute_result"
    },
    {
     "name": "stderr",
     "output_type": "stream",
     "text": [
      "/Users/1003874/anaconda/envs/lstm/lib/python3.6/site-packages/matplotlib/font_manager.py:1297: UserWarning: findfont: Font family ['nanumgothic'] not found. Falling back to DejaVu Sans\n",
      "  (prop.get_family(), self.defaultFamily[fontext]))\n"
     ]
    },
    {
     "data": {
      "image/png": "[encoded data removed]",
      "text/plain": [
       "<matplotlib.figure.Figure at 0x11736b198>"
      ]
     },
     "metadata": {},
     "output_type": "display_data"
    }
   ],
   "source": [
    "index = 300\n",
    "plt.plot(pred[index:index+100])\n",
    "plt.plot(y_test[index:index+100])"
   ]
  },
  {
   "cell_type": "code",
   "execution_count": 48,
   "metadata": {},
   "outputs": [
    {
     "data": {
      "text/plain": [
       "0.4052734375"
      ]
     },
     "execution_count": 48,
     "metadata": {},
     "output_type": "execute_result"
    }
   ],
   "source": [
    "np.max(pred)"
   ]
  },
  {
   "cell_type": "markdown",
   "metadata": {},
   "source": [
    "### sklearn dnn"
   ]
  },
  {
   "cell_type": "code",
   "execution_count": 119,
   "metadata": {
    "collapsed": true
   },
   "outputs": [],
   "source": [
    "from sklearn.neural_network import MLPRegressor"
   ]
  },
  {
   "cell_type": "code",
   "execution_count": 120,
   "metadata": {
    "collapsed": true
   },
   "outputs": [],
   "source": [
    "mlpr = MLPRegressor(hidden_layer_sizes=(100, 5))"
   ]
  },
  {
   "cell_type": "code",
   "execution_count": 121,
   "metadata": {},
   "outputs": [
    {
     "data": {
      "text/plain": [
       "MLPRegressor(activation='relu', alpha=0.0001, batch_size='auto', beta_1=0.9,\n",
       "       beta_2=0.999, early_stopping=False, epsilon=1e-08,\n",
       "       hidden_layer_sizes=(100, 5), learning_rate='constant',\n",
       "       learning_rate_init=0.001, max_iter=200, momentum=0.9,\n",
       "       nesterovs_momentum=True, power_t=0.5, random_state=None,\n",
       "       shuffle=True, solver='adam', tol=0.0001, validation_fraction=0.1,\n",
       "       verbose=False, warm_start=False)"
      ]
     },
     "execution_count": 121,
     "metadata": {},
     "output_type": "execute_result"
    }
   ],
   "source": [
    "mlpr.fit(X_train,y_train.reshape(len(y_train),))"
   ]
  },
  {
   "cell_type": "code",
   "execution_count": 122,
   "metadata": {},
   "outputs": [
    {
     "name": "stdout",
     "output_type": "stream",
     "text": [
      "RMSE: 16.80\n"
     ]
    },
    {
     "name": "stderr",
     "output_type": "stream",
     "text": [
      "/Users/1003874/anaconda/envs/gcp-vision/lib/python3.6/site-packages/sklearn/preprocessing/data.py:374: DeprecationWarning: Passing 1d arrays as data is deprecated in 0.17 and will raise ValueError in 0.19. Reshape your data either using X.reshape(-1, 1) if your data has a single feature or X.reshape(1, -1) if it contains a single sample.\n",
      "  warnings.warn(DEPRECATION_MSG_1D, DeprecationWarning)\n"
     ]
    }
   ],
   "source": [
    "print(\"RMSE: %.2f\"% math.sqrt(np.mean(( minmax_y.inverse_transform(mlpr.predict(X_test)) - minmax_y.inverse_transform(y_test)) ** 2)))"
   ]
  },
  {
   "cell_type": "markdown",
   "metadata": {},
   "source": [
    "### keras dnn model"
   ]
  },
  {
   "cell_type": "code",
   "execution_count": 49,
   "metadata": {},
   "outputs": [
    {
     "name": "stderr",
     "output_type": "stream",
     "text": [
      "Using TensorFlow backend.\n"
     ]
    }
   ],
   "source": [
    "from keras.models import Sequential, Model\n",
    "from keras.layers import Dense, Flatten, Input\n",
    "from keras.optimizers import Adam, SGD"
   ]
  },
  {
   "cell_type": "code",
   "execution_count": 52,
   "metadata": {
    "collapsed": true
   },
   "outputs": [],
   "source": [
    "# define base model\n",
    "def baseline_model():\n",
    "    visible = Input(shape=(1030,))\n",
    "    hidden1 = Dense(512, activation='relu')(visible)\n",
    "    hidden1 = Dense(256, activation='relu')(hidden1)\n",
    "    hidden1 = Dense(128, activation='relu')(hidden1)\n",
    "    hidden1 = Dense(64, activation='relu')(hidden1)\n",
    "    hidden1 = Dense(32, activation='relu')(hidden1)\n",
    "    hidden1 = Dense(16, activation='relu')(hidden1)\n",
    "    output = Dense(1, activation='tanh')(hidden1)\n",
    "    #adam = Adam(lr=0.001, beta_1=0.9, beta_2=0.999, epsilon=None, decay=0.0, amsgrad=False)\n",
    "    #sgd = SGD(lr=0.001, decay=0, momentum=0.9, nesterov=True)\n",
    "    model = Model(inputs=visible, outputs=output)\n",
    "    model.compile(optimizer='adam',loss='mean_squared_error',)\n",
    "    model.summary()\n",
    "    \n",
    "    return model"
   ]
  },
  {
   "cell_type": "code",
   "execution_count": 53,
   "metadata": {},
   "outputs": [
    {
     "name": "stdout",
     "output_type": "stream",
     "text": [
      "_________________________________________________________________\n",
      "Layer (type)                 Output Shape              Param #   \n",
      "=================================================================\n",
      "input_2 (InputLayer)         (None, 1030)              0         \n",
      "_________________________________________________________________\n",
      "dense_8 (Dense)              (None, 512)               527872    \n",
      "_________________________________________________________________\n",
      "dense_9 (Dense)              (None, 256)               131328    \n",
      "_________________________________________________________________\n",
      "dense_10 (Dense)             (None, 128)               32896     \n",
      "_________________________________________________________________\n",
      "dense_11 (Dense)             (None, 64)                8256      \n",
      "_________________________________________________________________\n",
      "dense_12 (Dense)             (None, 32)                2080      \n",
      "_________________________________________________________________\n",
      "dense_13 (Dense)             (None, 16)                528       \n",
      "_________________________________________________________________\n",
      "dense_14 (Dense)             (None, 1)                 17        \n",
      "=================================================================\n",
      "Total params: 702,977\n",
      "Trainable params: 702,977\n",
      "Non-trainable params: 0\n",
      "_________________________________________________________________\n"
     ]
    }
   ],
   "source": [
    "dnn = baseline_model()"
   ]
  },
  {
   "cell_type": "code",
   "execution_count": 64,
   "metadata": {
    "scrolled": true
   },
   "outputs": [
    {
     "name": "stdout",
     "output_type": "stream",
     "text": [
      "Epoch 1/100\n",
      "16008/16008 [==============================] - 1s - loss: 0.0028     \n",
      "Epoch 2/100\n",
      "16008/16008 [==============================] - 1s - loss: 0.0043     \n",
      "Epoch 3/100\n",
      "16008/16008 [==============================] - 1s - loss: 0.0029     \n",
      "Epoch 4/100\n",
      "16008/16008 [==============================] - 1s - loss: 0.0029     \n",
      "Epoch 5/100\n",
      "16008/16008 [==============================] - 1s - loss: 0.0027     \n",
      "Epoch 6/100\n",
      "16008/16008 [==============================] - 1s - loss: 0.0030     \n",
      "Epoch 7/100\n",
      "16008/16008 [==============================] - 1s - loss: 0.0029     \n",
      "Epoch 8/100\n",
      "16008/16008 [==============================] - 1s - loss: 0.0025     \n",
      "Epoch 9/100\n",
      "16008/16008 [==============================] - 1s - loss: 0.0024     \n",
      "Epoch 10/100\n",
      "16008/16008 [==============================] - 1s - loss: 0.0023     \n",
      "Epoch 11/100\n",
      "16008/16008 [==============================] - 1s - loss: 0.0026     \n",
      "Epoch 12/100\n",
      "16008/16008 [==============================] - 1s - loss: 0.0028     \n",
      "Epoch 13/100\n",
      "16008/16008 [==============================] - 1s - loss: 0.0023     \n",
      "Epoch 14/100\n",
      "16008/16008 [==============================] - 1s - loss: 0.0022     \n",
      "Epoch 15/100\n",
      "16008/16008 [==============================] - 1s - loss: 0.0022     \n",
      "Epoch 16/100\n",
      "16008/16008 [==============================] - 1s - loss: 0.0028     \n",
      "Epoch 17/100\n",
      "16008/16008 [==============================] - 1s - loss: 0.0023     \n",
      "Epoch 18/100\n",
      "16008/16008 [==============================] - 1s - loss: 0.0022     \n",
      "Epoch 19/100\n",
      "16008/16008 [==============================] - 1s - loss: 0.0021     \n",
      "Epoch 20/100\n",
      "16008/16008 [==============================] - 1s - loss: 0.0020     \n",
      "Epoch 21/100\n",
      "16008/16008 [==============================] - 1s - loss: 0.0020     \n",
      "Epoch 22/100\n",
      "16008/16008 [==============================] - 1s - loss: 0.0026     \n",
      "Epoch 23/100\n",
      "16008/16008 [==============================] - 1s - loss: 0.0025     \n",
      "Epoch 24/100\n",
      "16008/16008 [==============================] - 1s - loss: 0.0023     \n",
      "Epoch 25/100\n",
      "16008/16008 [==============================] - 1s - loss: 0.0022     \n",
      "Epoch 26/100\n",
      "16008/16008 [==============================] - 1s - loss: 0.0021     \n",
      "Epoch 27/100\n",
      "16008/16008 [==============================] - 1s - loss: 0.0020     \n",
      "Epoch 28/100\n",
      "16008/16008 [==============================] - 1s - loss: 0.0019     \n",
      "Epoch 29/100\n",
      "16008/16008 [==============================] - 1s - loss: 0.0019     \n",
      "Epoch 30/100\n",
      "16008/16008 [==============================] - 1s - loss: 0.0023     \n",
      "Epoch 31/100\n",
      "16008/16008 [==============================] - 1s - loss: 0.0019     \n",
      "Epoch 32/100\n",
      "16008/16008 [==============================] - 1s - loss: 0.0019     \n",
      "Epoch 33/100\n",
      "16008/16008 [==============================] - 1s - loss: 0.0019     \n",
      "Epoch 34/100\n",
      "16008/16008 [==============================] - 1s - loss: 0.0019     \n",
      "Epoch 35/100\n",
      "16008/16008 [==============================] - 1s - loss: 0.0034     \n",
      "Epoch 36/100\n",
      "16008/16008 [==============================] - 1s - loss: 0.0023     \n",
      "Epoch 37/100\n",
      "16008/16008 [==============================] - 1s - loss: 0.0021     \n",
      "Epoch 38/100\n",
      "16008/16008 [==============================] - 1s - loss: 0.0021     \n",
      "Epoch 39/100\n",
      "16008/16008 [==============================] - 1s - loss: 0.0030     \n",
      "Epoch 40/100\n",
      "16008/16008 [==============================] - 1s - loss: 0.0027     \n",
      "Epoch 41/100\n",
      "16008/16008 [==============================] - 1s - loss: 0.0021     \n",
      "Epoch 42/100\n",
      "16008/16008 [==============================] - 1s - loss: 0.0019     \n",
      "Epoch 43/100\n",
      "16008/16008 [==============================] - 1s - loss: 0.0019     \n",
      "Epoch 44/100\n",
      "16008/16008 [==============================] - 1s - loss: 0.0020     \n",
      "Epoch 45/100\n",
      "16008/16008 [==============================] - 1s - loss: 0.0020     \n",
      "Epoch 46/100\n",
      "16008/16008 [==============================] - 1s - loss: 0.0018     \n",
      "Epoch 47/100\n",
      "16008/16008 [==============================] - 1s - loss: 0.0019     \n",
      "Epoch 48/100\n",
      "16008/16008 [==============================] - 1s - loss: 0.0020     \n",
      "Epoch 49/100\n",
      "16008/16008 [==============================] - 1s - loss: 0.0018     \n",
      "Epoch 50/100\n",
      "16008/16008 [==============================] - 1s - loss: 0.0022     \n",
      "Epoch 51/100\n",
      "16008/16008 [==============================] - 1s - loss: 0.0019     \n",
      "Epoch 52/100\n",
      "16008/16008 [==============================] - 1s - loss: 0.0018     \n",
      "Epoch 53/100\n",
      "16008/16008 [==============================] - 1s - loss: 0.0026     \n",
      "Epoch 54/100\n",
      "16008/16008 [==============================] - 1s - loss: 0.0020     \n",
      "Epoch 55/100\n",
      "16008/16008 [==============================] - 1s - loss: 0.0028     \n",
      "Epoch 56/100\n",
      "16008/16008 [==============================] - 1s - loss: 0.0019     \n",
      "Epoch 57/100\n",
      "16008/16008 [==============================] - 1s - loss: 0.0019     \n",
      "Epoch 58/100\n",
      "16008/16008 [==============================] - 1s - loss: 0.0022     \n",
      "Epoch 59/100\n",
      "16008/16008 [==============================] - 1s - loss: 0.0019     \n",
      "Epoch 60/100\n",
      "16008/16008 [==============================] - 1s - loss: 0.0017     \n",
      "Epoch 61/100\n",
      "16008/16008 [==============================] - 1s - loss: 0.0017     \n",
      "Epoch 62/100\n",
      "16008/16008 [==============================] - 1s - loss: 0.0017     \n",
      "Epoch 63/100\n",
      "16008/16008 [==============================] - 1s - loss: 0.0019     \n",
      "Epoch 64/100\n",
      "16008/16008 [==============================] - 1s - loss: 0.0019     \n",
      "Epoch 65/100\n",
      "16008/16008 [==============================] - 1s - loss: 0.0023     \n",
      "Epoch 66/100\n",
      "16008/16008 [==============================] - 1s - loss: 0.0018     \n",
      "Epoch 67/100\n",
      "16008/16008 [==============================] - 1s - loss: 0.0017     \n",
      "Epoch 68/100\n",
      "16008/16008 [==============================] - 1s - loss: 0.0017     \n",
      "Epoch 69/100\n",
      "16008/16008 [==============================] - 1s - loss: 0.0018     \n",
      "Epoch 70/100\n",
      "16008/16008 [==============================] - 1s - loss: 0.0017     \n",
      "Epoch 71/100\n",
      "16008/16008 [==============================] - 1s - loss: 0.0018     \n",
      "Epoch 72/100\n",
      "16008/16008 [==============================] - 1s - loss: 0.0016     \n",
      "Epoch 73/100\n",
      "16008/16008 [==============================] - 1s - loss: 0.0016     \n",
      "Epoch 74/100\n",
      "16008/16008 [==============================] - 1s - loss: 0.0016     - ETA: 0s - los\n",
      "Epoch 75/100\n",
      "16008/16008 [==============================] - 1s - loss: 0.0021     \n",
      "Epoch 76/100\n",
      "16008/16008 [==============================] - 1s - loss: 0.0025     \n",
      "Epoch 77/100\n",
      "16008/16008 [==============================] - 1s - loss: 0.0021     \n",
      "Epoch 78/100\n",
      "16008/16008 [==============================] - 1s - loss: 0.0016     \n",
      "Epoch 79/100\n",
      "16008/16008 [==============================] - 1s - loss: 0.0022     \n",
      "Epoch 80/100\n",
      "16008/16008 [==============================] - 1s - loss: 0.0023     \n",
      "Epoch 81/100\n",
      "16008/16008 [==============================] - 1s - loss: 0.0017     \n",
      "Epoch 82/100\n",
      "16008/16008 [==============================] - 1s - loss: 0.0017     \n",
      "Epoch 83/100\n",
      "16008/16008 [==============================] - 1s - loss: 0.0017     \n",
      "Epoch 84/100\n",
      "16008/16008 [==============================] - 1s - loss: 0.0016     - ETA: 0s - loss: 0.\n",
      "Epoch 85/100\n",
      "16008/16008 [==============================] - 1s - loss: 0.0016     \n",
      "Epoch 86/100\n",
      "16008/16008 [==============================] - 1s - loss: 0.0020     \n",
      "Epoch 87/100\n",
      "16008/16008 [==============================] - 1s - loss: 0.0019     \n",
      "Epoch 88/100\n",
      "16008/16008 [==============================] - 1s - loss: 0.0019     \n",
      "Epoch 89/100\n",
      "16008/16008 [==============================] - 1s - loss: 0.0016     \n",
      "Epoch 90/100\n",
      "16008/16008 [==============================] - 1s - loss: 0.0016     \n",
      "Epoch 91/100\n",
      "16008/16008 [==============================] - 1s - loss: 0.0016     \n",
      "Epoch 92/100\n",
      "16008/16008 [==============================] - 1s - loss: 0.0016     \n",
      "Epoch 93/100\n",
      "16008/16008 [==============================] - 1s - loss: 0.0016     \n",
      "Epoch 94/100\n",
      "16008/16008 [==============================] - 1s - loss: 0.0016     \n",
      "Epoch 95/100\n",
      "16008/16008 [==============================] - 1s - loss: 0.0016     \n",
      "Epoch 96/100\n",
      "16008/16008 [==============================] - 1s - loss: 0.0017     \n",
      "Epoch 97/100\n",
      "16008/16008 [==============================] - 1s - loss: 0.0017     \n",
      "Epoch 98/100\n",
      "16008/16008 [==============================] - 1s - loss: 0.0016     \n",
      "Epoch 99/100\n"
     ]
    },
    {
     "name": "stdout",
     "output_type": "stream",
     "text": [
      "16008/16008 [==============================] - 1s - loss: 0.0015     \n",
      "Epoch 100/100\n",
      "16008/16008 [==============================] - 1s - loss: 0.0016     - ETA: 0s - loss: 0.\n"
     ]
    },
    {
     "data": {
      "text/plain": [
       "<keras.callbacks.History at 0x16dec19e8>"
      ]
     },
     "execution_count": 64,
     "metadata": {},
     "output_type": "execute_result"
    }
   ],
   "source": [
    "dnn.fit(x=X_train,y=y_train,batch_size=1000,epochs=100)"
   ]
  },
  {
   "cell_type": "code",
   "execution_count": 65,
   "metadata": {},
   "outputs": [
    {
     "name": "stdout",
     "output_type": "stream",
     "text": [
      "RMSE: 6.28\n"
     ]
    }
   ],
   "source": [
    "print(\"RMSE: %.2f\"% math.sqrt(np.mean(( minmax_y.inverse_transform((dnn.predict(X_train))) - minmax_y.inverse_transform(y_train)) ** 2)))"
   ]
  },
  {
   "cell_type": "code",
   "execution_count": 66,
   "metadata": {},
   "outputs": [
    {
     "name": "stdout",
     "output_type": "stream",
     "text": [
      "RMSE: 6.69\n"
     ]
    }
   ],
   "source": [
    "print(\"RMSE: %.2f\"% math.sqrt(np.mean((minmax_y.inverse_transform(dnn.predict(X_test)) -  minmax_y.inverse_transform(y_test)) ** 2)))"
   ]
  },
  {
   "cell_type": "code",
   "execution_count": 67,
   "metadata": {
    "collapsed": true
   },
   "outputs": [],
   "source": [
    "pred = dnn.predict(X_test)"
   ]
  },
  {
   "cell_type": "code",
   "execution_count": 68,
   "metadata": {},
   "outputs": [
    {
     "data": {
      "text/plain": [
       "[<matplotlib.lines.Line2D at 0x16e027400>]"
      ]
     },
     "execution_count": 68,
     "metadata": {},
     "output_type": "execute_result"
    },
    {
     "name": "stderr",
     "output_type": "stream",
     "text": [
      "/Users/1003874/anaconda/envs/lstm/lib/python3.6/site-packages/matplotlib/font_manager.py:1297: UserWarning: findfont: Font family ['nanumgothic'] not found. Falling back to DejaVu Sans\n",
      "  (prop.get_family(), self.defaultFamily[fontext]))\n"
     ]
    },
    {
     "data": {
      "image/png": "[encoded data removed]",
      "text/plain": [
       "<matplotlib.figure.Figure at 0x16e027cc0>"
      ]
     },
     "metadata": {},
     "output_type": "display_data"
    }
   ],
   "source": [
    "index = 700\n",
    "plt.plot(pred[index:index+100])\n",
    "plt.plot(y_test[index:index+100])"
   ]
  },
  {
   "cell_type": "markdown",
   "metadata": {},
   "source": [
    "### randomforest"
   ]
  },
  {
   "cell_type": "code",
   "execution_count": 54,
   "metadata": {
    "collapsed": true
   },
   "outputs": [],
   "source": [
    "from sklearn.ensemble import RandomForestRegressor\n",
    "model_rfr = RandomForestRegressor(n_estimators=100,max_depth=10, n_jobs=4)"
   ]
  },
  {
   "cell_type": "code",
   "execution_count": 55,
   "metadata": {
    "scrolled": true
   },
   "outputs": [
    {
     "name": "stderr",
     "output_type": "stream",
     "text": [
      "/Users/1003874/anaconda/envs/gcp-vision/lib/python3.6/site-packages/ipykernel_launcher.py:1: DataConversionWarning: A column-vector y was passed when a 1d array was expected. Please change the shape of y to (n_samples,), for example using ravel().\n",
      "  \"\"\"Entry point for launching an IPython kernel.\n"
     ]
    },
    {
     "ename": "KeyboardInterrupt",
     "evalue": "",
     "output_type": "error",
     "traceback": [
      "\u001b[0;31m---------------------------------------------------------------------------\u001b[0m",
      "\u001b[0;31mKeyboardInterrupt\u001b[0m                         Traceback (most recent call last)",
      "\u001b[0;32m<ipython-input-55-62d99156955b>\u001b[0m in \u001b[0;36m<module>\u001b[0;34m()\u001b[0m\n\u001b[0;32m----> 1\u001b[0;31m \u001b[0mget_ipython\u001b[0m\u001b[0;34m(\u001b[0m\u001b[0;34m)\u001b[0m\u001b[0;34m.\u001b[0m\u001b[0mrun_cell_magic\u001b[0m\u001b[0;34m(\u001b[0m\u001b[0;34m'time'\u001b[0m\u001b[0;34m,\u001b[0m \u001b[0;34m''\u001b[0m\u001b[0;34m,\u001b[0m \u001b[0;34m'model_rfr.fit(X_train,y_train)'\u001b[0m\u001b[0;34m)\u001b[0m\u001b[0;34m\u001b[0m\u001b[0m\n\u001b[0m",
      "\u001b[0;32m/Users/1003874/anaconda/envs/gcp-vision/lib/python3.6/site-packages/IPython/core/interactiveshell.py\u001b[0m in \u001b[0;36mrun_cell_magic\u001b[0;34m(self, magic_name, line, cell)\u001b[0m\n\u001b[1;32m   2113\u001b[0m             \u001b[0mmagic_arg_s\u001b[0m \u001b[0;34m=\u001b[0m \u001b[0mself\u001b[0m\u001b[0;34m.\u001b[0m\u001b[0mvar_expand\u001b[0m\u001b[0;34m(\u001b[0m\u001b[0mline\u001b[0m\u001b[0;34m,\u001b[0m \u001b[0mstack_depth\u001b[0m\u001b[0;34m)\u001b[0m\u001b[0;34m\u001b[0m\u001b[0m\n\u001b[1;32m   2114\u001b[0m             \u001b[0;32mwith\u001b[0m \u001b[0mself\u001b[0m\u001b[0;34m.\u001b[0m\u001b[0mbuiltin_trap\u001b[0m\u001b[0;34m:\u001b[0m\u001b[0;34m\u001b[0m\u001b[0m\n\u001b[0;32m-> 2115\u001b[0;31m                 \u001b[0mresult\u001b[0m \u001b[0;34m=\u001b[0m \u001b[0mfn\u001b[0m\u001b[0;34m(\u001b[0m\u001b[0mmagic_arg_s\u001b[0m\u001b[0;34m,\u001b[0m \u001b[0mcell\u001b[0m\u001b[0;34m)\u001b[0m\u001b[0;34m\u001b[0m\u001b[0m\n\u001b[0m\u001b[1;32m   2116\u001b[0m             \u001b[0;32mreturn\u001b[0m \u001b[0mresult\u001b[0m\u001b[0;34m\u001b[0m\u001b[0m\n\u001b[1;32m   2117\u001b[0m \u001b[0;34m\u001b[0m\u001b[0m\n",
      "\u001b[0;32m<decorator-gen-59>\u001b[0m in \u001b[0;36mtime\u001b[0;34m(self, line, cell, local_ns)\u001b[0m\n",
      "\u001b[0;32m/Users/1003874/anaconda/envs/gcp-vision/lib/python3.6/site-packages/IPython/core/magic.py\u001b[0m in \u001b[0;36m<lambda>\u001b[0;34m(f, *a, **k)\u001b[0m\n\u001b[1;32m    186\u001b[0m     \u001b[0;31m# but it's overkill for just that one bit of state.\u001b[0m\u001b[0;34m\u001b[0m\u001b[0;34m\u001b[0m\u001b[0m\n\u001b[1;32m    187\u001b[0m     \u001b[0;32mdef\u001b[0m \u001b[0mmagic_deco\u001b[0m\u001b[0;34m(\u001b[0m\u001b[0marg\u001b[0m\u001b[0;34m)\u001b[0m\u001b[0;34m:\u001b[0m\u001b[0;34m\u001b[0m\u001b[0m\n\u001b[0;32m--> 188\u001b[0;31m         \u001b[0mcall\u001b[0m \u001b[0;34m=\u001b[0m \u001b[0;32mlambda\u001b[0m \u001b[0mf\u001b[0m\u001b[0;34m,\u001b[0m \u001b[0;34m*\u001b[0m\u001b[0ma\u001b[0m\u001b[0;34m,\u001b[0m \u001b[0;34m**\u001b[0m\u001b[0mk\u001b[0m\u001b[0;34m:\u001b[0m \u001b[0mf\u001b[0m\u001b[0;34m(\u001b[0m\u001b[0;34m*\u001b[0m\u001b[0ma\u001b[0m\u001b[0;34m,\u001b[0m \u001b[0;34m**\u001b[0m\u001b[0mk\u001b[0m\u001b[0;34m)\u001b[0m\u001b[0;34m\u001b[0m\u001b[0m\n\u001b[0m\u001b[1;32m    189\u001b[0m \u001b[0;34m\u001b[0m\u001b[0m\n\u001b[1;32m    190\u001b[0m         \u001b[0;32mif\u001b[0m \u001b[0mcallable\u001b[0m\u001b[0;34m(\u001b[0m\u001b[0marg\u001b[0m\u001b[0;34m)\u001b[0m\u001b[0;34m:\u001b[0m\u001b[0;34m\u001b[0m\u001b[0m\n",
      "\u001b[0;32m/Users/1003874/anaconda/envs/gcp-vision/lib/python3.6/site-packages/IPython/core/magics/execution.py\u001b[0m in \u001b[0;36mtime\u001b[0;34m(self, line, cell, local_ns)\u001b[0m\n\u001b[1;32m   1179\u001b[0m         \u001b[0;32mif\u001b[0m \u001b[0mmode\u001b[0m\u001b[0;34m==\u001b[0m\u001b[0;34m'eval'\u001b[0m\u001b[0;34m:\u001b[0m\u001b[0;34m\u001b[0m\u001b[0m\n\u001b[1;32m   1180\u001b[0m             \u001b[0mst\u001b[0m \u001b[0;34m=\u001b[0m \u001b[0mclock2\u001b[0m\u001b[0;34m(\u001b[0m\u001b[0;34m)\u001b[0m\u001b[0;34m\u001b[0m\u001b[0m\n\u001b[0;32m-> 1181\u001b[0;31m             \u001b[0mout\u001b[0m \u001b[0;34m=\u001b[0m \u001b[0meval\u001b[0m\u001b[0;34m(\u001b[0m\u001b[0mcode\u001b[0m\u001b[0;34m,\u001b[0m \u001b[0mglob\u001b[0m\u001b[0;34m,\u001b[0m \u001b[0mlocal_ns\u001b[0m\u001b[0;34m)\u001b[0m\u001b[0;34m\u001b[0m\u001b[0m\n\u001b[0m\u001b[1;32m   1182\u001b[0m             \u001b[0mend\u001b[0m \u001b[0;34m=\u001b[0m \u001b[0mclock2\u001b[0m\u001b[0;34m(\u001b[0m\u001b[0;34m)\u001b[0m\u001b[0;34m\u001b[0m\u001b[0m\n\u001b[1;32m   1183\u001b[0m         \u001b[0;32melse\u001b[0m\u001b[0;34m:\u001b[0m\u001b[0;34m\u001b[0m\u001b[0m\n",
      "\u001b[0;32m<timed eval>\u001b[0m in \u001b[0;36m<module>\u001b[0;34m()\u001b[0m\n",
      "\u001b[0;32m/Users/1003874/anaconda/envs/gcp-vision/lib/python3.6/site-packages/sklearn/ensemble/forest.py\u001b[0m in \u001b[0;36mfit\u001b[0;34m(self, X, y, sample_weight)\u001b[0m\n\u001b[1;32m    324\u001b[0m                     \u001b[0mt\u001b[0m\u001b[0;34m,\u001b[0m \u001b[0mself\u001b[0m\u001b[0;34m,\u001b[0m \u001b[0mX\u001b[0m\u001b[0;34m,\u001b[0m \u001b[0my\u001b[0m\u001b[0;34m,\u001b[0m \u001b[0msample_weight\u001b[0m\u001b[0;34m,\u001b[0m \u001b[0mi\u001b[0m\u001b[0;34m,\u001b[0m \u001b[0mlen\u001b[0m\u001b[0;34m(\u001b[0m\u001b[0mtrees\u001b[0m\u001b[0;34m)\u001b[0m\u001b[0;34m,\u001b[0m\u001b[0;34m\u001b[0m\u001b[0m\n\u001b[1;32m    325\u001b[0m                     verbose=self.verbose, class_weight=self.class_weight)\n\u001b[0;32m--> 326\u001b[0;31m                 for i, t in enumerate(trees))\n\u001b[0m\u001b[1;32m    327\u001b[0m \u001b[0;34m\u001b[0m\u001b[0m\n\u001b[1;32m    328\u001b[0m             \u001b[0;31m# Collect newly grown trees\u001b[0m\u001b[0;34m\u001b[0m\u001b[0;34m\u001b[0m\u001b[0m\n",
      "\u001b[0;32m/Users/1003874/anaconda/envs/gcp-vision/lib/python3.6/site-packages/sklearn/externals/joblib/parallel.py\u001b[0m in \u001b[0;36m__call__\u001b[0;34m(self, iterable)\u001b[0m\n\u001b[1;32m    766\u001b[0m                 \u001b[0;31m# consumption.\u001b[0m\u001b[0;34m\u001b[0m\u001b[0;34m\u001b[0m\u001b[0m\n\u001b[1;32m    767\u001b[0m                 \u001b[0mself\u001b[0m\u001b[0;34m.\u001b[0m\u001b[0m_iterating\u001b[0m \u001b[0;34m=\u001b[0m \u001b[0;32mFalse\u001b[0m\u001b[0;34m\u001b[0m\u001b[0m\n\u001b[0;32m--> 768\u001b[0;31m             \u001b[0mself\u001b[0m\u001b[0;34m.\u001b[0m\u001b[0mretrieve\u001b[0m\u001b[0;34m(\u001b[0m\u001b[0;34m)\u001b[0m\u001b[0;34m\u001b[0m\u001b[0m\n\u001b[0m\u001b[1;32m    769\u001b[0m             \u001b[0;31m# Make sure that we get a last message telling us we are done\u001b[0m\u001b[0;34m\u001b[0m\u001b[0;34m\u001b[0m\u001b[0m\n\u001b[1;32m    770\u001b[0m             \u001b[0melapsed_time\u001b[0m \u001b[0;34m=\u001b[0m \u001b[0mtime\u001b[0m\u001b[0;34m.\u001b[0m\u001b[0mtime\u001b[0m\u001b[0;34m(\u001b[0m\u001b[0;34m)\u001b[0m \u001b[0;34m-\u001b[0m \u001b[0mself\u001b[0m\u001b[0;34m.\u001b[0m\u001b[0m_start_time\u001b[0m\u001b[0;34m\u001b[0m\u001b[0m\n",
      "\u001b[0;32m/Users/1003874/anaconda/envs/gcp-vision/lib/python3.6/site-packages/sklearn/externals/joblib/parallel.py\u001b[0m in \u001b[0;36mretrieve\u001b[0;34m(self)\u001b[0m\n\u001b[1;32m    717\u001b[0m                     \u001b[0mensure_ready\u001b[0m \u001b[0;34m=\u001b[0m \u001b[0mself\u001b[0m\u001b[0;34m.\u001b[0m\u001b[0m_managed_backend\u001b[0m\u001b[0;34m\u001b[0m\u001b[0m\n\u001b[1;32m    718\u001b[0m                     \u001b[0mbackend\u001b[0m\u001b[0;34m.\u001b[0m\u001b[0mabort_everything\u001b[0m\u001b[0;34m(\u001b[0m\u001b[0mensure_ready\u001b[0m\u001b[0;34m=\u001b[0m\u001b[0mensure_ready\u001b[0m\u001b[0;34m)\u001b[0m\u001b[0;34m\u001b[0m\u001b[0m\n\u001b[0;32m--> 719\u001b[0;31m                 \u001b[0;32mraise\u001b[0m \u001b[0mexception\u001b[0m\u001b[0;34m\u001b[0m\u001b[0m\n\u001b[0m\u001b[1;32m    720\u001b[0m \u001b[0;34m\u001b[0m\u001b[0m\n\u001b[1;32m    721\u001b[0m     \u001b[0;32mdef\u001b[0m \u001b[0m__call__\u001b[0m\u001b[0;34m(\u001b[0m\u001b[0mself\u001b[0m\u001b[0;34m,\u001b[0m \u001b[0miterable\u001b[0m\u001b[0;34m)\u001b[0m\u001b[0;34m:\u001b[0m\u001b[0;34m\u001b[0m\u001b[0m\n",
      "\u001b[0;32m/Users/1003874/anaconda/envs/gcp-vision/lib/python3.6/site-packages/sklearn/externals/joblib/parallel.py\u001b[0m in \u001b[0;36mretrieve\u001b[0;34m(self)\u001b[0m\n\u001b[1;32m    680\u001b[0m                 \u001b[0;31m# check if timeout supported in backend future implementation\u001b[0m\u001b[0;34m\u001b[0m\u001b[0;34m\u001b[0m\u001b[0m\n\u001b[1;32m    681\u001b[0m                 \u001b[0;32mif\u001b[0m \u001b[0;34m'timeout'\u001b[0m \u001b[0;32min\u001b[0m \u001b[0mgetfullargspec\u001b[0m\u001b[0;34m(\u001b[0m\u001b[0mjob\u001b[0m\u001b[0;34m.\u001b[0m\u001b[0mget\u001b[0m\u001b[0;34m)\u001b[0m\u001b[0;34m.\u001b[0m\u001b[0margs\u001b[0m\u001b[0;34m:\u001b[0m\u001b[0;34m\u001b[0m\u001b[0m\n\u001b[0;32m--> 682\u001b[0;31m                     \u001b[0mself\u001b[0m\u001b[0;34m.\u001b[0m\u001b[0m_output\u001b[0m\u001b[0;34m.\u001b[0m\u001b[0mextend\u001b[0m\u001b[0;34m(\u001b[0m\u001b[0mjob\u001b[0m\u001b[0;34m.\u001b[0m\u001b[0mget\u001b[0m\u001b[0;34m(\u001b[0m\u001b[0mtimeout\u001b[0m\u001b[0;34m=\u001b[0m\u001b[0mself\u001b[0m\u001b[0;34m.\u001b[0m\u001b[0mtimeout\u001b[0m\u001b[0;34m)\u001b[0m\u001b[0;34m)\u001b[0m\u001b[0;34m\u001b[0m\u001b[0m\n\u001b[0m\u001b[1;32m    683\u001b[0m                 \u001b[0;32melse\u001b[0m\u001b[0;34m:\u001b[0m\u001b[0;34m\u001b[0m\u001b[0m\n\u001b[1;32m    684\u001b[0m                     \u001b[0mself\u001b[0m\u001b[0;34m.\u001b[0m\u001b[0m_output\u001b[0m\u001b[0;34m.\u001b[0m\u001b[0mextend\u001b[0m\u001b[0;34m(\u001b[0m\u001b[0mjob\u001b[0m\u001b[0;34m.\u001b[0m\u001b[0mget\u001b[0m\u001b[0;34m(\u001b[0m\u001b[0;34m)\u001b[0m\u001b[0;34m)\u001b[0m\u001b[0;34m\u001b[0m\u001b[0m\n",
      "\u001b[0;32m/Users/1003874/anaconda/envs/gcp-vision/lib/python3.6/multiprocessing/pool.py\u001b[0m in \u001b[0;36mget\u001b[0;34m(self, timeout)\u001b[0m\n\u001b[1;32m    600\u001b[0m \u001b[0;34m\u001b[0m\u001b[0m\n\u001b[1;32m    601\u001b[0m     \u001b[0;32mdef\u001b[0m \u001b[0mget\u001b[0m\u001b[0;34m(\u001b[0m\u001b[0mself\u001b[0m\u001b[0;34m,\u001b[0m \u001b[0mtimeout\u001b[0m\u001b[0;34m=\u001b[0m\u001b[0;32mNone\u001b[0m\u001b[0;34m)\u001b[0m\u001b[0;34m:\u001b[0m\u001b[0;34m\u001b[0m\u001b[0m\n\u001b[0;32m--> 602\u001b[0;31m         \u001b[0mself\u001b[0m\u001b[0;34m.\u001b[0m\u001b[0mwait\u001b[0m\u001b[0;34m(\u001b[0m\u001b[0mtimeout\u001b[0m\u001b[0;34m)\u001b[0m\u001b[0;34m\u001b[0m\u001b[0m\n\u001b[0m\u001b[1;32m    603\u001b[0m         \u001b[0;32mif\u001b[0m \u001b[0;32mnot\u001b[0m \u001b[0mself\u001b[0m\u001b[0;34m.\u001b[0m\u001b[0mready\u001b[0m\u001b[0;34m(\u001b[0m\u001b[0;34m)\u001b[0m\u001b[0;34m:\u001b[0m\u001b[0;34m\u001b[0m\u001b[0m\n\u001b[1;32m    604\u001b[0m             \u001b[0;32mraise\u001b[0m \u001b[0mTimeoutError\u001b[0m\u001b[0;34m\u001b[0m\u001b[0m\n",
      "\u001b[0;32m/Users/1003874/anaconda/envs/gcp-vision/lib/python3.6/multiprocessing/pool.py\u001b[0m in \u001b[0;36mwait\u001b[0;34m(self, timeout)\u001b[0m\n\u001b[1;32m    597\u001b[0m \u001b[0;34m\u001b[0m\u001b[0m\n\u001b[1;32m    598\u001b[0m     \u001b[0;32mdef\u001b[0m \u001b[0mwait\u001b[0m\u001b[0;34m(\u001b[0m\u001b[0mself\u001b[0m\u001b[0;34m,\u001b[0m \u001b[0mtimeout\u001b[0m\u001b[0;34m=\u001b[0m\u001b[0;32mNone\u001b[0m\u001b[0;34m)\u001b[0m\u001b[0;34m:\u001b[0m\u001b[0;34m\u001b[0m\u001b[0m\n\u001b[0;32m--> 599\u001b[0;31m         \u001b[0mself\u001b[0m\u001b[0;34m.\u001b[0m\u001b[0m_event\u001b[0m\u001b[0;34m.\u001b[0m\u001b[0mwait\u001b[0m\u001b[0;34m(\u001b[0m\u001b[0mtimeout\u001b[0m\u001b[0;34m)\u001b[0m\u001b[0;34m\u001b[0m\u001b[0m\n\u001b[0m\u001b[1;32m    600\u001b[0m \u001b[0;34m\u001b[0m\u001b[0m\n\u001b[1;32m    601\u001b[0m     \u001b[0;32mdef\u001b[0m \u001b[0mget\u001b[0m\u001b[0;34m(\u001b[0m\u001b[0mself\u001b[0m\u001b[0;34m,\u001b[0m \u001b[0mtimeout\u001b[0m\u001b[0;34m=\u001b[0m\u001b[0;32mNone\u001b[0m\u001b[0;34m)\u001b[0m\u001b[0;34m:\u001b[0m\u001b[0;34m\u001b[0m\u001b[0m\n",
      "\u001b[0;32m/Users/1003874/anaconda/envs/gcp-vision/lib/python3.6/threading.py\u001b[0m in \u001b[0;36mwait\u001b[0;34m(self, timeout)\u001b[0m\n\u001b[1;32m    549\u001b[0m             \u001b[0msignaled\u001b[0m \u001b[0;34m=\u001b[0m \u001b[0mself\u001b[0m\u001b[0;34m.\u001b[0m\u001b[0m_flag\u001b[0m\u001b[0;34m\u001b[0m\u001b[0m\n\u001b[1;32m    550\u001b[0m             \u001b[0;32mif\u001b[0m \u001b[0;32mnot\u001b[0m \u001b[0msignaled\u001b[0m\u001b[0;34m:\u001b[0m\u001b[0;34m\u001b[0m\u001b[0m\n\u001b[0;32m--> 551\u001b[0;31m                 \u001b[0msignaled\u001b[0m \u001b[0;34m=\u001b[0m \u001b[0mself\u001b[0m\u001b[0;34m.\u001b[0m\u001b[0m_cond\u001b[0m\u001b[0;34m.\u001b[0m\u001b[0mwait\u001b[0m\u001b[0;34m(\u001b[0m\u001b[0mtimeout\u001b[0m\u001b[0;34m)\u001b[0m\u001b[0;34m\u001b[0m\u001b[0m\n\u001b[0m\u001b[1;32m    552\u001b[0m             \u001b[0;32mreturn\u001b[0m \u001b[0msignaled\u001b[0m\u001b[0;34m\u001b[0m\u001b[0m\n\u001b[1;32m    553\u001b[0m \u001b[0;34m\u001b[0m\u001b[0m\n",
      "\u001b[0;32m/Users/1003874/anaconda/envs/gcp-vision/lib/python3.6/threading.py\u001b[0m in \u001b[0;36mwait\u001b[0;34m(self, timeout)\u001b[0m\n\u001b[1;32m    293\u001b[0m         \u001b[0;32mtry\u001b[0m\u001b[0;34m:\u001b[0m    \u001b[0;31m# restore state no matter what (e.g., KeyboardInterrupt)\u001b[0m\u001b[0;34m\u001b[0m\u001b[0m\n\u001b[1;32m    294\u001b[0m             \u001b[0;32mif\u001b[0m \u001b[0mtimeout\u001b[0m \u001b[0;32mis\u001b[0m \u001b[0;32mNone\u001b[0m\u001b[0;34m:\u001b[0m\u001b[0;34m\u001b[0m\u001b[0m\n\u001b[0;32m--> 295\u001b[0;31m                 \u001b[0mwaiter\u001b[0m\u001b[0;34m.\u001b[0m\u001b[0macquire\u001b[0m\u001b[0;34m(\u001b[0m\u001b[0;34m)\u001b[0m\u001b[0;34m\u001b[0m\u001b[0m\n\u001b[0m\u001b[1;32m    296\u001b[0m                 \u001b[0mgotit\u001b[0m \u001b[0;34m=\u001b[0m \u001b[0;32mTrue\u001b[0m\u001b[0;34m\u001b[0m\u001b[0m\n\u001b[1;32m    297\u001b[0m             \u001b[0;32melse\u001b[0m\u001b[0;34m:\u001b[0m\u001b[0;34m\u001b[0m\u001b[0m\n",
      "\u001b[0;31mKeyboardInterrupt\u001b[0m: "
     ]
    }
   ],
   "source": [
    "%%time\n",
    "model_rfr.fit(X_train,y_train)"
   ]
  },
  {
   "cell_type": "code",
   "execution_count": null,
   "metadata": {
    "collapsed": true
   },
   "outputs": [],
   "source": [
    "print(\"RMSE: %.2f\"% math.sqrt(np.mean((minmax_y.inverse_transform(model_rfr.predict(X_test)) - minmax_y.inverse_transform(y_test)) ** 2)))"
   ]
  },
  {
   "cell_type": "markdown",
   "metadata": {},
   "source": [
    "### xgboost"
   ]
  },
  {
   "cell_type": "code",
   "execution_count": 62,
   "metadata": {
    "collapsed": true
   },
   "outputs": [],
   "source": [
    "import xgboost"
   ]
  },
  {
   "cell_type": "code",
   "execution_count": 70,
   "metadata": {
    "collapsed": true
   },
   "outputs": [],
   "source": [
    "xgb = xgboost.XGBRegressor(n_estimators=100, learning_rate=0.1, gamma=0, subsample=0.75,\n",
    "                           colsample_bytree=1, max_depth=10, n_job=4)"
   ]
  },
  {
   "cell_type": "code",
   "execution_count": null,
   "metadata": {
    "collapsed": true
   },
   "outputs": [],
   "source": [
    "%%time\n",
    "xgb.fit(X_train,y_train)"
   ]
  },
  {
   "cell_type": "code",
   "execution_count": 65,
   "metadata": {},
   "outputs": [
    {
     "name": "stdout",
     "output_type": "stream",
     "text": [
      "RMSE: 16.15\n"
     ]
    }
   ],
   "source": [
    "print(\"RMSE: %.2f\"% math.sqrt(np.mean(((xgb.predict(X_test)) - (y_test)) ** 2)))"
   ]
  },
  {
   "cell_type": "code",
   "execution_count": 69,
   "metadata": {},
   "outputs": [
    {
     "data": {
      "text/plain": [
       "<matplotlib.axes._subplots.AxesSubplot at 0x13d462a58>"
      ]
     },
     "execution_count": 69,
     "metadata": {},
     "output_type": "execute_result"
    },
    {
     "name": "stderr",
     "output_type": "stream",
     "text": [
      "/Users/1003874/anaconda/envs/gcp-vision/lib/python3.6/site-packages/matplotlib/font_manager.py:1297: UserWarning: findfont: Font family ['nanumgothic'] not found. Falling back to DejaVu Sans\n",
      "  (prop.get_family(), self.defaultFamily[fontext]))\n"
     ]
    },
    {
     "data": {
      "image/png": "[encoded data removed]",
      "text/plain": [
       "<matplotlib.figure.Figure at 0x147640fd0>"
      ]
     },
     "metadata": {},
     "output_type": "display_data"
    }
   ],
   "source": [
    "%matplotlib inline \n",
    "xgboost.plot_importance(xgb, max_num_features=10)"
   ]
  },
  {
   "cell_type": "markdown",
   "metadata": {},
   "source": [
    "### svr"
   ]
  },
  {
   "cell_type": "code",
   "execution_count": 84,
   "metadata": {
    "collapsed": true
   },
   "outputs": [],
   "source": [
    "from sklearn.svm import LinearSVR"
   ]
  },
  {
   "cell_type": "code",
   "execution_count": 85,
   "metadata": {},
   "outputs": [
    {
     "name": "stderr",
     "output_type": "stream",
     "text": [
      "/Users/1003874/anaconda/envs/gcp-vision/lib/python3.6/site-packages/sklearn/utils/validation.py:526: DataConversionWarning: A column-vector y was passed when a 1d array was expected. Please change the shape of y to (n_samples, ), for example using ravel().\n",
      "  y = column_or_1d(y, warn=True)\n"
     ]
    },
    {
     "data": {
      "text/plain": [
       "LinearSVR(C=1.0, dual=True, epsilon=0.2, fit_intercept=True,\n",
       "     intercept_scaling=1.0, loss='epsilon_insensitive', max_iter=100000,\n",
       "     random_state=None, tol=1e-06, verbose=0)"
      ]
     },
     "execution_count": 85,
     "metadata": {},
     "output_type": "execute_result"
    }
   ],
   "source": [
    "clf = LinearSVR(C=1.0,epsilon=0.2, max_iter=100000,tol=0.000001)\n",
    "clf.fit(X_train, y_train)"
   ]
  },
  {
   "cell_type": "code",
   "execution_count": 86,
   "metadata": {},
   "outputs": [
    {
     "name": "stdout",
     "output_type": "stream",
     "text": [
      "RMSE: 0.13\n"
     ]
    }
   ],
   "source": [
    "print(\"RMSE: %.2f\"% math.sqrt(np.mean((clf.predict(X_test) - y_test) ** 2)))"
   ]
  },
  {
   "cell_type": "code",
   "execution_count": null,
   "metadata": {
    "collapsed": true
   },
   "outputs": [],
   "source": []
  }
 ],
 "metadata": {
  "kernelspec": {
   "display_name": "Python 3",
   "language": "python",
   "name": "python3"
  },
  "language_info": {
   "codemirror_mode": {
    "name": "ipython",
    "version": 3
   },
   "file_extension": ".py",
   "mimetype": "text/x-python",
   "name": "python",
   "nbconvert_exporter": "python",
   "pygments_lexer": "ipython3",
   "version": "3.6.1"
  }
 },
 "nbformat": 4,
 "nbformat_minor": 2
}
