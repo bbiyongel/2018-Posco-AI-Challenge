{
 "cells": [
  {
   "cell_type": "code",
   "execution_count": 1,
   "metadata": {
    "collapsed": true
   },
   "outputs": [],
   "source": [
    "import pandas as pd\n",
    "import numpy as np"
   ]
  },
  {
   "cell_type": "code",
   "execution_count": 2,
   "metadata": {},
   "outputs": [
    {
     "data": {
      "text/html": [
       "<div>\n",
       "<style>\n",
       "    .dataframe thead tr:only-child th {\n",
       "        text-align: right;\n",
       "    }\n",
       "\n",
       "    .dataframe thead th {\n",
       "        text-align: left;\n",
       "    }\n",
       "\n",
       "    .dataframe tbody tr th {\n",
       "        vertical-align: top;\n",
       "    }\n",
       "</style>\n",
       "<table border=\"1\" class=\"dataframe\">\n",
       "  <thead>\n",
       "    <tr style=\"text-align: right;\">\n",
       "      <th></th>\n",
       "      <th>일자</th>\n",
       "      <th>식사명</th>\n",
       "      <th>식사내용</th>\n",
       "      <th>수량</th>\n",
       "    </tr>\n",
       "  </thead>\n",
       "  <tbody>\n",
       "    <tr>\n",
       "      <th>0</th>\n",
       "      <td>20030301</td>\n",
       "      <td>아침</td>\n",
       "      <td>과일샐러드,닭죽,돈육마늘장조림,떡만두국,부추김무침,쌀밥,딸기잼(중),비엔나구이,스크...</td>\n",
       "      <td>37.472924</td>\n",
       "    </tr>\n",
       "    <tr>\n",
       "      <th>1</th>\n",
       "      <td>20030301</td>\n",
       "      <td>저녁</td>\n",
       "      <td>감자으깸샐러드,비프까스,스위트피클,쌀밥,옥수수스프</td>\n",
       "      <td>19.566787</td>\n",
       "    </tr>\n",
       "    <tr>\n",
       "      <th>2</th>\n",
       "      <td>20030301</td>\n",
       "      <td>점심(일반)</td>\n",
       "      <td>골뱅이야채무침,새우맛살튀김,쌀밥(사무직),열무겉절이,칼국수</td>\n",
       "      <td>31.191336</td>\n",
       "    </tr>\n",
       "    <tr>\n",
       "      <th>3</th>\n",
       "      <td>20030302</td>\n",
       "      <td>아침</td>\n",
       "      <td>계란죽,곤약멸치조림,김치국,마카로니샐러드,쌀밥,오징어회무침,딸기잼(중),삶은계란,야...</td>\n",
       "      <td>36.101083</td>\n",
       "    </tr>\n",
       "    <tr>\n",
       "      <th>4</th>\n",
       "      <td>20030302</td>\n",
       "      <td>저녁</td>\n",
       "      <td>계란탕,단무지잔파무침,자장소스,잡채밥,탕수만두</td>\n",
       "      <td>21.949458</td>\n",
       "    </tr>\n",
       "  </tbody>\n",
       "</table>\n",
       "</div>"
      ],
      "text/plain": [
       "         일자     식사명                                               식사내용  \\\n",
       "0  20030301      아침  과일샐러드,닭죽,돈육마늘장조림,떡만두국,부추김무침,쌀밥,딸기잼(중),비엔나구이,스크...   \n",
       "1  20030301      저녁                        감자으깸샐러드,비프까스,스위트피클,쌀밥,옥수수스프   \n",
       "2  20030301  점심(일반)                   골뱅이야채무침,새우맛살튀김,쌀밥(사무직),열무겉절이,칼국수   \n",
       "3  20030302      아침  계란죽,곤약멸치조림,김치국,마카로니샐러드,쌀밥,오징어회무침,딸기잼(중),삶은계란,야...   \n",
       "4  20030302      저녁                          계란탕,단무지잔파무침,자장소스,잡채밥,탕수만두   \n",
       "\n",
       "          수량  \n",
       "0  37.472924  \n",
       "1  19.566787  \n",
       "2  31.191336  \n",
       "3  36.101083  \n",
       "4  21.949458  "
      ]
     },
     "execution_count": 2,
     "metadata": {},
     "output_type": "execute_result"
    }
   ],
   "source": [
    "df = pd.read_excel(\"data/train.xlsx\")\n",
    "df.head()"
   ]
  },
  {
   "cell_type": "markdown",
   "metadata": {},
   "source": [
    "## Normalize Date\n",
    "* Year : min-max scaling [0,1]\n",
    "* Month : (sin,cos) transform [-1,1]\n",
    "* Day : (sin,cos) transform [-1,1]"
   ]
  },
  {
   "cell_type": "code",
   "execution_count": 3,
   "metadata": {},
   "outputs": [
    {
     "data": {
      "text/html": [
       "<div>\n",
       "<style>\n",
       "    .dataframe thead tr:only-child th {\n",
       "        text-align: right;\n",
       "    }\n",
       "\n",
       "    .dataframe thead th {\n",
       "        text-align: left;\n",
       "    }\n",
       "\n",
       "    .dataframe tbody tr th {\n",
       "        vertical-align: top;\n",
       "    }\n",
       "</style>\n",
       "<table border=\"1\" class=\"dataframe\">\n",
       "  <thead>\n",
       "    <tr style=\"text-align: right;\">\n",
       "      <th></th>\n",
       "      <th>식사명</th>\n",
       "      <th>식사내용</th>\n",
       "      <th>수량</th>\n",
       "      <th>year</th>\n",
       "      <th>month</th>\n",
       "      <th>day</th>\n",
       "    </tr>\n",
       "  </thead>\n",
       "  <tbody>\n",
       "    <tr>\n",
       "      <th>0</th>\n",
       "      <td>아침</td>\n",
       "      <td>과일샐러드,닭죽,돈육마늘장조림,떡만두국,부추김무침,쌀밥,딸기잼(중),비엔나구이,스크...</td>\n",
       "      <td>37.472924</td>\n",
       "      <td>2003</td>\n",
       "      <td>3</td>\n",
       "      <td>1</td>\n",
       "    </tr>\n",
       "    <tr>\n",
       "      <th>1</th>\n",
       "      <td>저녁</td>\n",
       "      <td>감자으깸샐러드,비프까스,스위트피클,쌀밥,옥수수스프</td>\n",
       "      <td>19.566787</td>\n",
       "      <td>2003</td>\n",
       "      <td>3</td>\n",
       "      <td>1</td>\n",
       "    </tr>\n",
       "    <tr>\n",
       "      <th>2</th>\n",
       "      <td>점심(일반)</td>\n",
       "      <td>골뱅이야채무침,새우맛살튀김,쌀밥(사무직),열무겉절이,칼국수</td>\n",
       "      <td>31.191336</td>\n",
       "      <td>2003</td>\n",
       "      <td>3</td>\n",
       "      <td>1</td>\n",
       "    </tr>\n",
       "    <tr>\n",
       "      <th>3</th>\n",
       "      <td>아침</td>\n",
       "      <td>계란죽,곤약멸치조림,김치국,마카로니샐러드,쌀밥,오징어회무침,딸기잼(중),삶은계란,야...</td>\n",
       "      <td>36.101083</td>\n",
       "      <td>2003</td>\n",
       "      <td>3</td>\n",
       "      <td>2</td>\n",
       "    </tr>\n",
       "    <tr>\n",
       "      <th>4</th>\n",
       "      <td>저녁</td>\n",
       "      <td>계란탕,단무지잔파무침,자장소스,잡채밥,탕수만두</td>\n",
       "      <td>21.949458</td>\n",
       "      <td>2003</td>\n",
       "      <td>3</td>\n",
       "      <td>2</td>\n",
       "    </tr>\n",
       "  </tbody>\n",
       "</table>\n",
       "</div>"
      ],
      "text/plain": [
       "      식사명                                               식사내용         수량  year  \\\n",
       "0      아침  과일샐러드,닭죽,돈육마늘장조림,떡만두국,부추김무침,쌀밥,딸기잼(중),비엔나구이,스크...  37.472924  2003   \n",
       "1      저녁                        감자으깸샐러드,비프까스,스위트피클,쌀밥,옥수수스프  19.566787  2003   \n",
       "2  점심(일반)                   골뱅이야채무침,새우맛살튀김,쌀밥(사무직),열무겉절이,칼국수  31.191336  2003   \n",
       "3      아침  계란죽,곤약멸치조림,김치국,마카로니샐러드,쌀밥,오징어회무침,딸기잼(중),삶은계란,야...  36.101083  2003   \n",
       "4      저녁                          계란탕,단무지잔파무침,자장소스,잡채밥,탕수만두  21.949458  2003   \n",
       "\n",
       "   month  day  \n",
       "0      3    1  \n",
       "1      3    1  \n",
       "2      3    1  \n",
       "3      3    2  \n",
       "4      3    2  "
      ]
     },
     "execution_count": 3,
     "metadata": {},
     "output_type": "execute_result"
    }
   ],
   "source": [
    "df['year'] = (df['일자'] / 10000).astype(int)\n",
    "df['month'] = (df['일자'] % 10000 / 100).astype(int)\n",
    "df['day'] = (df['일자'] % 100).astype(int)\n",
    "df.drop(['일자'], axis=1, inplace=True)\n",
    "df.head()"
   ]
  },
  {
   "cell_type": "code",
   "execution_count": 4,
   "metadata": {},
   "outputs": [
    {
     "data": {
      "text/html": [
       "<div>\n",
       "<style>\n",
       "    .dataframe thead tr:only-child th {\n",
       "        text-align: right;\n",
       "    }\n",
       "\n",
       "    .dataframe thead th {\n",
       "        text-align: left;\n",
       "    }\n",
       "\n",
       "    .dataframe tbody tr th {\n",
       "        vertical-align: top;\n",
       "    }\n",
       "</style>\n",
       "<table border=\"1\" class=\"dataframe\">\n",
       "  <thead>\n",
       "    <tr style=\"text-align: right;\">\n",
       "      <th></th>\n",
       "      <th>식사명</th>\n",
       "      <th>식사내용</th>\n",
       "      <th>수량</th>\n",
       "      <th>year</th>\n",
       "      <th>month_sin</th>\n",
       "      <th>month_cos</th>\n",
       "      <th>day_sin</th>\n",
       "      <th>day_cos</th>\n",
       "    </tr>\n",
       "  </thead>\n",
       "  <tbody>\n",
       "    <tr>\n",
       "      <th>0</th>\n",
       "      <td>아침</td>\n",
       "      <td>과일샐러드,닭죽,돈육마늘장조림,떡만두국,부추김무침,쌀밥,딸기잼(중),비엔나구이,스크...</td>\n",
       "      <td>37.472924</td>\n",
       "      <td>0.0</td>\n",
       "      <td>1.0</td>\n",
       "      <td>6.123234e-17</td>\n",
       "      <td>0.201299</td>\n",
       "      <td>0.979530</td>\n",
       "    </tr>\n",
       "    <tr>\n",
       "      <th>1</th>\n",
       "      <td>저녁</td>\n",
       "      <td>감자으깸샐러드,비프까스,스위트피클,쌀밥,옥수수스프</td>\n",
       "      <td>19.566787</td>\n",
       "      <td>0.0</td>\n",
       "      <td>1.0</td>\n",
       "      <td>6.123234e-17</td>\n",
       "      <td>0.201299</td>\n",
       "      <td>0.979530</td>\n",
       "    </tr>\n",
       "    <tr>\n",
       "      <th>2</th>\n",
       "      <td>점심(일반)</td>\n",
       "      <td>골뱅이야채무침,새우맛살튀김,쌀밥(사무직),열무겉절이,칼국수</td>\n",
       "      <td>31.191336</td>\n",
       "      <td>0.0</td>\n",
       "      <td>1.0</td>\n",
       "      <td>6.123234e-17</td>\n",
       "      <td>0.201299</td>\n",
       "      <td>0.979530</td>\n",
       "    </tr>\n",
       "    <tr>\n",
       "      <th>3</th>\n",
       "      <td>아침</td>\n",
       "      <td>계란죽,곤약멸치조림,김치국,마카로니샐러드,쌀밥,오징어회무침,딸기잼(중),삶은계란,야...</td>\n",
       "      <td>36.101083</td>\n",
       "      <td>0.0</td>\n",
       "      <td>1.0</td>\n",
       "      <td>6.123234e-17</td>\n",
       "      <td>0.394356</td>\n",
       "      <td>0.918958</td>\n",
       "    </tr>\n",
       "    <tr>\n",
       "      <th>4</th>\n",
       "      <td>저녁</td>\n",
       "      <td>계란탕,단무지잔파무침,자장소스,잡채밥,탕수만두</td>\n",
       "      <td>21.949458</td>\n",
       "      <td>0.0</td>\n",
       "      <td>1.0</td>\n",
       "      <td>6.123234e-17</td>\n",
       "      <td>0.394356</td>\n",
       "      <td>0.918958</td>\n",
       "    </tr>\n",
       "  </tbody>\n",
       "</table>\n",
       "</div>"
      ],
      "text/plain": [
       "      식사명                                               식사내용         수량  year  \\\n",
       "0      아침  과일샐러드,닭죽,돈육마늘장조림,떡만두국,부추김무침,쌀밥,딸기잼(중),비엔나구이,스크...  37.472924   0.0   \n",
       "1      저녁                        감자으깸샐러드,비프까스,스위트피클,쌀밥,옥수수스프  19.566787   0.0   \n",
       "2  점심(일반)                   골뱅이야채무침,새우맛살튀김,쌀밥(사무직),열무겉절이,칼국수  31.191336   0.0   \n",
       "3      아침  계란죽,곤약멸치조림,김치국,마카로니샐러드,쌀밥,오징어회무침,딸기잼(중),삶은계란,야...  36.101083   0.0   \n",
       "4      저녁                          계란탕,단무지잔파무침,자장소스,잡채밥,탕수만두  21.949458   0.0   \n",
       "\n",
       "   month_sin     month_cos   day_sin   day_cos  \n",
       "0        1.0  6.123234e-17  0.201299  0.979530  \n",
       "1        1.0  6.123234e-17  0.201299  0.979530  \n",
       "2        1.0  6.123234e-17  0.201299  0.979530  \n",
       "3        1.0  6.123234e-17  0.394356  0.918958  \n",
       "4        1.0  6.123234e-17  0.394356  0.918958  "
      ]
     },
     "execution_count": 4,
     "metadata": {},
     "output_type": "execute_result"
    }
   ],
   "source": [
    "df['year'] = (df['year']-min(df['year'])) / (max(df['year'])-min(df['year']))\n",
    "df['month_sin'] = [np.sin(x*2*np.pi/12) for x in df['month']]\n",
    "df['month_cos'] = [np.cos(x*2*np.pi/12) for x in df['month']]\n",
    "df['day_sin'] = [np.sin(x*2*np.pi/31) for x in df['day']]\n",
    "df['day_cos'] = [np.cos(x*2*np.pi/31) for x in df['day']]\n",
    "df.drop(['month', 'day'], axis=1, inplace=True)\n",
    "df.head()"
   ]
  },
  {
   "cell_type": "markdown",
   "metadata": {},
   "source": [
    "## Convert 식사명 to One-hot Vector"
   ]
  },
  {
   "cell_type": "code",
   "execution_count": null,
   "metadata": {
    "collapsed": true
   },
   "outputs": [],
   "source": []
  },
  {
   "cell_type": "code",
   "execution_count": null,
   "metadata": {
    "collapsed": true
   },
   "outputs": [],
   "source": []
  },
  {
   "cell_type": "markdown",
   "metadata": {},
   "source": [
    "## Convert 식사내용 to Vector based on Bag-of-Word"
   ]
  },
  {
   "cell_type": "code",
   "execution_count": null,
   "metadata": {
    "collapsed": true
   },
   "outputs": [],
   "source": []
  },
  {
   "cell_type": "code",
   "execution_count": null,
   "metadata": {
    "collapsed": true
   },
   "outputs": [],
   "source": []
  },
  {
   "cell_type": "markdown",
   "metadata": {},
   "source": [
    "## Save to file"
   ]
  },
  {
   "cell_type": "code",
   "execution_count": null,
   "metadata": {
    "collapsed": true
   },
   "outputs": [],
   "source": []
  }
 ],
 "metadata": {
  "kernelspec": {
   "display_name": "Python 3",
   "language": "python",
   "name": "python3"
  },
  "language_info": {
   "codemirror_mode": {
    "name": "ipython",
    "version": 3
   },
   "file_extension": ".py",
   "mimetype": "text/x-python",
   "name": "python",
   "nbconvert_exporter": "python",
   "pygments_lexer": "ipython3",
   "version": "3.6.2"
  }
 },
 "nbformat": 4,
 "nbformat_minor": 2
}
