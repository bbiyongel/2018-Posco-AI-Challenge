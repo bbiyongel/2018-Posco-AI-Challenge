{
 "cells": [
  {
   "cell_type": "code",
   "execution_count": 91,
   "metadata": {
    "collapsed": true
   },
   "outputs": [],
   "source": [
    "import pandas as pd\n",
    "import numpy as np"
   ]
  },
  {
   "cell_type": "markdown",
   "metadata": {},
   "source": [
    "## 데이터 전처리 (data_preprocessing.ipynb)\n",
    "* Date Split\n",
    "* Weekday\n",
    "* Lunar Date\n",
    "* Date Normalization\n",
    "* 식사명 -> one-hot\n",
    "* 식사내용 -> bag-of-word"
   ]
  },
  {
   "cell_type": "code",
   "execution_count": 92,
   "metadata": {
    "collapsed": true
   },
   "outputs": [],
   "source": [
    "# Read Data\n",
    "df = pd.read_excel(\"../data/train.xlsx\")"
   ]
  },
  {
   "cell_type": "code",
   "execution_count": 93,
   "metadata": {},
   "outputs": [
    {
     "data": {
      "text/html": [
       "<div>\n",
       "<style>\n",
       "    .dataframe thead tr:only-child th {\n",
       "        text-align: right;\n",
       "    }\n",
       "\n",
       "    .dataframe thead th {\n",
       "        text-align: left;\n",
       "    }\n",
       "\n",
       "    .dataframe tbody tr th {\n",
       "        vertical-align: top;\n",
       "    }\n",
       "</style>\n",
       "<table border=\"1\" class=\"dataframe\">\n",
       "  <thead>\n",
       "    <tr style=\"text-align: right;\">\n",
       "      <th></th>\n",
       "      <th>일자</th>\n",
       "      <th>식사명</th>\n",
       "      <th>식사내용</th>\n",
       "      <th>수량</th>\n",
       "    </tr>\n",
       "  </thead>\n",
       "  <tbody>\n",
       "    <tr>\n",
       "      <th>0</th>\n",
       "      <td>20030301</td>\n",
       "      <td>아침</td>\n",
       "      <td>과일샐러드,닭죽,돈육마늘장조림,떡만두국,부추김무침,쌀밥,딸기잼(중),비엔나구이,스크...</td>\n",
       "      <td>37.472924</td>\n",
       "    </tr>\n",
       "    <tr>\n",
       "      <th>1</th>\n",
       "      <td>20030301</td>\n",
       "      <td>저녁</td>\n",
       "      <td>감자으깸샐러드,비프까스,스위트피클,쌀밥,옥수수스프</td>\n",
       "      <td>19.566787</td>\n",
       "    </tr>\n",
       "    <tr>\n",
       "      <th>2</th>\n",
       "      <td>20030301</td>\n",
       "      <td>점심(일반)</td>\n",
       "      <td>골뱅이야채무침,새우맛살튀김,쌀밥(사무직),열무겉절이,칼국수</td>\n",
       "      <td>31.191336</td>\n",
       "    </tr>\n",
       "    <tr>\n",
       "      <th>3</th>\n",
       "      <td>20030302</td>\n",
       "      <td>아침</td>\n",
       "      <td>계란죽,곤약멸치조림,김치국,마카로니샐러드,쌀밥,오징어회무침,딸기잼(중),삶은계란,야...</td>\n",
       "      <td>36.101083</td>\n",
       "    </tr>\n",
       "    <tr>\n",
       "      <th>4</th>\n",
       "      <td>20030302</td>\n",
       "      <td>저녁</td>\n",
       "      <td>계란탕,단무지잔파무침,자장소스,잡채밥,탕수만두</td>\n",
       "      <td>21.949458</td>\n",
       "    </tr>\n",
       "  </tbody>\n",
       "</table>\n",
       "</div>"
      ],
      "text/plain": [
       "         일자     식사명                                               식사내용  \\\n",
       "0  20030301      아침  과일샐러드,닭죽,돈육마늘장조림,떡만두국,부추김무침,쌀밥,딸기잼(중),비엔나구이,스크...   \n",
       "1  20030301      저녁                        감자으깸샐러드,비프까스,스위트피클,쌀밥,옥수수스프   \n",
       "2  20030301  점심(일반)                   골뱅이야채무침,새우맛살튀김,쌀밥(사무직),열무겉절이,칼국수   \n",
       "3  20030302      아침  계란죽,곤약멸치조림,김치국,마카로니샐러드,쌀밥,오징어회무침,딸기잼(중),삶은계란,야...   \n",
       "4  20030302      저녁                          계란탕,단무지잔파무침,자장소스,잡채밥,탕수만두   \n",
       "\n",
       "          수량  \n",
       "0  37.472924  \n",
       "1  19.566787  \n",
       "2  31.191336  \n",
       "3  36.101083  \n",
       "4  21.949458  "
      ]
     },
     "execution_count": 93,
     "metadata": {},
     "output_type": "execute_result"
    }
   ],
   "source": [
    "df.head()"
   ]
  },
  {
   "cell_type": "code",
   "execution_count": 94,
   "metadata": {
    "collapsed": true
   },
   "outputs": [],
   "source": [
    "def add_weather(df):\n",
    "    weather = pd.read_excel(\"../data/[과제3] 관련. 포항지역 날씨 데이터(03~17).xlsx\")\n",
    "    weather['일시'] = [int(x.strftime(\"%Y%m%d\")) for x in weather['일시']]\n",
    "    \n",
    "    drop_list = [\"지점\"]\n",
    "    for x in weather.columns:\n",
    "        if weather[x].isnull().sum() > 500:\n",
    "            drop_list.append(x)\n",
    "        elif weather[x].isnull().sum() < len(weather):\n",
    "            weather[x].interpolate(inplace=True)\n",
    "            if x != '일시':\n",
    "                weather[x] = weather[x].shift(3)\n",
    "    weather.drop(drop_list, axis=1, inplace=True)\n",
    "    \n",
    "    df = pd.merge(df, weather, how='left', left_on='일자', right_on='일시')\n",
    "    df.drop(['일시'], axis=1, inplace=True)\n",
    "    \n",
    "    return df"
   ]
  },
  {
   "cell_type": "code",
   "execution_count": 95,
   "metadata": {
    "collapsed": true
   },
   "outputs": [],
   "source": [
    "# 식사명 변환 (one-hot)\n",
    "def convert_ont_hot(df):\n",
    "    df = df.join(pd.get_dummies(df['식사명'], prefix='식사명'))\n",
    "    df.drop(['식사명'], axis=1, inplace=True)\n",
    "    return df"
   ]
  },
  {
   "cell_type": "code",
   "execution_count": 96,
   "metadata": {
    "collapsed": true
   },
   "outputs": [],
   "source": [
    "def moving_average(df):\n",
    "    def ma_window(df, window_size):\n",
    "        morning = df['수량'][df['식사명_아침']==1].rolling(window_size, min_periods=1).mean().shift(3)\n",
    "        lunch = df['수량'][df['식사명_점심(일반)']==1].rolling(window_size, min_periods=1).mean().shift(3)\n",
    "        lunch_west = df['수량'][df['식사명_점심(양식)']==1].rolling(window_size, min_periods=1).mean().shift(3)\n",
    "        dinner = df['수량'][df['식사명_저녁']==1].rolling(window_size, min_periods=1).mean().shift(3)    \n",
    "        return pd.concat([morning, lunch, lunch_west, dinner]).sort_index()\n",
    "    df['MA_1day'] = ma_window(df, 1)\n",
    "    df['MA_3day'] = ma_window(df, 3)\n",
    "    df['MA_5day'] = ma_window(df, 5)\n",
    "    df['MA_week'] = ma_window(df, 7)\n",
    "    df['MA_month'] = ma_window(df, 30)\n",
    "    df['MA_half_year'] = ma_window(df, 180)\n",
    "    df['MA_year'] = ma_window(df, 365)\n",
    "    df.drop(df[df.일자 < 20040326].index, inplace=True)\n",
    "    df.drop(df[(df.일자 > 20050109) & (df.일자 < 20060331) & (df['식사명_점심(양식)']==1)].index, inplace=True)\n",
    "    df.reset_index(drop=True, inplace=True)\n",
    "    return df"
   ]
  },
  {
   "cell_type": "code",
   "execution_count": 97,
   "metadata": {},
   "outputs": [],
   "source": [
    "# 식사내용 변환 (Bag-of-Word)\n",
    "import konlpy\n",
    "import re\n",
    "def menu_dictionary(menu_list):\n",
    "    def tokenize(text):\n",
    "        text = text.replace('.', ',')\n",
    "        text = text.replace('/', ',')\n",
    "        text = text.replace('&', ',')\n",
    "        return text.split(',')\n",
    "    menu = []\n",
    "    for m in menu_list:\n",
    "        for mm in tokenize(m):\n",
    "            mm = re.sub('\\(.*?\\)', '', mm)\n",
    "            mm = re.sub('[0-9a-zA-Z]', '', mm)\n",
    "            menu.append(mm)\n",
    "    menu = list(set(menu))\n",
    "    \n",
    "    okt = konlpy.tag.Okt()\n",
    "    menu_morphs = []\n",
    "    for m in menu:\n",
    "        for ok in okt.morphs(m):\n",
    "            if len(ok) > 1:\n",
    "                menu_morphs.append(ok)\n",
    "    menu_morphs += ['떡', '국', '회', '탕', '밥', '닭', '죽', '찜']\n",
    "    menu_morphs = list(set(menu_morphs))\n",
    "    return menu_morphs\n",
    "\n",
    "def convert_bow(df):\n",
    "    menu = menu_dictionary(df['식사내용'])\n",
    "    bow =[]\n",
    "    for row in df['식사내용']:\n",
    "        vec = []\n",
    "        for m in menu:\n",
    "            if m in row:\n",
    "                vec.append(1)\n",
    "            else:\n",
    "                vec.append(0)\n",
    "        bow.append(vec)\n",
    "    bow = np.array(bow)\n",
    "    df = df.join(pd.DataFrame(bow, columns=menu))\n",
    "    df.drop(['식사내용'], axis=1, inplace=True)\n",
    "    return df"
   ]
  },
  {
   "cell_type": "code",
   "execution_count": 98,
   "metadata": {
    "collapsed": true
   },
   "outputs": [],
   "source": [
    "# 년/월/일 분리(split) + 요일(Weekday) 추가\n",
    "def split_date(df):\n",
    "    # Normalize Date\n",
    "    df['year'] = (df['일자'] / 10000).astype(int)\n",
    "    df['month'] = (df['일자'] % 10000 / 100).astype(int)\n",
    "    df['day'] = (df['일자'] % 100).astype(int)\n",
    "    df['weekday'] = pd.to_datetime(df['일자'], format = '%Y%m%d').dt.dayofweek\n",
    "    return df"
   ]
  },
  {
   "cell_type": "code",
   "execution_count": 99,
   "metadata": {
    "collapsed": true
   },
   "outputs": [],
   "source": [
    "# 음력 추가\n",
    "from korean_lunar_calendar import KoreanLunarCalendar\n",
    "from datetime import datetime\n",
    "\n",
    "def add_lunar_date(df):\n",
    "    calendar = KoreanLunarCalendar()\n",
    "    \n",
    "    lunar_y = []\n",
    "    lunar_m = []\n",
    "    lunar_d = []\n",
    "    for y, m, d in zip (df['year'], df['month'], df['day']):\n",
    "        calendar.setSolarDate(y, m, d)\n",
    "        lunar_date = calendar.LunarIsoFormat()\n",
    "        lunar_y.append(int(lunar_date[:4]))\n",
    "        lunar_m.append(int(lunar_date[5:7]))\n",
    "        lunar_d.append(int(lunar_date[8:10]))\n",
    "        \n",
    "    df['lunar_year'], df['lunar_month'], df['lunar_day'] = lunar_y, lunar_m, lunar_d\n",
    "    return df"
   ]
  },
  {
   "cell_type": "code",
   "execution_count": 100,
   "metadata": {
    "collapsed": true
   },
   "outputs": [],
   "source": [
    "# 년/월/일 변환\n",
    "def year_norm(df):\n",
    "    df['year'] = (df['year']-min(df['year'])) / (max(df['year'])-min(df['year']))\n",
    "    df['lunar_year'] = (df['lunar_year']-min(df['lunar_year'])) / (max(df['lunar_year'])-min(df['lunar_year']))\n",
    "    return df\n",
    "def month_norm(df):\n",
    "    df['month_sin'] = [np.sin(x*2*np.pi/12) for x in df['month']]\n",
    "    df['month_cos'] = [np.cos(x*2*np.pi/12) for x in df['month']]\n",
    "    df['lunar_month_sin'] = [np.sin(x*2*np.pi/12) for x in df['lunar_month']]\n",
    "    df['lunar_month_cos'] = [np.cos(x*2*np.pi/12) for x in df['lunar_month']]\n",
    "    df.drop(['month', 'lunar_month'], axis=1, inplace=True)\n",
    "    return df\n",
    "def day_norm(df):\n",
    "    df['day_sin'] = [np.sin(x*2*np.pi/31) for x in df['day']]\n",
    "    df['day_cos'] = [np.cos(x*2*np.pi/31) for x in df['day']]\n",
    "    df['lunar_ay_sin'] = [np.sin(x*2*np.pi/31) for x in df['lunar_day']]\n",
    "    df['lunar_day_cos'] = [np.cos(x*2*np.pi/31) for x in df['lunar_day']]\n",
    "    df.drop(['day', 'lunar_day'], axis=1, inplace=True)\n",
    "    return df\n",
    "def weekday_norm(df):\n",
    "    df['weekday_sin'] = [np.sin(x*2*np.pi/7) for x in df['weekday']]\n",
    "    df['weekday_cos'] = [np.cos(x*2*np.pi/7) for x in df['weekday']]\n",
    "    return df"
   ]
  },
  {
   "cell_type": "code",
   "execution_count": 101,
   "metadata": {},
   "outputs": [],
   "source": [
    "# add Weather Information\n",
    "df = add_weather(df)\n",
    "\n",
    "# convert 식사명 to one-hot\n",
    "df = convert_ont_hot(df)\n",
    "\n",
    "# Moving Average of 수량\n",
    "df = moving_average(df)\n",
    "\n",
    "# convert 식사내용 to Bag-of-Word Vector\n",
    "df = convert_bow(df)\n",
    "\n",
    "# Date\n",
    "df = split_date(df)\n",
    "df = add_lunar_date(df)\n",
    "\n",
    "# Date Normalization\n",
    "df = year_norm(df)\n",
    "df = month_norm(df)\n",
    "df = day_norm(df)\n",
    "df = weekday_norm(df)"
   ]
  },
  {
   "cell_type": "code",
   "execution_count": 102,
   "metadata": {
    "scrolled": false
   },
   "outputs": [
    {
     "name": "stdout",
     "output_type": "stream",
     "text": [
      "Number of Columns = 870\n"
     ]
    },
    {
     "data": {
      "text/html": [
       "<div>\n",
       "<style>\n",
       "    .dataframe thead tr:only-child th {\n",
       "        text-align: right;\n",
       "    }\n",
       "\n",
       "    .dataframe thead th {\n",
       "        text-align: left;\n",
       "    }\n",
       "\n",
       "    .dataframe tbody tr th {\n",
       "        vertical-align: top;\n",
       "    }\n",
       "</style>\n",
       "<table border=\"1\" class=\"dataframe\">\n",
       "  <thead>\n",
       "    <tr style=\"text-align: right;\">\n",
       "      <th></th>\n",
       "      <th>일자</th>\n",
       "      <th>수량</th>\n",
       "      <th>평균기온(°C)</th>\n",
       "      <th>최저기온(°C)</th>\n",
       "      <th>최저기온 시각(hhmi)</th>\n",
       "      <th>최고기온(°C)</th>\n",
       "      <th>최고기온 시각(hhmi)</th>\n",
       "      <th>최대 순간 풍속(m/s)</th>\n",
       "      <th>최대 순간 풍속 풍향(16방위)</th>\n",
       "      <th>최대 순간풍속 시각(hhmi)</th>\n",
       "      <th>...</th>\n",
       "      <th>month_sin</th>\n",
       "      <th>month_cos</th>\n",
       "      <th>lunar_month_sin</th>\n",
       "      <th>lunar_month_cos</th>\n",
       "      <th>day_sin</th>\n",
       "      <th>day_cos</th>\n",
       "      <th>lunar_ay_sin</th>\n",
       "      <th>lunar_day_cos</th>\n",
       "      <th>weekday_sin</th>\n",
       "      <th>weekday_cos</th>\n",
       "    </tr>\n",
       "  </thead>\n",
       "  <tbody>\n",
       "    <tr>\n",
       "      <th>0</th>\n",
       "      <td>20040326</td>\n",
       "      <td>41.877256</td>\n",
       "      <td>10.5</td>\n",
       "      <td>4.6</td>\n",
       "      <td>439.0</td>\n",
       "      <td>17.6</td>\n",
       "      <td>1413.0</td>\n",
       "      <td>10.0</td>\n",
       "      <td>180.0</td>\n",
       "      <td>1620.0</td>\n",
       "      <td>...</td>\n",
       "      <td>1.0</td>\n",
       "      <td>6.123234e-17</td>\n",
       "      <td>0.866025</td>\n",
       "      <td>0.5</td>\n",
       "      <td>-0.848644</td>\n",
       "      <td>0.528964</td>\n",
       "      <td>0.937752</td>\n",
       "      <td>0.347305</td>\n",
       "      <td>-0.433884</td>\n",
       "      <td>-0.900969</td>\n",
       "    </tr>\n",
       "    <tr>\n",
       "      <th>1</th>\n",
       "      <td>20040326</td>\n",
       "      <td>13.718412</td>\n",
       "      <td>10.5</td>\n",
       "      <td>4.6</td>\n",
       "      <td>439.0</td>\n",
       "      <td>17.6</td>\n",
       "      <td>1413.0</td>\n",
       "      <td>10.0</td>\n",
       "      <td>180.0</td>\n",
       "      <td>1620.0</td>\n",
       "      <td>...</td>\n",
       "      <td>1.0</td>\n",
       "      <td>6.123234e-17</td>\n",
       "      <td>0.866025</td>\n",
       "      <td>0.5</td>\n",
       "      <td>-0.848644</td>\n",
       "      <td>0.528964</td>\n",
       "      <td>0.937752</td>\n",
       "      <td>0.347305</td>\n",
       "      <td>-0.433884</td>\n",
       "      <td>-0.900969</td>\n",
       "    </tr>\n",
       "    <tr>\n",
       "      <th>2</th>\n",
       "      <td>20040326</td>\n",
       "      <td>40.361011</td>\n",
       "      <td>10.5</td>\n",
       "      <td>4.6</td>\n",
       "      <td>439.0</td>\n",
       "      <td>17.6</td>\n",
       "      <td>1413.0</td>\n",
       "      <td>10.0</td>\n",
       "      <td>180.0</td>\n",
       "      <td>1620.0</td>\n",
       "      <td>...</td>\n",
       "      <td>1.0</td>\n",
       "      <td>6.123234e-17</td>\n",
       "      <td>0.866025</td>\n",
       "      <td>0.5</td>\n",
       "      <td>-0.848644</td>\n",
       "      <td>0.528964</td>\n",
       "      <td>0.937752</td>\n",
       "      <td>0.347305</td>\n",
       "      <td>-0.433884</td>\n",
       "      <td>-0.900969</td>\n",
       "    </tr>\n",
       "    <tr>\n",
       "      <th>3</th>\n",
       "      <td>20040327</td>\n",
       "      <td>37.184116</td>\n",
       "      <td>11.5</td>\n",
       "      <td>7.2</td>\n",
       "      <td>702.0</td>\n",
       "      <td>15.6</td>\n",
       "      <td>1316.0</td>\n",
       "      <td>8.2</td>\n",
       "      <td>270.0</td>\n",
       "      <td>1333.0</td>\n",
       "      <td>...</td>\n",
       "      <td>1.0</td>\n",
       "      <td>6.123234e-17</td>\n",
       "      <td>0.866025</td>\n",
       "      <td>0.5</td>\n",
       "      <td>-0.724793</td>\n",
       "      <td>0.688967</td>\n",
       "      <td>0.988468</td>\n",
       "      <td>0.151428</td>\n",
       "      <td>-0.974928</td>\n",
       "      <td>-0.222521</td>\n",
       "    </tr>\n",
       "    <tr>\n",
       "      <th>4</th>\n",
       "      <td>20040327</td>\n",
       "      <td>12.635379</td>\n",
       "      <td>11.5</td>\n",
       "      <td>7.2</td>\n",
       "      <td>702.0</td>\n",
       "      <td>15.6</td>\n",
       "      <td>1316.0</td>\n",
       "      <td>8.2</td>\n",
       "      <td>270.0</td>\n",
       "      <td>1333.0</td>\n",
       "      <td>...</td>\n",
       "      <td>1.0</td>\n",
       "      <td>6.123234e-17</td>\n",
       "      <td>0.866025</td>\n",
       "      <td>0.5</td>\n",
       "      <td>-0.724793</td>\n",
       "      <td>0.688967</td>\n",
       "      <td>0.988468</td>\n",
       "      <td>0.151428</td>\n",
       "      <td>-0.974928</td>\n",
       "      <td>-0.222521</td>\n",
       "    </tr>\n",
       "  </tbody>\n",
       "</table>\n",
       "<p>5 rows × 870 columns</p>\n",
       "</div>"
      ],
      "text/plain": [
       "         일자         수량  평균기온(°C)  최저기온(°C)  최저기온 시각(hhmi)  최고기온(°C)  \\\n",
       "0  20040326  41.877256      10.5       4.6          439.0      17.6   \n",
       "1  20040326  13.718412      10.5       4.6          439.0      17.6   \n",
       "2  20040326  40.361011      10.5       4.6          439.0      17.6   \n",
       "3  20040327  37.184116      11.5       7.2          702.0      15.6   \n",
       "4  20040327  12.635379      11.5       7.2          702.0      15.6   \n",
       "\n",
       "   최고기온 시각(hhmi)  최대 순간 풍속(m/s)  최대 순간 풍속 풍향(16방위)  최대 순간풍속 시각(hhmi)  \\\n",
       "0         1413.0           10.0              180.0            1620.0   \n",
       "1         1413.0           10.0              180.0            1620.0   \n",
       "2         1413.0           10.0              180.0            1620.0   \n",
       "3         1316.0            8.2              270.0            1333.0   \n",
       "4         1316.0            8.2              270.0            1333.0   \n",
       "\n",
       "      ...       month_sin     month_cos  lunar_month_sin  lunar_month_cos  \\\n",
       "0     ...             1.0  6.123234e-17         0.866025              0.5   \n",
       "1     ...             1.0  6.123234e-17         0.866025              0.5   \n",
       "2     ...             1.0  6.123234e-17         0.866025              0.5   \n",
       "3     ...             1.0  6.123234e-17         0.866025              0.5   \n",
       "4     ...             1.0  6.123234e-17         0.866025              0.5   \n",
       "\n",
       "    day_sin   day_cos  lunar_ay_sin  lunar_day_cos  weekday_sin  weekday_cos  \n",
       "0 -0.848644  0.528964      0.937752       0.347305    -0.433884    -0.900969  \n",
       "1 -0.848644  0.528964      0.937752       0.347305    -0.433884    -0.900969  \n",
       "2 -0.848644  0.528964      0.937752       0.347305    -0.433884    -0.900969  \n",
       "3 -0.724793  0.688967      0.988468       0.151428    -0.974928    -0.222521  \n",
       "4 -0.724793  0.688967      0.988468       0.151428    -0.974928    -0.222521  \n",
       "\n",
       "[5 rows x 870 columns]"
      ]
     },
     "execution_count": 102,
     "metadata": {},
     "output_type": "execute_result"
    }
   ],
   "source": [
    "print(\"Number of Columns =\", len(df.columns))\n",
    "df.head()"
   ]
  },
  {
   "cell_type": "code",
   "execution_count": 103,
   "metadata": {
    "collapsed": true
   },
   "outputs": [],
   "source": [
    "temp = df"
   ]
  },
  {
   "cell_type": "code",
   "execution_count": 104,
   "metadata": {
    "collapsed": true
   },
   "outputs": [],
   "source": [
    "del_list = [\n",
    "#     '평균기온(°C)',\n",
    "#     '최저기온(°C)',\n",
    "    '최저기온 시각(hhmi)',\n",
    "#     '최고기온(°C)',\n",
    "    '최고기온 시각(hhmi)',\n",
    "#     '최대 순간 풍속(m/s)',\n",
    "    '최대 순간 풍속 풍향(16방위)',\n",
    "    '최대 순간풍속 시각(hhmi)',\n",
    "#     '최대 풍속(m/s)',\n",
    "    '최대 풍속 풍향(16방위)',\n",
    "    '최대 풍속 시각(hhmi)',\n",
    "#     '평균 풍속(m/s)',\n",
    "#     '풍정합(100m)',\n",
    "#     '평균 이슬점온도(°C)',\n",
    "#     '최소 상대습도(%)',\n",
    "    '최소 상대습도 시각(hhmi)',\n",
    "#     '평균 상대습도(%)',\n",
    "#     '평균 증기압(hPa)',\n",
    "#     '평균 현지기압(hPa)',\n",
    "    '최고 해면기압(hPa)',\n",
    "    '최고 해면기압 시각(hhmi)',\n",
    "    '최저 해면기압(hPa)',\n",
    "    '최저 해면기압 시각(hhmi)',\n",
    "    '평균 해면기압(hPa)',\n",
    "    '가조시간(hr)',\n",
    "#     '합계 일조 시간(hr)',\n",
    "    '1시간 최다일사 시각(hhmi)',\n",
    "    '1시간 최다일사량(MJ/m2)',\n",
    "    '합계 일사(MJ/m2)',\n",
    "    '평균 전운량(1/10)',\n",
    "    '평균 중하층운량(1/10)',\n",
    "#     '평균 지면온도(°C)',\n",
    "#     '최저 초상온도(°C)',\n",
    "    '평균 5cm 지중온도(°C)',\n",
    "    '평균 10cm 지중온도(°C)',\n",
    "    '평균 20cm 지중온도(°C)',\n",
    "    '평균 30cm 지중온도(°C)',\n",
    "    '0.5m 지중온도(°C)',\n",
    "    '1.0m 지중온도(°C)',\n",
    "    '1.5m 지중온도(°C)',\n",
    "    '3.0m 지중온도(°C)',\n",
    "    '5.0m 지중온도(°C)',\n",
    "    '합계 소형증발량(mm)',\n",
    "]"
   ]
  },
  {
   "cell_type": "code",
   "execution_count": 105,
   "metadata": {},
   "outputs": [],
   "source": [
    "df = temp\n",
    "df.drop(del_list, axis=1, inplace=True)"
   ]
  },
  {
   "cell_type": "code",
   "execution_count": 106,
   "metadata": {},
   "outputs": [
    {
     "data": {
      "text/html": [
       "<div>\n",
       "<style>\n",
       "    .dataframe thead tr:only-child th {\n",
       "        text-align: right;\n",
       "    }\n",
       "\n",
       "    .dataframe thead th {\n",
       "        text-align: left;\n",
       "    }\n",
       "\n",
       "    .dataframe tbody tr th {\n",
       "        vertical-align: top;\n",
       "    }\n",
       "</style>\n",
       "<table border=\"1\" class=\"dataframe\">\n",
       "  <thead>\n",
       "    <tr style=\"text-align: right;\">\n",
       "      <th></th>\n",
       "      <th>일자</th>\n",
       "      <th>수량</th>\n",
       "      <th>평균기온(°C)</th>\n",
       "      <th>최저기온(°C)</th>\n",
       "      <th>최고기온(°C)</th>\n",
       "      <th>최대 순간 풍속(m/s)</th>\n",
       "      <th>최대 풍속(m/s)</th>\n",
       "      <th>평균 풍속(m/s)</th>\n",
       "      <th>풍정합(100m)</th>\n",
       "      <th>평균 이슬점온도(°C)</th>\n",
       "      <th>...</th>\n",
       "      <th>month_sin</th>\n",
       "      <th>month_cos</th>\n",
       "      <th>lunar_month_sin</th>\n",
       "      <th>lunar_month_cos</th>\n",
       "      <th>day_sin</th>\n",
       "      <th>day_cos</th>\n",
       "      <th>lunar_ay_sin</th>\n",
       "      <th>lunar_day_cos</th>\n",
       "      <th>weekday_sin</th>\n",
       "      <th>weekday_cos</th>\n",
       "    </tr>\n",
       "  </thead>\n",
       "  <tbody>\n",
       "    <tr>\n",
       "      <th>0</th>\n",
       "      <td>20040326</td>\n",
       "      <td>41.877256</td>\n",
       "      <td>10.5</td>\n",
       "      <td>4.6</td>\n",
       "      <td>17.6</td>\n",
       "      <td>10.0</td>\n",
       "      <td>6.3</td>\n",
       "      <td>3.0</td>\n",
       "      <td>2592.0</td>\n",
       "      <td>3.5</td>\n",
       "      <td>...</td>\n",
       "      <td>1.0</td>\n",
       "      <td>6.123234e-17</td>\n",
       "      <td>0.866025</td>\n",
       "      <td>0.5</td>\n",
       "      <td>-0.848644</td>\n",
       "      <td>0.528964</td>\n",
       "      <td>0.937752</td>\n",
       "      <td>0.347305</td>\n",
       "      <td>-0.433884</td>\n",
       "      <td>-0.900969</td>\n",
       "    </tr>\n",
       "    <tr>\n",
       "      <th>1</th>\n",
       "      <td>20040326</td>\n",
       "      <td>13.718412</td>\n",
       "      <td>10.5</td>\n",
       "      <td>4.6</td>\n",
       "      <td>17.6</td>\n",
       "      <td>10.0</td>\n",
       "      <td>6.3</td>\n",
       "      <td>3.0</td>\n",
       "      <td>2592.0</td>\n",
       "      <td>3.5</td>\n",
       "      <td>...</td>\n",
       "      <td>1.0</td>\n",
       "      <td>6.123234e-17</td>\n",
       "      <td>0.866025</td>\n",
       "      <td>0.5</td>\n",
       "      <td>-0.848644</td>\n",
       "      <td>0.528964</td>\n",
       "      <td>0.937752</td>\n",
       "      <td>0.347305</td>\n",
       "      <td>-0.433884</td>\n",
       "      <td>-0.900969</td>\n",
       "    </tr>\n",
       "    <tr>\n",
       "      <th>2</th>\n",
       "      <td>20040326</td>\n",
       "      <td>40.361011</td>\n",
       "      <td>10.5</td>\n",
       "      <td>4.6</td>\n",
       "      <td>17.6</td>\n",
       "      <td>10.0</td>\n",
       "      <td>6.3</td>\n",
       "      <td>3.0</td>\n",
       "      <td>2592.0</td>\n",
       "      <td>3.5</td>\n",
       "      <td>...</td>\n",
       "      <td>1.0</td>\n",
       "      <td>6.123234e-17</td>\n",
       "      <td>0.866025</td>\n",
       "      <td>0.5</td>\n",
       "      <td>-0.848644</td>\n",
       "      <td>0.528964</td>\n",
       "      <td>0.937752</td>\n",
       "      <td>0.347305</td>\n",
       "      <td>-0.433884</td>\n",
       "      <td>-0.900969</td>\n",
       "    </tr>\n",
       "    <tr>\n",
       "      <th>3</th>\n",
       "      <td>20040327</td>\n",
       "      <td>37.184116</td>\n",
       "      <td>11.5</td>\n",
       "      <td>7.2</td>\n",
       "      <td>15.6</td>\n",
       "      <td>8.2</td>\n",
       "      <td>4.6</td>\n",
       "      <td>2.5</td>\n",
       "      <td>2160.0</td>\n",
       "      <td>-0.3</td>\n",
       "      <td>...</td>\n",
       "      <td>1.0</td>\n",
       "      <td>6.123234e-17</td>\n",
       "      <td>0.866025</td>\n",
       "      <td>0.5</td>\n",
       "      <td>-0.724793</td>\n",
       "      <td>0.688967</td>\n",
       "      <td>0.988468</td>\n",
       "      <td>0.151428</td>\n",
       "      <td>-0.974928</td>\n",
       "      <td>-0.222521</td>\n",
       "    </tr>\n",
       "    <tr>\n",
       "      <th>4</th>\n",
       "      <td>20040327</td>\n",
       "      <td>12.635379</td>\n",
       "      <td>11.5</td>\n",
       "      <td>7.2</td>\n",
       "      <td>15.6</td>\n",
       "      <td>8.2</td>\n",
       "      <td>4.6</td>\n",
       "      <td>2.5</td>\n",
       "      <td>2160.0</td>\n",
       "      <td>-0.3</td>\n",
       "      <td>...</td>\n",
       "      <td>1.0</td>\n",
       "      <td>6.123234e-17</td>\n",
       "      <td>0.866025</td>\n",
       "      <td>0.5</td>\n",
       "      <td>-0.724793</td>\n",
       "      <td>0.688967</td>\n",
       "      <td>0.988468</td>\n",
       "      <td>0.151428</td>\n",
       "      <td>-0.974928</td>\n",
       "      <td>-0.222521</td>\n",
       "    </tr>\n",
       "  </tbody>\n",
       "</table>\n",
       "<p>5 rows × 842 columns</p>\n",
       "</div>"
      ],
      "text/plain": [
       "         일자         수량  평균기온(°C)  최저기온(°C)  최고기온(°C)  최대 순간 풍속(m/s)  \\\n",
       "0  20040326  41.877256      10.5       4.6      17.6           10.0   \n",
       "1  20040326  13.718412      10.5       4.6      17.6           10.0   \n",
       "2  20040326  40.361011      10.5       4.6      17.6           10.0   \n",
       "3  20040327  37.184116      11.5       7.2      15.6            8.2   \n",
       "4  20040327  12.635379      11.5       7.2      15.6            8.2   \n",
       "\n",
       "   최대 풍속(m/s)  평균 풍속(m/s)  풍정합(100m)  평균 이슬점온도(°C)     ...       month_sin  \\\n",
       "0         6.3         3.0     2592.0           3.5     ...             1.0   \n",
       "1         6.3         3.0     2592.0           3.5     ...             1.0   \n",
       "2         6.3         3.0     2592.0           3.5     ...             1.0   \n",
       "3         4.6         2.5     2160.0          -0.3     ...             1.0   \n",
       "4         4.6         2.5     2160.0          -0.3     ...             1.0   \n",
       "\n",
       "      month_cos  lunar_month_sin  lunar_month_cos   day_sin   day_cos  \\\n",
       "0  6.123234e-17         0.866025              0.5 -0.848644  0.528964   \n",
       "1  6.123234e-17         0.866025              0.5 -0.848644  0.528964   \n",
       "2  6.123234e-17         0.866025              0.5 -0.848644  0.528964   \n",
       "3  6.123234e-17         0.866025              0.5 -0.724793  0.688967   \n",
       "4  6.123234e-17         0.866025              0.5 -0.724793  0.688967   \n",
       "\n",
       "   lunar_ay_sin  lunar_day_cos  weekday_sin  weekday_cos  \n",
       "0      0.937752       0.347305    -0.433884    -0.900969  \n",
       "1      0.937752       0.347305    -0.433884    -0.900969  \n",
       "2      0.937752       0.347305    -0.433884    -0.900969  \n",
       "3      0.988468       0.151428    -0.974928    -0.222521  \n",
       "4      0.988468       0.151428    -0.974928    -0.222521  \n",
       "\n",
       "[5 rows x 842 columns]"
      ]
     },
     "execution_count": 106,
     "metadata": {},
     "output_type": "execute_result"
    }
   ],
   "source": [
    "df.head()"
   ]
  },
  {
   "cell_type": "markdown",
   "metadata": {},
   "source": [
    "# Modeling"
   ]
  },
  {
   "cell_type": "markdown",
   "metadata": {},
   "source": [
    "1. Random Forest\n",
    "2. XGBoost"
   ]
  },
  {
   "cell_type": "markdown",
   "metadata": {},
   "source": [
    "## 0. Prepare train & test"
   ]
  },
  {
   "cell_type": "markdown",
   "metadata": {},
   "source": [
    "#### 1) Split train and test(validation) set by 8 to 2"
   ]
  },
  {
   "cell_type": "code",
   "execution_count": 107,
   "metadata": {
    "collapsed": true
   },
   "outputs": [],
   "source": [
    "np.random.seed(10)\n",
    "shuffled_idx = np.concatenate((df['일자'].unique()[:2000], np.random.permutation(df['일자'].unique()[2000:])))"
   ]
  },
  {
   "cell_type": "code",
   "execution_count": 108,
   "metadata": {
    "collapsed": true
   },
   "outputs": [],
   "source": [
    "dev_ratio = 0.2\n",
    "train_idx = int(len(df['일자'].unique()) * (1-dev_ratio))\n",
    "shuffled_idx[:train_idx] = np.sort(shuffled_idx[:train_idx])\n",
    "shuffled_idx[train_idx:] = np.sort(shuffled_idx[train_idx:])"
   ]
  },
  {
   "cell_type": "code",
   "execution_count": 109,
   "metadata": {},
   "outputs": [
    {
     "name": "stdout",
     "output_type": "stream",
     "text": [
      "(14687, 842)\n",
      "(3855, 842)\n"
     ]
    }
   ],
   "source": [
    "train_df = df[df['일자'].isin(shuffled_idx[:train_idx])]\n",
    "dev_df = df[df['일자'].isin(shuffled_idx[train_idx:])]\n",
    "\n",
    "print(train_df.shape)\n",
    "print(dev_df.shape)"
   ]
  },
  {
   "cell_type": "code",
   "execution_count": 110,
   "metadata": {
    "collapsed": true
   },
   "outputs": [],
   "source": [
    "train_y = train_df['수량']\n",
    "train_x = train_df.drop(['수량', '일자'], axis=1)\n",
    "dev_y = dev_df['수량']\n",
    "dev_x = dev_df.drop(['수량', '일자'], axis=1)\n",
    "dev_x_iter = dev_df.drop(['수량'], axis=1)"
   ]
  },
  {
   "cell_type": "markdown",
   "metadata": {},
   "source": [
    "#### 2) train, predict, evaluation function (반복적으로 사용되는 코드이므로)"
   ]
  },
  {
   "cell_type": "code",
   "execution_count": 111,
   "metadata": {
    "collapsed": true
   },
   "outputs": [],
   "source": [
    "from sklearn.metrics import mean_squared_error\n",
    "import math\n",
    "\n",
    "def train_and_predict(model, train_x, train_y, dev_x):\n",
    "    model.fit(train_x, train_y)\n",
    "    return model.predict(dev_x)\n",
    "\n",
    "def iterative_train_and_predict(model, df, dev_x):\n",
    "    predictions = []\n",
    "    dev_dates = dev_x['일자'].unique()\n",
    "    print(\"Number of Dates =\", len(dev_dates))\n",
    "    for i, dev_date in enumerate(dev_dates):        \n",
    "        _train_df = df[df['일자'] < dev_date - 2]\n",
    "        pred = train_and_predict(model, \n",
    "                                 _train_df.drop(['수량', '일자'], axis=1), \n",
    "                                 _train_df['수량'], \n",
    "                                 dev_x[dev_x['일자']==dev_date].drop(['일자'], axis=1))\n",
    "        predictions.append(pred)\n",
    "        \n",
    "        if((i+1) % (int(len(dev_dates)/10)) == 0):\n",
    "            print(\">>\", 10*int((i+1)/(int(len(dev_dates)/10))), \"% >>\", end=\"\")\n",
    "    print()\n",
    "    return np.concatenate(predictions)\n",
    "\n",
    "def evaluate(predict_y, actual_y):\n",
    "    predict_y = predict_y\n",
    "    actual_y = actual_y\n",
    "    rmse = math.sqrt(mean_squared_error(actual_y, predict_y))\n",
    "    print('RMSE :', round(np.mean(rmse), 4))"
   ]
  },
  {
   "cell_type": "markdown",
   "metadata": {},
   "source": [
    "## 1. Random Forest"
   ]
  },
  {
   "cell_type": "code",
   "execution_count": 112,
   "metadata": {
    "collapsed": true
   },
   "outputs": [],
   "source": [
    "from sklearn.ensemble import RandomForestRegressor\n",
    "model = RandomForestRegressor(n_estimators = 200, n_jobs=-1)"
   ]
  },
  {
   "cell_type": "code",
   "execution_count": 113,
   "metadata": {
    "scrolled": true
   },
   "outputs": [
    {
     "name": "stdout",
     "output_type": "stream",
     "text": [
      "RMSE : 4.2836\n",
      "CPU times: user 5min 5s, sys: 2.3 s, total: 5min 7s\n",
      "Wall time: 1min 30s\n"
     ]
    }
   ],
   "source": [
    "%%time\n",
    "pred = train_and_predict(model, train_x, train_y, dev_x)\n",
    "evaluate(pred, dev_y)"
   ]
  },
  {
   "cell_type": "code",
   "execution_count": 20,
   "metadata": {
    "scrolled": false
   },
   "outputs": [
    {
     "name": "stdout",
     "output_type": "stream",
     "text": [
      "Number of Dates = 966\n",
      ">> 10 % >>>> 20 % >>>> 30 % >>>> 40 % >>>> 50 % >>>> 60 % >>>> 70 % >>>> 80 % >>>> 90 % >>>> 100 % >>\n",
      "RMSE : 4.5401\n",
      "CPU times: user 1d 21h 53min 8s, sys: 3min, total: 1d 21h 56min 8s\n",
      "Wall time: 6h 51min 21s\n"
     ]
    }
   ],
   "source": [
    "%%time\n",
    "pred = iterative_train_and_predict(model, df, dev_x_iter)\n",
    "evaluate(pred, dev_y)"
   ]
  },
  {
   "cell_type": "code",
   "execution_count": null,
   "metadata": {},
   "outputs": [],
   "source": [
    "import matplotlib.pyplot as plt\n",
    "import matplotlib\n",
    "%matplotlib inline \n",
    "\n",
    "plt.rcParams[\"figure.figsize\"] = (20,3)\n",
    "index = 500\n",
    "\n",
    "plt.plot(pred[index:index+100])\n",
    "plt.plot(dev_y.values[index:index+100])"
   ]
  },
  {
   "cell_type": "markdown",
   "metadata": {},
   "source": [
    "## 2. XGBoost"
   ]
  },
  {
   "cell_type": "code",
   "execution_count": 114,
   "metadata": {
    "collapsed": true
   },
   "outputs": [],
   "source": [
    "import xgboost as xgb\n",
    "model = xgb.XGBRegressor(n_estimators=200, \n",
    "                         learning_rate=0.05, \n",
    "                         max_depth=10,\n",
    "                         colsample_bytree=0.9,\n",
    "                         gamma=0.4,\n",
    "                         subsample=0.8,\n",
    "                         reg_alpha=0.01,\n",
    "                         seed=10,\n",
    "                         n_jobs=-1)"
   ]
  },
  {
   "cell_type": "code",
   "execution_count": null,
   "metadata": {
    "scrolled": true
   },
   "outputs": [],
   "source": [
    "%%time\n",
    "pred = train_and_predict(model, train_x, train_y, dev_x)\n",
    "evaluate(pred, dev_y)"
   ]
  },
  {
   "cell_type": "code",
   "execution_count": 24,
   "metadata": {
    "scrolled": false
   },
   "outputs": [
    {
     "name": "stdout",
     "output_type": "stream",
     "text": [
      "Number of Dates = 966\n",
      ">> 10 % >>>> 20 % >>>> 30 % >>>> 40 % >>>> 50 % >>>> 60 % >>>> 70 % >>>> 80 % >>>> 90 % >>>> 100 % >>\n",
      "RMSE : 4.4419\n",
      "CPU times: user 4d 12h 29min 34s, sys: 1h 15min 40s, total: 4d 13h 45min 15s\n",
      "Wall time: 13h 47min\n"
     ]
    }
   ],
   "source": [
    "%%time\n",
    "pred = iterative_train_and_predict(model, df, dev_x_iter)\n",
    "evaluate(pred, dev_y)"
   ]
  },
  {
   "cell_type": "code",
   "execution_count": null,
   "metadata": {},
   "outputs": [],
   "source": [
    "import matplotlib.pyplot as plt\n",
    "import matplotlib\n",
    "%matplotlib inline \n",
    "\n",
    "plt.rcParams['figure.figsize'] = (16,10)\n",
    "plt.rcParams['font.family'] = 'AppleGothic'\n",
    "\n",
    "xgb.plot_importance(model, max_num_features=20)"
   ]
  },
  {
   "cell_type": "code",
   "execution_count": null,
   "metadata": {},
   "outputs": [],
   "source": [
    "plt.rcParams[\"figure.figsize\"] = (20,3)\n",
    "index = 500\n",
    "\n",
    "plt.plot(pred[index:index+100])\n",
    "plt.plot(dev_y.values[index:index+100])"
   ]
  },
  {
   "cell_type": "code",
   "execution_count": null,
   "metadata": {
    "collapsed": true
   },
   "outputs": [],
   "source": []
  }
 ],
 "metadata": {
  "kernelspec": {
   "display_name": "Python 3",
   "language": "python",
   "name": "python3"
  },
  "language_info": {
   "codemirror_mode": {
    "name": "ipython",
    "version": 3
   },
   "file_extension": ".py",
   "mimetype": "text/x-python",
   "name": "python",
   "nbconvert_exporter": "python",
   "pygments_lexer": "ipython3",
   "version": "3.6.2"
  }
 },
 "nbformat": 4,
 "nbformat_minor": 2
}
