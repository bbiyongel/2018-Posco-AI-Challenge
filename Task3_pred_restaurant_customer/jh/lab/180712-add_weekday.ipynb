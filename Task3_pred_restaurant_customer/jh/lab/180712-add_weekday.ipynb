{
 "cells": [
  {
   "cell_type": "code",
   "execution_count": 1,
   "metadata": {
    "collapsed": true
   },
   "outputs": [],
   "source": [
    "import pandas as pd\n",
    "import numpy as np"
   ]
  },
  {
   "cell_type": "markdown",
   "metadata": {},
   "source": [
    "# 데이터 전처리 (data_preprocessing.ipynb)"
   ]
  },
  {
   "cell_type": "code",
   "execution_count": 2,
   "metadata": {},
   "outputs": [
    {
     "data": {
      "text/html": [
       "<div>\n",
       "<style>\n",
       "    .dataframe thead tr:only-child th {\n",
       "        text-align: right;\n",
       "    }\n",
       "\n",
       "    .dataframe thead th {\n",
       "        text-align: left;\n",
       "    }\n",
       "\n",
       "    .dataframe tbody tr th {\n",
       "        vertical-align: top;\n",
       "    }\n",
       "</style>\n",
       "<table border=\"1\" class=\"dataframe\">\n",
       "  <thead>\n",
       "    <tr style=\"text-align: right;\">\n",
       "      <th></th>\n",
       "      <th>수량</th>\n",
       "      <th>year</th>\n",
       "      <th>month_sin</th>\n",
       "      <th>month_cos</th>\n",
       "      <th>day_sin</th>\n",
       "      <th>day_cos</th>\n",
       "      <th>weekday_sin</th>\n",
       "      <th>weekday_cos</th>\n",
       "      <th>식사명_아침</th>\n",
       "      <th>식사명_저녁</th>\n",
       "      <th>...</th>\n",
       "      <th>휘)</th>\n",
       "      <th>흑미밥</th>\n",
       "      <th>흑미밥(현장)</th>\n",
       "      <th>흑임자밥</th>\n",
       "      <th>흑임자죽</th>\n",
       "      <th>흑콩견과류조림</th>\n",
       "      <th>흑콩밥</th>\n",
       "      <th>흑콩조림</th>\n",
       "      <th>흰죽</th>\n",
       "      <th>흰콩곤약조림</th>\n",
       "    </tr>\n",
       "  </thead>\n",
       "  <tbody>\n",
       "    <tr>\n",
       "      <th>0</th>\n",
       "      <td>37.472924</td>\n",
       "      <td>0.0</td>\n",
       "      <td>1.0</td>\n",
       "      <td>6.123234e-17</td>\n",
       "      <td>0.201299</td>\n",
       "      <td>0.979530</td>\n",
       "      <td>-0.974928</td>\n",
       "      <td>-0.222521</td>\n",
       "      <td>1</td>\n",
       "      <td>0</td>\n",
       "      <td>...</td>\n",
       "      <td>0</td>\n",
       "      <td>0</td>\n",
       "      <td>0</td>\n",
       "      <td>0</td>\n",
       "      <td>0</td>\n",
       "      <td>0</td>\n",
       "      <td>0</td>\n",
       "      <td>0</td>\n",
       "      <td>0</td>\n",
       "      <td>0</td>\n",
       "    </tr>\n",
       "    <tr>\n",
       "      <th>1</th>\n",
       "      <td>19.566787</td>\n",
       "      <td>0.0</td>\n",
       "      <td>1.0</td>\n",
       "      <td>6.123234e-17</td>\n",
       "      <td>0.201299</td>\n",
       "      <td>0.979530</td>\n",
       "      <td>-0.974928</td>\n",
       "      <td>-0.222521</td>\n",
       "      <td>0</td>\n",
       "      <td>1</td>\n",
       "      <td>...</td>\n",
       "      <td>0</td>\n",
       "      <td>0</td>\n",
       "      <td>0</td>\n",
       "      <td>0</td>\n",
       "      <td>0</td>\n",
       "      <td>0</td>\n",
       "      <td>0</td>\n",
       "      <td>0</td>\n",
       "      <td>0</td>\n",
       "      <td>0</td>\n",
       "    </tr>\n",
       "    <tr>\n",
       "      <th>2</th>\n",
       "      <td>31.191336</td>\n",
       "      <td>0.0</td>\n",
       "      <td>1.0</td>\n",
       "      <td>6.123234e-17</td>\n",
       "      <td>0.201299</td>\n",
       "      <td>0.979530</td>\n",
       "      <td>-0.974928</td>\n",
       "      <td>-0.222521</td>\n",
       "      <td>0</td>\n",
       "      <td>0</td>\n",
       "      <td>...</td>\n",
       "      <td>0</td>\n",
       "      <td>0</td>\n",
       "      <td>0</td>\n",
       "      <td>0</td>\n",
       "      <td>0</td>\n",
       "      <td>0</td>\n",
       "      <td>0</td>\n",
       "      <td>0</td>\n",
       "      <td>0</td>\n",
       "      <td>0</td>\n",
       "    </tr>\n",
       "    <tr>\n",
       "      <th>3</th>\n",
       "      <td>36.101083</td>\n",
       "      <td>0.0</td>\n",
       "      <td>1.0</td>\n",
       "      <td>6.123234e-17</td>\n",
       "      <td>0.394356</td>\n",
       "      <td>0.918958</td>\n",
       "      <td>-0.781831</td>\n",
       "      <td>0.623490</td>\n",
       "      <td>1</td>\n",
       "      <td>0</td>\n",
       "      <td>...</td>\n",
       "      <td>0</td>\n",
       "      <td>0</td>\n",
       "      <td>0</td>\n",
       "      <td>0</td>\n",
       "      <td>0</td>\n",
       "      <td>0</td>\n",
       "      <td>0</td>\n",
       "      <td>0</td>\n",
       "      <td>0</td>\n",
       "      <td>0</td>\n",
       "    </tr>\n",
       "    <tr>\n",
       "      <th>4</th>\n",
       "      <td>21.949458</td>\n",
       "      <td>0.0</td>\n",
       "      <td>1.0</td>\n",
       "      <td>6.123234e-17</td>\n",
       "      <td>0.394356</td>\n",
       "      <td>0.918958</td>\n",
       "      <td>-0.781831</td>\n",
       "      <td>0.623490</td>\n",
       "      <td>0</td>\n",
       "      <td>1</td>\n",
       "      <td>...</td>\n",
       "      <td>0</td>\n",
       "      <td>0</td>\n",
       "      <td>0</td>\n",
       "      <td>0</td>\n",
       "      <td>0</td>\n",
       "      <td>0</td>\n",
       "      <td>0</td>\n",
       "      <td>0</td>\n",
       "      <td>0</td>\n",
       "      <td>0</td>\n",
       "    </tr>\n",
       "  </tbody>\n",
       "</table>\n",
       "<p>5 rows × 1886 columns</p>\n",
       "</div>"
      ],
      "text/plain": [
       "          수량  year  month_sin     month_cos   day_sin   day_cos  weekday_sin  \\\n",
       "0  37.472924   0.0        1.0  6.123234e-17  0.201299  0.979530    -0.974928   \n",
       "1  19.566787   0.0        1.0  6.123234e-17  0.201299  0.979530    -0.974928   \n",
       "2  31.191336   0.0        1.0  6.123234e-17  0.201299  0.979530    -0.974928   \n",
       "3  36.101083   0.0        1.0  6.123234e-17  0.394356  0.918958    -0.781831   \n",
       "4  21.949458   0.0        1.0  6.123234e-17  0.394356  0.918958    -0.781831   \n",
       "\n",
       "   weekday_cos  식사명_아침  식사명_저녁   ...    휘)  흑미밥  흑미밥(현장)  흑임자밥  흑임자죽  흑콩견과류조림  \\\n",
       "0    -0.222521       1       0   ...     0    0        0     0     0        0   \n",
       "1    -0.222521       0       1   ...     0    0        0     0     0        0   \n",
       "2    -0.222521       0       0   ...     0    0        0     0     0        0   \n",
       "3     0.623490       1       0   ...     0    0        0     0     0        0   \n",
       "4     0.623490       0       1   ...     0    0        0     0     0        0   \n",
       "\n",
       "   흑콩밥  흑콩조림  흰죽  흰콩곤약조림  \n",
       "0    0     0   0       0  \n",
       "1    0     0   0       0  \n",
       "2    0     0   0       0  \n",
       "3    0     0   0       0  \n",
       "4    0     0   0       0  \n",
       "\n",
       "[5 rows x 1886 columns]"
      ]
     },
     "execution_count": 2,
     "metadata": {},
     "output_type": "execute_result"
    }
   ],
   "source": [
    "# Read Data\n",
    "df = pd.read_excel(\"../data/train.xlsx\")\n",
    "\n",
    "# Normalize Date\n",
    "df['year'] = (df['일자'] / 10000).astype(int)\n",
    "df['month'] = (df['일자'] % 10000 / 100).astype(int)\n",
    "df['day'] = (df['일자'] % 100).astype(int)\n",
    "df['weekday'] = pd.to_datetime(df['일자'], format = '%Y%m%d').dt.dayofweek\n",
    "df.drop(['일자'], axis=1, inplace=True)\n",
    "df['year'] = (df['year']-min(df['year'])) / (max(df['year'])-min(df['year']))\n",
    "df['month_sin'] = [np.sin(x*2*np.pi/12) for x in df['month']]\n",
    "df['month_cos'] = [np.cos(x*2*np.pi/12) for x in df['month']]\n",
    "df['day_sin'] = [np.sin(x*2*np.pi/31) for x in df['day']]\n",
    "df['day_cos'] = [np.cos(x*2*np.pi/31) for x in df['day']]\n",
    "df['weekday_sin'] = [np.sin(x*2*np.pi/7) for x in df['weekday']]\n",
    "df['weekday_cos'] = [np.cos(x*2*np.pi/7) for x in df['weekday']]\n",
    "df.drop(['month', 'day', 'weekday'], axis=1, inplace=True)\n",
    "\n",
    "# Convert 식사명 to One-hot Vector\n",
    "df = df.join(pd.get_dummies(df['식사명'], prefix='식사명'))\n",
    "df.drop(['식사명'], axis=1, inplace=True)\n",
    "\n",
    "# Convert 식사내용 to Vector based on Bag-of-Word\n",
    "from sklearn.feature_extraction.text import CountVectorizer\n",
    "def tokenize(text):\n",
    "    return text.split(',')\n",
    "vectorizer = CountVectorizer(tokenizer=tokenize)\n",
    "bow = vectorizer.fit_transform(df['식사내용']).toarray()\n",
    "df = df.join(pd.DataFrame(bow, columns=vectorizer.get_feature_names()))\n",
    "df.drop(['식사내용'], axis=1, inplace=True)\n",
    "df.head()"
   ]
  },
  {
   "cell_type": "markdown",
   "metadata": {},
   "source": [
    "# Modeling"
   ]
  },
  {
   "cell_type": "markdown",
   "metadata": {},
   "source": [
    "1. Linear Regression\n",
    "2. Random Forest\n",
    "3. Bayesian Ridge\n",
    "4. SVM\n",
    "3. XGBoost"
   ]
  },
  {
   "cell_type": "markdown",
   "metadata": {},
   "source": [
    "## 0. Prepare train & test"
   ]
  },
  {
   "cell_type": "markdown",
   "metadata": {},
   "source": [
    "#### 1) Split train and test(validation) set by 8 to 2"
   ]
  },
  {
   "cell_type": "code",
   "execution_count": 3,
   "metadata": {},
   "outputs": [
    {
     "name": "stdout",
     "output_type": "stream",
     "text": [
      "(16008, 1886)\n",
      "(4002, 1886)\n"
     ]
    }
   ],
   "source": [
    "from sklearn.model_selection import train_test_split\n",
    "train_df, dev_df = train_test_split(df, test_size=0.2, random_state=10)\n",
    "print(train_df.shape)\n",
    "print(dev_df.shape)"
   ]
  },
  {
   "cell_type": "code",
   "execution_count": 4,
   "metadata": {
    "collapsed": true
   },
   "outputs": [],
   "source": [
    "train_y = train_df['수량']\n",
    "train_x = train_df.drop(['수량'], axis=1)\n",
    "dev_y = dev_df['수량']\n",
    "dev_x = dev_df.drop(['수량'], axis=1)"
   ]
  },
  {
   "cell_type": "markdown",
   "metadata": {},
   "source": [
    "#### 2) train, predict, evaluation function (반복적으로 사용되는 코드이므로)"
   ]
  },
  {
   "cell_type": "code",
   "execution_count": 5,
   "metadata": {
    "collapsed": true
   },
   "outputs": [],
   "source": [
    "from sklearn.metrics import mean_squared_error\n",
    "import math\n",
    "\n",
    "def train_and_predict(model, train_x, train_y, dev_x):\n",
    "    model.fit(train_x, train_y)\n",
    "    return model.predict(dev_x)\n",
    "\n",
    "def evaluate(predict_y, actual_y):\n",
    "    rmse = math.sqrt(mean_squared_error(actual_y, predict_y))\n",
    "    print('RMSE :', round(np.mean(rmse), 4))"
   ]
  },
  {
   "cell_type": "markdown",
   "metadata": {},
   "source": [
    "## 1. Random Forest"
   ]
  },
  {
   "cell_type": "code",
   "execution_count": 6,
   "metadata": {
    "collapsed": true
   },
   "outputs": [],
   "source": [
    "from sklearn.ensemble import RandomForestRegressor\n",
    "model = RandomForestRegressor(n_estimators = 100, random_state = 10)"
   ]
  },
  {
   "cell_type": "code",
   "execution_count": 7,
   "metadata": {},
   "outputs": [
    {
     "name": "stdout",
     "output_type": "stream",
     "text": [
      "RMSE : 4.8391\n"
     ]
    }
   ],
   "source": [
    "pred = train_and_predict(model, train_x, train_y, dev_x)\n",
    "evaluate(pred, dev_y)"
   ]
  },
  {
   "cell_type": "markdown",
   "metadata": {},
   "source": [
    "## 2. XGBoost"
   ]
  },
  {
   "cell_type": "code",
   "execution_count": 8,
   "metadata": {
    "collapsed": true
   },
   "outputs": [],
   "source": [
    "import xgboost as xgb\n",
    "model = xgb.XGBRegressor(n_estimators=100, \n",
    "                         learning_rate=0.05, \n",
    "                         seed=10)"
   ]
  },
  {
   "cell_type": "code",
   "execution_count": 9,
   "metadata": {},
   "outputs": [
    {
     "name": "stdout",
     "output_type": "stream",
     "text": [
      "RMSE : 5.4179\n"
     ]
    }
   ],
   "source": [
    "pred = train_and_predict(model, train_x, train_y, dev_x)\n",
    "evaluate(pred, dev_y)"
   ]
  },
  {
   "cell_type": "code",
   "execution_count": 10,
   "metadata": {},
   "outputs": [
    {
     "data": {
      "text/plain": [
       "<matplotlib.axes._subplots.AxesSubplot at 0x1115576d8>"
      ]
     },
     "execution_count": 10,
     "metadata": {},
     "output_type": "execute_result"
    },
    {
     "data": {
      "image/png": "[encoded data removed]",
      "text/plain": [
       "<Figure size 432x288 with 1 Axes>"
      ]
     },
     "metadata": {},
     "output_type": "display_data"
    }
   ],
   "source": [
    "import matplotlib\n",
    "%matplotlib inline \n",
    "\n",
    "matplotlib.rc('font', family='AppleGothic')\n",
    "xgb.plot_importance(model, max_num_features=10)"
   ]
  },
  {
   "cell_type": "code",
   "execution_count": null,
   "metadata": {
    "collapsed": true
   },
   "outputs": [],
   "source": []
  }
 ],
 "metadata": {
  "kernelspec": {
   "display_name": "Python 3",
   "language": "python",
   "name": "python3"
  },
  "language_info": {
   "codemirror_mode": {
    "name": "ipython",
    "version": 3
   },
   "file_extension": ".py",
   "mimetype": "text/x-python",
   "name": "python",
   "nbconvert_exporter": "python",
   "pygments_lexer": "ipython3",
   "version": "3.6.1"
  }
 },
 "nbformat": 4,
 "nbformat_minor": 2
}
