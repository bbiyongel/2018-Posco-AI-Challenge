{
 "cells": [
  {
   "cell_type": "code",
   "execution_count": 5,
   "metadata": {
    "collapsed": true
   },
   "outputs": [],
   "source": [
    "import pandas as pd\n",
    "import numpy as np"
   ]
  },
  {
   "cell_type": "markdown",
   "metadata": {},
   "source": [
    "# 데이터 전처리 (data_preprocessing.ipynb)"
   ]
  },
  {
   "cell_type": "code",
   "execution_count": 6,
   "metadata": {
    "collapsed": true
   },
   "outputs": [],
   "source": [
    "# Read Data\n",
    "df = pd.read_excel(\"../data/train.xlsx\")"
   ]
  },
  {
   "cell_type": "code",
   "execution_count": 7,
   "metadata": {
    "collapsed": true
   },
   "outputs": [],
   "source": [
    "# 년/월/일 분리(split) + 요일(Weekday) 추가\n",
    "def split_date(df):\n",
    "    # Normalize Date\n",
    "    df['year'] = (df['일자'] / 10000).astype(int)\n",
    "    df['month'] = (df['일자'] % 10000 / 100).astype(int)\n",
    "    df['day'] = (df['일자'] % 100).astype(int)\n",
    "    df['weekday'] = pd.to_datetime(df['일자'], format = '%Y%m%d').dt.dayofweek\n",
    "    df.drop(['일자'], axis=1, inplace=True)"
   ]
  },
  {
   "cell_type": "code",
   "execution_count": 8,
   "metadata": {},
   "outputs": [],
   "source": [
    "# 음력 추가\n",
    "from korean_lunar_calendar import KoreanLunarCalendar\n",
    "from datetime import datetime\n",
    "\n",
    "def add_lunar_date(df):\n",
    "    calendar = KoreanLunarCalendar()\n",
    "    \n",
    "    lunar_y = []\n",
    "    lunar_m = []\n",
    "    lunar_d = []\n",
    "    for y, m, d in zip (df['year'], df['month'], df['day']):\n",
    "        calendar.setSolarDate(y, m, d)\n",
    "        lunar_date = calendar.LunarIsoFormat()\n",
    "        lunar_y.append(int(lunar_date[:4]))\n",
    "        lunar_m.append(int(lunar_date[5:7]))\n",
    "        lunar_d.append(int(lunar_date[8:10]))\n",
    "        \n",
    "    df['lunar_year'], df['lunar_month'], df['lunar_day'] = lunar_y, lunar_m, lunar_d\n"
   ]
  },
  {
   "cell_type": "code",
   "execution_count": 9,
   "metadata": {
    "collapsed": true
   },
   "outputs": [],
   "source": [
    "# 년/월/일 변환\n",
    "def year_norm(df):\n",
    "    df['year'] = (df['year']-min(df['year'])) / (max(df['year'])-min(df['year']))\n",
    "    df['lunar_year'] = (df['lunar_year']-min(df['lunar_year'])) / (max(df['lunar_year'])-min(df['lunar_year']))\n",
    "def month_norm(df):\n",
    "    df['month_sin'] = [np.sin(x*2*np.pi/12) for x in df['month']]\n",
    "    df['month_cos'] = [np.cos(x*2*np.pi/12) for x in df['month']]\n",
    "    df['lunar_month_sin'] = [np.sin(x*2*np.pi/12) for x in df['lunar_month']]\n",
    "    df['lunar_month_cos'] = [np.cos(x*2*np.pi/12) for x in df['lunar_month']]\n",
    "    df.drop(['month', 'lunar_month'], axis=1, inplace=True)\n",
    "def day_norm(df):\n",
    "    df['day_sin'] = [np.sin(x*2*np.pi/31) for x in df['day']]\n",
    "    df['day_cos'] = [np.cos(x*2*np.pi/31) for x in df['day']]\n",
    "    df['lunar_ay_sin'] = [np.sin(x*2*np.pi/31) for x in df['lunar_day']]\n",
    "    df['lunar_day_cos'] = [np.cos(x*2*np.pi/31) for x in df['lunar_day']]\n",
    "    df.drop(['day', 'lunar_day'], axis=1, inplace=True)\n",
    "def weekday_norm(df):\n",
    "    df['weekday_sin'] = [np.sin(x*2*np.pi/7) for x in df['weekday']]\n",
    "    df['weekday_cos'] = [np.cos(x*2*np.pi/7) for x in df['weekday']]"
   ]
  },
  {
   "cell_type": "code",
   "execution_count": 10,
   "metadata": {
    "collapsed": true
   },
   "outputs": [],
   "source": [
    "# 식사명 변환 (one-hot)\n",
    "def convert_ont_hot(df):\n",
    "    df = df.join(pd.get_dummies(df['식사명'], prefix='식사명'))\n",
    "    df.drop(['식사명'], axis=1, inplace=True)\n",
    "    return df"
   ]
  },
  {
   "cell_type": "code",
   "execution_count": 11,
   "metadata": {
    "collapsed": true
   },
   "outputs": [],
   "source": [
    "# 식사내용 변환 (Bag-of-Word)\n",
    "from sklearn.feature_extraction.text import CountVectorizer\n",
    "def tokenize(text):\n",
    "        return text.split(',')\n",
    "def convert_bow(df):\n",
    "    vectorizer = CountVectorizer(tokenizer=tokenize)\n",
    "    bow = vectorizer.fit_transform(df['식사내용']).toarray()\n",
    "    df = df.join(pd.DataFrame(bow, columns=vectorizer.get_feature_names()))\n",
    "    df.drop(['식사내용'], axis=1, inplace=True)\n",
    "    return df"
   ]
  },
  {
   "cell_type": "code",
   "execution_count": 12,
   "metadata": {
    "collapsed": true
   },
   "outputs": [],
   "source": [
    "# Read Data\n",
    "df = pd.read_excel(\"../data/train.xlsx\")"
   ]
  },
  {
   "cell_type": "code",
   "execution_count": 13,
   "metadata": {
    "collapsed": true
   },
   "outputs": [],
   "source": [
    "# Date\n",
    "split_date(df)\n",
    "add_lunar_date(df)\n",
    "\n",
    "# Date Normalization\n",
    "year_norm(df)\n",
    "month_norm(df)\n",
    "day_norm(df)\n",
    "weekday_norm(df)"
   ]
  },
  {
   "cell_type": "code",
   "execution_count": 14,
   "metadata": {
    "collapsed": true
   },
   "outputs": [],
   "source": [
    "# convert 식사명 to one-hot\n",
    "df = convert_ont_hot(df)\n",
    "\n",
    "# convert 식사내용 to Bag-of-Word Vector\n",
    "df = convert_bow(df)"
   ]
  },
  {
   "cell_type": "code",
   "execution_count": 15,
   "metadata": {},
   "outputs": [
    {
     "name": "stdout",
     "output_type": "stream",
     "text": [
      "Number of Columns = 1892\n"
     ]
    },
    {
     "data": {
      "text/html": [
       "<div>\n",
       "<style>\n",
       "    .dataframe thead tr:only-child th {\n",
       "        text-align: right;\n",
       "    }\n",
       "\n",
       "    .dataframe thead th {\n",
       "        text-align: left;\n",
       "    }\n",
       "\n",
       "    .dataframe tbody tr th {\n",
       "        vertical-align: top;\n",
       "    }\n",
       "</style>\n",
       "<table border=\"1\" class=\"dataframe\">\n",
       "  <thead>\n",
       "    <tr style=\"text-align: right;\">\n",
       "      <th></th>\n",
       "      <th>수량</th>\n",
       "      <th>year</th>\n",
       "      <th>weekday</th>\n",
       "      <th>lunar_year</th>\n",
       "      <th>month_sin</th>\n",
       "      <th>month_cos</th>\n",
       "      <th>lunar_month_sin</th>\n",
       "      <th>lunar_month_cos</th>\n",
       "      <th>day_sin</th>\n",
       "      <th>day_cos</th>\n",
       "      <th>...</th>\n",
       "      <th>휘)</th>\n",
       "      <th>흑미밥</th>\n",
       "      <th>흑미밥(현장)</th>\n",
       "      <th>흑임자밥</th>\n",
       "      <th>흑임자죽</th>\n",
       "      <th>흑콩견과류조림</th>\n",
       "      <th>흑콩밥</th>\n",
       "      <th>흑콩조림</th>\n",
       "      <th>흰죽</th>\n",
       "      <th>흰콩곤약조림</th>\n",
       "    </tr>\n",
       "  </thead>\n",
       "  <tbody>\n",
       "    <tr>\n",
       "      <th>0</th>\n",
       "      <td>37.472924</td>\n",
       "      <td>0.0</td>\n",
       "      <td>5</td>\n",
       "      <td>0.0</td>\n",
       "      <td>1.0</td>\n",
       "      <td>6.123234e-17</td>\n",
       "      <td>0.5</td>\n",
       "      <td>0.866025</td>\n",
       "      <td>0.201299</td>\n",
       "      <td>0.979530</td>\n",
       "      <td>...</td>\n",
       "      <td>0</td>\n",
       "      <td>0</td>\n",
       "      <td>0</td>\n",
       "      <td>0</td>\n",
       "      <td>0</td>\n",
       "      <td>0</td>\n",
       "      <td>0</td>\n",
       "      <td>0</td>\n",
       "      <td>0</td>\n",
       "      <td>0</td>\n",
       "    </tr>\n",
       "    <tr>\n",
       "      <th>1</th>\n",
       "      <td>19.566787</td>\n",
       "      <td>0.0</td>\n",
       "      <td>5</td>\n",
       "      <td>0.0</td>\n",
       "      <td>1.0</td>\n",
       "      <td>6.123234e-17</td>\n",
       "      <td>0.5</td>\n",
       "      <td>0.866025</td>\n",
       "      <td>0.201299</td>\n",
       "      <td>0.979530</td>\n",
       "      <td>...</td>\n",
       "      <td>0</td>\n",
       "      <td>0</td>\n",
       "      <td>0</td>\n",
       "      <td>0</td>\n",
       "      <td>0</td>\n",
       "      <td>0</td>\n",
       "      <td>0</td>\n",
       "      <td>0</td>\n",
       "      <td>0</td>\n",
       "      <td>0</td>\n",
       "    </tr>\n",
       "    <tr>\n",
       "      <th>2</th>\n",
       "      <td>31.191336</td>\n",
       "      <td>0.0</td>\n",
       "      <td>5</td>\n",
       "      <td>0.0</td>\n",
       "      <td>1.0</td>\n",
       "      <td>6.123234e-17</td>\n",
       "      <td>0.5</td>\n",
       "      <td>0.866025</td>\n",
       "      <td>0.201299</td>\n",
       "      <td>0.979530</td>\n",
       "      <td>...</td>\n",
       "      <td>0</td>\n",
       "      <td>0</td>\n",
       "      <td>0</td>\n",
       "      <td>0</td>\n",
       "      <td>0</td>\n",
       "      <td>0</td>\n",
       "      <td>0</td>\n",
       "      <td>0</td>\n",
       "      <td>0</td>\n",
       "      <td>0</td>\n",
       "    </tr>\n",
       "    <tr>\n",
       "      <th>3</th>\n",
       "      <td>36.101083</td>\n",
       "      <td>0.0</td>\n",
       "      <td>6</td>\n",
       "      <td>0.0</td>\n",
       "      <td>1.0</td>\n",
       "      <td>6.123234e-17</td>\n",
       "      <td>0.5</td>\n",
       "      <td>0.866025</td>\n",
       "      <td>0.394356</td>\n",
       "      <td>0.918958</td>\n",
       "      <td>...</td>\n",
       "      <td>0</td>\n",
       "      <td>0</td>\n",
       "      <td>0</td>\n",
       "      <td>0</td>\n",
       "      <td>0</td>\n",
       "      <td>0</td>\n",
       "      <td>0</td>\n",
       "      <td>0</td>\n",
       "      <td>0</td>\n",
       "      <td>0</td>\n",
       "    </tr>\n",
       "    <tr>\n",
       "      <th>4</th>\n",
       "      <td>21.949458</td>\n",
       "      <td>0.0</td>\n",
       "      <td>6</td>\n",
       "      <td>0.0</td>\n",
       "      <td>1.0</td>\n",
       "      <td>6.123234e-17</td>\n",
       "      <td>0.5</td>\n",
       "      <td>0.866025</td>\n",
       "      <td>0.394356</td>\n",
       "      <td>0.918958</td>\n",
       "      <td>...</td>\n",
       "      <td>0</td>\n",
       "      <td>0</td>\n",
       "      <td>0</td>\n",
       "      <td>0</td>\n",
       "      <td>0</td>\n",
       "      <td>0</td>\n",
       "      <td>0</td>\n",
       "      <td>0</td>\n",
       "      <td>0</td>\n",
       "      <td>0</td>\n",
       "    </tr>\n",
       "  </tbody>\n",
       "</table>\n",
       "<p>5 rows × 1892 columns</p>\n",
       "</div>"
      ],
      "text/plain": [
       "          수량  year  weekday  lunar_year  month_sin     month_cos  \\\n",
       "0  37.472924   0.0        5         0.0        1.0  6.123234e-17   \n",
       "1  19.566787   0.0        5         0.0        1.0  6.123234e-17   \n",
       "2  31.191336   0.0        5         0.0        1.0  6.123234e-17   \n",
       "3  36.101083   0.0        6         0.0        1.0  6.123234e-17   \n",
       "4  21.949458   0.0        6         0.0        1.0  6.123234e-17   \n",
       "\n",
       "   lunar_month_sin  lunar_month_cos   day_sin   day_cos   ...    휘)  흑미밥  \\\n",
       "0              0.5         0.866025  0.201299  0.979530   ...     0    0   \n",
       "1              0.5         0.866025  0.201299  0.979530   ...     0    0   \n",
       "2              0.5         0.866025  0.201299  0.979530   ...     0    0   \n",
       "3              0.5         0.866025  0.394356  0.918958   ...     0    0   \n",
       "4              0.5         0.866025  0.394356  0.918958   ...     0    0   \n",
       "\n",
       "   흑미밥(현장)  흑임자밥  흑임자죽  흑콩견과류조림  흑콩밥  흑콩조림  흰죽  흰콩곤약조림  \n",
       "0        0     0     0        0    0     0   0       0  \n",
       "1        0     0     0        0    0     0   0       0  \n",
       "2        0     0     0        0    0     0   0       0  \n",
       "3        0     0     0        0    0     0   0       0  \n",
       "4        0     0     0        0    0     0   0       0  \n",
       "\n",
       "[5 rows x 1892 columns]"
      ]
     },
     "execution_count": 15,
     "metadata": {},
     "output_type": "execute_result"
    }
   ],
   "source": [
    "print(\"Number of Columns =\", len(df.columns))\n",
    "df.head()"
   ]
  },
  {
   "cell_type": "markdown",
   "metadata": {},
   "source": [
    "# Modeling"
   ]
  },
  {
   "cell_type": "markdown",
   "metadata": {},
   "source": [
    "1. Random Forest\n",
    "2. XGBoost"
   ]
  },
  {
   "cell_type": "markdown",
   "metadata": {},
   "source": [
    "## 0. Prepare train & test"
   ]
  },
  {
   "cell_type": "markdown",
   "metadata": {},
   "source": [
    "#### 1) Split train and test(validation) set by 8 to 2"
   ]
  },
  {
   "cell_type": "code",
   "execution_count": 16,
   "metadata": {},
   "outputs": [
    {
     "name": "stdout",
     "output_type": "stream",
     "text": [
      "(16008, 1892)\n",
      "(4002, 1892)\n"
     ]
    }
   ],
   "source": [
    "from sklearn.model_selection import train_test_split\n",
    "train_df, dev_df = train_test_split(df, test_size=0.2, random_state=10)\n",
    "print(train_df.shape)\n",
    "print(dev_df.shape)"
   ]
  },
  {
   "cell_type": "code",
   "execution_count": 17,
   "metadata": {
    "collapsed": true
   },
   "outputs": [],
   "source": [
    "train_y = train_df['수량']\n",
    "train_x = train_df.drop(['수량'], axis=1)\n",
    "dev_y = dev_df['수량']\n",
    "dev_x = dev_df.drop(['수량'], axis=1)"
   ]
  },
  {
   "cell_type": "markdown",
   "metadata": {},
   "source": [
    "#### 2) train, predict, evaluation function (반복적으로 사용되는 코드이므로)"
   ]
  },
  {
   "cell_type": "code",
   "execution_count": 18,
   "metadata": {
    "collapsed": true
   },
   "outputs": [],
   "source": [
    "from sklearn.metrics import mean_squared_error\n",
    "import math\n",
    "\n",
    "def train_and_predict(model, train_x, train_y, dev_x):\n",
    "    model.fit(train_x, train_y)\n",
    "    return model.predict(dev_x)\n",
    "\n",
    "def evaluate(predict_y, actual_y):\n",
    "    rmse = math.sqrt(mean_squared_error(actual_y, predict_y))\n",
    "    print('RMSE :', round(np.mean(rmse), 4))"
   ]
  },
  {
   "cell_type": "markdown",
   "metadata": {},
   "source": [
    "## 1. Random Forest"
   ]
  },
  {
   "cell_type": "code",
   "execution_count": 31,
   "metadata": {
    "collapsed": true
   },
   "outputs": [],
   "source": [
    "from sklearn.ensemble import RandomForestRegressor\n",
    "model = RandomForestRegressor(n_estimators = 100, random_state = 10)"
   ]
  },
  {
   "cell_type": "code",
   "execution_count": 32,
   "metadata": {},
   "outputs": [
    {
     "name": "stdout",
     "output_type": "stream",
     "text": [
      "RMSE : 4.7806\n",
      "CPU times: user 2min 23s, sys: 1.48 s, total: 2min 25s\n",
      "Wall time: 2min 26s\n"
     ]
    }
   ],
   "source": [
    "%%time\n",
    "pred = train_and_predict(model, train_x, train_y, dev_x)\n",
    "evaluate(pred, dev_y)"
   ]
  },
  {
   "cell_type": "markdown",
   "metadata": {},
   "source": [
    "## 2. XGBoost"
   ]
  },
  {
   "cell_type": "code",
   "execution_count": 34,
   "metadata": {},
   "outputs": [],
   "source": [
    "import xgboost as xgb\n",
    "model = xgb.XGBRegressor(n_estimators=200, \n",
    "                         learning_rate=0.05, \n",
    "                         max_depth=15,\n",
    "                         colsample_bytree=0.9,\n",
    "                         gamma=0.4,\n",
    "                         min_child_weight=7,\n",
    "                         subsample=0.9,\n",
    "                         reg_alpha=0.1,\n",
    "                         seed=10)"
   ]
  },
  {
   "cell_type": "code",
   "execution_count": 35,
   "metadata": {},
   "outputs": [
    {
     "name": "stdout",
     "output_type": "stream",
     "text": [
      "RMSE : 4.6454\n",
      "CPU times: user 12min 9s, sys: 5.27 s, total: 12min 14s\n",
      "Wall time: 12min 22s\n"
     ]
    }
   ],
   "source": [
    "%%time\n",
    "pred = train_and_predict(model, train_x, train_y, dev_x)\n",
    "evaluate(pred, dev_y)"
   ]
  },
  {
   "cell_type": "code",
   "execution_count": 36,
   "metadata": {},
   "outputs": [
    {
     "data": {
      "text/plain": [
       "<matplotlib.axes._subplots.AxesSubplot at 0x1152bcc50>"
      ]
     },
     "execution_count": 36,
     "metadata": {},
     "output_type": "execute_result"
    },
    {
     "data": {
      "image/png": "[encoded data removed]",
      "text/plain": [
       "<matplotlib.figure.Figure at 0x1149a8470>"
      ]
     },
     "metadata": {},
     "output_type": "display_data"
    }
   ],
   "source": [
    "import matplotlib.pyplot as plt\n",
    "import matplotlib\n",
    "%matplotlib inline \n",
    "\n",
    "plt.rcParams['figure.figsize'] = (16,4)\n",
    "plt.rcParams['font.family'] = 'AppleGothic'\n",
    "\n",
    "xgb.plot_importance(model, max_num_features=10)"
   ]
  },
  {
   "cell_type": "code",
   "execution_count": 37,
   "metadata": {},
   "outputs": [
    {
     "data": {
      "text/plain": [
       "[<matplotlib.lines.Line2D at 0x1192d4b00>]"
      ]
     },
     "execution_count": 37,
     "metadata": {},
     "output_type": "execute_result"
    },
    {
     "data": {
      "image/png": "[encoded data removed]",
      "text/plain": [
       "<matplotlib.figure.Figure at 0x1192d44a8>"
      ]
     },
     "metadata": {},
     "output_type": "display_data"
    }
   ],
   "source": [
    "plt.rcParams[\"figure.figsize\"] = (20,3)\n",
    "index = 500\n",
    "\n",
    "plt.plot(pred[index:index+100])\n",
    "plt.plot(dev_y.values[index:index+100])"
   ]
  },
  {
   "cell_type": "code",
   "execution_count": null,
   "metadata": {
    "collapsed": true
   },
   "outputs": [],
   "source": []
  }
 ],
 "metadata": {
  "kernelspec": {
   "display_name": "Python 3",
   "language": "python",
   "name": "python3"
  },
  "language_info": {
   "codemirror_mode": {
    "name": "ipython",
    "version": 3
   },
   "file_extension": ".py",
   "mimetype": "text/x-python",
   "name": "python",
   "nbconvert_exporter": "python",
   "pygments_lexer": "ipython3",
   "version": "3.6.2"
  }
 },
 "nbformat": 4,
 "nbformat_minor": 2
}
