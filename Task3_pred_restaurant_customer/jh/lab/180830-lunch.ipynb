{
 "cells": [
  {
   "cell_type": "code",
   "execution_count": 1,
   "metadata": {},
   "outputs": [],
   "source": [
    "import pandas as pd\n",
    "import numpy as np"
   ]
  },
  {
   "cell_type": "markdown",
   "metadata": {},
   "source": [
    "## 데이터 전처리 (data_preprocessing.ipynb)\n",
    "* Date Split\n",
    "* Weekday\n",
    "* Lunar Date\n",
    "* Date Normalization\n",
    "* 식사명 -> one-hot\n",
    "* 식사내용 -> bag-of-word"
   ]
  },
  {
   "cell_type": "code",
   "execution_count": 2,
   "metadata": {},
   "outputs": [],
   "source": [
    "w_feature = ['평균기온(°C)','최저기온(°C)','최고기온(°C)','최대 풍속(m/s)','평균 풍속(m/s)','평균 이슬점온도(°C)',\n",
    "             '평균 상대습도(%)','가조시간(hr)','합계 일조 시간(hr)','평균 지면온도(°C)','합계 일사(MJ/m2)']\n",
    "\n",
    "def add_weather(df):\n",
    "    weather = pd.read_excel(\"../data/[과제3] 관련. 포항지역 날씨 데이터(03~17).xlsx\")\n",
    "    weather['일시'] = [int(x.strftime(\"%Y%m%d\")) for x in weather['일시']]\n",
    "    weather = weather[w_feature+['일시', '기사']]\n",
    "    \n",
    "    gisa_onehot = []\n",
    "    str_gisa = weather['기사'].astype(str)\n",
    "    check_w = ['비', '박무', '연무', '채운', '눈', '황사', '소나기', \n",
    "               '진눈깨비', '천둥', '뇌전', '번개', '우박', '햇무리', '달무리']\n",
    "    w_col = [\"기사_\"+x for x in check_w]\n",
    "    for s in str_gisa:\n",
    "        temp_w = []\n",
    "        for c in check_w:\n",
    "            if c in s:\n",
    "                temp_w.append(1)\n",
    "            else:\n",
    "                temp_w.append(0)\n",
    "        gisa_onehot.append(temp_w)\n",
    "    gisa_onehot = np.array(gisa_onehot)\n",
    "    weather = weather.join(pd.DataFrame(gisa_onehot, columns=w_col))\n",
    "    weather.drop(['기사'], axis=1, inplace=True)\n",
    "    \n",
    "    for x in weather.columns:\n",
    "        if weather[x].isnull().sum() < len(weather):\n",
    "            if x not in check_w:\n",
    "                weather[x].interpolate(inplace=True)\n",
    "            if x != '일시':\n",
    "                weather[x] = weather[x].shift(3)\n",
    "    \n",
    "    df = pd.merge(df, weather, how='left', left_on='일자', right_on='일시')\n",
    "    df.drop(['일시'], axis=1, inplace=True)\n",
    "    \n",
    "    return df"
   ]
  },
  {
   "cell_type": "code",
   "execution_count": 3,
   "metadata": {},
   "outputs": [],
   "source": [
    "# 식사명 변환 (one-hot)\n",
    "def convert_ont_hot(df):\n",
    "    df = df.join(pd.get_dummies(df['식사명'], prefix='식사명'))\n",
    "    df.drop(['식사명'], axis=1, inplace=True)\n",
    "    return df"
   ]
  },
  {
   "cell_type": "code",
   "execution_count": 4,
   "metadata": {},
   "outputs": [],
   "source": [
    "def moving_average(df):\n",
    "    def ma_window(df, window_size):\n",
    "        morning = df['수량'][df['식사명_아침']==1].rolling(window_size, min_periods=1).mean().shift(3)\n",
    "        lunch = df['수량'][df['식사명_점심(일반)']==1].rolling(window_size, min_periods=1).mean().shift(3)\n",
    "        lunch_west = df['수량'][df['식사명_점심(양식)']==1].rolling(window_size, min_periods=1).mean().shift(3)\n",
    "        dinner = df['수량'][df['식사명_저녁']==1].rolling(window_size, min_periods=1).mean().shift(3)    \n",
    "        return pd.concat([morning, lunch, lunch_west, dinner]).sort_index()\n",
    "#     df['MA_1day'] = ma_window(df, 1)\n",
    "#     df['MA_3day'] = ma_window(df, 3)\n",
    "#     df['MA_5day'] = ma_window(df, 5)\n",
    "    df['MA_week'] = ma_window(df, 7)/100\n",
    "    df['MA_month'] = ma_window(df, 30)/100\n",
    "    df['MA_half_year'] = ma_window(df, 180)/100\n",
    "    df['MA_year'] = ma_window(df, 365)/100\n",
    "    df.drop(df[df.일자 < 20040326].index, inplace=True)\n",
    "    df.drop(df[(df.일자 > 20050109) & (df.일자 < 20060331) & (df['식사명_점심(양식)']==1)].index, inplace=True)\n",
    "    df.reset_index(drop=True, inplace=True)\n",
    "    return df"
   ]
  },
  {
   "cell_type": "code",
   "execution_count": 7,
   "metadata": {},
   "outputs": [],
   "source": [
    "# 식사내용 변환 (Bag-of-Word)\n",
    "import konlpy\n",
    "import re\n",
    "def menu_dictionary(menu_list):\n",
    "    def tokenize(text):\n",
    "        text = text.replace('.', ',')\n",
    "        text = text.replace('/', ',')\n",
    "        text = text.replace('&', ',')\n",
    "        return text.split(',')\n",
    "    menu = []\n",
    "    for m in menu_list:\n",
    "        for mm in tokenize(m):\n",
    "            mm = re.sub('\\(.*?\\)', '', mm)\n",
    "            mm = re.sub('[0-9a-zA-Z]', '', mm)\n",
    "            menu.append(mm)\n",
    "    menu = list(set(menu))\n",
    "    \n",
    "    okt = konlpy.tag.Okt()\n",
    "    menu_morphs = []\n",
    "    for m in menu:\n",
    "        for ok in okt.morphs(m):\n",
    "            if len(ok) > 1:\n",
    "                menu_morphs.append(ok)\n",
    "    menu_morphs += ['떡', '국', '회', '탕', '밥', '닭', '죽', '찜']\n",
    "    menu_morphs = list(set(menu_morphs))\n",
    "    return menu_morphs\n",
    "\n",
    "def convert_bow(df):\n",
    "    menu = menu_dictionary(df['식사내용'])\n",
    "    bow =[]\n",
    "    for row in df['식사내용']:\n",
    "        vec = []\n",
    "        for m in menu:\n",
    "            if m in row:\n",
    "                vec.append(1)\n",
    "            else:\n",
    "                vec.append(0)\n",
    "        bow.append(vec)\n",
    "    bow = np.array(bow)\n",
    "    df = df.join(pd.DataFrame(bow, columns=menu))\n",
    "    df.drop(['식사내용'], axis=1, inplace=True)\n",
    "    return df"
   ]
  },
  {
   "cell_type": "code",
   "execution_count": 8,
   "metadata": {},
   "outputs": [],
   "source": [
    "# 년/월/일 분리(split) + 요일(Weekday) 추가\n",
    "def split_date(df):\n",
    "    # Normalize Date\n",
    "    df['year'] = (df['일자'] / 10000).astype(int)\n",
    "    df['month'] = (df['일자'] % 10000 / 100).astype(int)\n",
    "    df['day'] = (df['일자'] % 100).astype(int)\n",
    "    df['weekday'] = pd.to_datetime(df['일자'], format = '%Y%m%d').dt.dayofweek\n",
    "    return df"
   ]
  },
  {
   "cell_type": "code",
   "execution_count": 12,
   "metadata": {},
   "outputs": [],
   "source": [
    "# 음력 추가\n",
    "from korean_lunar_calendar import KoreanLunarCalendar\n",
    "from datetime import datetime\n",
    "\n",
    "def add_lunar_date(df):\n",
    "    calendar = KoreanLunarCalendar()\n",
    "    \n",
    "    lunar_y = []\n",
    "    lunar_m = []\n",
    "    lunar_d = []\n",
    "    for y, m, d in zip (df['year'], df['month'], df['day']):\n",
    "        calendar.setSolarDate(y, m, d)\n",
    "        lunar_date = calendar.LunarIsoFormat()\n",
    "        lunar_y.append(int(lunar_date[:4]))\n",
    "        lunar_m.append(int(lunar_date[5:7]))\n",
    "        lunar_d.append(int(lunar_date[8:10]))\n",
    "        \n",
    "    df['lunar_year'], df['lunar_month'], df['lunar_day'] = lunar_y, lunar_m, lunar_d\n",
    "    return df"
   ]
  },
  {
   "cell_type": "code",
   "execution_count": 13,
   "metadata": {},
   "outputs": [],
   "source": [
    "# 년/월/일 변환\n",
    "def year_norm(df):\n",
    "    df['year'] = (df['year']-min(df['year'])) / (max(df['year'])-min(df['year']))\n",
    "    df['lunar_year'] = (df['lunar_year']-min(df['lunar_year'])) / (max(df['lunar_year'])-min(df['lunar_year']))\n",
    "    return df\n",
    "def month_norm(df):\n",
    "    df['month_sin'] = [np.sin(x*2*np.pi/12) for x in df['month']]\n",
    "    df['month_cos'] = [np.cos(x*2*np.pi/12) for x in df['month']]\n",
    "    df['lunar_month_sin'] = [np.sin(x*2*np.pi/12) for x in df['lunar_month']]\n",
    "    df['lunar_month_cos'] = [np.cos(x*2*np.pi/12) for x in df['lunar_month']]\n",
    "    df.drop(['month', 'lunar_month'], axis=1, inplace=True)\n",
    "    return df\n",
    "def day_norm(df):\n",
    "    df['day_sin'] = [np.sin(x*2*np.pi/31) for x in df['day']]\n",
    "    df['day_cos'] = [np.cos(x*2*np.pi/31) for x in df['day']]\n",
    "    df['lunar_ay_sin'] = [np.sin(x*2*np.pi/31) for x in df['lunar_day']]\n",
    "    df['lunar_day_cos'] = [np.cos(x*2*np.pi/31) for x in df['lunar_day']]\n",
    "    df.drop(['day', 'lunar_day'], axis=1, inplace=True)\n",
    "    return df\n",
    "def weekday_norm(df):\n",
    "    df['weekday_sin'] = [np.sin(x*2*np.pi/7) for x in df['weekday']]\n",
    "    df['weekday_cos'] = [np.cos(x*2*np.pi/7) for x in df['weekday']]\n",
    "    return df"
   ]
  },
  {
   "cell_type": "code",
   "execution_count": 14,
   "metadata": {},
   "outputs": [],
   "source": [
    "# Read Data\n",
    "df = pd.read_excel(\"../data/train.xlsx\")"
   ]
  },
  {
   "cell_type": "code",
   "execution_count": 15,
   "metadata": {
    "scrolled": true
   },
   "outputs": [
    {
     "data": {
      "text/html": [
       "<div>\n",
       "<style scoped>\n",
       "    .dataframe tbody tr th:only-of-type {\n",
       "        vertical-align: middle;\n",
       "    }\n",
       "\n",
       "    .dataframe tbody tr th {\n",
       "        vertical-align: top;\n",
       "    }\n",
       "\n",
       "    .dataframe thead th {\n",
       "        text-align: right;\n",
       "    }\n",
       "</style>\n",
       "<table border=\"1\" class=\"dataframe\">\n",
       "  <thead>\n",
       "    <tr style=\"text-align: right;\">\n",
       "      <th></th>\n",
       "      <th>일자</th>\n",
       "      <th>식사명</th>\n",
       "      <th>식사내용</th>\n",
       "      <th>수량</th>\n",
       "    </tr>\n",
       "  </thead>\n",
       "  <tbody>\n",
       "    <tr>\n",
       "      <th>0</th>\n",
       "      <td>20030301</td>\n",
       "      <td>아침</td>\n",
       "      <td>과일샐러드,닭죽,돈육마늘장조림,떡만두국,부추김무침,쌀밥,딸기잼(중),비엔나구이,스크...</td>\n",
       "      <td>37.472924</td>\n",
       "    </tr>\n",
       "    <tr>\n",
       "      <th>1</th>\n",
       "      <td>20030301</td>\n",
       "      <td>저녁</td>\n",
       "      <td>감자으깸샐러드,비프까스,스위트피클,쌀밥,옥수수스프</td>\n",
       "      <td>19.566787</td>\n",
       "    </tr>\n",
       "    <tr>\n",
       "      <th>2</th>\n",
       "      <td>20030301</td>\n",
       "      <td>점심(일반)</td>\n",
       "      <td>골뱅이야채무침,새우맛살튀김,쌀밥(사무직),열무겉절이,칼국수</td>\n",
       "      <td>31.191336</td>\n",
       "    </tr>\n",
       "    <tr>\n",
       "      <th>3</th>\n",
       "      <td>20030302</td>\n",
       "      <td>아침</td>\n",
       "      <td>계란죽,곤약멸치조림,김치국,마카로니샐러드,쌀밥,오징어회무침,딸기잼(중),삶은계란,야...</td>\n",
       "      <td>36.101083</td>\n",
       "    </tr>\n",
       "    <tr>\n",
       "      <th>4</th>\n",
       "      <td>20030302</td>\n",
       "      <td>저녁</td>\n",
       "      <td>계란탕,단무지잔파무침,자장소스,잡채밥,탕수만두</td>\n",
       "      <td>21.949458</td>\n",
       "    </tr>\n",
       "  </tbody>\n",
       "</table>\n",
       "</div>"
      ],
      "text/plain": [
       "         일자     식사명                                               식사내용  \\\n",
       "0  20030301      아침  과일샐러드,닭죽,돈육마늘장조림,떡만두국,부추김무침,쌀밥,딸기잼(중),비엔나구이,스크...   \n",
       "1  20030301      저녁                        감자으깸샐러드,비프까스,스위트피클,쌀밥,옥수수스프   \n",
       "2  20030301  점심(일반)                   골뱅이야채무침,새우맛살튀김,쌀밥(사무직),열무겉절이,칼국수   \n",
       "3  20030302      아침  계란죽,곤약멸치조림,김치국,마카로니샐러드,쌀밥,오징어회무침,딸기잼(중),삶은계란,야...   \n",
       "4  20030302      저녁                          계란탕,단무지잔파무침,자장소스,잡채밥,탕수만두   \n",
       "\n",
       "          수량  \n",
       "0  37.472924  \n",
       "1  19.566787  \n",
       "2  31.191336  \n",
       "3  36.101083  \n",
       "4  21.949458  "
      ]
     },
     "execution_count": 15,
     "metadata": {},
     "output_type": "execute_result"
    }
   ],
   "source": [
    "df.head()"
   ]
  },
  {
   "cell_type": "code",
   "execution_count": 16,
   "metadata": {},
   "outputs": [],
   "source": [
    "# add Weather Information\n",
    "df = add_weather(df)\n",
    "\n",
    "# convert 식사명 to one-hot\n",
    "df = convert_ont_hot(df)\n",
    "\n",
    "# Moving Average of 수량\n",
    "df = moving_average(df)\n",
    "\n",
    "# convert 식사내용 to Bag-of-Word Vector\n",
    "df = convert_bow(df)\n",
    "\n",
    "# Date\n",
    "df = split_date(df)\n",
    "df = add_lunar_date(df)\n",
    "\n",
    "# Date Normalization\n",
    "df = year_norm(df)\n",
    "df = month_norm(df)\n",
    "df = day_norm(df)\n",
    "df = weekday_norm(df)"
   ]
  },
  {
   "cell_type": "code",
   "execution_count": 17,
   "metadata": {},
   "outputs": [],
   "source": [
    "lunch = []\n",
    "for a, b in zip(df['식사명_점심(일반)'], df['식사명_점심(양식)']):\n",
    "    if a==1 or b==1:\n",
    "        lunch.append(1)\n",
    "    else:\n",
    "        lunch.append(0)\n",
    "df['식사명_점심'] = lunch"
   ]
  },
  {
   "cell_type": "code",
   "execution_count": 18,
   "metadata": {},
   "outputs": [],
   "source": [
    "date = sorted(list(set(df['일자'])))\n",
    "\n",
    "one_lunch = []\n",
    "for d in date:\n",
    "    if df[df['일자']==d]['식사명_점심(양식)'].sum() == 0:\n",
    "        for _ in range(len(df[df['일자']==d])):\n",
    "            one_lunch.append(1)\n",
    "    else:\n",
    "        for _ in range(len(df[df['일자']==d])):\n",
    "            one_lunch.append(0)\n",
    "df['점심하나줌'] = one_lunch"
   ]
  },
  {
   "cell_type": "code",
   "execution_count": 19,
   "metadata": {
    "scrolled": false
   },
   "outputs": [
    {
     "name": "stdout",
     "output_type": "stream",
     "text": [
      "Number of Columns = 851\n"
     ]
    },
    {
     "data": {
      "text/html": [
       "<div>\n",
       "<style scoped>\n",
       "    .dataframe tbody tr th:only-of-type {\n",
       "        vertical-align: middle;\n",
       "    }\n",
       "\n",
       "    .dataframe tbody tr th {\n",
       "        vertical-align: top;\n",
       "    }\n",
       "\n",
       "    .dataframe thead th {\n",
       "        text-align: right;\n",
       "    }\n",
       "</style>\n",
       "<table border=\"1\" class=\"dataframe\">\n",
       "  <thead>\n",
       "    <tr style=\"text-align: right;\">\n",
       "      <th></th>\n",
       "      <th>일자</th>\n",
       "      <th>수량</th>\n",
       "      <th>평균기온(°C)</th>\n",
       "      <th>최저기온(°C)</th>\n",
       "      <th>최고기온(°C)</th>\n",
       "      <th>최대 풍속(m/s)</th>\n",
       "      <th>평균 풍속(m/s)</th>\n",
       "      <th>평균 이슬점온도(°C)</th>\n",
       "      <th>평균 상대습도(%)</th>\n",
       "      <th>가조시간(hr)</th>\n",
       "      <th>...</th>\n",
       "      <th>lunar_month_sin</th>\n",
       "      <th>lunar_month_cos</th>\n",
       "      <th>day_sin</th>\n",
       "      <th>day_cos</th>\n",
       "      <th>lunar_ay_sin</th>\n",
       "      <th>lunar_day_cos</th>\n",
       "      <th>weekday_sin</th>\n",
       "      <th>weekday_cos</th>\n",
       "      <th>식사명_점심</th>\n",
       "      <th>점심하나줌</th>\n",
       "    </tr>\n",
       "  </thead>\n",
       "  <tbody>\n",
       "    <tr>\n",
       "      <th>0</th>\n",
       "      <td>20040326</td>\n",
       "      <td>41.877256</td>\n",
       "      <td>10.5</td>\n",
       "      <td>4.6</td>\n",
       "      <td>17.6</td>\n",
       "      <td>6.3</td>\n",
       "      <td>3.0</td>\n",
       "      <td>3.5</td>\n",
       "      <td>62.5</td>\n",
       "      <td>12.3</td>\n",
       "      <td>...</td>\n",
       "      <td>0.866025</td>\n",
       "      <td>0.5</td>\n",
       "      <td>-0.848644</td>\n",
       "      <td>0.528964</td>\n",
       "      <td>0.937752</td>\n",
       "      <td>0.347305</td>\n",
       "      <td>-0.433884</td>\n",
       "      <td>-0.900969</td>\n",
       "      <td>0</td>\n",
       "      <td>1</td>\n",
       "    </tr>\n",
       "    <tr>\n",
       "      <th>1</th>\n",
       "      <td>20040326</td>\n",
       "      <td>13.718412</td>\n",
       "      <td>10.5</td>\n",
       "      <td>4.6</td>\n",
       "      <td>17.6</td>\n",
       "      <td>6.3</td>\n",
       "      <td>3.0</td>\n",
       "      <td>3.5</td>\n",
       "      <td>62.5</td>\n",
       "      <td>12.3</td>\n",
       "      <td>...</td>\n",
       "      <td>0.866025</td>\n",
       "      <td>0.5</td>\n",
       "      <td>-0.848644</td>\n",
       "      <td>0.528964</td>\n",
       "      <td>0.937752</td>\n",
       "      <td>0.347305</td>\n",
       "      <td>-0.433884</td>\n",
       "      <td>-0.900969</td>\n",
       "      <td>0</td>\n",
       "      <td>1</td>\n",
       "    </tr>\n",
       "    <tr>\n",
       "      <th>2</th>\n",
       "      <td>20040326</td>\n",
       "      <td>40.361011</td>\n",
       "      <td>10.5</td>\n",
       "      <td>4.6</td>\n",
       "      <td>17.6</td>\n",
       "      <td>6.3</td>\n",
       "      <td>3.0</td>\n",
       "      <td>3.5</td>\n",
       "      <td>62.5</td>\n",
       "      <td>12.3</td>\n",
       "      <td>...</td>\n",
       "      <td>0.866025</td>\n",
       "      <td>0.5</td>\n",
       "      <td>-0.848644</td>\n",
       "      <td>0.528964</td>\n",
       "      <td>0.937752</td>\n",
       "      <td>0.347305</td>\n",
       "      <td>-0.433884</td>\n",
       "      <td>-0.900969</td>\n",
       "      <td>1</td>\n",
       "      <td>1</td>\n",
       "    </tr>\n",
       "    <tr>\n",
       "      <th>3</th>\n",
       "      <td>20040327</td>\n",
       "      <td>37.184116</td>\n",
       "      <td>11.5</td>\n",
       "      <td>7.2</td>\n",
       "      <td>15.6</td>\n",
       "      <td>4.6</td>\n",
       "      <td>2.5</td>\n",
       "      <td>-0.3</td>\n",
       "      <td>46.0</td>\n",
       "      <td>12.3</td>\n",
       "      <td>...</td>\n",
       "      <td>0.866025</td>\n",
       "      <td>0.5</td>\n",
       "      <td>-0.724793</td>\n",
       "      <td>0.688967</td>\n",
       "      <td>0.988468</td>\n",
       "      <td>0.151428</td>\n",
       "      <td>-0.974928</td>\n",
       "      <td>-0.222521</td>\n",
       "      <td>0</td>\n",
       "      <td>1</td>\n",
       "    </tr>\n",
       "    <tr>\n",
       "      <th>4</th>\n",
       "      <td>20040327</td>\n",
       "      <td>12.635379</td>\n",
       "      <td>11.5</td>\n",
       "      <td>7.2</td>\n",
       "      <td>15.6</td>\n",
       "      <td>4.6</td>\n",
       "      <td>2.5</td>\n",
       "      <td>-0.3</td>\n",
       "      <td>46.0</td>\n",
       "      <td>12.3</td>\n",
       "      <td>...</td>\n",
       "      <td>0.866025</td>\n",
       "      <td>0.5</td>\n",
       "      <td>-0.724793</td>\n",
       "      <td>0.688967</td>\n",
       "      <td>0.988468</td>\n",
       "      <td>0.151428</td>\n",
       "      <td>-0.974928</td>\n",
       "      <td>-0.222521</td>\n",
       "      <td>0</td>\n",
       "      <td>1</td>\n",
       "    </tr>\n",
       "  </tbody>\n",
       "</table>\n",
       "<p>5 rows × 851 columns</p>\n",
       "</div>"
      ],
      "text/plain": [
       "         일자         수량  평균기온(°C)  최저기온(°C)  최고기온(°C)  최대 풍속(m/s)  평균 풍속(m/s)  \\\n",
       "0  20040326  41.877256      10.5       4.6      17.6         6.3         3.0   \n",
       "1  20040326  13.718412      10.5       4.6      17.6         6.3         3.0   \n",
       "2  20040326  40.361011      10.5       4.6      17.6         6.3         3.0   \n",
       "3  20040327  37.184116      11.5       7.2      15.6         4.6         2.5   \n",
       "4  20040327  12.635379      11.5       7.2      15.6         4.6         2.5   \n",
       "\n",
       "   평균 이슬점온도(°C)  평균 상대습도(%)  가조시간(hr)  ...    lunar_month_sin  \\\n",
       "0           3.5        62.5      12.3  ...           0.866025   \n",
       "1           3.5        62.5      12.3  ...           0.866025   \n",
       "2           3.5        62.5      12.3  ...           0.866025   \n",
       "3          -0.3        46.0      12.3  ...           0.866025   \n",
       "4          -0.3        46.0      12.3  ...           0.866025   \n",
       "\n",
       "   lunar_month_cos   day_sin   day_cos  lunar_ay_sin  lunar_day_cos  \\\n",
       "0              0.5 -0.848644  0.528964      0.937752       0.347305   \n",
       "1              0.5 -0.848644  0.528964      0.937752       0.347305   \n",
       "2              0.5 -0.848644  0.528964      0.937752       0.347305   \n",
       "3              0.5 -0.724793  0.688967      0.988468       0.151428   \n",
       "4              0.5 -0.724793  0.688967      0.988468       0.151428   \n",
       "\n",
       "   weekday_sin  weekday_cos  식사명_점심  점심하나줌  \n",
       "0    -0.433884    -0.900969       0      1  \n",
       "1    -0.433884    -0.900969       0      1  \n",
       "2    -0.433884    -0.900969       1      1  \n",
       "3    -0.974928    -0.222521       0      1  \n",
       "4    -0.974928    -0.222521       0      1  \n",
       "\n",
       "[5 rows x 851 columns]"
      ]
     },
     "execution_count": 19,
     "metadata": {},
     "output_type": "execute_result"
    }
   ],
   "source": [
    "print(\"Number of Columns =\", len(df.columns))\n",
    "df.head()"
   ]
  },
  {
   "cell_type": "markdown",
   "metadata": {},
   "source": [
    "# Modeling"
   ]
  },
  {
   "cell_type": "markdown",
   "metadata": {},
   "source": [
    "1. Random Forest\n",
    "2. XGBoost"
   ]
  },
  {
   "cell_type": "markdown",
   "metadata": {},
   "source": [
    "## 0. Prepare train & test"
   ]
  },
  {
   "cell_type": "markdown",
   "metadata": {},
   "source": [
    "#### 1) Split train and test(validation) set by 8 to 2"
   ]
  },
  {
   "cell_type": "code",
   "execution_count": 20,
   "metadata": {},
   "outputs": [],
   "source": [
    "np.random.seed(10)\n",
    "shuffled_idx = np.concatenate((df['일자'].unique()[:2000], np.random.permutation(df['일자'].unique()[2000:])))"
   ]
  },
  {
   "cell_type": "code",
   "execution_count": 21,
   "metadata": {},
   "outputs": [],
   "source": [
    "dev_ratio = 0.2\n",
    "train_idx = int(len(df['일자'].unique()) * (1-dev_ratio))\n",
    "shuffled_idx[:train_idx] = np.sort(shuffled_idx[:train_idx])\n",
    "shuffled_idx[train_idx:] = np.sort(shuffled_idx[train_idx:])"
   ]
  },
  {
   "cell_type": "code",
   "execution_count": 22,
   "metadata": {},
   "outputs": [
    {
     "name": "stdout",
     "output_type": "stream",
     "text": [
      "(14687, 851)\n",
      "(3855, 851)\n"
     ]
    }
   ],
   "source": [
    "train_df = df[df['일자'].isin(shuffled_idx[:train_idx])]\n",
    "dev_df = df[df['일자'].isin(shuffled_idx[train_idx:])]\n",
    "\n",
    "print(train_df.shape)\n",
    "print(dev_df.shape)"
   ]
  },
  {
   "cell_type": "code",
   "execution_count": 23,
   "metadata": {},
   "outputs": [],
   "source": [
    "train_y = train_df['수량']\n",
    "train_x = train_df.drop(['수량'], axis=1)\n",
    "dev_y = dev_df['수량']\n",
    "dev_x = dev_df.drop(['수량'], axis=1)\n",
    "dev_x_iter = dev_df.drop(['수량'], axis=1)"
   ]
  },
  {
   "cell_type": "markdown",
   "metadata": {},
   "source": [
    "#### 2) train, predict, evaluation function (반복적으로 사용되는 코드이므로)"
   ]
  },
  {
   "cell_type": "code",
   "execution_count": 24,
   "metadata": {},
   "outputs": [],
   "source": [
    "from sklearn.metrics import mean_squared_error\n",
    "import math\n",
    "\n",
    "def train_and_predict(model, train_x, train_y, dev_x):\n",
    "    for w in w_feature:\n",
    "        mean = train_x[w].mean()\n",
    "        std = train_x[w].std()\n",
    "        train_x[w] = (train_x[w] - mean) / std\n",
    "        dev_x[w] = (dev_x[w] - mean) / std\n",
    "    model.fit(train_x, train_y)\n",
    "    return model.predict(dev_x)\n",
    "\n",
    "def iterative_train_and_predict(model, df, dev_x):\n",
    "    predictions = []\n",
    "    dev_dates = dev_x['일자'].unique()\n",
    "    print(\"Number of Dates =\", len(dev_dates))\n",
    "    for i, dev_date in enumerate(dev_dates):        \n",
    "        _train_df = df[df['일자'] < dev_date - 2]\n",
    "        pred = train_and_predict(model, \n",
    "                                 _train_df.drop(['수량', '일자'], axis=1), \n",
    "                                 _train_df['수량'], \n",
    "                                 dev_x[dev_x['일자']==dev_date].drop(['일자'], axis=1))\n",
    "        predictions.append(pred)\n",
    "        \n",
    "        if((i+1) % (int(len(dev_dates)/10)) == 0):\n",
    "            print(\">>\", 10*int((i+1)/(int(len(dev_dates)/10))), \"% >>\", end=\"\")\n",
    "    print()\n",
    "    return np.concatenate(predictions)\n",
    "\n",
    "def evaluate(predict_y, actual_y):\n",
    "    predict_y = predict_y\n",
    "    actual_y = actual_y\n",
    "    rmse = math.sqrt(mean_squared_error(actual_y, predict_y))\n",
    "    print('RMSE :', round(np.mean(rmse), 4))"
   ]
  },
  {
   "cell_type": "markdown",
   "metadata": {},
   "source": [
    "## 1. Random Forest"
   ]
  },
  {
   "cell_type": "code",
   "execution_count": 25,
   "metadata": {},
   "outputs": [],
   "source": [
    "from sklearn.ensemble import RandomForestRegressor\n",
    "model = RandomForestRegressor(n_estimators = 300, random_state=10, n_jobs=-1)"
   ]
  },
  {
   "cell_type": "code",
   "execution_count": 26,
   "metadata": {
    "scrolled": true
   },
   "outputs": [
    {
     "name": "stdout",
     "output_type": "stream",
     "text": [
      "RMSE : 4.2527\n",
      "CPU times: user 7min 12s, sys: 3.09 s, total: 7min 15s\n",
      "Wall time: 2min 2s\n"
     ]
    }
   ],
   "source": [
    "%%time\n",
    "pred = train_and_predict(model, train_x, train_y, dev_x)\n",
    "evaluate(pred, dev_y)"
   ]
  },
  {
   "cell_type": "code",
   "execution_count": 40,
   "metadata": {},
   "outputs": [
    {
     "data": {
      "image/png": "[encoded data removed]",
      "text/plain": [
       "<Figure size 1440x216 with 1 Axes>"
      ]
     },
     "metadata": {},
     "output_type": "display_data"
    }
   ],
   "source": [
    "import matplotlib.pyplot as plt\n",
    "import matplotlib\n",
    "%matplotlib inline \n",
    "\n",
    "plt.rcParams[\"figure.figsize\"] = (20,3)\n",
    "index = 500\n",
    "\n",
    "plt.plot(pred[index:index+200], label='predict')\n",
    "plt.plot(dev_y.values[index:index+200], label='gt', linestyle='dashed')\n",
    "plt.title('Prediction of Random Forest')\n",
    "plt.xlabel('Datetime')\n",
    "plt.ylabel('Users')\n",
    "plt.legend()\n",
    "plt.show()"
   ]
  },
  {
   "cell_type": "markdown",
   "metadata": {},
   "source": [
    "### Iterative"
   ]
  },
  {
   "cell_type": "code",
   "execution_count": 41,
   "metadata": {
    "scrolled": false
   },
   "outputs": [
    {
     "name": "stdout",
     "output_type": "stream",
     "text": [
      "Number of Dates = 966\n"
     ]
    },
    {
     "ename": "KeyboardInterrupt",
     "evalue": "",
     "output_type": "error",
     "traceback": [
      "\u001b[0;31m---------------------------------------------------------------------------\u001b[0m",
      "\u001b[0;31mKeyboardInterrupt\u001b[0m                         Traceback (most recent call last)",
      "\u001b[0;32m<timed exec>\u001b[0m in \u001b[0;36m<module>\u001b[0;34m()\u001b[0m\n",
      "\u001b[0;32m<ipython-input-24-48012ee2b849>\u001b[0m in \u001b[0;36miterative_train_and_predict\u001b[0;34m(model, df, dev_x)\u001b[0m\n\u001b[1;32m     20\u001b[0m                                  \u001b[0m_train_df\u001b[0m\u001b[0;34m.\u001b[0m\u001b[0mdrop\u001b[0m\u001b[0;34m(\u001b[0m\u001b[0;34m[\u001b[0m\u001b[0;34m'수량'\u001b[0m\u001b[0;34m,\u001b[0m \u001b[0;34m'일자'\u001b[0m\u001b[0;34m]\u001b[0m\u001b[0;34m,\u001b[0m \u001b[0maxis\u001b[0m\u001b[0;34m=\u001b[0m\u001b[0;36m1\u001b[0m\u001b[0;34m)\u001b[0m\u001b[0;34m,\u001b[0m\u001b[0;34m\u001b[0m\u001b[0m\n\u001b[1;32m     21\u001b[0m                                  \u001b[0m_train_df\u001b[0m\u001b[0;34m[\u001b[0m\u001b[0;34m'수량'\u001b[0m\u001b[0;34m]\u001b[0m\u001b[0;34m,\u001b[0m\u001b[0;34m\u001b[0m\u001b[0m\n\u001b[0;32m---> 22\u001b[0;31m                                  dev_x[dev_x['일자']==dev_date].drop(['일자'], axis=1))\n\u001b[0m\u001b[1;32m     23\u001b[0m         \u001b[0mpredictions\u001b[0m\u001b[0;34m.\u001b[0m\u001b[0mappend\u001b[0m\u001b[0;34m(\u001b[0m\u001b[0mpred\u001b[0m\u001b[0;34m)\u001b[0m\u001b[0;34m\u001b[0m\u001b[0m\n\u001b[1;32m     24\u001b[0m \u001b[0;34m\u001b[0m\u001b[0m\n",
      "\u001b[0;32m<ipython-input-24-48012ee2b849>\u001b[0m in \u001b[0;36mtrain_and_predict\u001b[0;34m(model, train_x, train_y, dev_x)\u001b[0m\n\u001b[1;32m      8\u001b[0m         \u001b[0mtrain_x\u001b[0m\u001b[0;34m[\u001b[0m\u001b[0mw\u001b[0m\u001b[0;34m]\u001b[0m \u001b[0;34m=\u001b[0m \u001b[0;34m(\u001b[0m\u001b[0mtrain_x\u001b[0m\u001b[0;34m[\u001b[0m\u001b[0mw\u001b[0m\u001b[0;34m]\u001b[0m \u001b[0;34m-\u001b[0m \u001b[0mmean\u001b[0m\u001b[0;34m)\u001b[0m \u001b[0;34m/\u001b[0m \u001b[0mstd\u001b[0m\u001b[0;34m\u001b[0m\u001b[0m\n\u001b[1;32m      9\u001b[0m         \u001b[0mdev_x\u001b[0m\u001b[0;34m[\u001b[0m\u001b[0mw\u001b[0m\u001b[0;34m]\u001b[0m \u001b[0;34m=\u001b[0m \u001b[0;34m(\u001b[0m\u001b[0mdev_x\u001b[0m\u001b[0;34m[\u001b[0m\u001b[0mw\u001b[0m\u001b[0;34m]\u001b[0m \u001b[0;34m-\u001b[0m \u001b[0mmean\u001b[0m\u001b[0;34m)\u001b[0m \u001b[0;34m/\u001b[0m \u001b[0mstd\u001b[0m\u001b[0;34m\u001b[0m\u001b[0m\n\u001b[0;32m---> 10\u001b[0;31m     \u001b[0mmodel\u001b[0m\u001b[0;34m.\u001b[0m\u001b[0mfit\u001b[0m\u001b[0;34m(\u001b[0m\u001b[0mtrain_x\u001b[0m\u001b[0;34m,\u001b[0m \u001b[0mtrain_y\u001b[0m\u001b[0;34m)\u001b[0m\u001b[0;34m\u001b[0m\u001b[0m\n\u001b[0m\u001b[1;32m     11\u001b[0m     \u001b[0;32mreturn\u001b[0m \u001b[0mmodel\u001b[0m\u001b[0;34m.\u001b[0m\u001b[0mpredict\u001b[0m\u001b[0;34m(\u001b[0m\u001b[0mdev_x\u001b[0m\u001b[0;34m)\u001b[0m\u001b[0;34m\u001b[0m\u001b[0m\n\u001b[1;32m     12\u001b[0m \u001b[0;34m\u001b[0m\u001b[0m\n",
      "\u001b[0;32m~/anaconda/envs/venvSKTB/lib/python3.5/site-packages/sklearn/ensemble/forest.py\u001b[0m in \u001b[0;36mfit\u001b[0;34m(self, X, y, sample_weight)\u001b[0m\n\u001b[1;32m    326\u001b[0m                     \u001b[0mt\u001b[0m\u001b[0;34m,\u001b[0m \u001b[0mself\u001b[0m\u001b[0;34m,\u001b[0m \u001b[0mX\u001b[0m\u001b[0;34m,\u001b[0m \u001b[0my\u001b[0m\u001b[0;34m,\u001b[0m \u001b[0msample_weight\u001b[0m\u001b[0;34m,\u001b[0m \u001b[0mi\u001b[0m\u001b[0;34m,\u001b[0m \u001b[0mlen\u001b[0m\u001b[0;34m(\u001b[0m\u001b[0mtrees\u001b[0m\u001b[0;34m)\u001b[0m\u001b[0;34m,\u001b[0m\u001b[0;34m\u001b[0m\u001b[0m\n\u001b[1;32m    327\u001b[0m                     verbose=self.verbose, class_weight=self.class_weight)\n\u001b[0;32m--> 328\u001b[0;31m                 for i, t in enumerate(trees))\n\u001b[0m\u001b[1;32m    329\u001b[0m \u001b[0;34m\u001b[0m\u001b[0m\n\u001b[1;32m    330\u001b[0m             \u001b[0;31m# Collect newly grown trees\u001b[0m\u001b[0;34m\u001b[0m\u001b[0;34m\u001b[0m\u001b[0m\n",
      "\u001b[0;32m~/anaconda/envs/venvSKTB/lib/python3.5/site-packages/sklearn/externals/joblib/parallel.py\u001b[0m in \u001b[0;36m__call__\u001b[0;34m(self, iterable)\u001b[0m\n\u001b[1;32m    787\u001b[0m                 \u001b[0;31m# consumption.\u001b[0m\u001b[0;34m\u001b[0m\u001b[0;34m\u001b[0m\u001b[0m\n\u001b[1;32m    788\u001b[0m                 \u001b[0mself\u001b[0m\u001b[0;34m.\u001b[0m\u001b[0m_iterating\u001b[0m \u001b[0;34m=\u001b[0m \u001b[0;32mFalse\u001b[0m\u001b[0;34m\u001b[0m\u001b[0m\n\u001b[0;32m--> 789\u001b[0;31m             \u001b[0mself\u001b[0m\u001b[0;34m.\u001b[0m\u001b[0mretrieve\u001b[0m\u001b[0;34m(\u001b[0m\u001b[0;34m)\u001b[0m\u001b[0;34m\u001b[0m\u001b[0m\n\u001b[0m\u001b[1;32m    790\u001b[0m             \u001b[0;31m# Make sure that we get a last message telling us we are done\u001b[0m\u001b[0;34m\u001b[0m\u001b[0;34m\u001b[0m\u001b[0m\n\u001b[1;32m    791\u001b[0m             \u001b[0melapsed_time\u001b[0m \u001b[0;34m=\u001b[0m \u001b[0mtime\u001b[0m\u001b[0;34m.\u001b[0m\u001b[0mtime\u001b[0m\u001b[0;34m(\u001b[0m\u001b[0;34m)\u001b[0m \u001b[0;34m-\u001b[0m \u001b[0mself\u001b[0m\u001b[0;34m.\u001b[0m\u001b[0m_start_time\u001b[0m\u001b[0;34m\u001b[0m\u001b[0m\n",
      "\u001b[0;32m~/anaconda/envs/venvSKTB/lib/python3.5/site-packages/sklearn/externals/joblib/parallel.py\u001b[0m in \u001b[0;36mretrieve\u001b[0;34m(self)\u001b[0m\n\u001b[1;32m    697\u001b[0m             \u001b[0;32mtry\u001b[0m\u001b[0;34m:\u001b[0m\u001b[0;34m\u001b[0m\u001b[0m\n\u001b[1;32m    698\u001b[0m                 \u001b[0;32mif\u001b[0m \u001b[0mgetattr\u001b[0m\u001b[0;34m(\u001b[0m\u001b[0mself\u001b[0m\u001b[0;34m.\u001b[0m\u001b[0m_backend\u001b[0m\u001b[0;34m,\u001b[0m \u001b[0;34m'supports_timeout'\u001b[0m\u001b[0;34m,\u001b[0m \u001b[0;32mFalse\u001b[0m\u001b[0;34m)\u001b[0m\u001b[0;34m:\u001b[0m\u001b[0;34m\u001b[0m\u001b[0m\n\u001b[0;32m--> 699\u001b[0;31m                     \u001b[0mself\u001b[0m\u001b[0;34m.\u001b[0m\u001b[0m_output\u001b[0m\u001b[0;34m.\u001b[0m\u001b[0mextend\u001b[0m\u001b[0;34m(\u001b[0m\u001b[0mjob\u001b[0m\u001b[0;34m.\u001b[0m\u001b[0mget\u001b[0m\u001b[0;34m(\u001b[0m\u001b[0mtimeout\u001b[0m\u001b[0;34m=\u001b[0m\u001b[0mself\u001b[0m\u001b[0;34m.\u001b[0m\u001b[0mtimeout\u001b[0m\u001b[0;34m)\u001b[0m\u001b[0;34m)\u001b[0m\u001b[0;34m\u001b[0m\u001b[0m\n\u001b[0m\u001b[1;32m    700\u001b[0m                 \u001b[0;32melse\u001b[0m\u001b[0;34m:\u001b[0m\u001b[0;34m\u001b[0m\u001b[0m\n\u001b[1;32m    701\u001b[0m                     \u001b[0mself\u001b[0m\u001b[0;34m.\u001b[0m\u001b[0m_output\u001b[0m\u001b[0;34m.\u001b[0m\u001b[0mextend\u001b[0m\u001b[0;34m(\u001b[0m\u001b[0mjob\u001b[0m\u001b[0;34m.\u001b[0m\u001b[0mget\u001b[0m\u001b[0;34m(\u001b[0m\u001b[0;34m)\u001b[0m\u001b[0;34m)\u001b[0m\u001b[0;34m\u001b[0m\u001b[0m\n",
      "\u001b[0;32m~/anaconda/envs/venvSKTB/lib/python3.5/multiprocessing/pool.py\u001b[0m in \u001b[0;36mget\u001b[0;34m(self, timeout)\u001b[0m\n\u001b[1;32m    636\u001b[0m \u001b[0;34m\u001b[0m\u001b[0m\n\u001b[1;32m    637\u001b[0m     \u001b[0;32mdef\u001b[0m \u001b[0mget\u001b[0m\u001b[0;34m(\u001b[0m\u001b[0mself\u001b[0m\u001b[0;34m,\u001b[0m \u001b[0mtimeout\u001b[0m\u001b[0;34m=\u001b[0m\u001b[0;32mNone\u001b[0m\u001b[0;34m)\u001b[0m\u001b[0;34m:\u001b[0m\u001b[0;34m\u001b[0m\u001b[0m\n\u001b[0;32m--> 638\u001b[0;31m         \u001b[0mself\u001b[0m\u001b[0;34m.\u001b[0m\u001b[0mwait\u001b[0m\u001b[0;34m(\u001b[0m\u001b[0mtimeout\u001b[0m\u001b[0;34m)\u001b[0m\u001b[0;34m\u001b[0m\u001b[0m\n\u001b[0m\u001b[1;32m    639\u001b[0m         \u001b[0;32mif\u001b[0m \u001b[0;32mnot\u001b[0m \u001b[0mself\u001b[0m\u001b[0;34m.\u001b[0m\u001b[0mready\u001b[0m\u001b[0;34m(\u001b[0m\u001b[0;34m)\u001b[0m\u001b[0;34m:\u001b[0m\u001b[0;34m\u001b[0m\u001b[0m\n\u001b[1;32m    640\u001b[0m             \u001b[0;32mraise\u001b[0m \u001b[0mTimeoutError\u001b[0m\u001b[0;34m\u001b[0m\u001b[0m\n",
      "\u001b[0;32m~/anaconda/envs/venvSKTB/lib/python3.5/multiprocessing/pool.py\u001b[0m in \u001b[0;36mwait\u001b[0;34m(self, timeout)\u001b[0m\n\u001b[1;32m    633\u001b[0m \u001b[0;34m\u001b[0m\u001b[0m\n\u001b[1;32m    634\u001b[0m     \u001b[0;32mdef\u001b[0m \u001b[0mwait\u001b[0m\u001b[0;34m(\u001b[0m\u001b[0mself\u001b[0m\u001b[0;34m,\u001b[0m \u001b[0mtimeout\u001b[0m\u001b[0;34m=\u001b[0m\u001b[0;32mNone\u001b[0m\u001b[0;34m)\u001b[0m\u001b[0;34m:\u001b[0m\u001b[0;34m\u001b[0m\u001b[0m\n\u001b[0;32m--> 635\u001b[0;31m         \u001b[0mself\u001b[0m\u001b[0;34m.\u001b[0m\u001b[0m_event\u001b[0m\u001b[0;34m.\u001b[0m\u001b[0mwait\u001b[0m\u001b[0;34m(\u001b[0m\u001b[0mtimeout\u001b[0m\u001b[0;34m)\u001b[0m\u001b[0;34m\u001b[0m\u001b[0m\n\u001b[0m\u001b[1;32m    636\u001b[0m \u001b[0;34m\u001b[0m\u001b[0m\n\u001b[1;32m    637\u001b[0m     \u001b[0;32mdef\u001b[0m \u001b[0mget\u001b[0m\u001b[0;34m(\u001b[0m\u001b[0mself\u001b[0m\u001b[0;34m,\u001b[0m \u001b[0mtimeout\u001b[0m\u001b[0;34m=\u001b[0m\u001b[0;32mNone\u001b[0m\u001b[0;34m)\u001b[0m\u001b[0;34m:\u001b[0m\u001b[0;34m\u001b[0m\u001b[0m\n",
      "\u001b[0;32m~/anaconda/envs/venvSKTB/lib/python3.5/threading.py\u001b[0m in \u001b[0;36mwait\u001b[0;34m(self, timeout)\u001b[0m\n\u001b[1;32m    547\u001b[0m             \u001b[0msignaled\u001b[0m \u001b[0;34m=\u001b[0m \u001b[0mself\u001b[0m\u001b[0;34m.\u001b[0m\u001b[0m_flag\u001b[0m\u001b[0;34m\u001b[0m\u001b[0m\n\u001b[1;32m    548\u001b[0m             \u001b[0;32mif\u001b[0m \u001b[0;32mnot\u001b[0m \u001b[0msignaled\u001b[0m\u001b[0;34m:\u001b[0m\u001b[0;34m\u001b[0m\u001b[0m\n\u001b[0;32m--> 549\u001b[0;31m                 \u001b[0msignaled\u001b[0m \u001b[0;34m=\u001b[0m \u001b[0mself\u001b[0m\u001b[0;34m.\u001b[0m\u001b[0m_cond\u001b[0m\u001b[0;34m.\u001b[0m\u001b[0mwait\u001b[0m\u001b[0;34m(\u001b[0m\u001b[0mtimeout\u001b[0m\u001b[0;34m)\u001b[0m\u001b[0;34m\u001b[0m\u001b[0m\n\u001b[0m\u001b[1;32m    550\u001b[0m             \u001b[0;32mreturn\u001b[0m \u001b[0msignaled\u001b[0m\u001b[0;34m\u001b[0m\u001b[0m\n\u001b[1;32m    551\u001b[0m \u001b[0;34m\u001b[0m\u001b[0m\n",
      "\u001b[0;32m~/anaconda/envs/venvSKTB/lib/python3.5/threading.py\u001b[0m in \u001b[0;36mwait\u001b[0;34m(self, timeout)\u001b[0m\n\u001b[1;32m    291\u001b[0m         \u001b[0;32mtry\u001b[0m\u001b[0;34m:\u001b[0m    \u001b[0;31m# restore state no matter what (e.g., KeyboardInterrupt)\u001b[0m\u001b[0;34m\u001b[0m\u001b[0m\n\u001b[1;32m    292\u001b[0m             \u001b[0;32mif\u001b[0m \u001b[0mtimeout\u001b[0m \u001b[0;32mis\u001b[0m \u001b[0;32mNone\u001b[0m\u001b[0;34m:\u001b[0m\u001b[0;34m\u001b[0m\u001b[0m\n\u001b[0;32m--> 293\u001b[0;31m                 \u001b[0mwaiter\u001b[0m\u001b[0;34m.\u001b[0m\u001b[0macquire\u001b[0m\u001b[0;34m(\u001b[0m\u001b[0;34m)\u001b[0m\u001b[0;34m\u001b[0m\u001b[0m\n\u001b[0m\u001b[1;32m    294\u001b[0m                 \u001b[0mgotit\u001b[0m \u001b[0;34m=\u001b[0m \u001b[0;32mTrue\u001b[0m\u001b[0;34m\u001b[0m\u001b[0m\n\u001b[1;32m    295\u001b[0m             \u001b[0;32melse\u001b[0m\u001b[0;34m:\u001b[0m\u001b[0;34m\u001b[0m\u001b[0m\n",
      "\u001b[0;31mKeyboardInterrupt\u001b[0m: "
     ]
    }
   ],
   "source": [
    "%%time\n",
    "pred = iterative_train_and_predict(model, df, dev_x_iter)\n",
    "evaluate(pred, dev_y)"
   ]
  },
  {
   "cell_type": "code",
   "execution_count": null,
   "metadata": {},
   "outputs": [],
   "source": [
    "import matplotlib.pyplot as plt\n",
    "import matplotlib\n",
    "%matplotlib inline \n",
    "\n",
    "plt.rcParams[\"figure.figsize\"] = (20,3)\n",
    "index = 500\n",
    "\n",
    "plt.plot(pred[index:index+100], label='predict')\n",
    "plt.plot(dev_y.values[index:index+100], label='gt', linestyle='dashed')\n",
    "plt.title('Prediction of Random Forest with iterative')\n",
    "plt.xlabel('Datetime')\n",
    "plt.ylabel('Users')\n",
    "plt.legend()\n",
    "plt.show()"
   ]
  },
  {
   "cell_type": "markdown",
   "metadata": {},
   "source": [
    "## 2. XGBoost"
   ]
  },
  {
   "cell_type": "code",
   "execution_count": 43,
   "metadata": {},
   "outputs": [
    {
     "ename": "ImportError",
     "evalue": "No module named 'xgboost'",
     "output_type": "error",
     "traceback": [
      "\u001b[0;31m---------------------------------------------------------------------------\u001b[0m",
      "\u001b[0;31mImportError\u001b[0m                               Traceback (most recent call last)",
      "\u001b[0;32m<ipython-input-43-55634012513c>\u001b[0m in \u001b[0;36m<module>\u001b[0;34m()\u001b[0m\n\u001b[0;32m----> 1\u001b[0;31m \u001b[0;32mimport\u001b[0m \u001b[0mxgboost\u001b[0m \u001b[0;32mas\u001b[0m \u001b[0mxgb\u001b[0m\u001b[0;34m\u001b[0m\u001b[0m\n\u001b[0m\u001b[1;32m      2\u001b[0m model = xgb.XGBRegressor(n_estimators=300, \n\u001b[1;32m      3\u001b[0m                          \u001b[0mlearning_rate\u001b[0m\u001b[0;34m=\u001b[0m\u001b[0;36m0.05\u001b[0m\u001b[0;34m,\u001b[0m\u001b[0;34m\u001b[0m\u001b[0m\n\u001b[1;32m      4\u001b[0m                          \u001b[0mmax_depth\u001b[0m\u001b[0;34m=\u001b[0m\u001b[0;36m7\u001b[0m\u001b[0;34m,\u001b[0m\u001b[0;34m\u001b[0m\u001b[0m\n\u001b[1;32m      5\u001b[0m                          \u001b[0mcolsample_bytree\u001b[0m\u001b[0;34m=\u001b[0m\u001b[0;36m0.9\u001b[0m\u001b[0;34m,\u001b[0m\u001b[0;34m\u001b[0m\u001b[0m\n",
      "\u001b[0;31mImportError\u001b[0m: No module named 'xgboost'"
     ]
    }
   ],
   "source": [
    "import xgboost as xgb\n",
    "model = xgb.XGBRegressor(n_estimators=300, \n",
    "                         learning_rate=0.05, \n",
    "                         max_depth=7,\n",
    "                         colsample_bytree=0.9,\n",
    "                         gamma=0.4,\n",
    "                         subsample=0.8,\n",
    "                         reg_alpha=0.01,\n",
    "                         seed=10,\n",
    "                         n_jobs=-1)"
   ]
  },
  {
   "cell_type": "code",
   "execution_count": null,
   "metadata": {
    "scrolled": true
   },
   "outputs": [],
   "source": [
    "%%time\n",
    "pred = train_and_predict(model, train_x, train_y, dev_x)\n",
    "evaluate(pred, dev_y)"
   ]
  },
  {
   "cell_type": "code",
   "execution_count": null,
   "metadata": {},
   "outputs": [],
   "source": [
    "import matplotlib.pyplot as plt\n",
    "import matplotlib\n",
    "%matplotlib inline \n",
    "\n",
    "plt.rcParams['figure.figsize'] = (16,10)\n",
    "plt.rcParams['font.family'] = 'AppleGothic'\n",
    "\n",
    "xgb.plot_importance(model, max_num_features=20)"
   ]
  },
  {
   "cell_type": "code",
   "execution_count": null,
   "metadata": {},
   "outputs": [],
   "source": [
    "plt.rcParams[\"figure.figsize\"] = (20,3)\n",
    "index = 800\n",
    "\n",
    "plt.plot(pred[index:index+200])\n",
    "plt.plot(dev_y.values[index:index+200])"
   ]
  },
  {
   "cell_type": "markdown",
   "metadata": {},
   "source": [
    "### Iterative"
   ]
  },
  {
   "cell_type": "code",
   "execution_count": null,
   "metadata": {
    "scrolled": false
   },
   "outputs": [],
   "source": [
    "%%time\n",
    "pred = iterative_train_and_predict(model, df, dev_x_iter)\n",
    "evaluate(pred, dev_y)"
   ]
  },
  {
   "cell_type": "code",
   "execution_count": null,
   "metadata": {},
   "outputs": [],
   "source": [
    "import matplotlib.pyplot as plt\n",
    "import matplotlib\n",
    "%matplotlib inline \n",
    "\n",
    "plt.rcParams['figure.figsize'] = (16,10)\n",
    "plt.rcParams['font.family'] = 'AppleGothic'\n",
    "\n",
    "xgb.plot_importance(model, max_num_features=20)"
   ]
  },
  {
   "cell_type": "code",
   "execution_count": null,
   "metadata": {},
   "outputs": [],
   "source": [
    "plt.rcParams[\"figure.figsize\"] = (20,3)\n",
    "index = 500\n",
    "\n",
    "plt.plot(pred[index:index+100])\n",
    "plt.plot(dev_y.values[index:index+100])"
   ]
  },
  {
   "cell_type": "code",
   "execution_count": null,
   "metadata": {},
   "outputs": [],
   "source": []
  },
  {
   "cell_type": "code",
   "execution_count": null,
   "metadata": {},
   "outputs": [],
   "source": []
  },
  {
   "cell_type": "code",
   "execution_count": null,
   "metadata": {},
   "outputs": [],
   "source": []
  },
  {
   "cell_type": "code",
   "execution_count": null,
   "metadata": {},
   "outputs": [],
   "source": []
  }
 ],
 "metadata": {
  "kernelspec": {
   "display_name": "Python 3",
   "language": "python",
   "name": "python3"
  },
  "language_info": {
   "codemirror_mode": {
    "name": "ipython",
    "version": 3
   },
   "file_extension": ".py",
   "mimetype": "text/x-python",
   "name": "python",
   "nbconvert_exporter": "python",
   "pygments_lexer": "ipython3",
   "version": "3.5.4"
  }
 },
 "nbformat": 4,
 "nbformat_minor": 2
}
