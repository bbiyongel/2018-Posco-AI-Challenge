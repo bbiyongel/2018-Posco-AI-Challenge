{
 "cells": [
  {
   "cell_type": "code",
   "execution_count": 1,
   "metadata": {
    "collapsed": true
   },
   "outputs": [],
   "source": [
    "import pandas as pd\n",
    "import numpy as np"
   ]
  },
  {
   "cell_type": "markdown",
   "metadata": {},
   "source": [
    "# 데이터 전처리 (data_preprocessing.ipynb)\n",
    "* Date Split\n",
    "* Weekday\n",
    "* Lunar Date\n",
    "* Date Normalization\n",
    "* 식사명 -> one-hot\n",
    "* 식사내용 -> bag-of-word"
   ]
  },
  {
   "cell_type": "code",
   "execution_count": 2,
   "metadata": {
    "collapsed": true
   },
   "outputs": [],
   "source": [
    "# Read Data\n",
    "df = pd.read_excel(\"../data/train.xlsx\")"
   ]
  },
  {
   "cell_type": "code",
   "execution_count": 3,
   "metadata": {
    "collapsed": true
   },
   "outputs": [],
   "source": [
    "# 식사명 변환 (one-hot)\n",
    "def convert_ont_hot(df):\n",
    "    df = df.join(pd.get_dummies(df['식사명'], prefix='식사명'))\n",
    "    df.drop(['식사명'], axis=1, inplace=True)\n",
    "    return df"
   ]
  },
  {
   "cell_type": "code",
   "execution_count": 4,
   "metadata": {},
   "outputs": [],
   "source": [
    "def moving_average(df, window_size):\n",
    "    morning = df['수량'][df['식사명_아침']==1].rolling(window_size).mean().shift(3)\n",
    "    lunch = df['수량'][df['식사명_점심(일반)']==1].rolling(window_size).mean().shift(3)\n",
    "    lunch_west = df['수량'][df['식사명_점심(양식)']==1].rolling(window_size).mean().shift(3)\n",
    "    dinner = df['수량'][df['식사명_저녁']==1].rolling(window_size).mean().shift(3)\n",
    "    \n",
    "    return pd.concat([morning, lunch, lunch_west, dinner]).sort_index()"
   ]
  },
  {
   "cell_type": "code",
   "execution_count": 5,
   "metadata": {
    "collapsed": true
   },
   "outputs": [],
   "source": [
    "# 식사내용 변환 (Bag-of-Word)\n",
    "from sklearn.feature_extraction.text import CountVectorizer\n",
    "def tokenize(text):\n",
    "        return text.split(',')\n",
    "def convert_bow(df):\n",
    "    vectorizer = CountVectorizer(tokenizer=tokenize)\n",
    "    bow = vectorizer.fit_transform(df['식사내용']).toarray()\n",
    "    df = df.join(pd.DataFrame(bow, columns=vectorizer.get_feature_names()))\n",
    "    df.drop(['식사내용'], axis=1, inplace=True)\n",
    "    return df"
   ]
  },
  {
   "cell_type": "code",
   "execution_count": 6,
   "metadata": {
    "collapsed": true
   },
   "outputs": [],
   "source": [
    "# 년/월/일 분리(split) + 요일(Weekday) 추가\n",
    "def split_date(df):\n",
    "    # Normalize Date\n",
    "    df['year'] = (df['일자'] / 10000).astype(int)\n",
    "    df['month'] = (df['일자'] % 10000 / 100).astype(int)\n",
    "    df['day'] = (df['일자'] % 100).astype(int)\n",
    "    df['weekday'] = pd.to_datetime(df['일자'], format = '%Y%m%d').dt.dayofweek\n",
    "    # df.drop(['일자'], axis=1, inplace=True)"
   ]
  },
  {
   "cell_type": "code",
   "execution_count": 7,
   "metadata": {
    "collapsed": true
   },
   "outputs": [],
   "source": [
    "# 음력 추가\n",
    "from korean_lunar_calendar import KoreanLunarCalendar\n",
    "from datetime import datetime\n",
    "\n",
    "def add_lunar_date(df):\n",
    "    calendar = KoreanLunarCalendar()\n",
    "    \n",
    "    lunar_y = []\n",
    "    lunar_m = []\n",
    "    lunar_d = []\n",
    "    for y, m, d in zip (df['year'], df['month'], df['day']):\n",
    "        calendar.setSolarDate(y, m, d)\n",
    "        lunar_date = calendar.LunarIsoFormat()\n",
    "        lunar_y.append(int(lunar_date[:4]))\n",
    "        lunar_m.append(int(lunar_date[5:7]))\n",
    "        lunar_d.append(int(lunar_date[8:10]))\n",
    "        \n",
    "    df['lunar_year'], df['lunar_month'], df['lunar_day'] = lunar_y, lunar_m, lunar_d\n"
   ]
  },
  {
   "cell_type": "code",
   "execution_count": 8,
   "metadata": {
    "collapsed": true
   },
   "outputs": [],
   "source": [
    "# 년/월/일 변환\n",
    "def year_norm(df):\n",
    "    df['year'] = (df['year']-min(df['year'])) / (max(df['year'])-min(df['year']))\n",
    "    df['lunar_year'] = (df['lunar_year']-min(df['lunar_year'])) / (max(df['lunar_year'])-min(df['lunar_year']))\n",
    "def month_norm(df):\n",
    "    df['month_sin'] = [np.sin(x*2*np.pi/12) for x in df['month']]\n",
    "    df['month_cos'] = [np.cos(x*2*np.pi/12) for x in df['month']]\n",
    "    df['lunar_month_sin'] = [np.sin(x*2*np.pi/12) for x in df['lunar_month']]\n",
    "    df['lunar_month_cos'] = [np.cos(x*2*np.pi/12) for x in df['lunar_month']]\n",
    "    df.drop(['month', 'lunar_month'], axis=1, inplace=True)\n",
    "def day_norm(df):\n",
    "    df['day_sin'] = [np.sin(x*2*np.pi/31) for x in df['day']]\n",
    "    df['day_cos'] = [np.cos(x*2*np.pi/31) for x in df['day']]\n",
    "    df['lunar_ay_sin'] = [np.sin(x*2*np.pi/31) for x in df['lunar_day']]\n",
    "    df['lunar_day_cos'] = [np.cos(x*2*np.pi/31) for x in df['lunar_day']]\n",
    "    df.drop(['day', 'lunar_day'], axis=1, inplace=True)\n",
    "def weekday_norm(df):\n",
    "    df['weekday_sin'] = [np.sin(x*2*np.pi/7) for x in df['weekday']]\n",
    "    df['weekday_cos'] = [np.cos(x*2*np.pi/7) for x in df['weekday']]"
   ]
  },
  {
   "cell_type": "code",
   "execution_count": 9,
   "metadata": {},
   "outputs": [],
   "source": [
    "# convert 식사명 to one-hot\n",
    "df = convert_ont_hot(df)\n",
    "\n",
    "# Moving Average of 수량\n",
    "df['MA_week'] = moving_average(df, 7)\n",
    "df['MA_month'] = moving_average(df, 30)\n",
    "df['MA_half_year'] = moving_average(df, 180)\n",
    "df['MA_year'] = moving_average(df, 365)\n",
    "df.dropna(inplace=True)\n",
    "df.reset_index(drop=True, inplace=True)\n",
    "\n",
    "# convert 식사내용 to Bag-of-Word Vector\n",
    "df = convert_bow(df)\n",
    "\n",
    "# Date\n",
    "split_date(df)\n",
    "add_lunar_date(df)\n",
    "\n",
    "# Date Normalization\n",
    "year_norm(df)\n",
    "month_norm(df)\n",
    "day_norm(df)\n",
    "weekday_norm(df)"
   ]
  },
  {
   "cell_type": "code",
   "execution_count": 10,
   "metadata": {
    "scrolled": false
   },
   "outputs": [
    {
     "name": "stdout",
     "output_type": "stream",
     "text": [
      "Number of Columns = 1813\n"
     ]
    },
    {
     "data": {
      "text/html": [
       "<div>\n",
       "<style>\n",
       "    .dataframe thead tr:only-child th {\n",
       "        text-align: right;\n",
       "    }\n",
       "\n",
       "    .dataframe thead th {\n",
       "        text-align: left;\n",
       "    }\n",
       "\n",
       "    .dataframe tbody tr th {\n",
       "        vertical-align: top;\n",
       "    }\n",
       "</style>\n",
       "<table border=\"1\" class=\"dataframe\">\n",
       "  <thead>\n",
       "    <tr style=\"text-align: right;\">\n",
       "      <th></th>\n",
       "      <th>일자</th>\n",
       "      <th>수량</th>\n",
       "      <th>식사명_아침</th>\n",
       "      <th>식사명_저녁</th>\n",
       "      <th>식사명_점심(양식)</th>\n",
       "      <th>식사명_점심(일반)</th>\n",
       "      <th>MA_week</th>\n",
       "      <th>MA_month</th>\n",
       "      <th>MA_half_year</th>\n",
       "      <th>MA_year</th>\n",
       "      <th>...</th>\n",
       "      <th>month_sin</th>\n",
       "      <th>month_cos</th>\n",
       "      <th>lunar_month_sin</th>\n",
       "      <th>lunar_month_cos</th>\n",
       "      <th>day_sin</th>\n",
       "      <th>day_cos</th>\n",
       "      <th>lunar_ay_sin</th>\n",
       "      <th>lunar_day_cos</th>\n",
       "      <th>weekday_sin</th>\n",
       "      <th>weekday_cos</th>\n",
       "    </tr>\n",
       "  </thead>\n",
       "  <tbody>\n",
       "    <tr>\n",
       "      <th>0</th>\n",
       "      <td>20040326</td>\n",
       "      <td>41.877256</td>\n",
       "      <td>1</td>\n",
       "      <td>0</td>\n",
       "      <td>0</td>\n",
       "      <td>0</td>\n",
       "      <td>44.693141</td>\n",
       "      <td>43.586041</td>\n",
       "      <td>42.294826</td>\n",
       "      <td>44.090797</td>\n",
       "      <td>...</td>\n",
       "      <td>1.0</td>\n",
       "      <td>6.123234e-17</td>\n",
       "      <td>0.866025</td>\n",
       "      <td>0.5</td>\n",
       "      <td>-0.848644</td>\n",
       "      <td>0.528964</td>\n",
       "      <td>0.937752</td>\n",
       "      <td>0.347305</td>\n",
       "      <td>-0.433884</td>\n",
       "      <td>-0.900969</td>\n",
       "    </tr>\n",
       "    <tr>\n",
       "      <th>1</th>\n",
       "      <td>20040326</td>\n",
       "      <td>13.718412</td>\n",
       "      <td>0</td>\n",
       "      <td>1</td>\n",
       "      <td>0</td>\n",
       "      <td>0</td>\n",
       "      <td>21.186178</td>\n",
       "      <td>19.845969</td>\n",
       "      <td>19.837545</td>\n",
       "      <td>20.801741</td>\n",
       "      <td>...</td>\n",
       "      <td>1.0</td>\n",
       "      <td>6.123234e-17</td>\n",
       "      <td>0.866025</td>\n",
       "      <td>0.5</td>\n",
       "      <td>-0.848644</td>\n",
       "      <td>0.528964</td>\n",
       "      <td>0.937752</td>\n",
       "      <td>0.347305</td>\n",
       "      <td>-0.433884</td>\n",
       "      <td>-0.900969</td>\n",
       "    </tr>\n",
       "    <tr>\n",
       "      <th>2</th>\n",
       "      <td>20040326</td>\n",
       "      <td>40.361011</td>\n",
       "      <td>0</td>\n",
       "      <td>0</td>\n",
       "      <td>0</td>\n",
       "      <td>1</td>\n",
       "      <td>46.168128</td>\n",
       "      <td>41.468111</td>\n",
       "      <td>40.924188</td>\n",
       "      <td>43.456605</td>\n",
       "      <td>...</td>\n",
       "      <td>1.0</td>\n",
       "      <td>6.123234e-17</td>\n",
       "      <td>0.866025</td>\n",
       "      <td>0.5</td>\n",
       "      <td>-0.848644</td>\n",
       "      <td>0.528964</td>\n",
       "      <td>0.937752</td>\n",
       "      <td>0.347305</td>\n",
       "      <td>-0.433884</td>\n",
       "      <td>-0.900969</td>\n",
       "    </tr>\n",
       "    <tr>\n",
       "      <th>3</th>\n",
       "      <td>20040327</td>\n",
       "      <td>37.184116</td>\n",
       "      <td>1</td>\n",
       "      <td>0</td>\n",
       "      <td>0</td>\n",
       "      <td>0</td>\n",
       "      <td>44.208355</td>\n",
       "      <td>43.607702</td>\n",
       "      <td>42.259527</td>\n",
       "      <td>44.099698</td>\n",
       "      <td>...</td>\n",
       "      <td>1.0</td>\n",
       "      <td>6.123234e-17</td>\n",
       "      <td>0.866025</td>\n",
       "      <td>0.5</td>\n",
       "      <td>-0.724793</td>\n",
       "      <td>0.688967</td>\n",
       "      <td>0.988468</td>\n",
       "      <td>0.151428</td>\n",
       "      <td>-0.974928</td>\n",
       "      <td>-0.222521</td>\n",
       "    </tr>\n",
       "    <tr>\n",
       "      <th>4</th>\n",
       "      <td>20040327</td>\n",
       "      <td>12.635379</td>\n",
       "      <td>0</td>\n",
       "      <td>1</td>\n",
       "      <td>0</td>\n",
       "      <td>0</td>\n",
       "      <td>19.938112</td>\n",
       "      <td>19.771360</td>\n",
       "      <td>19.745688</td>\n",
       "      <td>20.788487</td>\n",
       "      <td>...</td>\n",
       "      <td>1.0</td>\n",
       "      <td>6.123234e-17</td>\n",
       "      <td>0.866025</td>\n",
       "      <td>0.5</td>\n",
       "      <td>-0.724793</td>\n",
       "      <td>0.688967</td>\n",
       "      <td>0.988468</td>\n",
       "      <td>0.151428</td>\n",
       "      <td>-0.974928</td>\n",
       "      <td>-0.222521</td>\n",
       "    </tr>\n",
       "  </tbody>\n",
       "</table>\n",
       "<p>5 rows × 1813 columns</p>\n",
       "</div>"
      ],
      "text/plain": [
       "         일자         수량  식사명_아침  식사명_저녁  식사명_점심(양식)  식사명_점심(일반)    MA_week  \\\n",
       "0  20040326  41.877256       1       0           0           0  44.693141   \n",
       "1  20040326  13.718412       0       1           0           0  21.186178   \n",
       "2  20040326  40.361011       0       0           0           1  46.168128   \n",
       "3  20040327  37.184116       1       0           0           0  44.208355   \n",
       "4  20040327  12.635379       0       1           0           0  19.938112   \n",
       "\n",
       "    MA_month  MA_half_year    MA_year     ...       month_sin     month_cos  \\\n",
       "0  43.586041     42.294826  44.090797     ...             1.0  6.123234e-17   \n",
       "1  19.845969     19.837545  20.801741     ...             1.0  6.123234e-17   \n",
       "2  41.468111     40.924188  43.456605     ...             1.0  6.123234e-17   \n",
       "3  43.607702     42.259527  44.099698     ...             1.0  6.123234e-17   \n",
       "4  19.771360     19.745688  20.788487     ...             1.0  6.123234e-17   \n",
       "\n",
       "   lunar_month_sin  lunar_month_cos   day_sin   day_cos  lunar_ay_sin  \\\n",
       "0         0.866025              0.5 -0.848644  0.528964      0.937752   \n",
       "1         0.866025              0.5 -0.848644  0.528964      0.937752   \n",
       "2         0.866025              0.5 -0.848644  0.528964      0.937752   \n",
       "3         0.866025              0.5 -0.724793  0.688967      0.988468   \n",
       "4         0.866025              0.5 -0.724793  0.688967      0.988468   \n",
       "\n",
       "   lunar_day_cos  weekday_sin  weekday_cos  \n",
       "0       0.347305    -0.433884    -0.900969  \n",
       "1       0.347305    -0.433884    -0.900969  \n",
       "2       0.347305    -0.433884    -0.900969  \n",
       "3       0.151428    -0.974928    -0.222521  \n",
       "4       0.151428    -0.974928    -0.222521  \n",
       "\n",
       "[5 rows x 1813 columns]"
      ]
     },
     "execution_count": 10,
     "metadata": {},
     "output_type": "execute_result"
    }
   ],
   "source": [
    "print(\"Number of Columns =\", len(df.columns))\n",
    "df.head()"
   ]
  },
  {
   "cell_type": "markdown",
   "metadata": {},
   "source": [
    "# Modeling"
   ]
  },
  {
   "cell_type": "markdown",
   "metadata": {},
   "source": [
    "1. Random Forest\n",
    "2. XGBoost"
   ]
  },
  {
   "cell_type": "markdown",
   "metadata": {},
   "source": [
    "## 0. Prepare train & test"
   ]
  },
  {
   "cell_type": "markdown",
   "metadata": {},
   "source": [
    "#### 1) Split train and test(validation) set by 8 to 2"
   ]
  },
  {
   "cell_type": "code",
   "execution_count": 11,
   "metadata": {},
   "outputs": [],
   "source": [
    "np.random.seed(10)\n",
    "shuffled_idx = np.random.permutation(df['일자'].unique())"
   ]
  },
  {
   "cell_type": "code",
   "execution_count": 12,
   "metadata": {},
   "outputs": [
    {
     "name": "stdout",
     "output_type": "stream",
     "text": [
      "(14842, 1812)\n",
      "(3700, 1812)\n"
     ]
    },
    {
     "name": "stderr",
     "output_type": "stream",
     "text": [
      "/Users/Joohong/anaconda/lib/python3.6/site-packages/ipykernel_launcher.py:6: SettingWithCopyWarning: \n",
      "A value is trying to be set on a copy of a slice from a DataFrame\n",
      "\n",
      "See the caveats in the documentation: http://pandas.pydata.org/pandas-docs/stable/indexing.html#indexing-view-versus-copy\n",
      "  \n",
      "/Users/Joohong/anaconda/lib/python3.6/site-packages/ipykernel_launcher.py:7: SettingWithCopyWarning: \n",
      "A value is trying to be set on a copy of a slice from a DataFrame\n",
      "\n",
      "See the caveats in the documentation: http://pandas.pydata.org/pandas-docs/stable/indexing.html#indexing-view-versus-copy\n",
      "  import sys\n"
     ]
    }
   ],
   "source": [
    "dev_ratio = 0.2\n",
    "dev_idx = int(len(shuffled_idx) * 0.2)\n",
    "\n",
    "dev_df = df[df['일자'].isin(shuffled_idx[:dev_idx])]\n",
    "train_df = df[df['일자'].isin(shuffled_idx[dev_idx:])]\n",
    "dev_df.drop(['일자'], axis=1, inplace=True)\n",
    "train_df.drop(['일자'], axis=1, inplace=True)\n",
    "\n",
    "print(train_df.shape)\n",
    "print(dev_df.shape)"
   ]
  },
  {
   "cell_type": "code",
   "execution_count": 13,
   "metadata": {
    "collapsed": true
   },
   "outputs": [],
   "source": [
    "train_y = train_df['수량']\n",
    "train_x = train_df.drop(['수량'], axis=1)\n",
    "dev_y = dev_df['수량']\n",
    "dev_x = dev_df.drop(['수량'], axis=1)"
   ]
  },
  {
   "cell_type": "markdown",
   "metadata": {},
   "source": [
    "#### 2) train, predict, evaluation function (반복적으로 사용되는 코드이므로)"
   ]
  },
  {
   "cell_type": "code",
   "execution_count": 14,
   "metadata": {
    "collapsed": true
   },
   "outputs": [],
   "source": [
    "from sklearn.metrics import mean_squared_error\n",
    "import math\n",
    "\n",
    "def train_and_predict(model, train_x, train_y, dev_x):\n",
    "    model.fit(train_x, train_y)\n",
    "    return model.predict(dev_x)\n",
    "\n",
    "def evaluate(predict_y, actual_y):\n",
    "    predict_y = predict_y\n",
    "    actual_y = actual_y\n",
    "    rmse = math.sqrt(mean_squared_error(actual_y, predict_y))\n",
    "    print('RMSE :', round(np.mean(rmse), 4))"
   ]
  },
  {
   "cell_type": "markdown",
   "metadata": {},
   "source": [
    "## 1. Random Forest"
   ]
  },
  {
   "cell_type": "code",
   "execution_count": 15,
   "metadata": {
    "collapsed": true
   },
   "outputs": [],
   "source": [
    "from sklearn.ensemble import RandomForestRegressor\n",
    "model = RandomForestRegressor(n_estimators = 100, random_state = 10)"
   ]
  },
  {
   "cell_type": "code",
   "execution_count": 16,
   "metadata": {},
   "outputs": [
    {
     "name": "stdout",
     "output_type": "stream",
     "text": [
      "RMSE : 4.3089\n",
      "CPU times: user 2min 7s, sys: 459 ms, total: 2min 8s\n",
      "Wall time: 2min 8s\n"
     ]
    }
   ],
   "source": [
    "%%time\n",
    "pred = train_and_predict(model, train_x, train_y, dev_x)\n",
    "evaluate(pred, dev_y)"
   ]
  },
  {
   "cell_type": "markdown",
   "metadata": {},
   "source": [
    "## 2. XGBoost"
   ]
  },
  {
   "cell_type": "code",
   "execution_count": 17,
   "metadata": {
    "collapsed": true
   },
   "outputs": [],
   "source": [
    "import xgboost as xgb\n",
    "model = xgb.XGBRegressor(n_estimators=200, \n",
    "                         learning_rate=0.05, \n",
    "                         max_depth=15,\n",
    "                         colsample_bytree=0.9,\n",
    "                         gamma=0.4,\n",
    "                         min_child_weight=7,\n",
    "                         subsample=0.9,\n",
    "                         reg_alpha=0.1,\n",
    "                         seed=10)"
   ]
  },
  {
   "cell_type": "code",
   "execution_count": 18,
   "metadata": {},
   "outputs": [
    {
     "name": "stdout",
     "output_type": "stream",
     "text": [
      "RMSE : 4.2304\n",
      "CPU times: user 13min 31s, sys: 1.43 s, total: 13min 33s\n",
      "Wall time: 13min 35s\n"
     ]
    }
   ],
   "source": [
    "%%time\n",
    "pred = train_and_predict(model, train_x, train_y, dev_x)\n",
    "evaluate(pred, dev_y)"
   ]
  },
  {
   "cell_type": "code",
   "execution_count": 19,
   "metadata": {},
   "outputs": [
    {
     "data": {
      "text/plain": [
       "<matplotlib.axes._subplots.AxesSubplot at 0x10e96a470>"
      ]
     },
     "execution_count": 19,
     "metadata": {},
     "output_type": "execute_result"
    },
    {
     "data": {
      "image/png": "[encoded data removed]",
      "text/plain": [
       "<matplotlib.figure.Figure at 0x10e7b9588>"
      ]
     },
     "metadata": {},
     "output_type": "display_data"
    }
   ],
   "source": [
    "import matplotlib.pyplot as plt\n",
    "import matplotlib\n",
    "%matplotlib inline \n",
    "\n",
    "plt.rcParams['figure.figsize'] = (16,4)\n",
    "plt.rcParams['font.family'] = 'AppleGothic'\n",
    "\n",
    "xgb.plot_importance(model, max_num_features=10)"
   ]
  },
  {
   "cell_type": "code",
   "execution_count": 20,
   "metadata": {},
   "outputs": [
    {
     "data": {
      "text/plain": [
       "[<matplotlib.lines.Line2D at 0x1125b7be0>]"
      ]
     },
     "execution_count": 20,
     "metadata": {},
     "output_type": "execute_result"
    },
    {
     "data": {
      "image/png": "[encoded data removed]",
      "text/plain": [
       "<matplotlib.figure.Figure at 0x1125b7470>"
      ]
     },
     "metadata": {},
     "output_type": "display_data"
    }
   ],
   "source": [
    "plt.rcParams[\"figure.figsize\"] = (20,3)\n",
    "index = 500\n",
    "\n",
    "plt.plot(pred[index:index+100])\n",
    "plt.plot(dev_y.values[index:index+100])"
   ]
  },
  {
   "cell_type": "code",
   "execution_count": null,
   "metadata": {
    "collapsed": true
   },
   "outputs": [],
   "source": []
  }
 ],
 "metadata": {
  "kernelspec": {
   "display_name": "Python 3",
   "language": "python",
   "name": "python3"
  },
  "language_info": {
   "codemirror_mode": {
    "name": "ipython",
    "version": 3
   },
   "file_extension": ".py",
   "mimetype": "text/x-python",
   "name": "python",
   "nbconvert_exporter": "python",
   "pygments_lexer": "ipython3",
   "version": "3.6.1"
  }
 },
 "nbformat": 4,
 "nbformat_minor": 2
}
