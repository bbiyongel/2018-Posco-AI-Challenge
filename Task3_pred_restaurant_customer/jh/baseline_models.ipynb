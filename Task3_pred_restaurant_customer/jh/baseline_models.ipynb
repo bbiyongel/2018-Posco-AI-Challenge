{
 "cells": [
  {
   "cell_type": "code",
   "execution_count": 1,
   "metadata": {
    "collapsed": true
   },
   "outputs": [],
   "source": [
    "import pandas as pd\n",
    "import numpy as np"
   ]
  },
  {
   "cell_type": "markdown",
   "metadata": {},
   "source": [
    "# 데이터 전처리 (data_preprocessing.ipynb)"
   ]
  },
  {
   "cell_type": "code",
   "execution_count": 16,
   "metadata": {
    "collapsed": true
   },
   "outputs": [],
   "source": [
    "# Read Data\n",
    "df = pd.read_excel(\"data/train.xlsx\")"
   ]
  },
  {
   "cell_type": "code",
   "execution_count": 17,
   "metadata": {
    "collapsed": true
   },
   "outputs": [],
   "source": [
    "# Normalize Date\n",
    "# df['year'] = (df['일자'] / 10000).astype(int)\n",
    "# df['month'] = (df['일자'] % 10000 / 100).astype(int)\n",
    "# df['day'] = (df['일자'] % 100).astype(int)\n",
    "# df.drop(['일자'], axis=1, inplace=True)\n",
    "# df['year'] = (df['year']-min(df['year'])) / (max(df['year'])-min(df['year']))\n",
    "# df['month_sin'] = [np.sin(x*2*np.pi/12) for x in df['month']]\n",
    "# df['month_cos'] = [np.cos(x*2*np.pi/12) for x in df['month']]\n",
    "# df['day_sin'] = [np.sin(x*2*np.pi/31) for x in df['day']]\n",
    "# df['day_cos'] = [np.cos(x*2*np.pi/31) for x in df['day']]\n",
    "# df.drop(['month', 'day'], axis=1, inplace=True)\n",
    "\n",
    "# Convert 식사명 to One-hot Vector\n",
    "df = df.join(pd.get_dummies(df['식사명'], prefix='식사명'))\n",
    "df.drop(['식사명'], axis=1, inplace=True)\n",
    "\n",
    "# Convert 식사내용 to Vector based on Bag-of-Word\n",
    "from sklearn.feature_extraction.text import CountVectorizer\n",
    "def tokenize(text):\n",
    "    return text.split(',')\n",
    "vectorizer = CountVectorizer(tokenizer=tokenize)\n",
    "bow = vectorizer.fit_transform(df['식사내용']).toarray()\n",
    "df = df.join(pd.DataFrame(bow, columns=vectorizer.get_feature_names()))\n",
    "df.drop(['식사내용'], axis=1, inplace=True)"
   ]
  },
  {
   "cell_type": "markdown",
   "metadata": {},
   "source": [
    "# Modeling"
   ]
  },
  {
   "cell_type": "markdown",
   "metadata": {},
   "source": [
    "1. Linear Regression\n",
    "2. Random Forest\n",
    "3. Bayesian Ridge\n",
    "4. SVM\n",
    "3. XGBoost"
   ]
  },
  {
   "cell_type": "markdown",
   "metadata": {},
   "source": [
    "## 0. Prepare train & test"
   ]
  },
  {
   "cell_type": "markdown",
   "metadata": {},
   "source": [
    "#### 1) Split train and test(validation) set by 8 to 2"
   ]
  },
  {
   "cell_type": "code",
   "execution_count": 18,
   "metadata": {},
   "outputs": [
    {
     "name": "stdout",
     "output_type": "stream",
     "text": [
      "(16008, 1880)\n",
      "(4002, 1880)\n"
     ]
    }
   ],
   "source": [
    "from sklearn.model_selection import train_test_split\n",
    "train_df, dev_df = train_test_split(df, test_size=0.2, random_state=10)\n",
    "print(train_df.shape)\n",
    "print(dev_df.shape)"
   ]
  },
  {
   "cell_type": "code",
   "execution_count": 19,
   "metadata": {
    "collapsed": true
   },
   "outputs": [],
   "source": [
    "train_y = train_df['수량']\n",
    "train_x = train_df.drop(['수량'], axis=1)\n",
    "dev_y = dev_df['수량']\n",
    "dev_x = dev_df.drop(['수량'], axis=1)"
   ]
  },
  {
   "cell_type": "markdown",
   "metadata": {},
   "source": [
    "#### 2) train, predict, evaluation function (반복적으로 사용되는 코드이므로)"
   ]
  },
  {
   "cell_type": "code",
   "execution_count": 20,
   "metadata": {
    "collapsed": true
   },
   "outputs": [],
   "source": [
    "from sklearn.metrics import mean_squared_error\n",
    "import math\n",
    "\n",
    "def train_and_predict(model, train_x, train_y, dev_x):\n",
    "    model.fit(train_x, train_y)\n",
    "    return model.predict(dev_x)\n",
    "\n",
    "def evaluate(predict_y, actual_y):\n",
    "    rmse = math.sqrt(mean_squared_error(actual_y, predict_y))\n",
    "    print('RMSE :', round(np.mean(rmse), 4))"
   ]
  },
  {
   "cell_type": "markdown",
   "metadata": {},
   "source": [
    "## 1. Linear Regression"
   ]
  },
  {
   "cell_type": "code",
   "execution_count": 6,
   "metadata": {
    "collapsed": true
   },
   "outputs": [],
   "source": [
    "from sklearn.linear_model import LinearRegression\n",
    "model = LinearRegression()"
   ]
  },
  {
   "cell_type": "code",
   "execution_count": 7,
   "metadata": {},
   "outputs": [
    {
     "name": "stdout",
     "output_type": "stream",
     "text": [
      "RMSE : 60691112250.0121\n"
     ]
    }
   ],
   "source": [
    "pred = train_and_predict(model, train_x, train_y, dev_x)\n",
    "evaluate(pred, dev_y)"
   ]
  },
  {
   "cell_type": "markdown",
   "metadata": {},
   "source": [
    "## 2. Random Forest"
   ]
  },
  {
   "cell_type": "code",
   "execution_count": 18,
   "metadata": {
    "collapsed": true
   },
   "outputs": [],
   "source": [
    "from sklearn.ensemble import RandomForestRegressor\n",
    "model = RandomForestRegressor(n_estimators = 100, random_state = 10)"
   ]
  },
  {
   "cell_type": "code",
   "execution_count": 19,
   "metadata": {},
   "outputs": [
    {
     "name": "stdout",
     "output_type": "stream",
     "text": [
      "RMSE : 6.682\n",
      "CPU times: user 2min 23s, sys: 1.1 s, total: 2min 24s\n",
      "Wall time: 2min 25s\n"
     ]
    }
   ],
   "source": [
    "%%time\n",
    "pred = train_and_predict(model, train_x, train_y, dev_x)\n",
    "evaluate(pred, dev_y)"
   ]
  },
  {
   "cell_type": "markdown",
   "metadata": {},
   "source": [
    "## 3. Bayesian Ridge"
   ]
  },
  {
   "cell_type": "code",
   "execution_count": 21,
   "metadata": {
    "collapsed": true
   },
   "outputs": [],
   "source": [
    "from sklearn.linear_model import BayesianRidge\n",
    "model = BayesianRidge(compute_score=True)"
   ]
  },
  {
   "cell_type": "code",
   "execution_count": 22,
   "metadata": {},
   "outputs": [
    {
     "name": "stdout",
     "output_type": "stream",
     "text": [
      "RMSE : 7.6135\n"
     ]
    }
   ],
   "source": [
    "pred = train_and_predict(model, train_x, train_y, dev_x)\n",
    "evaluate(pred, dev_y)"
   ]
  },
  {
   "cell_type": "markdown",
   "metadata": {},
   "source": [
    "## 4. SVM"
   ]
  },
  {
   "cell_type": "code",
   "execution_count": 14,
   "metadata": {
    "collapsed": true
   },
   "outputs": [],
   "source": [
    "from sklearn.svm import LinearSVR\n",
    "model = LinearSVR(C=1.0, epsilon=0.2)"
   ]
  },
  {
   "cell_type": "code",
   "execution_count": 15,
   "metadata": {},
   "outputs": [
    {
     "name": "stdout",
     "output_type": "stream",
     "text": [
      "RMSE : 7.7259\n"
     ]
    }
   ],
   "source": [
    "pred = train_and_predict(model, train_x, train_y, dev_x)\n",
    "evaluate(pred, dev_y)"
   ]
  },
  {
   "cell_type": "markdown",
   "metadata": {},
   "source": [
    "## 5. XGBoost"
   ]
  },
  {
   "cell_type": "code",
   "execution_count": 14,
   "metadata": {
    "collapsed": true
   },
   "outputs": [],
   "source": [
    "import xgboost as xgb\n",
    "model = xgb.XGBRegressor(n_estimators=100, \n",
    "                         learning_rate=0.05, \n",
    "                         seed=10)"
   ]
  },
  {
   "cell_type": "code",
   "execution_count": 15,
   "metadata": {},
   "outputs": [
    {
     "name": "stdout",
     "output_type": "stream",
     "text": [
      "RMSE : 7.0757\n"
     ]
    }
   ],
   "source": [
    "pred = train_and_predict(model, train_x, train_y, dev_x)\n",
    "evaluate(pred, dev_y)"
   ]
  },
  {
   "cell_type": "code",
   "execution_count": 16,
   "metadata": {},
   "outputs": [
    {
     "data": {
      "text/plain": [
       "<matplotlib.axes._subplots.AxesSubplot at 0x10e4d96d8>"
      ]
     },
     "execution_count": 16,
     "metadata": {},
     "output_type": "execute_result"
    },
    {
     "data": {
      "image/png": "[encoded data removed]",
      "text/plain": [
       "<Figure size 432x288 with 1 Axes>"
      ]
     },
     "metadata": {},
     "output_type": "display_data"
    }
   ],
   "source": [
    "import matplotlib\n",
    "%matplotlib inline \n",
    "\n",
    "matplotlib.rc('font', family='AppleGothic')\n",
    "xgb.plot_importance(model, max_num_features=10)"
   ]
  },
  {
   "cell_type": "code",
   "execution_count": null,
   "metadata": {
    "collapsed": true
   },
   "outputs": [],
   "source": []
  }
 ],
 "metadata": {
  "kernelspec": {
   "display_name": "Python 3",
   "language": "python",
   "name": "python3"
  },
  "language_info": {
   "codemirror_mode": {
    "name": "ipython",
    "version": 3
   },
   "file_extension": ".py",
   "mimetype": "text/x-python",
   "name": "python",
   "nbconvert_exporter": "python",
   "pygments_lexer": "ipython3",
   "version": "3.6.1"
  }
 },
 "nbformat": 4,
 "nbformat_minor": 2
}
