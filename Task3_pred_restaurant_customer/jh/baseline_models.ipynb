{
 "cells": [
  {
   "cell_type": "code",
   "execution_count": 1,
   "metadata": {
    "collapsed": true
   },
   "outputs": [],
   "source": [
    "import pandas as pd\n",
    "import numpy as np"
   ]
  },
  {
   "cell_type": "markdown",
   "metadata": {},
   "source": [
    "# 데이터 전처리 (data_preprocessing.ipynb)"
   ]
  },
  {
   "cell_type": "code",
   "execution_count": 2,
   "metadata": {},
   "outputs": [],
   "source": [
    "# Read Data\n",
    "df = pd.read_excel(\"data/train.xlsx\")\n",
    "\n",
    "# Normalize Date\n",
    "df['year'] = (df['일자'] / 10000).astype(int)\n",
    "df['month'] = (df['일자'] % 10000 / 100).astype(int)\n",
    "df['day'] = (df['일자'] % 100).astype(int)\n",
    "df.drop(['일자'], axis=1, inplace=True)\n",
    "df['year'] = (df['year']-min(df['year'])) / (max(df['year'])-min(df['year']))\n",
    "df['month_sin'] = [np.sin(x*2*np.pi/12) for x in df['month']]\n",
    "df['month_cos'] = [np.cos(x*2*np.pi/12) for x in df['month']]\n",
    "df['day_sin'] = [np.sin(x*2*np.pi/31) for x in df['day']]\n",
    "df['day_cos'] = [np.cos(x*2*np.pi/31) for x in df['day']]\n",
    "df.drop(['month', 'day'], axis=1, inplace=True)\n",
    "\n",
    "# Convert 식사명 to One-hot Vector\n",
    "df = df.join(pd.get_dummies(df['식사명'], prefix='식사명'))\n",
    "df.drop(['식사명'], axis=1, inplace=True)\n",
    "\n",
    "# Convert 식사내용 to Vector based on Bag-of-Word\n",
    "from sklearn.feature_extraction.text import CountVectorizer\n",
    "def tokenize(text):\n",
    "    return text.split(',')\n",
    "vectorizer = CountVectorizer(tokenizer=tokenize)\n",
    "bow = vectorizer.fit_transform(df['식사내용']).toarray()\n",
    "df = df.join(pd.DataFrame(bow, columns=vectorizer.get_feature_names()))\n",
    "df.drop(['식사내용'], axis=1, inplace=True)"
   ]
  },
  {
   "cell_type": "markdown",
   "metadata": {},
   "source": [
    "# Modeling"
   ]
  },
  {
   "cell_type": "markdown",
   "metadata": {},
   "source": [
    "1. Linear Regression\n",
    "2. Random Forest\n",
    "3. Bayesian Ridge\n",
    "4. SVM\n",
    "3. XGBoost"
   ]
  },
  {
   "cell_type": "markdown",
   "metadata": {},
   "source": [
    "## 0. Prepare train & test"
   ]
  },
  {
   "cell_type": "markdown",
   "metadata": {},
   "source": [
    "#### 1) Split train and test(validation) set by 8 to 2"
   ]
  },
  {
   "cell_type": "code",
   "execution_count": 3,
   "metadata": {},
   "outputs": [
    {
     "name": "stdout",
     "output_type": "stream",
     "text": [
      "(16008, 1884)\n",
      "(4002, 1884)\n"
     ]
    }
   ],
   "source": [
    "from sklearn.model_selection import train_test_split\n",
    "train_df, dev_df = train_test_split(df, test_size=0.2, random_state=10)\n",
    "print(train_df.shape)\n",
    "print(dev_df.shape)"
   ]
  },
  {
   "cell_type": "code",
   "execution_count": 4,
   "metadata": {
    "collapsed": true
   },
   "outputs": [],
   "source": [
    "train_y = train_df['수량']\n",
    "train_x = train_df.drop(['수량'], axis=1)\n",
    "dev_y = dev_df['수량']\n",
    "dev_x = dev_df.drop(['수량'], axis=1)"
   ]
  },
  {
   "cell_type": "markdown",
   "metadata": {},
   "source": [
    "#### 2) train, predict, evaluation function (반복적으로 사용되는 코드이므로)"
   ]
  },
  {
   "cell_type": "code",
   "execution_count": 5,
   "metadata": {
    "collapsed": true
   },
   "outputs": [],
   "source": [
    "from sklearn.metrics import mean_squared_error\n",
    "import math\n",
    "\n",
    "def train_and_predict(model, train_x, train_y, dev_x):\n",
    "    model.fit(train_x, train_y)\n",
    "    return model.predict(dev_x)\n",
    "\n",
    "def evaluate(predict_y, actual_y):\n",
    "    rmse = math.sqrt(mean_squared_error(actual_y, predict_y))\n",
    "    print('RMSE :', round(np.mean(rmse), 4))"
   ]
  },
  {
   "cell_type": "markdown",
   "metadata": {},
   "source": [
    "## 1. Linear Regression"
   ]
  },
  {
   "cell_type": "code",
   "execution_count": 26,
   "metadata": {
    "collapsed": true
   },
   "outputs": [],
   "source": [
    "from sklearn.linear_model import LinearRegression\n",
    "model = LinearRegression()"
   ]
  },
  {
   "cell_type": "code",
   "execution_count": 27,
   "metadata": {},
   "outputs": [
    {
     "name": "stdout",
     "output_type": "stream",
     "text": [
      "RMSE : 90714889435.2\n"
     ]
    }
   ],
   "source": [
    "pred = train_and_predict(model, train_x, train_y, dev_x)\n",
    "evaluate(pred, dev_y)"
   ]
  },
  {
   "cell_type": "markdown",
   "metadata": {},
   "source": [
    "## 2. Random Forest"
   ]
  },
  {
   "cell_type": "code",
   "execution_count": 8,
   "metadata": {
    "collapsed": true
   },
   "outputs": [],
   "source": [
    "from sklearn.ensemble import RandomForestRegressor\n",
    "model = RandomForestRegressor(n_estimators = 100, random_state = 10)"
   ]
  },
  {
   "cell_type": "code",
   "execution_count": 9,
   "metadata": {},
   "outputs": [
    {
     "name": "stdout",
     "output_type": "stream",
     "text": [
      "RMSE : 6.682\n"
     ]
    }
   ],
   "source": [
    "pred = train_and_predict(model, train_x, train_y, dev_x)\n",
    "evaluate(pred, dev_y)"
   ]
  },
  {
   "cell_type": "markdown",
   "metadata": {},
   "source": [
    "## 3. Bayesian Ridge"
   ]
  },
  {
   "cell_type": "code",
   "execution_count": 10,
   "metadata": {
    "collapsed": true
   },
   "outputs": [],
   "source": [
    "from sklearn.linear_model import BayesianRidge\n",
    "model = BayesianRidge(compute_score=True)"
   ]
  },
  {
   "cell_type": "code",
   "execution_count": 11,
   "metadata": {},
   "outputs": [
    {
     "name": "stdout",
     "output_type": "stream",
     "text": [
      "RMSE : 7.5934\n"
     ]
    }
   ],
   "source": [
    "pred = train_and_predict(model, train_x, train_y, dev_x)\n",
    "evaluate(pred, dev_y)"
   ]
  },
  {
   "cell_type": "markdown",
   "metadata": {},
   "source": [
    "## 4. SVM"
   ]
  },
  {
   "cell_type": "code",
   "execution_count": 12,
   "metadata": {
    "collapsed": true
   },
   "outputs": [],
   "source": [
    "from sklearn.svm import SVR\n",
    "model = SVR(C=1.0, epsilon=0.2)"
   ]
  },
  {
   "cell_type": "code",
   "execution_count": 13,
   "metadata": {},
   "outputs": [
    {
     "name": "stdout",
     "output_type": "stream",
     "text": [
      "RMSE : 9.6621\n"
     ]
    }
   ],
   "source": [
    "pred = train_and_predict(model, train_x, train_y, dev_x)\n",
    "evaluate(pred, dev_y)"
   ]
  },
  {
   "cell_type": "markdown",
   "metadata": {},
   "source": [
    "## 5. XGBoost"
   ]
  },
  {
   "cell_type": "code",
   "execution_count": 28,
   "metadata": {
    "collapsed": true
   },
   "outputs": [],
   "source": [
    "import xgboost as xgb\n",
    "model = xgb.XGBClassifier(max_depth=3, n_estimators=100, learning_rate=0.1)"
   ]
  },
  {
   "cell_type": "code",
   "execution_count": null,
   "metadata": {
    "collapsed": true
   },
   "outputs": [],
   "source": [
    "pred = train_and_predict(model, train_x, train_y, dev_x)\n",
    "evaluate(pred, dev_y)"
   ]
  },
  {
   "cell_type": "code",
   "execution_count": null,
   "metadata": {
    "collapsed": true
   },
   "outputs": [],
   "source": [
    "%matplotlib inline \n",
    "xgb.plot_importance(model, max_num_features=10, figsize=(9,20))"
   ]
  },
  {
   "cell_type": "code",
   "execution_count": null,
   "metadata": {
    "collapsed": true
   },
   "outputs": [],
   "source": []
  }
 ],
 "metadata": {
  "kernelspec": {
   "display_name": "Python 3",
   "language": "python",
   "name": "python3"
  },
  "language_info": {
   "codemirror_mode": {
    "name": "ipython",
    "version": 3
   },
   "file_extension": ".py",
   "mimetype": "text/x-python",
   "name": "python",
   "nbconvert_exporter": "python",
   "pygments_lexer": "ipython3",
   "version": "3.6.2"
  }
 },
 "nbformat": 4,
 "nbformat_minor": 2
}
