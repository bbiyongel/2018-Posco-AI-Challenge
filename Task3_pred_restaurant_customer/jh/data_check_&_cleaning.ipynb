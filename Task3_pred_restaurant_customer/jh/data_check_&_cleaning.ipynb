{
 "cells": [
  {
   "cell_type": "code",
   "execution_count": 1,
   "metadata": {},
   "outputs": [],
   "source": [
    "import pandas as pd\n",
    "import numpy as np"
   ]
  },
  {
   "cell_type": "code",
   "execution_count": 2,
   "metadata": {},
   "outputs": [],
   "source": [
    "ex = pd.ExcelFile(\"data/[과제3] 식당 메뉴 및 식사인원.xlsx\")"
   ]
  },
  {
   "cell_type": "markdown",
   "metadata": {},
   "source": [
    "# Menu"
   ]
  },
  {
   "cell_type": "code",
   "execution_count": 3,
   "metadata": {},
   "outputs": [
    {
     "name": "stdout",
     "output_type": "stream",
     "text": [
      "<class 'pandas.core.frame.DataFrame'>\n",
      "Int64Index: 24860 entries, 1 to 24860\n",
      "Data columns (total 3 columns):\n",
      "일자      24860 non-null int64\n",
      "식사명     24860 non-null object\n",
      "식사내용    24860 non-null object\n",
      "dtypes: int64(1), object(2)\n",
      "memory usage: 776.9+ KB\n",
      "None\n"
     ]
    },
    {
     "data": {
      "text/html": [
       "<div>\n",
       "<style scoped>\n",
       "    .dataframe tbody tr th:only-of-type {\n",
       "        vertical-align: middle;\n",
       "    }\n",
       "\n",
       "    .dataframe tbody tr th {\n",
       "        vertical-align: top;\n",
       "    }\n",
       "\n",
       "    .dataframe thead th {\n",
       "        text-align: right;\n",
       "    }\n",
       "</style>\n",
       "<table border=\"1\" class=\"dataframe\">\n",
       "  <thead>\n",
       "    <tr style=\"text-align: right;\">\n",
       "      <th></th>\n",
       "      <th>일자</th>\n",
       "      <th>식사명</th>\n",
       "      <th>식사내용</th>\n",
       "    </tr>\n",
       "  </thead>\n",
       "  <tbody>\n",
       "    <tr>\n",
       "      <th>1</th>\n",
       "      <td>20030301</td>\n",
       "      <td>아침식사</td>\n",
       "      <td>과일샐러드,닭죽,돈육마늘장조림,떡만두국,부추김무침,쌀밥</td>\n",
       "    </tr>\n",
       "    <tr>\n",
       "      <th>2</th>\n",
       "      <td>20030301</td>\n",
       "      <td>아침식사2</td>\n",
       "      <td>딸기잼(중),비엔나구이,스크램블에그(경양식),야채샐러드,크림스프(경양식),토스트&amp;모닝빵</td>\n",
       "    </tr>\n",
       "    <tr>\n",
       "      <th>3</th>\n",
       "      <td>20030301</td>\n",
       "      <td>점심식사</td>\n",
       "      <td>골뱅이야채무침,새우맛살튀김,쌀밥(사무직),열무겉절이,칼국수</td>\n",
       "    </tr>\n",
       "    <tr>\n",
       "      <th>4</th>\n",
       "      <td>20030301</td>\n",
       "      <td>저녁식사</td>\n",
       "      <td>감자으깸샐러드,비프까스,스위트피클,쌀밥,옥수수스프</td>\n",
       "    </tr>\n",
       "    <tr>\n",
       "      <th>5</th>\n",
       "      <td>20030302</td>\n",
       "      <td>아침식사</td>\n",
       "      <td>계란죽,곤약멸치조림,김치국,마카로니샐러드,쌀밥,오징어회무침</td>\n",
       "    </tr>\n",
       "  </tbody>\n",
       "</table>\n",
       "</div>"
      ],
      "text/plain": [
       "         일자    식사명                                              식사내용\n",
       "1  20030301   아침식사                    과일샐러드,닭죽,돈육마늘장조림,떡만두국,부추김무침,쌀밥\n",
       "2  20030301  아침식사2  딸기잼(중),비엔나구이,스크램블에그(경양식),야채샐러드,크림스프(경양식),토스트&모닝빵\n",
       "3  20030301   점심식사                  골뱅이야채무침,새우맛살튀김,쌀밥(사무직),열무겉절이,칼국수\n",
       "4  20030301   저녁식사                       감자으깸샐러드,비프까스,스위트피클,쌀밥,옥수수스프\n",
       "5  20030302   아침식사                  계란죽,곤약멸치조림,김치국,마카로니샐러드,쌀밥,오징어회무침"
      ]
     },
     "execution_count": 3,
     "metadata": {},
     "output_type": "execute_result"
    }
   ],
   "source": [
    "menu = ex.parse(\"메뉴\")\n",
    "print(menu.info())\n",
    "menu.head()"
   ]
  },
  {
   "cell_type": "markdown",
   "metadata": {},
   "source": [
    "### 식사명 value를 submission 기준으로 변경"
   ]
  },
  {
   "cell_type": "code",
   "execution_count": 4,
   "metadata": {},
   "outputs": [
    {
     "data": {
      "text/plain": [
       "array(['아침식사', '아침식사2', '점심식사', '저녁식사', '점심식사2'], dtype=object)"
      ]
     },
     "execution_count": 4,
     "metadata": {},
     "output_type": "execute_result"
    }
   ],
   "source": [
    "menu['식사명'].unique()"
   ]
  },
  {
   "cell_type": "code",
   "execution_count": 5,
   "metadata": {},
   "outputs": [
    {
     "data": {
      "text/html": [
       "<div>\n",
       "<style scoped>\n",
       "    .dataframe tbody tr th:only-of-type {\n",
       "        vertical-align: middle;\n",
       "    }\n",
       "\n",
       "    .dataframe tbody tr th {\n",
       "        vertical-align: top;\n",
       "    }\n",
       "\n",
       "    .dataframe thead th {\n",
       "        text-align: right;\n",
       "    }\n",
       "</style>\n",
       "<table border=\"1\" class=\"dataframe\">\n",
       "  <thead>\n",
       "    <tr style=\"text-align: right;\">\n",
       "      <th></th>\n",
       "      <th>일자</th>\n",
       "      <th>식사명</th>\n",
       "      <th>식사내용</th>\n",
       "    </tr>\n",
       "  </thead>\n",
       "  <tbody>\n",
       "    <tr>\n",
       "      <th>1</th>\n",
       "      <td>20030301</td>\n",
       "      <td>아침</td>\n",
       "      <td>과일샐러드,닭죽,돈육마늘장조림,떡만두국,부추김무침,쌀밥</td>\n",
       "    </tr>\n",
       "    <tr>\n",
       "      <th>2</th>\n",
       "      <td>20030301</td>\n",
       "      <td>아침</td>\n",
       "      <td>딸기잼(중),비엔나구이,스크램블에그(경양식),야채샐러드,크림스프(경양식),토스트&amp;모닝빵</td>\n",
       "    </tr>\n",
       "    <tr>\n",
       "      <th>3</th>\n",
       "      <td>20030301</td>\n",
       "      <td>점심(일반)</td>\n",
       "      <td>골뱅이야채무침,새우맛살튀김,쌀밥(사무직),열무겉절이,칼국수</td>\n",
       "    </tr>\n",
       "    <tr>\n",
       "      <th>4</th>\n",
       "      <td>20030301</td>\n",
       "      <td>저녁</td>\n",
       "      <td>감자으깸샐러드,비프까스,스위트피클,쌀밥,옥수수스프</td>\n",
       "    </tr>\n",
       "    <tr>\n",
       "      <th>5</th>\n",
       "      <td>20030302</td>\n",
       "      <td>아침</td>\n",
       "      <td>계란죽,곤약멸치조림,김치국,마카로니샐러드,쌀밥,오징어회무침</td>\n",
       "    </tr>\n",
       "  </tbody>\n",
       "</table>\n",
       "</div>"
      ],
      "text/plain": [
       "         일자     식사명                                              식사내용\n",
       "1  20030301      아침                    과일샐러드,닭죽,돈육마늘장조림,떡만두국,부추김무침,쌀밥\n",
       "2  20030301      아침  딸기잼(중),비엔나구이,스크램블에그(경양식),야채샐러드,크림스프(경양식),토스트&모닝빵\n",
       "3  20030301  점심(일반)                  골뱅이야채무침,새우맛살튀김,쌀밥(사무직),열무겉절이,칼국수\n",
       "4  20030301      저녁                       감자으깸샐러드,비프까스,스위트피클,쌀밥,옥수수스프\n",
       "5  20030302      아침                  계란죽,곤약멸치조림,김치국,마카로니샐러드,쌀밥,오징어회무침"
      ]
     },
     "execution_count": 5,
     "metadata": {},
     "output_type": "execute_result"
    }
   ],
   "source": [
    "name_table = {'아침식사' : '아침',\n",
    "              '아침식사2' : '아침',\n",
    "              '점심식사' : '점심(일반)', \n",
    "              '점심식사2' : '점심(양식)', \n",
    "              '저녁식사' : '저녁'}\n",
    "menu['식사명'] = [name_table[name] for name in menu['식사명']]\n",
    "menu.head()"
   ]
  },
  {
   "cell_type": "markdown",
   "metadata": {},
   "source": [
    "### ['일자', '식사명']을 key로 식사내용 병합 (식사내용 string concat with comma)"
   ]
  },
  {
   "cell_type": "code",
   "execution_count": 6,
   "metadata": {
    "scrolled": false
   },
   "outputs": [
    {
     "data": {
      "text/html": [
       "<div>\n",
       "<style scoped>\n",
       "    .dataframe tbody tr th:only-of-type {\n",
       "        vertical-align: middle;\n",
       "    }\n",
       "\n",
       "    .dataframe tbody tr th {\n",
       "        vertical-align: top;\n",
       "    }\n",
       "\n",
       "    .dataframe thead th {\n",
       "        text-align: right;\n",
       "    }\n",
       "</style>\n",
       "<table border=\"1\" class=\"dataframe\">\n",
       "  <thead>\n",
       "    <tr style=\"text-align: right;\">\n",
       "      <th></th>\n",
       "      <th>일자</th>\n",
       "      <th>식사명</th>\n",
       "      <th>식사내용</th>\n",
       "    </tr>\n",
       "  </thead>\n",
       "  <tbody>\n",
       "    <tr>\n",
       "      <th>0</th>\n",
       "      <td>20030301</td>\n",
       "      <td>아침</td>\n",
       "      <td>과일샐러드,닭죽,돈육마늘장조림,떡만두국,부추김무침,쌀밥,딸기잼(중),비엔나구이,스크...</td>\n",
       "    </tr>\n",
       "    <tr>\n",
       "      <th>1</th>\n",
       "      <td>20030301</td>\n",
       "      <td>저녁</td>\n",
       "      <td>감자으깸샐러드,비프까스,스위트피클,쌀밥,옥수수스프</td>\n",
       "    </tr>\n",
       "    <tr>\n",
       "      <th>2</th>\n",
       "      <td>20030301</td>\n",
       "      <td>점심(일반)</td>\n",
       "      <td>골뱅이야채무침,새우맛살튀김,쌀밥(사무직),열무겉절이,칼국수</td>\n",
       "    </tr>\n",
       "    <tr>\n",
       "      <th>3</th>\n",
       "      <td>20030302</td>\n",
       "      <td>아침</td>\n",
       "      <td>계란죽,곤약멸치조림,김치국,마카로니샐러드,쌀밥,오징어회무침,딸기잼(중),삶은계란,야...</td>\n",
       "    </tr>\n",
       "    <tr>\n",
       "      <th>4</th>\n",
       "      <td>20030302</td>\n",
       "      <td>저녁</td>\n",
       "      <td>계란탕,단무지잔파무침,자장소스,잡채밥,탕수만두</td>\n",
       "    </tr>\n",
       "  </tbody>\n",
       "</table>\n",
       "</div>"
      ],
      "text/plain": [
       "         일자     식사명                                               식사내용\n",
       "0  20030301      아침  과일샐러드,닭죽,돈육마늘장조림,떡만두국,부추김무침,쌀밥,딸기잼(중),비엔나구이,스크...\n",
       "1  20030301      저녁                        감자으깸샐러드,비프까스,스위트피클,쌀밥,옥수수스프\n",
       "2  20030301  점심(일반)                   골뱅이야채무침,새우맛살튀김,쌀밥(사무직),열무겉절이,칼국수\n",
       "3  20030302      아침  계란죽,곤약멸치조림,김치국,마카로니샐러드,쌀밥,오징어회무침,딸기잼(중),삶은계란,야...\n",
       "4  20030302      저녁                          계란탕,단무지잔파무침,자장소스,잡채밥,탕수만두"
      ]
     },
     "execution_count": 6,
     "metadata": {},
     "output_type": "execute_result"
    }
   ],
   "source": [
    "menu = menu.groupby(by=['일자','식사명'], as_index=False).agg(lambda x : \",\".join(x))\n",
    "menu.head()"
   ]
  },
  {
   "cell_type": "markdown",
   "metadata": {},
   "source": [
    "# Meals"
   ]
  },
  {
   "cell_type": "code",
   "execution_count": 7,
   "metadata": {},
   "outputs": [
    {
     "name": "stdout",
     "output_type": "stream",
     "text": [
      "<class 'pandas.core.frame.DataFrame'>\n",
      "Int64Index: 33282 entries, 1 to 33282\n",
      "Data columns (total 3 columns):\n",
      "매출일자\u0000\u0000\u0000\u0000    33282 non-null int64\n",
      "품명\u0000\u0000        33282 non-null object\n",
      "수량          32248 non-null float64\n",
      "dtypes: float64(1), int64(1), object(1)\n",
      "memory usage: 1.0+ MB\n",
      "None\n"
     ]
    },
    {
     "data": {
      "text/html": [
       "<div>\n",
       "<style scoped>\n",
       "    .dataframe tbody tr th:only-of-type {\n",
       "        vertical-align: middle;\n",
       "    }\n",
       "\n",
       "    .dataframe tbody tr th {\n",
       "        vertical-align: top;\n",
       "    }\n",
       "\n",
       "    .dataframe thead th {\n",
       "        text-align: right;\n",
       "    }\n",
       "</style>\n",
       "<table border=\"1\" class=\"dataframe\">\n",
       "  <thead>\n",
       "    <tr style=\"text-align: right;\">\n",
       "      <th></th>\n",
       "      <th>매출일자\u0000\u0000\u0000\u0000</th>\n",
       "      <th>품명\u0000\u0000</th>\n",
       "      <th>수량</th>\n",
       "    </tr>\n",
       "  </thead>\n",
       "  <tbody>\n",
       "    <tr>\n",
       "      <th>1</th>\n",
       "      <td>20030301</td>\n",
       "      <td>아침식사\u0000\u0000\u0000\u0000</td>\n",
       "      <td>37.472924</td>\n",
       "    </tr>\n",
       "    <tr>\n",
       "      <th>2</th>\n",
       "      <td>20030301</td>\n",
       "      <td>점심식사\u0000\u0000\u0000\u0000</td>\n",
       "      <td>31.191336</td>\n",
       "    </tr>\n",
       "    <tr>\n",
       "      <th>3</th>\n",
       "      <td>20030301</td>\n",
       "      <td>저녁식사\u0000\u0000\u0000\u0000</td>\n",
       "      <td>19.566787</td>\n",
       "    </tr>\n",
       "    <tr>\n",
       "      <th>4</th>\n",
       "      <td>20030302</td>\n",
       "      <td>아침식사\u0000\u0000\u0000\u0000</td>\n",
       "      <td>36.101083</td>\n",
       "    </tr>\n",
       "    <tr>\n",
       "      <th>5</th>\n",
       "      <td>20030302</td>\n",
       "      <td>점심식사\u0000\u0000\u0000\u0000</td>\n",
       "      <td>33.357401</td>\n",
       "    </tr>\n",
       "  </tbody>\n",
       "</table>\n",
       "</div>"
      ],
      "text/plain": [
       "   매출일자\u0000\u0000\u0000\u0000      품명\u0000\u0000         수량\n",
       "1  20030301  아침식사\u0000\u0000\u0000\u0000  37.472924\n",
       "2  20030301  점심식사\u0000\u0000\u0000\u0000  31.191336\n",
       "3  20030301  저녁식사\u0000\u0000\u0000\u0000  19.566787\n",
       "4  20030302  아침식사\u0000\u0000\u0000\u0000  36.101083\n",
       "5  20030302  점심식사\u0000\u0000\u0000\u0000  33.357401"
      ]
     },
     "execution_count": 7,
     "metadata": {},
     "output_type": "execute_result"
    }
   ],
   "source": [
    "label = ex.parse(\"식사인원\")\n",
    "print(label.info())\n",
    "label.head()"
   ]
  },
  {
   "cell_type": "markdown",
   "metadata": {},
   "source": [
    "### Column 이름을 Menu table과 동일하게 변경"
   ]
  },
  {
   "cell_type": "code",
   "execution_count": 8,
   "metadata": {},
   "outputs": [
    {
     "data": {
      "text/plain": [
       "'매출일자\\x00\\x00\\x00\\x00'"
      ]
     },
     "execution_count": 8,
     "metadata": {},
     "output_type": "execute_result"
    }
   ],
   "source": [
    "label.columns[0]"
   ]
  },
  {
   "cell_type": "code",
   "execution_count": 9,
   "metadata": {},
   "outputs": [
    {
     "data": {
      "text/plain": [
       "'품명\\x00\\x00'"
      ]
     },
     "execution_count": 9,
     "metadata": {},
     "output_type": "execute_result"
    }
   ],
   "source": [
    "label.columns[1]"
   ]
  },
  {
   "cell_type": "code",
   "execution_count": 10,
   "metadata": {},
   "outputs": [
    {
     "data": {
      "text/html": [
       "<div>\n",
       "<style scoped>\n",
       "    .dataframe tbody tr th:only-of-type {\n",
       "        vertical-align: middle;\n",
       "    }\n",
       "\n",
       "    .dataframe tbody tr th {\n",
       "        vertical-align: top;\n",
       "    }\n",
       "\n",
       "    .dataframe thead th {\n",
       "        text-align: right;\n",
       "    }\n",
       "</style>\n",
       "<table border=\"1\" class=\"dataframe\">\n",
       "  <thead>\n",
       "    <tr style=\"text-align: right;\">\n",
       "      <th></th>\n",
       "      <th>수량</th>\n",
       "      <th>일자</th>\n",
       "      <th>식사명</th>\n",
       "    </tr>\n",
       "  </thead>\n",
       "  <tbody>\n",
       "    <tr>\n",
       "      <th>1</th>\n",
       "      <td>37.472924</td>\n",
       "      <td>20030301</td>\n",
       "      <td>아침식사\u0000\u0000\u0000\u0000</td>\n",
       "    </tr>\n",
       "    <tr>\n",
       "      <th>2</th>\n",
       "      <td>31.191336</td>\n",
       "      <td>20030301</td>\n",
       "      <td>점심식사\u0000\u0000\u0000\u0000</td>\n",
       "    </tr>\n",
       "    <tr>\n",
       "      <th>3</th>\n",
       "      <td>19.566787</td>\n",
       "      <td>20030301</td>\n",
       "      <td>저녁식사\u0000\u0000\u0000\u0000</td>\n",
       "    </tr>\n",
       "    <tr>\n",
       "      <th>4</th>\n",
       "      <td>36.101083</td>\n",
       "      <td>20030302</td>\n",
       "      <td>아침식사\u0000\u0000\u0000\u0000</td>\n",
       "    </tr>\n",
       "    <tr>\n",
       "      <th>5</th>\n",
       "      <td>33.357401</td>\n",
       "      <td>20030302</td>\n",
       "      <td>점심식사\u0000\u0000\u0000\u0000</td>\n",
       "    </tr>\n",
       "  </tbody>\n",
       "</table>\n",
       "</div>"
      ],
      "text/plain": [
       "          수량        일자       식사명\n",
       "1  37.472924  20030301  아침식사\u0000\u0000\u0000\u0000\n",
       "2  31.191336  20030301  점심식사\u0000\u0000\u0000\u0000\n",
       "3  19.566787  20030301  저녁식사\u0000\u0000\u0000\u0000\n",
       "4  36.101083  20030302  아침식사\u0000\u0000\u0000\u0000\n",
       "5  33.357401  20030302  점심식사\u0000\u0000\u0000\u0000"
      ]
     },
     "execution_count": 10,
     "metadata": {},
     "output_type": "execute_result"
    }
   ],
   "source": [
    "label['일자'] = label['매출일자\\x00\\x00\\x00\\x00']\n",
    "label['식사명'] = label['품명\\x00\\x00']\n",
    "label = label.drop(['매출일자\\x00\\x00\\x00\\x00', '품명\\x00\\x00'], axis=1)\n",
    "label.head()"
   ]
  },
  {
   "cell_type": "markdown",
   "metadata": {},
   "source": [
    "### 식사명 value를 submission 기준으로 변경"
   ]
  },
  {
   "cell_type": "code",
   "execution_count": 11,
   "metadata": {},
   "outputs": [
    {
     "data": {
      "text/plain": [
       "array(['아침식사\\x00\\x00\\x00\\x00', '점심식사\\x00\\x00\\x00\\x00',\n",
       "       '저녁식사\\x00\\x00\\x00\\x00', '점심식사1\\x00\\x00\\x00\\x00',\n",
       "       '아침식사1\\x00\\x00\\x00\\x00', '저녁식사1\\x00\\x00\\x00\\x00',\n",
       "       '점심식사2(양식)\\x00\\x00\\x00\\x00\\x00\\x00'], dtype=object)"
      ]
     },
     "execution_count": 11,
     "metadata": {},
     "output_type": "execute_result"
    }
   ],
   "source": [
    "label['식사명'].unique()"
   ]
  },
  {
   "cell_type": "code",
   "execution_count": 12,
   "metadata": {},
   "outputs": [
    {
     "data": {
      "text/html": [
       "<div>\n",
       "<style scoped>\n",
       "    .dataframe tbody tr th:only-of-type {\n",
       "        vertical-align: middle;\n",
       "    }\n",
       "\n",
       "    .dataframe tbody tr th {\n",
       "        vertical-align: top;\n",
       "    }\n",
       "\n",
       "    .dataframe thead th {\n",
       "        text-align: right;\n",
       "    }\n",
       "</style>\n",
       "<table border=\"1\" class=\"dataframe\">\n",
       "  <thead>\n",
       "    <tr style=\"text-align: right;\">\n",
       "      <th></th>\n",
       "      <th>수량</th>\n",
       "      <th>일자</th>\n",
       "      <th>식사명</th>\n",
       "    </tr>\n",
       "  </thead>\n",
       "  <tbody>\n",
       "    <tr>\n",
       "      <th>1</th>\n",
       "      <td>37.472924</td>\n",
       "      <td>20030301</td>\n",
       "      <td>아침</td>\n",
       "    </tr>\n",
       "    <tr>\n",
       "      <th>2</th>\n",
       "      <td>31.191336</td>\n",
       "      <td>20030301</td>\n",
       "      <td>점심(일반)</td>\n",
       "    </tr>\n",
       "    <tr>\n",
       "      <th>3</th>\n",
       "      <td>19.566787</td>\n",
       "      <td>20030301</td>\n",
       "      <td>저녁</td>\n",
       "    </tr>\n",
       "    <tr>\n",
       "      <th>4</th>\n",
       "      <td>36.101083</td>\n",
       "      <td>20030302</td>\n",
       "      <td>아침</td>\n",
       "    </tr>\n",
       "    <tr>\n",
       "      <th>5</th>\n",
       "      <td>33.357401</td>\n",
       "      <td>20030302</td>\n",
       "      <td>점심(일반)</td>\n",
       "    </tr>\n",
       "  </tbody>\n",
       "</table>\n",
       "</div>"
      ],
      "text/plain": [
       "          수량        일자     식사명\n",
       "1  37.472924  20030301      아침\n",
       "2  31.191336  20030301  점심(일반)\n",
       "3  19.566787  20030301      저녁\n",
       "4  36.101083  20030302      아침\n",
       "5  33.357401  20030302  점심(일반)"
      ]
     },
     "execution_count": 12,
     "metadata": {},
     "output_type": "execute_result"
    }
   ],
   "source": [
    "name_table = {'아침식사\\x00\\x00\\x00\\x00' : '아침',\n",
    "              '아침식사1\\x00\\x00\\x00\\x00' : '아침',\n",
    "              '점심식사\\x00\\x00\\x00\\x00' : '점심(일반)', \n",
    "              '점심식사1\\x00\\x00\\x00\\x00' : '점심(일반)', \n",
    "              '점심식사2(양식)\\x00\\x00\\x00\\x00\\x00\\x00' : '점심(양식)', \n",
    "              '저녁식사\\x00\\x00\\x00\\x00' : '저녁',\n",
    "              '저녁식사1\\x00\\x00\\x00\\x00' : '저녁'}\n",
    "\n",
    "label['식사명'] = [name_table[name] for name in label['식사명']]\n",
    "label.head()"
   ]
  },
  {
   "cell_type": "markdown",
   "metadata": {},
   "source": [
    "### ['일자', '식사명']을 key로 식사내용 병합 (수량 sum)"
   ]
  },
  {
   "cell_type": "code",
   "execution_count": 13,
   "metadata": {
    "scrolled": false
   },
   "outputs": [
    {
     "name": "stderr",
     "output_type": "stream",
     "text": [
      "/anaconda3/lib/python3.6/site-packages/ipykernel_launcher.py:2: SettingWithCopyWarning: \n",
      "A value is trying to be set on a copy of a slice from a DataFrame\n",
      "\n",
      "See the caveats in the documentation: http://pandas.pydata.org/pandas-docs/stable/indexing.html#indexing-view-versus-copy\n",
      "  \n"
     ]
    },
    {
     "data": {
      "text/html": [
       "<div>\n",
       "<style scoped>\n",
       "    .dataframe tbody tr th:only-of-type {\n",
       "        vertical-align: middle;\n",
       "    }\n",
       "\n",
       "    .dataframe tbody tr th {\n",
       "        vertical-align: top;\n",
       "    }\n",
       "\n",
       "    .dataframe thead th {\n",
       "        text-align: right;\n",
       "    }\n",
       "</style>\n",
       "<table border=\"1\" class=\"dataframe\">\n",
       "  <thead>\n",
       "    <tr style=\"text-align: right;\">\n",
       "      <th></th>\n",
       "      <th>일자</th>\n",
       "      <th>식사명</th>\n",
       "      <th>수량</th>\n",
       "    </tr>\n",
       "  </thead>\n",
       "  <tbody>\n",
       "    <tr>\n",
       "      <th>0</th>\n",
       "      <td>20030301</td>\n",
       "      <td>아침</td>\n",
       "      <td>37.472924</td>\n",
       "    </tr>\n",
       "    <tr>\n",
       "      <th>1</th>\n",
       "      <td>20030301</td>\n",
       "      <td>저녁</td>\n",
       "      <td>19.566787</td>\n",
       "    </tr>\n",
       "    <tr>\n",
       "      <th>2</th>\n",
       "      <td>20030301</td>\n",
       "      <td>점심(일반)</td>\n",
       "      <td>31.191336</td>\n",
       "    </tr>\n",
       "    <tr>\n",
       "      <th>3</th>\n",
       "      <td>20030302</td>\n",
       "      <td>아침</td>\n",
       "      <td>36.101083</td>\n",
       "    </tr>\n",
       "    <tr>\n",
       "      <th>4</th>\n",
       "      <td>20030302</td>\n",
       "      <td>저녁</td>\n",
       "      <td>21.949458</td>\n",
       "    </tr>\n",
       "  </tbody>\n",
       "</table>\n",
       "</div>"
      ],
      "text/plain": [
       "         일자     식사명         수량\n",
       "0  20030301      아침  37.472924\n",
       "1  20030301      저녁  19.566787\n",
       "2  20030301  점심(일반)  31.191336\n",
       "3  20030302      아침  36.101083\n",
       "4  20030302      저녁  21.949458"
      ]
     },
     "execution_count": 13,
     "metadata": {},
     "output_type": "execute_result"
    }
   ],
   "source": [
    "label = label.groupby(by=['일자','식사명'], as_index=False).sum()\n",
    "label['수량'][label.수량 == 0] = np.nan\n",
    "label.head()"
   ]
  },
  {
   "cell_type": "code",
   "execution_count": null,
   "metadata": {},
   "outputs": [],
   "source": []
  },
  {
   "cell_type": "markdown",
   "metadata": {},
   "source": [
    "# Menu와 Label 테이블 병합"
   ]
  },
  {
   "cell_type": "code",
   "execution_count": 14,
   "metadata": {},
   "outputs": [
    {
     "name": "stdout",
     "output_type": "stream",
     "text": [
      "<class 'pandas.core.frame.DataFrame'>\n",
      "Int64Index: 20606 entries, 0 to 20605\n",
      "Data columns (total 4 columns):\n",
      "일자      20606 non-null int64\n",
      "식사명     20606 non-null object\n",
      "식사내용    20606 non-null object\n",
      "수량      20010 non-null float64\n",
      "dtypes: float64(1), int64(1), object(2)\n",
      "memory usage: 804.9+ KB\n",
      "None\n"
     ]
    },
    {
     "data": {
      "text/html": [
       "<div>\n",
       "<style scoped>\n",
       "    .dataframe tbody tr th:only-of-type {\n",
       "        vertical-align: middle;\n",
       "    }\n",
       "\n",
       "    .dataframe tbody tr th {\n",
       "        vertical-align: top;\n",
       "    }\n",
       "\n",
       "    .dataframe thead th {\n",
       "        text-align: right;\n",
       "    }\n",
       "</style>\n",
       "<table border=\"1\" class=\"dataframe\">\n",
       "  <thead>\n",
       "    <tr style=\"text-align: right;\">\n",
       "      <th></th>\n",
       "      <th>일자</th>\n",
       "      <th>식사명</th>\n",
       "      <th>식사내용</th>\n",
       "      <th>수량</th>\n",
       "    </tr>\n",
       "  </thead>\n",
       "  <tbody>\n",
       "    <tr>\n",
       "      <th>0</th>\n",
       "      <td>20030301</td>\n",
       "      <td>아침</td>\n",
       "      <td>과일샐러드,닭죽,돈육마늘장조림,떡만두국,부추김무침,쌀밥,딸기잼(중),비엔나구이,스크...</td>\n",
       "      <td>37.472924</td>\n",
       "    </tr>\n",
       "    <tr>\n",
       "      <th>1</th>\n",
       "      <td>20030301</td>\n",
       "      <td>저녁</td>\n",
       "      <td>감자으깸샐러드,비프까스,스위트피클,쌀밥,옥수수스프</td>\n",
       "      <td>19.566787</td>\n",
       "    </tr>\n",
       "    <tr>\n",
       "      <th>2</th>\n",
       "      <td>20030301</td>\n",
       "      <td>점심(일반)</td>\n",
       "      <td>골뱅이야채무침,새우맛살튀김,쌀밥(사무직),열무겉절이,칼국수</td>\n",
       "      <td>31.191336</td>\n",
       "    </tr>\n",
       "    <tr>\n",
       "      <th>3</th>\n",
       "      <td>20030302</td>\n",
       "      <td>아침</td>\n",
       "      <td>계란죽,곤약멸치조림,김치국,마카로니샐러드,쌀밥,오징어회무침,딸기잼(중),삶은계란,야...</td>\n",
       "      <td>36.101083</td>\n",
       "    </tr>\n",
       "    <tr>\n",
       "      <th>4</th>\n",
       "      <td>20030302</td>\n",
       "      <td>저녁</td>\n",
       "      <td>계란탕,단무지잔파무침,자장소스,잡채밥,탕수만두</td>\n",
       "      <td>21.949458</td>\n",
       "    </tr>\n",
       "  </tbody>\n",
       "</table>\n",
       "</div>"
      ],
      "text/plain": [
       "         일자     식사명                                               식사내용  \\\n",
       "0  20030301      아침  과일샐러드,닭죽,돈육마늘장조림,떡만두국,부추김무침,쌀밥,딸기잼(중),비엔나구이,스크...   \n",
       "1  20030301      저녁                        감자으깸샐러드,비프까스,스위트피클,쌀밥,옥수수스프   \n",
       "2  20030301  점심(일반)                   골뱅이야채무침,새우맛살튀김,쌀밥(사무직),열무겉절이,칼국수   \n",
       "3  20030302      아침  계란죽,곤약멸치조림,김치국,마카로니샐러드,쌀밥,오징어회무침,딸기잼(중),삶은계란,야...   \n",
       "4  20030302      저녁                          계란탕,단무지잔파무침,자장소스,잡채밥,탕수만두   \n",
       "\n",
       "          수량  \n",
       "0  37.472924  \n",
       "1  19.566787  \n",
       "2  31.191336  \n",
       "3  36.101083  \n",
       "4  21.949458  "
      ]
     },
     "execution_count": 14,
     "metadata": {},
     "output_type": "execute_result"
    }
   ],
   "source": [
    "df = pd.merge(menu, label, how=\"right\", on=[\"일자\", \"식사명\"])\n",
    "print(df.info())\n",
    "df.head()"
   ]
  },
  {
   "cell_type": "markdown",
   "metadata": {},
   "source": [
    "### test data 분리 (수량=NaN -> test data)"
   ]
  },
  {
   "cell_type": "code",
   "execution_count": 15,
   "metadata": {
    "scrolled": false
   },
   "outputs": [
    {
     "name": "stdout",
     "output_type": "stream",
     "text": [
      "<class 'pandas.core.frame.DataFrame'>\n",
      "RangeIndex: 596 entries, 0 to 595\n",
      "Data columns (total 3 columns):\n",
      "일자      596 non-null int64\n",
      "식사명     596 non-null object\n",
      "식사내용    596 non-null object\n",
      "dtypes: int64(1), object(2)\n",
      "memory usage: 14.0+ KB\n",
      "None\n"
     ]
    },
    {
     "data": {
      "text/html": [
       "<div>\n",
       "<style scoped>\n",
       "    .dataframe tbody tr th:only-of-type {\n",
       "        vertical-align: middle;\n",
       "    }\n",
       "\n",
       "    .dataframe tbody tr th {\n",
       "        vertical-align: top;\n",
       "    }\n",
       "\n",
       "    .dataframe thead th {\n",
       "        text-align: right;\n",
       "    }\n",
       "</style>\n",
       "<table border=\"1\" class=\"dataframe\">\n",
       "  <thead>\n",
       "    <tr style=\"text-align: right;\">\n",
       "      <th></th>\n",
       "      <th>일자</th>\n",
       "      <th>식사명</th>\n",
       "      <th>식사내용</th>\n",
       "    </tr>\n",
       "  </thead>\n",
       "  <tbody>\n",
       "    <tr>\n",
       "      <th>0</th>\n",
       "      <td>20100713</td>\n",
       "      <td>아침</td>\n",
       "      <td>누룽지,닭살찜닭소스조림,두유,멸치볶음,배추김치,쌀밥,열무된장무침,콩나물국,딸기잼(1...</td>\n",
       "    </tr>\n",
       "    <tr>\n",
       "      <th>1</th>\n",
       "      <td>20100713</td>\n",
       "      <td>저녁</td>\n",
       "      <td>배추김치,손만두국,쌀밥,애느타리볶음,오징어잔파무침,치커리사과생채</td>\n",
       "    </tr>\n",
       "    <tr>\n",
       "      <th>2</th>\n",
       "      <td>20100713</td>\n",
       "      <td>점심(양식)</td>\n",
       "      <td>단무지,배추김치,쌀밥,야채샐러드,야채스프,치즈함박스테이크&amp;데미</td>\n",
       "    </tr>\n",
       "    <tr>\n",
       "      <th>3</th>\n",
       "      <td>20100713</td>\n",
       "      <td>점심(일반)</td>\n",
       "      <td>깍두기(손칼),돈등뼈감자탕,두부달걀전,쌀밥,쫄면야채무침,토마토화채,풋고추된장무침</td>\n",
       "    </tr>\n",
       "    <tr>\n",
       "      <th>4</th>\n",
       "      <td>20100714</td>\n",
       "      <td>아침</td>\n",
       "      <td>배추김치,쇠고기가지볶음,시금치된장국,쌀밥,야채죽,진미도라지무침,팽이계란전,화인쿨,딸...</td>\n",
       "    </tr>\n",
       "  </tbody>\n",
       "</table>\n",
       "</div>"
      ],
      "text/plain": [
       "         일자     식사명                                               식사내용\n",
       "0  20100713      아침  누룽지,닭살찜닭소스조림,두유,멸치볶음,배추김치,쌀밥,열무된장무침,콩나물국,딸기잼(1...\n",
       "1  20100713      저녁                배추김치,손만두국,쌀밥,애느타리볶음,오징어잔파무침,치커리사과생채\n",
       "2  20100713  점심(양식)                 단무지,배추김치,쌀밥,야채샐러드,야채스프,치즈함박스테이크&데미\n",
       "3  20100713  점심(일반)       깍두기(손칼),돈등뼈감자탕,두부달걀전,쌀밥,쫄면야채무침,토마토화채,풋고추된장무침\n",
       "4  20100714      아침  배추김치,쇠고기가지볶음,시금치된장국,쌀밥,야채죽,진미도라지무침,팽이계란전,화인쿨,딸..."
      ]
     },
     "execution_count": 15,
     "metadata": {},
     "output_type": "execute_result"
    }
   ],
   "source": [
    "test_df = df[df.isnull().any(axis=1)].reset_index(drop=True)\n",
    "test_df.drop(['수량'], axis=1, inplace=True)\n",
    "print(test_df.info())\n",
    "test_df.head()"
   ]
  },
  {
   "cell_type": "code",
   "execution_count": 16,
   "metadata": {},
   "outputs": [],
   "source": [
    "test_df.to_excel('data/test.xlsx', index=False, sheet_name='sheet1')"
   ]
  },
  {
   "cell_type": "markdown",
   "metadata": {},
   "source": [
    "### 나머지는 train data"
   ]
  },
  {
   "cell_type": "code",
   "execution_count": 17,
   "metadata": {},
   "outputs": [
    {
     "name": "stdout",
     "output_type": "stream",
     "text": [
      "<class 'pandas.core.frame.DataFrame'>\n",
      "Int64Index: 20010 entries, 0 to 20605\n",
      "Data columns (total 4 columns):\n",
      "일자      20010 non-null int64\n",
      "식사명     20010 non-null object\n",
      "식사내용    20010 non-null object\n",
      "수량      20010 non-null float64\n",
      "dtypes: float64(1), int64(1), object(2)\n",
      "memory usage: 781.6+ KB\n",
      "None\n"
     ]
    },
    {
     "data": {
      "text/html": [
       "<div>\n",
       "<style scoped>\n",
       "    .dataframe tbody tr th:only-of-type {\n",
       "        vertical-align: middle;\n",
       "    }\n",
       "\n",
       "    .dataframe tbody tr th {\n",
       "        vertical-align: top;\n",
       "    }\n",
       "\n",
       "    .dataframe thead th {\n",
       "        text-align: right;\n",
       "    }\n",
       "</style>\n",
       "<table border=\"1\" class=\"dataframe\">\n",
       "  <thead>\n",
       "    <tr style=\"text-align: right;\">\n",
       "      <th></th>\n",
       "      <th>일자</th>\n",
       "      <th>식사명</th>\n",
       "      <th>식사내용</th>\n",
       "      <th>수량</th>\n",
       "    </tr>\n",
       "  </thead>\n",
       "  <tbody>\n",
       "    <tr>\n",
       "      <th>0</th>\n",
       "      <td>20030301</td>\n",
       "      <td>아침</td>\n",
       "      <td>과일샐러드,닭죽,돈육마늘장조림,떡만두국,부추김무침,쌀밥,딸기잼(중),비엔나구이,스크...</td>\n",
       "      <td>37.472924</td>\n",
       "    </tr>\n",
       "    <tr>\n",
       "      <th>1</th>\n",
       "      <td>20030301</td>\n",
       "      <td>저녁</td>\n",
       "      <td>감자으깸샐러드,비프까스,스위트피클,쌀밥,옥수수스프</td>\n",
       "      <td>19.566787</td>\n",
       "    </tr>\n",
       "    <tr>\n",
       "      <th>2</th>\n",
       "      <td>20030301</td>\n",
       "      <td>점심(일반)</td>\n",
       "      <td>골뱅이야채무침,새우맛살튀김,쌀밥(사무직),열무겉절이,칼국수</td>\n",
       "      <td>31.191336</td>\n",
       "    </tr>\n",
       "    <tr>\n",
       "      <th>3</th>\n",
       "      <td>20030302</td>\n",
       "      <td>아침</td>\n",
       "      <td>계란죽,곤약멸치조림,김치국,마카로니샐러드,쌀밥,오징어회무침,딸기잼(중),삶은계란,야...</td>\n",
       "      <td>36.101083</td>\n",
       "    </tr>\n",
       "    <tr>\n",
       "      <th>4</th>\n",
       "      <td>20030302</td>\n",
       "      <td>저녁</td>\n",
       "      <td>계란탕,단무지잔파무침,자장소스,잡채밥,탕수만두</td>\n",
       "      <td>21.949458</td>\n",
       "    </tr>\n",
       "  </tbody>\n",
       "</table>\n",
       "</div>"
      ],
      "text/plain": [
       "         일자     식사명                                               식사내용  \\\n",
       "0  20030301      아침  과일샐러드,닭죽,돈육마늘장조림,떡만두국,부추김무침,쌀밥,딸기잼(중),비엔나구이,스크...   \n",
       "1  20030301      저녁                        감자으깸샐러드,비프까스,스위트피클,쌀밥,옥수수스프   \n",
       "2  20030301  점심(일반)                   골뱅이야채무침,새우맛살튀김,쌀밥(사무직),열무겉절이,칼국수   \n",
       "3  20030302      아침  계란죽,곤약멸치조림,김치국,마카로니샐러드,쌀밥,오징어회무침,딸기잼(중),삶은계란,야...   \n",
       "4  20030302      저녁                          계란탕,단무지잔파무침,자장소스,잡채밥,탕수만두   \n",
       "\n",
       "          수량  \n",
       "0  37.472924  \n",
       "1  19.566787  \n",
       "2  31.191336  \n",
       "3  36.101083  \n",
       "4  21.949458  "
      ]
     },
     "execution_count": 17,
     "metadata": {},
     "output_type": "execute_result"
    }
   ],
   "source": [
    "train_df = df.dropna()\n",
    "print(train_df.info())\n",
    "train_df.head()"
   ]
  },
  {
   "cell_type": "code",
   "execution_count": 18,
   "metadata": {},
   "outputs": [],
   "source": [
    "train_df.to_excel(\"data/train.xlsx\", index=False, sheet_name='sheet1')"
   ]
  },
  {
   "cell_type": "code",
   "execution_count": null,
   "metadata": {},
   "outputs": [],
   "source": []
  }
 ],
 "metadata": {
  "kernelspec": {
   "display_name": "Python 3",
   "language": "python",
   "name": "python3"
  },
  "language_info": {
   "codemirror_mode": {
    "name": "ipython",
    "version": 3
   },
   "file_extension": ".py",
   "mimetype": "text/x-python",
   "name": "python",
   "nbconvert_exporter": "python",
   "pygments_lexer": "ipython3",
   "version": "3.6.5"
  }
 },
 "nbformat": 4,
 "nbformat_minor": 2
}
