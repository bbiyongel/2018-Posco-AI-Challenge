{
 "cells": [
  {
   "cell_type": "code",
   "execution_count": 1,
   "metadata": {},
   "outputs": [],
   "source": [
    "import pandas as pd\n",
    "import os\n",
    "import os.path as osp\n",
    "import math\n",
    "import numpy as np"
   ]
  },
  {
   "cell_type": "code",
   "execution_count": 2,
   "metadata": {},
   "outputs": [],
   "source": [
    "from sklearn.model_selection import train_test_split\n",
    "from sklearn.model_selection import cross_val_score\n",
    "from sklearn.metrics import explained_variance_score\n",
    "\n",
    "from sklearn.linear_model import LinearRegression"
   ]
  },
  {
   "cell_type": "code",
   "execution_count": 3,
   "metadata": {},
   "outputs": [],
   "source": [
    "from sklearn.feature_extraction.text import TfidfVectorizer\n",
    "from sklearn.feature_extraction.text import CountVectorizer"
   ]
  },
  {
   "cell_type": "code",
   "execution_count": 4,
   "metadata": {},
   "outputs": [],
   "source": [
    "def do_RMSE(y_pred, y_gt):\n",
    "    rmse_value = math.sqrt(np.mean((y_pred - y_gt)**2))\n",
    "    print(\"RMSE: {0:.2f}\".format(rmse_value))\n",
    "    return rmse_value"
   ]
  },
  {
   "cell_type": "code",
   "execution_count": 5,
   "metadata": {},
   "outputs": [],
   "source": [
    "def process_df(train_df):\n",
    "    doc_list = train_df['식사내용'].apply(lambda x: ' '.join(x[:-1].split(','))).tolist()\n",
    "    Y = train_df['수량'].values.reshape(-1,1)\n",
    "    return doc_list, Y"
   ]
  },
  {
   "cell_type": "code",
   "execution_count": 6,
   "metadata": {},
   "outputs": [],
   "source": [
    "def get_data(data_path):\n",
    "    train_df = pd.read_csv(data_path, sep='\\t')\n",
    "    train_df.info()\n",
    "    doc_list, Y = process_df(train_df)\n",
    "    return doc_list, Y"
   ]
  },
  {
   "cell_type": "code",
   "execution_count": 7,
   "metadata": {},
   "outputs": [],
   "source": [
    "train_data_path = './train_data.tsv'"
   ]
  },
  {
   "cell_type": "code",
   "execution_count": 8,
   "metadata": {},
   "outputs": [
    {
     "name": "stdout",
     "output_type": "stream",
     "text": [
      "<class 'pandas.core.frame.DataFrame'>\n",
      "RangeIndex: 20606 entries, 0 to 20605\n",
      "Data columns (total 5 columns):\n",
      "일자      20606 non-null int64\n",
      "time    20606 non-null object\n",
      "식사내용    20606 non-null object\n",
      "매출일자    20606 non-null float64\n",
      "수량      20606 non-null float64\n",
      "dtypes: float64(2), int64(1), object(2)\n",
      "memory usage: 805.0+ KB\n",
      "20606\n",
      "과일샐러드 닭죽 돈육마늘장조림 떡만두국 부추김무침 쌀밥 딸기잼(중) 비엔나구이 스크램블에그(경양식) 야채샐러드 크림스프(경양식) 토스트&모닝빵\n"
     ]
    }
   ],
   "source": [
    "contents, data_y = get_data(train_data_path)\n",
    "print(len(contents))\n",
    "print(contents[0])"
   ]
  },
  {
   "cell_type": "code",
   "execution_count": 9,
   "metadata": {},
   "outputs": [],
   "source": [
    "def do_vectorizer(vectorizer, contents):\n",
    "    return vectorizer.fit_transform(contents)"
   ]
  },
  {
   "cell_type": "code",
   "execution_count": 10,
   "metadata": {},
   "outputs": [],
   "source": [
    "def split_data(data_X, data_y):\n",
    "    X_train, X_test, y_train, y_test = train_test_split(data_X, data_y, test_size=0.2)\n",
    "    return X_train, X_test, y_train, y_test"
   ]
  },
  {
   "cell_type": "code",
   "execution_count": 15,
   "metadata": {},
   "outputs": [],
   "source": [
    "def do_train(vectorizer_objs, model_objs, contents, data_y):\n",
    "    for each_vectorizer in vectorizer_objs:\n",
    "        data_X = do_vectorizer(each_vectorizer, contents)\n",
    "        X_train, X_test, y_train, y_test = split_data(data_X, data_y)\n",
    "        for each_model in model_objs:\n",
    "            each_model.fit(X_train, y_train)\n",
    "            print(\"model name {}: \\tscore : {0:.2f}\".format(str(each_model), each_model.score(X_test, y_test)))\n",
    "            do_RMSE(y_pred=each_model.predict(X_test), y_gt=y_test)"
   ]
  },
  {
   "cell_type": "code",
   "execution_count": 12,
   "metadata": {},
   "outputs": [],
   "source": [
    "tfidf_vectorizer = TfidfVectorizer(max_features=2000,ngram_range=range(1,3))\n",
    "cnt_vectorizer = CountVectorizer(max_features=2000,ngram_range=range(1,3))\n",
    "vectorizer_objs = [tfidf_vectorizer, cnt_vectorizer]"
   ]
  },
  {
   "cell_type": "code",
   "execution_count": 13,
   "metadata": {},
   "outputs": [],
   "source": [
    "model_objs = [LinearRegression()]"
   ]
  },
  {
   "cell_type": "code",
   "execution_count": 16,
   "metadata": {},
   "outputs": [
    {
     "name": "stdout",
     "output_type": "stream",
     "text": [
      "model name LinearRegression(copy_X=True, fit_intercept=True, n_jobs=1, normalize=False): \tscore : 0.47255860958466595\n",
      "RMSE: 8.99\n",
      "model name LinearRegression(copy_X=True, fit_intercept=True, n_jobs=1, normalize=False): \tscore : 0.45350918598380113\n",
      "RMSE: 9.27\n"
     ]
    }
   ],
   "source": [
    "do_train(vectorizer_objs, model_objs, contents, data_y)"
   ]
  },
  {
   "cell_type": "code",
   "execution_count": null,
   "metadata": {},
   "outputs": [],
   "source": []
  }
 ],
 "metadata": {
  "kernelspec": {
   "display_name": "Python 3",
   "language": "python",
   "name": "python3"
  },
  "language_info": {
   "codemirror_mode": {
    "name": "ipython",
    "version": 3
   },
   "file_extension": ".py",
   "mimetype": "text/x-python",
   "name": "python",
   "nbconvert_exporter": "python",
   "pygments_lexer": "ipython3",
   "version": "3.6.4"
  }
 },
 "nbformat": 4,
 "nbformat_minor": 2
}
