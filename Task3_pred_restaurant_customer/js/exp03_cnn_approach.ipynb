{
 "cells": [
  {
   "cell_type": "code",
   "execution_count": 1,
   "metadata": {},
   "outputs": [],
   "source": [
    "import pandas as pd\n",
    "import os\n",
    "import os.path as osp\n",
    "import math\n",
    "import numpy as np"
   ]
  },
  {
   "cell_type": "code",
   "execution_count": 2,
   "metadata": {},
   "outputs": [],
   "source": [
    "def do_RMSE(y_pred, y_gt):\n",
    "    rmse_value = math.sqrt(np.mean((y_pred - y_gt)**2))\n",
    "    print(\"RMSE: {0:.2f}\".format(rmse_value))\n",
    "    return rmse_value\n",
    "\n",
    "def process_df(train_df):\n",
    "    doc_list = train_df['식사내용'].apply(lambda x: ' '.join(x[:-1].split(','))).tolist()\n",
    "    Y = train_df['수량'].values.reshape(-1,1)\n",
    "    return doc_list, Y\n",
    "\n",
    "def get_data(data_path):\n",
    "    train_df = pd.read_csv(data_path, sep='\\t')\n",
    "    train_df.info()\n",
    "    doc_list, Y = process_df(train_df)\n",
    "    return doc_list, Y"
   ]
  },
  {
   "cell_type": "code",
   "execution_count": 3,
   "metadata": {},
   "outputs": [
    {
     "name": "stdout",
     "output_type": "stream",
     "text": [
      "<class 'pandas.core.frame.DataFrame'>\n",
      "RangeIndex: 20606 entries, 0 to 20605\n",
      "Data columns (total 5 columns):\n",
      "일자      20606 non-null int64\n",
      "time    20606 non-null object\n",
      "식사내용    20606 non-null object\n",
      "매출일자    20606 non-null float64\n",
      "수량      20606 non-null float64\n",
      "dtypes: float64(2), int64(1), object(2)\n",
      "memory usage: 805.0+ KB\n",
      "20606\n",
      "과일샐러드 닭죽 돈육마늘장조림 떡만두국 부추김무침 쌀밥 딸기잼(중) 비엔나구이 스크램블에그(경양식) 야채샐러드 크림스프(경양식) 토스트&모닝빵\n"
     ]
    }
   ],
   "source": [
    "train_data_path = './train_data.tsv'\n",
    "contents, data_y = get_data(train_data_path)\n",
    "print(len(contents))"
   ]
  },
  {
   "cell_type": "code",
   "execution_count": 4,
   "metadata": {},
   "outputs": [
    {
     "name": "stdout",
     "output_type": "stream",
     "text": [
      "과일샐러드 닭죽 돈육마늘장조림 떡만두국 부추김무침 쌀밥 딸기잼(중) 비엔나구이 스크램블에그(경양식) 야채샐러드 크림스프(경양식) 토스트&모닝빵 [37.47292419]\n"
     ]
    }
   ],
   "source": [
    "print(contents[0], data_y[0])"
   ]
  },
  {
   "cell_type": "code",
   "execution_count": null,
   "metadata": {},
   "outputs": [],
   "source": []
  }
 ],
 "metadata": {
  "kernelspec": {
   "display_name": "Python 3",
   "language": "python",
   "name": "python3"
  },
  "language_info": {
   "codemirror_mode": {
    "name": "ipython",
    "version": 3
   },
   "file_extension": ".py",
   "mimetype": "text/x-python",
   "name": "python",
   "nbconvert_exporter": "python",
   "pygments_lexer": "ipython3",
   "version": "3.6.4"
  }
 },
 "nbformat": 4,
 "nbformat_minor": 2
}
