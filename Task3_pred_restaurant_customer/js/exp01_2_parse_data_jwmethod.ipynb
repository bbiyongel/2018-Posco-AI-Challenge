{
 "cells": [
  {
   "cell_type": "code",
   "execution_count": 1,
   "metadata": {},
   "outputs": [],
   "source": [
    "import pandas as pd\n",
    "import os\n",
    "import os.path as osp"
   ]
  },
  {
   "cell_type": "code",
   "execution_count": 2,
   "metadata": {},
   "outputs": [],
   "source": [
    "dataset_abs_path = '/Users/myZZUNG/myworkspace/posco_ai_challenge/dataset/1. 도전과제/'\n",
    "dataset_name = '[과제3] 식당 메뉴 및 식사인원.xlsx'"
   ]
  },
  {
   "cell_type": "code",
   "execution_count": 4,
   "metadata": {},
   "outputs": [
    {
     "data": {
      "text/plain": [
       "['설명', '식사인원', '메뉴']"
      ]
     },
     "execution_count": 4,
     "metadata": {},
     "output_type": "execute_result"
    }
   ],
   "source": [
    "d = pd.ExcelFile(osp.join(dataset_abs_path, dataset_name))\n",
    "d.sheet_names"
   ]
  },
  {
   "cell_type": "code",
   "execution_count": 5,
   "metadata": {},
   "outputs": [
    {
     "data": {
      "text/html": [
       "<div>\n",
       "<style scoped>\n",
       "    .dataframe tbody tr th:only-of-type {\n",
       "        vertical-align: middle;\n",
       "    }\n",
       "\n",
       "    .dataframe tbody tr th {\n",
       "        vertical-align: top;\n",
       "    }\n",
       "\n",
       "    .dataframe thead th {\n",
       "        text-align: right;\n",
       "    }\n",
       "</style>\n",
       "<table border=\"1\" class=\"dataframe\">\n",
       "  <thead>\n",
       "    <tr style=\"text-align: right;\">\n",
       "      <th></th>\n",
       "      <th>매출일자\u0000\u0000\u0000\u0000</th>\n",
       "      <th>품명\u0000\u0000</th>\n",
       "      <th>수량</th>\n",
       "    </tr>\n",
       "  </thead>\n",
       "  <tbody>\n",
       "    <tr>\n",
       "      <th>1</th>\n",
       "      <td>20030301</td>\n",
       "      <td>아침식사\u0000\u0000\u0000\u0000</td>\n",
       "      <td>37.472924</td>\n",
       "    </tr>\n",
       "    <tr>\n",
       "      <th>2</th>\n",
       "      <td>20030301</td>\n",
       "      <td>점심식사\u0000\u0000\u0000\u0000</td>\n",
       "      <td>31.191336</td>\n",
       "    </tr>\n",
       "    <tr>\n",
       "      <th>3</th>\n",
       "      <td>20030301</td>\n",
       "      <td>저녁식사\u0000\u0000\u0000\u0000</td>\n",
       "      <td>19.566787</td>\n",
       "    </tr>\n",
       "    <tr>\n",
       "      <th>4</th>\n",
       "      <td>20030302</td>\n",
       "      <td>아침식사\u0000\u0000\u0000\u0000</td>\n",
       "      <td>36.101083</td>\n",
       "    </tr>\n",
       "    <tr>\n",
       "      <th>5</th>\n",
       "      <td>20030302</td>\n",
       "      <td>점심식사\u0000\u0000\u0000\u0000</td>\n",
       "      <td>33.357401</td>\n",
       "    </tr>\n",
       "  </tbody>\n",
       "</table>\n",
       "</div>"
      ],
      "text/plain": [
       "   매출일자\u0000\u0000\u0000\u0000      품명\u0000\u0000         수량\n",
       "1  20030301  아침식사\u0000\u0000\u0000\u0000  37.472924\n",
       "2  20030301  점심식사\u0000\u0000\u0000\u0000  31.191336\n",
       "3  20030301  저녁식사\u0000\u0000\u0000\u0000  19.566787\n",
       "4  20030302  아침식사\u0000\u0000\u0000\u0000  36.101083\n",
       "5  20030302  점심식사\u0000\u0000\u0000\u0000  33.357401"
      ]
     },
     "execution_count": 5,
     "metadata": {},
     "output_type": "execute_result"
    }
   ],
   "source": [
    "data1 = d.parse('식사인원')\n",
    "data1.head(5)"
   ]
  },
  {
   "cell_type": "code",
   "execution_count": 7,
   "metadata": {},
   "outputs": [
    {
     "data": {
      "text/plain": [
       "1        37.472924\n",
       "2        31.191336\n",
       "3        19.566787\n",
       "4        36.101083\n",
       "5        33.357401\n",
       "6        21.949458\n",
       "7        47.942238\n",
       "8        58.483755\n",
       "9        22.166065\n",
       "10       86.787004\n",
       "11       59.350181\n",
       "12       28.086643\n",
       "13       48.375451\n",
       "14       52.635379\n",
       "15       26.209386\n",
       "16       43.682310\n",
       "17       40.072202\n",
       "18       20.216606\n",
       "19       47.797834\n",
       "20       49.819495\n",
       "21       18.628159\n",
       "22       43.249097\n",
       "23       42.743682\n",
       "24       17.400722\n",
       "25       38.050542\n",
       "26       36.750903\n",
       "27       20.144404\n",
       "28       49.097473\n",
       "29       53.935018\n",
       "30       26.064982\n",
       "           ...    \n",
       "33253     9.891697\n",
       "33254    14.440433\n",
       "33255    12.707581\n",
       "33256    11.119134\n",
       "33257    14.873646\n",
       "33258     9.169675\n",
       "33259    11.407942\n",
       "33260     8.519856\n",
       "33261     7.942238\n",
       "33262    13.790614\n",
       "33263    11.985560\n",
       "33264     9.169675\n",
       "33265     8.880866\n",
       "33266     7.075812\n",
       "33267    10.397112\n",
       "33268     5.776173\n",
       "33269    13.862816\n",
       "33270    12.129964\n",
       "33271     5.126354\n",
       "33272     2.021661\n",
       "33273     4.548736\n",
       "33274     7.148014\n",
       "33275     8.664260\n",
       "33276    12.707581\n",
       "33277     9.458484\n",
       "33278     4.693141\n",
       "33279     3.465704\n",
       "33280     3.249097\n",
       "33281     7.797834\n",
       "33282     3.610108\n",
       "Name: 수량, Length: 33282, dtype: float64"
      ]
     },
     "execution_count": 7,
     "metadata": {},
     "output_type": "execute_result"
    }
   ],
   "source": [
    "data1['수량']"
   ]
  },
  {
   "cell_type": "code",
   "execution_count": null,
   "metadata": {},
   "outputs": [],
   "source": []
  }
 ],
 "metadata": {
  "kernelspec": {
   "display_name": "Python 3",
   "language": "python",
   "name": "python3"
  },
  "language_info": {
   "codemirror_mode": {
    "name": "ipython",
    "version": 3
   },
   "file_extension": ".py",
   "mimetype": "text/x-python",
   "name": "python",
   "nbconvert_exporter": "python",
   "pygments_lexer": "ipython3",
   "version": "3.5.4"
  }
 },
 "nbformat": 4,
 "nbformat_minor": 2
}
