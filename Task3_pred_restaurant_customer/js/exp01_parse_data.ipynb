{
 "cells": [
  {
   "cell_type": "code",
   "execution_count": 1,
   "metadata": {},
   "outputs": [],
   "source": [
    "import pandas as pd\n",
    "import numpy as np\n",
    "import os\n",
    "import os.path as osp"
   ]
  },
  {
   "cell_type": "code",
   "execution_count": 2,
   "metadata": {},
   "outputs": [],
   "source": [
    "dataset_abs_path = '/Users/myZZUNG/myworkspace/posco_ai_challenge/dataset/1. 도전과제/'\n",
    "dataset_name = '[과제3] 식당 메뉴 및 식사인원.xlsx'"
   ]
  },
  {
   "cell_type": "code",
   "execution_count": 3,
   "metadata": {},
   "outputs": [],
   "source": [
    "data1 = pd.read_excel(osp.join(dataset_abs_path, dataset_name), sheet_name=1)"
   ]
  },
  {
   "cell_type": "code",
   "execution_count": 4,
   "metadata": {},
   "outputs": [
    {
     "name": "stdout",
     "output_type": "stream",
     "text": [
      "<class 'pandas.core.frame.DataFrame'>\n",
      "Int64Index: 33282 entries, 1 to 33282\n",
      "Data columns (total 3 columns):\n",
      "매출일자\u0000\u0000\u0000\u0000    33282 non-null int64\n",
      "품명\u0000\u0000        33282 non-null object\n",
      "수량          32248 non-null float64\n",
      "dtypes: float64(1), int64(1), object(1)\n",
      "memory usage: 1.0+ MB\n"
     ]
    }
   ],
   "source": [
    "data1.info()"
   ]
  },
  {
   "cell_type": "code",
   "execution_count": 5,
   "metadata": {},
   "outputs": [
    {
     "data": {
      "text/html": [
       "<div>\n",
       "<style scoped>\n",
       "    .dataframe tbody tr th:only-of-type {\n",
       "        vertical-align: middle;\n",
       "    }\n",
       "\n",
       "    .dataframe tbody tr th {\n",
       "        vertical-align: top;\n",
       "    }\n",
       "\n",
       "    .dataframe thead th {\n",
       "        text-align: right;\n",
       "    }\n",
       "</style>\n",
       "<table border=\"1\" class=\"dataframe\">\n",
       "  <thead>\n",
       "    <tr style=\"text-align: right;\">\n",
       "      <th></th>\n",
       "      <th>매출일자\u0000\u0000\u0000\u0000</th>\n",
       "      <th>품명\u0000\u0000</th>\n",
       "      <th>수량</th>\n",
       "    </tr>\n",
       "  </thead>\n",
       "  <tbody>\n",
       "    <tr>\n",
       "      <th>1</th>\n",
       "      <td>20030301</td>\n",
       "      <td>아침식사\u0000\u0000\u0000\u0000</td>\n",
       "      <td>37.472924</td>\n",
       "    </tr>\n",
       "    <tr>\n",
       "      <th>2</th>\n",
       "      <td>20030301</td>\n",
       "      <td>점심식사\u0000\u0000\u0000\u0000</td>\n",
       "      <td>31.191336</td>\n",
       "    </tr>\n",
       "    <tr>\n",
       "      <th>3</th>\n",
       "      <td>20030301</td>\n",
       "      <td>저녁식사\u0000\u0000\u0000\u0000</td>\n",
       "      <td>19.566787</td>\n",
       "    </tr>\n",
       "    <tr>\n",
       "      <th>4</th>\n",
       "      <td>20030302</td>\n",
       "      <td>아침식사\u0000\u0000\u0000\u0000</td>\n",
       "      <td>36.101083</td>\n",
       "    </tr>\n",
       "    <tr>\n",
       "      <th>5</th>\n",
       "      <td>20030302</td>\n",
       "      <td>점심식사\u0000\u0000\u0000\u0000</td>\n",
       "      <td>33.357401</td>\n",
       "    </tr>\n",
       "  </tbody>\n",
       "</table>\n",
       "</div>"
      ],
      "text/plain": [
       "   매출일자\u0000\u0000\u0000\u0000      품명\u0000\u0000         수량\n",
       "1  20030301  아침식사\u0000\u0000\u0000\u0000  37.472924\n",
       "2  20030301  점심식사\u0000\u0000\u0000\u0000  31.191336\n",
       "3  20030301  저녁식사\u0000\u0000\u0000\u0000  19.566787\n",
       "4  20030302  아침식사\u0000\u0000\u0000\u0000  36.101083\n",
       "5  20030302  점심식사\u0000\u0000\u0000\u0000  33.357401"
      ]
     },
     "execution_count": 5,
     "metadata": {},
     "output_type": "execute_result"
    }
   ],
   "source": [
    "data1.head(5)"
   ]
  },
  {
   "cell_type": "code",
   "execution_count": 6,
   "metadata": {},
   "outputs": [
    {
     "data": {
      "text/html": [
       "<div>\n",
       "<style scoped>\n",
       "    .dataframe tbody tr th:only-of-type {\n",
       "        vertical-align: middle;\n",
       "    }\n",
       "\n",
       "    .dataframe tbody tr th {\n",
       "        vertical-align: top;\n",
       "    }\n",
       "\n",
       "    .dataframe thead th {\n",
       "        text-align: right;\n",
       "    }\n",
       "</style>\n",
       "<table border=\"1\" class=\"dataframe\">\n",
       "  <thead>\n",
       "    <tr style=\"text-align: right;\">\n",
       "      <th></th>\n",
       "      <th>매출일자\u0000\u0000\u0000\u0000</th>\n",
       "      <th>품명\u0000\u0000</th>\n",
       "      <th>수량</th>\n",
       "    </tr>\n",
       "  </thead>\n",
       "  <tbody>\n",
       "    <tr>\n",
       "      <th>33278</th>\n",
       "      <td>20171231</td>\n",
       "      <td>점심식사\u0000\u0000\u0000\u0000</td>\n",
       "      <td>4.693141</td>\n",
       "    </tr>\n",
       "    <tr>\n",
       "      <th>33279</th>\n",
       "      <td>20171231</td>\n",
       "      <td>점심식사1\u0000\u0000\u0000\u0000</td>\n",
       "      <td>3.465704</td>\n",
       "    </tr>\n",
       "    <tr>\n",
       "      <th>33280</th>\n",
       "      <td>20171231</td>\n",
       "      <td>저녁식사\u0000\u0000\u0000\u0000</td>\n",
       "      <td>3.249097</td>\n",
       "    </tr>\n",
       "    <tr>\n",
       "      <th>33281</th>\n",
       "      <td>20171231</td>\n",
       "      <td>저녁식사1\u0000\u0000\u0000\u0000</td>\n",
       "      <td>7.797834</td>\n",
       "    </tr>\n",
       "    <tr>\n",
       "      <th>33282</th>\n",
       "      <td>20171231</td>\n",
       "      <td>점심식사2(양식)\u0000\u0000\u0000\u0000\u0000\u0000</td>\n",
       "      <td>3.610108</td>\n",
       "    </tr>\n",
       "  </tbody>\n",
       "</table>\n",
       "</div>"
      ],
      "text/plain": [
       "       매출일자\u0000\u0000\u0000\u0000             품명\u0000\u0000        수량\n",
       "33278  20171231         점심식사\u0000\u0000\u0000\u0000  4.693141\n",
       "33279  20171231        점심식사1\u0000\u0000\u0000\u0000  3.465704\n",
       "33280  20171231         저녁식사\u0000\u0000\u0000\u0000  3.249097\n",
       "33281  20171231        저녁식사1\u0000\u0000\u0000\u0000  7.797834\n",
       "33282  20171231  점심식사2(양식)\u0000\u0000\u0000\u0000\u0000\u0000  3.610108"
      ]
     },
     "execution_count": 6,
     "metadata": {},
     "output_type": "execute_result"
    }
   ],
   "source": [
    "data1.tail(5)"
   ]
  },
  {
   "cell_type": "code",
   "execution_count": 7,
   "metadata": {},
   "outputs": [],
   "source": [
    "data2 = pd.read_excel(osp.join(dataset_abs_path, dataset_name), sheet_name=2)"
   ]
  },
  {
   "cell_type": "code",
   "execution_count": 8,
   "metadata": {},
   "outputs": [
    {
     "name": "stdout",
     "output_type": "stream",
     "text": [
      "<class 'pandas.core.frame.DataFrame'>\n",
      "Int64Index: 24860 entries, 1 to 24860\n",
      "Data columns (total 3 columns):\n",
      "일자      24860 non-null int64\n",
      "식사명     24860 non-null object\n",
      "식사내용    24860 non-null object\n",
      "dtypes: int64(1), object(2)\n",
      "memory usage: 776.9+ KB\n"
     ]
    }
   ],
   "source": [
    "data2.info()"
   ]
  },
  {
   "cell_type": "code",
   "execution_count": 9,
   "metadata": {},
   "outputs": [
    {
     "data": {
      "text/html": [
       "<div>\n",
       "<style scoped>\n",
       "    .dataframe tbody tr th:only-of-type {\n",
       "        vertical-align: middle;\n",
       "    }\n",
       "\n",
       "    .dataframe tbody tr th {\n",
       "        vertical-align: top;\n",
       "    }\n",
       "\n",
       "    .dataframe thead th {\n",
       "        text-align: right;\n",
       "    }\n",
       "</style>\n",
       "<table border=\"1\" class=\"dataframe\">\n",
       "  <thead>\n",
       "    <tr style=\"text-align: right;\">\n",
       "      <th></th>\n",
       "      <th>일자</th>\n",
       "      <th>식사명</th>\n",
       "      <th>식사내용</th>\n",
       "    </tr>\n",
       "  </thead>\n",
       "  <tbody>\n",
       "    <tr>\n",
       "      <th>1</th>\n",
       "      <td>20030301</td>\n",
       "      <td>아침식사</td>\n",
       "      <td>과일샐러드,닭죽,돈육마늘장조림,떡만두국,부추김무침,쌀밥</td>\n",
       "    </tr>\n",
       "    <tr>\n",
       "      <th>2</th>\n",
       "      <td>20030301</td>\n",
       "      <td>아침식사2</td>\n",
       "      <td>딸기잼(중),비엔나구이,스크램블에그(경양식),야채샐러드,크림스프(경양식),토스트&amp;모닝빵</td>\n",
       "    </tr>\n",
       "    <tr>\n",
       "      <th>3</th>\n",
       "      <td>20030301</td>\n",
       "      <td>점심식사</td>\n",
       "      <td>골뱅이야채무침,새우맛살튀김,쌀밥(사무직),열무겉절이,칼국수</td>\n",
       "    </tr>\n",
       "    <tr>\n",
       "      <th>4</th>\n",
       "      <td>20030301</td>\n",
       "      <td>저녁식사</td>\n",
       "      <td>감자으깸샐러드,비프까스,스위트피클,쌀밥,옥수수스프</td>\n",
       "    </tr>\n",
       "    <tr>\n",
       "      <th>5</th>\n",
       "      <td>20030302</td>\n",
       "      <td>아침식사</td>\n",
       "      <td>계란죽,곤약멸치조림,김치국,마카로니샐러드,쌀밥,오징어회무침</td>\n",
       "    </tr>\n",
       "  </tbody>\n",
       "</table>\n",
       "</div>"
      ],
      "text/plain": [
       "         일자    식사명                                              식사내용\n",
       "1  20030301   아침식사                    과일샐러드,닭죽,돈육마늘장조림,떡만두국,부추김무침,쌀밥\n",
       "2  20030301  아침식사2  딸기잼(중),비엔나구이,스크램블에그(경양식),야채샐러드,크림스프(경양식),토스트&모닝빵\n",
       "3  20030301   점심식사                  골뱅이야채무침,새우맛살튀김,쌀밥(사무직),열무겉절이,칼국수\n",
       "4  20030301   저녁식사                       감자으깸샐러드,비프까스,스위트피클,쌀밥,옥수수스프\n",
       "5  20030302   아침식사                  계란죽,곤약멸치조림,김치국,마카로니샐러드,쌀밥,오징어회무침"
      ]
     },
     "execution_count": 9,
     "metadata": {},
     "output_type": "execute_result"
    }
   ],
   "source": [
    "data2.head(5)"
   ]
  },
  {
   "cell_type": "code",
   "execution_count": 10,
   "metadata": {},
   "outputs": [
    {
     "data": {
      "text/html": [
       "<div>\n",
       "<style scoped>\n",
       "    .dataframe tbody tr th:only-of-type {\n",
       "        vertical-align: middle;\n",
       "    }\n",
       "\n",
       "    .dataframe tbody tr th {\n",
       "        vertical-align: top;\n",
       "    }\n",
       "\n",
       "    .dataframe thead th {\n",
       "        text-align: right;\n",
       "    }\n",
       "</style>\n",
       "<table border=\"1\" class=\"dataframe\">\n",
       "  <thead>\n",
       "    <tr style=\"text-align: right;\">\n",
       "      <th></th>\n",
       "      <th>일자</th>\n",
       "      <th>식사명</th>\n",
       "      <th>식사내용</th>\n",
       "    </tr>\n",
       "  </thead>\n",
       "  <tbody>\n",
       "    <tr>\n",
       "      <th>24856</th>\n",
       "      <td>20171230</td>\n",
       "      <td>점심식사2</td>\n",
       "      <td>단무지,돈까스,메추리알꽃맛살샐러드,배추김치,쌀밥,야채샐러드,야채스프</td>\n",
       "    </tr>\n",
       "    <tr>\n",
       "      <th>24857</th>\n",
       "      <td>20171231</td>\n",
       "      <td>아침식사</td>\n",
       "      <td>김가루잔파무침,누룽지,두유,배추김치,식빵&amp;딸기잼,쌀밥,야채샐러드,오징어두루치기,탕국...</td>\n",
       "    </tr>\n",
       "    <tr>\n",
       "      <th>24858</th>\n",
       "      <td>20171231</td>\n",
       "      <td>점심식사</td>\n",
       "      <td>계란파국,깍두기(손칼),날치알김치덮밥,생선까스&amp;타르,쌀밥,오이생채,케이준치킨샐러드</td>\n",
       "    </tr>\n",
       "    <tr>\n",
       "      <th>24859</th>\n",
       "      <td>20171231</td>\n",
       "      <td>저녁식사</td>\n",
       "      <td>깍두기(손칼),닭살떡국,미트볼고추장조림,부추장떡,쌀밥</td>\n",
       "    </tr>\n",
       "    <tr>\n",
       "      <th>24860</th>\n",
       "      <td>20171231</td>\n",
       "      <td>점심식사2</td>\n",
       "      <td>깍두기(손칼),식빵&amp;딸기잼,쌀밥,야채샐러드,옥수수스프,피클,함박스테이크</td>\n",
       "    </tr>\n",
       "  </tbody>\n",
       "</table>\n",
       "</div>"
      ],
      "text/plain": [
       "             일자    식사명                                               식사내용\n",
       "24856  20171230  점심식사2              단무지,돈까스,메추리알꽃맛살샐러드,배추김치,쌀밥,야채샐러드,야채스프\n",
       "24857  20171231   아침식사  김가루잔파무침,누룽지,두유,배추김치,식빵&딸기잼,쌀밥,야채샐러드,오징어두루치기,탕국...\n",
       "24858  20171231   점심식사      계란파국,깍두기(손칼),날치알김치덮밥,생선까스&타르,쌀밥,오이생채,케이준치킨샐러드\n",
       "24859  20171231   저녁식사                      깍두기(손칼),닭살떡국,미트볼고추장조림,부추장떡,쌀밥\n",
       "24860  20171231  점심식사2            깍두기(손칼),식빵&딸기잼,쌀밥,야채샐러드,옥수수스프,피클,함박스테이크"
      ]
     },
     "execution_count": 10,
     "metadata": {},
     "output_type": "execute_result"
    }
   ],
   "source": [
    "data2.tail(5)"
   ]
  },
  {
   "cell_type": "markdown",
   "metadata": {},
   "source": [
    "### 이거 두 데이터를 합칠 필요가 있을듯? 중간에 빠진건 빠진대로 넣어야할 듯"
   ]
  },
  {
   "cell_type": "code",
   "execution_count": 11,
   "metadata": {},
   "outputs": [
    {
     "data": {
      "text/plain": [
       "Index(['매출일자\u0000\u0000\u0000\u0000', '품명\u0000\u0000', '수량'], dtype='object')"
      ]
     },
     "execution_count": 11,
     "metadata": {},
     "output_type": "execute_result"
    }
   ],
   "source": [
    "data1.keys()"
   ]
  },
  {
   "cell_type": "code",
   "execution_count": 12,
   "metadata": {},
   "outputs": [],
   "source": [
    "convert_df = pd.DataFrame(columns=['datetime', 'product_name', 'volume', 'contents'])"
   ]
  },
  {
   "cell_type": "code",
   "execution_count": 13,
   "metadata": {
    "scrolled": true
   },
   "outputs": [],
   "source": [
    "convert_df['datetime'] = data1[data1.columns[0]]\n",
    "convert_df['product_name'] = data1[data1.columns[1]]\n",
    "convert_df['volume'] = data1[data1.columns[2]]"
   ]
  },
  {
   "cell_type": "code",
   "execution_count": 14,
   "metadata": {},
   "outputs": [
    {
     "data": {
      "text/html": [
       "<div>\n",
       "<style scoped>\n",
       "    .dataframe tbody tr th:only-of-type {\n",
       "        vertical-align: middle;\n",
       "    }\n",
       "\n",
       "    .dataframe tbody tr th {\n",
       "        vertical-align: top;\n",
       "    }\n",
       "\n",
       "    .dataframe thead th {\n",
       "        text-align: right;\n",
       "    }\n",
       "</style>\n",
       "<table border=\"1\" class=\"dataframe\">\n",
       "  <thead>\n",
       "    <tr style=\"text-align: right;\">\n",
       "      <th></th>\n",
       "      <th>datetime</th>\n",
       "      <th>product_name</th>\n",
       "      <th>volume</th>\n",
       "      <th>contents</th>\n",
       "    </tr>\n",
       "  </thead>\n",
       "  <tbody>\n",
       "    <tr>\n",
       "      <th>1</th>\n",
       "      <td>20030301</td>\n",
       "      <td>아침식사\u0000\u0000\u0000\u0000</td>\n",
       "      <td>37.472924</td>\n",
       "      <td>NaN</td>\n",
       "    </tr>\n",
       "    <tr>\n",
       "      <th>2</th>\n",
       "      <td>20030301</td>\n",
       "      <td>점심식사\u0000\u0000\u0000\u0000</td>\n",
       "      <td>31.191336</td>\n",
       "      <td>NaN</td>\n",
       "    </tr>\n",
       "    <tr>\n",
       "      <th>3</th>\n",
       "      <td>20030301</td>\n",
       "      <td>저녁식사\u0000\u0000\u0000\u0000</td>\n",
       "      <td>19.566787</td>\n",
       "      <td>NaN</td>\n",
       "    </tr>\n",
       "    <tr>\n",
       "      <th>4</th>\n",
       "      <td>20030302</td>\n",
       "      <td>아침식사\u0000\u0000\u0000\u0000</td>\n",
       "      <td>36.101083</td>\n",
       "      <td>NaN</td>\n",
       "    </tr>\n",
       "    <tr>\n",
       "      <th>5</th>\n",
       "      <td>20030302</td>\n",
       "      <td>점심식사\u0000\u0000\u0000\u0000</td>\n",
       "      <td>33.357401</td>\n",
       "      <td>NaN</td>\n",
       "    </tr>\n",
       "  </tbody>\n",
       "</table>\n",
       "</div>"
      ],
      "text/plain": [
       "   datetime product_name     volume contents\n",
       "1  20030301     아침식사\u0000\u0000\u0000\u0000  37.472924      NaN\n",
       "2  20030301     점심식사\u0000\u0000\u0000\u0000  31.191336      NaN\n",
       "3  20030301     저녁식사\u0000\u0000\u0000\u0000  19.566787      NaN\n",
       "4  20030302     아침식사\u0000\u0000\u0000\u0000  36.101083      NaN\n",
       "5  20030302     점심식사\u0000\u0000\u0000\u0000  33.357401      NaN"
      ]
     },
     "execution_count": 14,
     "metadata": {},
     "output_type": "execute_result"
    }
   ],
   "source": [
    "convert_df.head(5)"
   ]
  },
  {
   "cell_type": "code",
   "execution_count": 16,
   "metadata": {},
   "outputs": [],
   "source": [
    "def process_data1(df):\n",
    "    ret_df = pd.DataFrame(columns=['datetime', 'product_name', 'volume', 'contents'])\n",
    "    for each_row in df.iterrows():\n",
    "        datetime = each_row[1][0]\n",
    "        product_name = each_row[1][1]\n",
    "        volume = float(each_row[1][2])\n",
    "        if \n",
    "        print(datetime, product_name, volume)\n",
    "        break"
   ]
  },
  {
   "cell_type": "code",
   "execution_count": 17,
   "metadata": {},
   "outputs": [
    {
     "name": "stdout",
     "output_type": "stream",
     "text": [
      "20030301 아침식사\u0000\u0000\u0000\u0000 37.47292418772563\n"
     ]
    }
   ],
   "source": [
    "process_data1(convert_df)"
   ]
  },
  {
   "cell_type": "code",
   "execution_count": null,
   "metadata": {},
   "outputs": [],
   "source": []
  }
 ],
 "metadata": {
  "kernelspec": {
   "display_name": "Python 3",
   "language": "python",
   "name": "python3"
  },
  "language_info": {
   "codemirror_mode": {
    "name": "ipython",
    "version": 3
   },
   "file_extension": ".py",
   "mimetype": "text/x-python",
   "name": "python",
   "nbconvert_exporter": "python",
   "pygments_lexer": "ipython3",
   "version": "3.5.4"
  }
 },
 "nbformat": 4,
 "nbformat_minor": 2
}
