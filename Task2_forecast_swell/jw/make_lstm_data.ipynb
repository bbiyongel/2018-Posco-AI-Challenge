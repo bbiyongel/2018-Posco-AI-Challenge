{
 "cells": [
  {
   "cell_type": "code",
   "execution_count": 1,
   "metadata": {
    "collapsed": true
   },
   "outputs": [],
   "source": [
    "import pandas as pd\n",
    "import numpy as np\n",
    "\n",
    "%matplotlib inline"
   ]
  },
  {
   "cell_type": "code",
   "execution_count": 2,
   "metadata": {
    "scrolled": true
   },
   "outputs": [
    {
     "name": "stdout",
     "output_type": "stream",
     "text": [
      "<class 'pandas.core.frame.DataFrame'>\n",
      "Int64Index: 34992 entries, 0 to 34991\n",
      "Data columns (total 65 columns):\n",
      "hour                     34992 non-null int64\n",
      "climate                  34992 non-null object\n",
      "weather_deterioration    34992 non-null int64\n",
      "swell                    34392 non-null float64\n",
      "21229_GUST풍속 1(m/s)      8637 non-null float64\n",
      "21229_GUST풍속(m/s)        26091 non-null float64\n",
      "21229_기온(°C)             33915 non-null float64\n",
      "21229_수온(°C)             34629 non-null float64\n",
      "21229_습도(%)              33939 non-null float64\n",
      "21229_유의파고(m)            34700 non-null float64\n",
      "21229_일시                 34817 non-null float64\n",
      "21229_최대파고(m)            34788 non-null float64\n",
      "21229_파주기(sec)           34800 non-null float64\n",
      "21229_파향(deg)            34808 non-null float64\n",
      "21229_평균파고(m)            34606 non-null float64\n",
      "21229_풍속(m/s)            26122 non-null float64\n",
      "21229_풍속1(m/s)           8638 non-null float64\n",
      "21229_풍향(deg)            26121 non-null float64\n",
      "21229_풍향1(deg)           8639 non-null float64\n",
      "21229_현지기압(hPa)          33945 non-null float64\n",
      "22105_GUST풍속 1(m/s)      7978 non-null float64\n",
      "22105_GUST풍속(m/s)        25301 non-null float64\n",
      "22105_기온(°C)             33792 non-null float64\n",
      "22105_수온(°C)             33912 non-null float64\n",
      "22105_습도(%)              34071 non-null float64\n",
      "22105_유의파고(m)            34028 non-null float64\n",
      "22105_일시                 34088 non-null float64\n",
      "22105_최대파고(m)            34070 non-null float64\n",
      "22105_파주기(sec)           34038 non-null float64\n",
      "22105_파향(deg)            34069 non-null float64\n",
      "22105_평균파고(m)            33912 non-null float64\n",
      "22105_풍속(m/s)            25304 non-null float64\n",
      "22105_풍속1(m/s)           7981 non-null float64\n",
      "22105_풍향(deg)            25293 non-null float64\n",
      "22105_풍향1(deg)           7981 non-null float64\n",
      "22105_현지기압(hPa)          33191 non-null float64\n",
      "22106_GUST풍속 1(m/s)      7685 non-null float64\n",
      "22106_GUST풍속(m/s)        25453 non-null float64\n",
      "22106_기온(°C)             34124 non-null float64\n",
      "22106_수온(°C)             34436 non-null float64\n",
      "22106_습도(%)              33797 non-null float64\n",
      "22106_유의파고(m)            34381 non-null float64\n",
      "22106_일시                 34475 non-null float64\n",
      "22106_최대파고(m)            34467 non-null float64\n",
      "22106_파주기(sec)           34407 non-null float64\n",
      "22106_파향(deg)            34444 non-null float64\n",
      "22106_평균파고(m)            34290 non-null float64\n",
      "22106_풍속(m/s)            25376 non-null float64\n",
      "22106_풍속1(m/s)           7685 non-null float64\n",
      "22106_풍향(deg)            25379 non-null float64\n",
      "22106_풍향1(deg)           7845 non-null float64\n",
      "22106_현지기압(hPa)          34290 non-null float64\n",
      "22190_일시                 18029 non-null float64\n",
      "22190_풍속(m/s)            17951 non-null float64\n",
      "22190_풍향(deg)            17951 non-null float64\n",
      "22190_GUST풍속(m/s)        17945 non-null float64\n",
      "22190_현지기압(hPa)          18001 non-null float64\n",
      "22190_습도(%)              17955 non-null float64\n",
      "22190_기온(°C)             17875 non-null float64\n",
      "22190_수온(°C)             18021 non-null float64\n",
      "22190_최대파고(m)            17994 non-null float64\n",
      "22190_유의파고(m)            17972 non-null float64\n",
      "22190_평균파고(m)            17916 non-null float64\n",
      "22190_파주기(sec)           18017 non-null float64\n",
      "22190_파향(deg)            18020 non-null float64\n",
      "dtypes: float64(62), int64(2), object(1)\n",
      "memory usage: 17.6+ MB\n"
     ]
    }
   ],
   "source": [
    "df = pd.read_csv('./merged_info_data.tsv',sep='\\t',index_col='Unnamed: 0')\n",
    "df.info()"
   ]
  },
  {
   "cell_type": "markdown",
   "metadata": {},
   "source": [
    "### 20% 미만 제거"
   ]
  },
  {
   "cell_type": "code",
   "execution_count": 7,
   "metadata": {},
   "outputs": [
    {
     "data": {
      "text/plain": [
       "18029"
      ]
     },
     "execution_count": 7,
     "metadata": {},
     "output_type": "execute_result"
    }
   ],
   "source": [
    "np.sum(df['22190_일시'].notnull())"
   ]
  },
  {
   "cell_type": "code",
   "execution_count": 5,
   "metadata": {},
   "outputs": [
    {
     "data": {
      "text/plain": [
       "27993"
      ]
     },
     "execution_count": 5,
     "metadata": {},
     "output_type": "execute_result"
    }
   ],
   "source": [
    "int(len(df) * 0.8)"
   ]
  },
  {
   "cell_type": "code",
   "execution_count": 8,
   "metadata": {
    "collapsed": true
   },
   "outputs": [],
   "source": [
    "rm_feature = []\n",
    "for col in df.columns:\n",
    "    if np.sum(df[col].notnull()) < int(len(df)*0.8):\n",
    "        rm_feature.append(col)"
   ]
  },
  {
   "cell_type": "code",
   "execution_count": 9,
   "metadata": {
    "scrolled": true
   },
   "outputs": [
    {
     "data": {
      "text/plain": [
       "['21229_GUST풍속 1(m/s)',\n",
       " '21229_GUST풍속(m/s)',\n",
       " '21229_풍속(m/s)',\n",
       " '21229_풍속1(m/s)',\n",
       " '21229_풍향(deg)',\n",
       " '21229_풍향1(deg)',\n",
       " '22105_GUST풍속 1(m/s)',\n",
       " '22105_GUST풍속(m/s)',\n",
       " '22105_풍속(m/s)',\n",
       " '22105_풍속1(m/s)',\n",
       " '22105_풍향(deg)',\n",
       " '22105_풍향1(deg)',\n",
       " '22106_GUST풍속 1(m/s)',\n",
       " '22106_GUST풍속(m/s)',\n",
       " '22106_풍속(m/s)',\n",
       " '22106_풍속1(m/s)',\n",
       " '22106_풍향(deg)',\n",
       " '22106_풍향1(deg)',\n",
       " '22190_일시',\n",
       " '22190_풍속(m/s)',\n",
       " '22190_풍향(deg)',\n",
       " '22190_GUST풍속(m/s)',\n",
       " '22190_현지기압(hPa)',\n",
       " '22190_습도(%)',\n",
       " '22190_기온(°C)',\n",
       " '22190_수온(°C)',\n",
       " '22190_최대파고(m)',\n",
       " '22190_유의파고(m)',\n",
       " '22190_평균파고(m)',\n",
       " '22190_파주기(sec)',\n",
       " '22190_파향(deg)']"
      ]
     },
     "execution_count": 9,
     "metadata": {},
     "output_type": "execute_result"
    }
   ],
   "source": [
    "rm_feature"
   ]
  },
  {
   "cell_type": "code",
   "execution_count": 10,
   "metadata": {},
   "outputs": [
    {
     "name": "stdout",
     "output_type": "stream",
     "text": [
      "<class 'pandas.core.frame.DataFrame'>\n",
      "Int64Index: 34992 entries, 0 to 34991\n",
      "Data columns (total 34 columns):\n",
      "hour                     34992 non-null int64\n",
      "climate                  34992 non-null object\n",
      "weather_deterioration    34992 non-null int64\n",
      "swell                    34392 non-null float64\n",
      "21229_기온(°C)             33915 non-null float64\n",
      "21229_수온(°C)             34629 non-null float64\n",
      "21229_습도(%)              33939 non-null float64\n",
      "21229_유의파고(m)            34700 non-null float64\n",
      "21229_일시                 34817 non-null float64\n",
      "21229_최대파고(m)            34788 non-null float64\n",
      "21229_파주기(sec)           34800 non-null float64\n",
      "21229_파향(deg)            34808 non-null float64\n",
      "21229_평균파고(m)            34606 non-null float64\n",
      "21229_현지기압(hPa)          33945 non-null float64\n",
      "22105_기온(°C)             33792 non-null float64\n",
      "22105_수온(°C)             33912 non-null float64\n",
      "22105_습도(%)              34071 non-null float64\n",
      "22105_유의파고(m)            34028 non-null float64\n",
      "22105_일시                 34088 non-null float64\n",
      "22105_최대파고(m)            34070 non-null float64\n",
      "22105_파주기(sec)           34038 non-null float64\n",
      "22105_파향(deg)            34069 non-null float64\n",
      "22105_평균파고(m)            33912 non-null float64\n",
      "22105_현지기압(hPa)          33191 non-null float64\n",
      "22106_기온(°C)             34124 non-null float64\n",
      "22106_수온(°C)             34436 non-null float64\n",
      "22106_습도(%)              33797 non-null float64\n",
      "22106_유의파고(m)            34381 non-null float64\n",
      "22106_일시                 34475 non-null float64\n",
      "22106_최대파고(m)            34467 non-null float64\n",
      "22106_파주기(sec)           34407 non-null float64\n",
      "22106_파향(deg)            34444 non-null float64\n",
      "22106_평균파고(m)            34290 non-null float64\n",
      "22106_현지기압(hPa)          34290 non-null float64\n",
      "dtypes: float64(31), int64(2), object(1)\n",
      "memory usage: 10.6+ MB\n"
     ]
    }
   ],
   "source": [
    "refine_df = df.drop(rm_feature, axis=1)\n",
    "refine_df.info()"
   ]
  },
  {
   "cell_type": "code",
   "execution_count": 11,
   "metadata": {
    "collapsed": true
   },
   "outputs": [],
   "source": [
    "refine_df['swell(t+1)'] = refine_df['swell'].shift(-1)"
   ]
  },
  {
   "cell_type": "code",
   "execution_count": 13,
   "metadata": {},
   "outputs": [
    {
     "data": {
      "text/html": [
       "<div>\n",
       "<style>\n",
       "    .dataframe thead tr:only-child th {\n",
       "        text-align: right;\n",
       "    }\n",
       "\n",
       "    .dataframe thead th {\n",
       "        text-align: left;\n",
       "    }\n",
       "\n",
       "    .dataframe tbody tr th {\n",
       "        vertical-align: top;\n",
       "    }\n",
       "</style>\n",
       "<table border=\"1\" class=\"dataframe\">\n",
       "  <thead>\n",
       "    <tr style=\"text-align: right;\">\n",
       "      <th></th>\n",
       "      <th>hour</th>\n",
       "      <th>climate</th>\n",
       "      <th>weather_deterioration</th>\n",
       "      <th>swell</th>\n",
       "      <th>21229_기온(°C)</th>\n",
       "      <th>21229_수온(°C)</th>\n",
       "      <th>21229_습도(%)</th>\n",
       "      <th>21229_유의파고(m)</th>\n",
       "      <th>21229_일시</th>\n",
       "      <th>21229_최대파고(m)</th>\n",
       "      <th>...</th>\n",
       "      <th>22106_수온(°C)</th>\n",
       "      <th>22106_습도(%)</th>\n",
       "      <th>22106_유의파고(m)</th>\n",
       "      <th>22106_일시</th>\n",
       "      <th>22106_최대파고(m)</th>\n",
       "      <th>22106_파주기(sec)</th>\n",
       "      <th>22106_파향(deg)</th>\n",
       "      <th>22106_평균파고(m)</th>\n",
       "      <th>22106_현지기압(hPa)</th>\n",
       "      <th>swell(t+1)</th>\n",
       "    </tr>\n",
       "  </thead>\n",
       "  <tbody>\n",
       "    <tr>\n",
       "      <th>0</th>\n",
       "      <td>2014010407</td>\n",
       "      <td>0</td>\n",
       "      <td>0</td>\n",
       "      <td>0.0</td>\n",
       "      <td>3.6</td>\n",
       "      <td>13.5</td>\n",
       "      <td>72.0</td>\n",
       "      <td>2.1</td>\n",
       "      <td>2.014010e+09</td>\n",
       "      <td>3.8</td>\n",
       "      <td>...</td>\n",
       "      <td>12.9</td>\n",
       "      <td>48.0</td>\n",
       "      <td>1.4</td>\n",
       "      <td>2.014010e+09</td>\n",
       "      <td>2.0</td>\n",
       "      <td>5.8</td>\n",
       "      <td>352.0</td>\n",
       "      <td>1.0</td>\n",
       "      <td>1016.5</td>\n",
       "      <td>0.0</td>\n",
       "    </tr>\n",
       "    <tr>\n",
       "      <th>1</th>\n",
       "      <td>2014010408</td>\n",
       "      <td>0</td>\n",
       "      <td>0</td>\n",
       "      <td>0.0</td>\n",
       "      <td>3.4</td>\n",
       "      <td>13.5</td>\n",
       "      <td>74.0</td>\n",
       "      <td>2.3</td>\n",
       "      <td>2.014010e+09</td>\n",
       "      <td>3.9</td>\n",
       "      <td>...</td>\n",
       "      <td>12.9</td>\n",
       "      <td>47.0</td>\n",
       "      <td>1.4</td>\n",
       "      <td>2.014010e+09</td>\n",
       "      <td>2.1</td>\n",
       "      <td>5.3</td>\n",
       "      <td>356.0</td>\n",
       "      <td>1.0</td>\n",
       "      <td>1016.7</td>\n",
       "      <td>0.0</td>\n",
       "    </tr>\n",
       "    <tr>\n",
       "      <th>2</th>\n",
       "      <td>2014010409</td>\n",
       "      <td>0</td>\n",
       "      <td>0</td>\n",
       "      <td>0.0</td>\n",
       "      <td>2.8</td>\n",
       "      <td>13.5</td>\n",
       "      <td>70.0</td>\n",
       "      <td>2.4</td>\n",
       "      <td>2.014010e+09</td>\n",
       "      <td>4.0</td>\n",
       "      <td>...</td>\n",
       "      <td>12.9</td>\n",
       "      <td>70.0</td>\n",
       "      <td>1.4</td>\n",
       "      <td>2.014010e+09</td>\n",
       "      <td>1.9</td>\n",
       "      <td>5.8</td>\n",
       "      <td>339.0</td>\n",
       "      <td>1.0</td>\n",
       "      <td>1017.1</td>\n",
       "      <td>0.0</td>\n",
       "    </tr>\n",
       "    <tr>\n",
       "      <th>3</th>\n",
       "      <td>2014010410</td>\n",
       "      <td>0</td>\n",
       "      <td>0</td>\n",
       "      <td>0.0</td>\n",
       "      <td>2.4</td>\n",
       "      <td>13.6</td>\n",
       "      <td>71.0</td>\n",
       "      <td>2.7</td>\n",
       "      <td>2.014010e+09</td>\n",
       "      <td>3.8</td>\n",
       "      <td>...</td>\n",
       "      <td>12.9</td>\n",
       "      <td>66.0</td>\n",
       "      <td>1.4</td>\n",
       "      <td>2.014010e+09</td>\n",
       "      <td>2.3</td>\n",
       "      <td>6.4</td>\n",
       "      <td>353.0</td>\n",
       "      <td>1.0</td>\n",
       "      <td>1017.6</td>\n",
       "      <td>0.0</td>\n",
       "    </tr>\n",
       "    <tr>\n",
       "      <th>4</th>\n",
       "      <td>2014010411</td>\n",
       "      <td>0</td>\n",
       "      <td>0</td>\n",
       "      <td>0.0</td>\n",
       "      <td>2.5</td>\n",
       "      <td>13.5</td>\n",
       "      <td>71.0</td>\n",
       "      <td>2.5</td>\n",
       "      <td>2.014010e+09</td>\n",
       "      <td>3.5</td>\n",
       "      <td>...</td>\n",
       "      <td>12.9</td>\n",
       "      <td>72.0</td>\n",
       "      <td>1.5</td>\n",
       "      <td>2.014010e+09</td>\n",
       "      <td>2.5</td>\n",
       "      <td>6.4</td>\n",
       "      <td>2.0</td>\n",
       "      <td>1.0</td>\n",
       "      <td>1017.8</td>\n",
       "      <td>0.0</td>\n",
       "    </tr>\n",
       "  </tbody>\n",
       "</table>\n",
       "<p>5 rows × 35 columns</p>\n",
       "</div>"
      ],
      "text/plain": [
       "         hour climate  weather_deterioration  swell  21229_기온(°C)  \\\n",
       "0  2014010407       0                      0    0.0           3.6   \n",
       "1  2014010408       0                      0    0.0           3.4   \n",
       "2  2014010409       0                      0    0.0           2.8   \n",
       "3  2014010410       0                      0    0.0           2.4   \n",
       "4  2014010411       0                      0    0.0           2.5   \n",
       "\n",
       "   21229_수온(°C)  21229_습도(%)  21229_유의파고(m)      21229_일시  21229_최대파고(m)  \\\n",
       "0          13.5         72.0            2.1  2.014010e+09            3.8   \n",
       "1          13.5         74.0            2.3  2.014010e+09            3.9   \n",
       "2          13.5         70.0            2.4  2.014010e+09            4.0   \n",
       "3          13.6         71.0            2.7  2.014010e+09            3.8   \n",
       "4          13.5         71.0            2.5  2.014010e+09            3.5   \n",
       "\n",
       "      ...      22106_수온(°C)  22106_습도(%)  22106_유의파고(m)      22106_일시  \\\n",
       "0     ...              12.9         48.0            1.4  2.014010e+09   \n",
       "1     ...              12.9         47.0            1.4  2.014010e+09   \n",
       "2     ...              12.9         70.0            1.4  2.014010e+09   \n",
       "3     ...              12.9         66.0            1.4  2.014010e+09   \n",
       "4     ...              12.9         72.0            1.5  2.014010e+09   \n",
       "\n",
       "   22106_최대파고(m)  22106_파주기(sec)  22106_파향(deg)  22106_평균파고(m)  \\\n",
       "0            2.0             5.8          352.0            1.0   \n",
       "1            2.1             5.3          356.0            1.0   \n",
       "2            1.9             5.8          339.0            1.0   \n",
       "3            2.3             6.4          353.0            1.0   \n",
       "4            2.5             6.4            2.0            1.0   \n",
       "\n",
       "   22106_현지기압(hPa)  swell(t+1)  \n",
       "0           1016.5         0.0  \n",
       "1           1016.7         0.0  \n",
       "2           1017.1         0.0  \n",
       "3           1017.6         0.0  \n",
       "4           1017.8         0.0  \n",
       "\n",
       "[5 rows x 35 columns]"
      ]
     },
     "execution_count": 13,
     "metadata": {},
     "output_type": "execute_result"
    }
   ],
   "source": [
    "refine_df.head()"
   ]
  },
  {
   "cell_type": "code",
   "execution_count": 16,
   "metadata": {},
   "outputs": [],
   "source": [
    "refine_df.fillna(method='ffill',inplace=True)"
   ]
  },
  {
   "cell_type": "code",
   "execution_count": 17,
   "metadata": {
    "collapsed": true
   },
   "outputs": [],
   "source": [
    "swell_stack = []\n",
    "swell_len = []\n",
    "for swell in df['swell']:\n",
    "    if swell == 0 and len(swell_stack) > 0:\n",
    "        swell_len.append(len(swell_stack))\n",
    "        swell_stack = []\n",
    "    \n",
    "    if swell == 0 and len(swell_stack) == 0:\n",
    "        continue\n",
    "        \n",
    "    if swell == 1:\n",
    "        swell_stack.append(1)"
   ]
  },
  {
   "cell_type": "code",
   "execution_count": 21,
   "metadata": {
    "scrolled": true
   },
   "outputs": [
    {
     "data": {
      "text/plain": [
       "20.25"
      ]
     },
     "execution_count": 21,
     "metadata": {},
     "output_type": "execute_result"
    }
   ],
   "source": [
    "np.mean(swell_len)"
   ]
  },
  {
   "cell_type": "code",
   "execution_count": null,
   "metadata": {
    "collapsed": true
   },
   "outputs": [],
   "source": []
  }
 ],
 "metadata": {
  "kernelspec": {
   "display_name": "Python 3",
   "language": "python",
   "name": "python3"
  },
  "language_info": {
   "codemirror_mode": {
    "name": "ipython",
    "version": 3
   },
   "file_extension": ".py",
   "mimetype": "text/x-python",
   "name": "python",
   "nbconvert_exporter": "python",
   "pygments_lexer": "ipython3",
   "version": "3.6.1"
  }
 },
 "nbformat": 4,
 "nbformat_minor": 2
}
