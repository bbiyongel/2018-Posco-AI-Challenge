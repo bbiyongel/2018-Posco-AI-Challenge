{
 "cells": [
  {
   "cell_type": "code",
   "execution_count": 1,
   "metadata": {
    "collapsed": true
   },
   "outputs": [],
   "source": [
    "import pandas as pd\n",
    "import numpy as np\n",
    "\n",
    "%matplotlib inline"
   ]
  },
  {
   "cell_type": "code",
   "execution_count": 2,
   "metadata": {
    "scrolled": true
   },
   "outputs": [
    {
     "name": "stdout",
     "output_type": "stream",
     "text": [
      "<class 'pandas.core.frame.DataFrame'>\n",
      "Int64Index: 34992 entries, 0 to 34991\n",
      "Data columns (total 65 columns):\n",
      "hour                     34992 non-null int64\n",
      "climate                  34992 non-null object\n",
      "weather_deterioration    34992 non-null int64\n",
      "swell                    34392 non-null float64\n",
      "21229_GUST풍속 1(m/s)      8637 non-null float64\n",
      "21229_GUST풍속(m/s)        26091 non-null float64\n",
      "21229_기온(°C)             33915 non-null float64\n",
      "21229_수온(°C)             34629 non-null float64\n",
      "21229_습도(%)              33939 non-null float64\n",
      "21229_유의파고(m)            34700 non-null float64\n",
      "21229_일시                 34817 non-null float64\n",
      "21229_최대파고(m)            34788 non-null float64\n",
      "21229_파주기(sec)           34800 non-null float64\n",
      "21229_파향(deg)            34808 non-null float64\n",
      "21229_평균파고(m)            34606 non-null float64\n",
      "21229_풍속(m/s)            26122 non-null float64\n",
      "21229_풍속1(m/s)           8638 non-null float64\n",
      "21229_풍향(deg)            26121 non-null float64\n",
      "21229_풍향1(deg)           8639 non-null float64\n",
      "21229_현지기압(hPa)          33945 non-null float64\n",
      "22105_GUST풍속 1(m/s)      7978 non-null float64\n",
      "22105_GUST풍속(m/s)        25301 non-null float64\n",
      "22105_기온(°C)             33792 non-null float64\n",
      "22105_수온(°C)             33912 non-null float64\n",
      "22105_습도(%)              34071 non-null float64\n",
      "22105_유의파고(m)            34028 non-null float64\n",
      "22105_일시                 34088 non-null float64\n",
      "22105_최대파고(m)            34070 non-null float64\n",
      "22105_파주기(sec)           34038 non-null float64\n",
      "22105_파향(deg)            34069 non-null float64\n",
      "22105_평균파고(m)            33912 non-null float64\n",
      "22105_풍속(m/s)            25304 non-null float64\n",
      "22105_풍속1(m/s)           7981 non-null float64\n",
      "22105_풍향(deg)            25293 non-null float64\n",
      "22105_풍향1(deg)           7981 non-null float64\n",
      "22105_현지기압(hPa)          33191 non-null float64\n",
      "22106_GUST풍속 1(m/s)      7685 non-null float64\n",
      "22106_GUST풍속(m/s)        25453 non-null float64\n",
      "22106_기온(°C)             34124 non-null float64\n",
      "22106_수온(°C)             34436 non-null float64\n",
      "22106_습도(%)              33797 non-null float64\n",
      "22106_유의파고(m)            34381 non-null float64\n",
      "22106_일시                 34475 non-null float64\n",
      "22106_최대파고(m)            34467 non-null float64\n",
      "22106_파주기(sec)           34407 non-null float64\n",
      "22106_파향(deg)            34444 non-null float64\n",
      "22106_평균파고(m)            34290 non-null float64\n",
      "22106_풍속(m/s)            25376 non-null float64\n",
      "22106_풍속1(m/s)           7685 non-null float64\n",
      "22106_풍향(deg)            25379 non-null float64\n",
      "22106_풍향1(deg)           7845 non-null float64\n",
      "22106_현지기압(hPa)          34290 non-null float64\n",
      "22190_일시                 18029 non-null float64\n",
      "22190_풍속(m/s)            17951 non-null float64\n",
      "22190_풍향(deg)            17951 non-null float64\n",
      "22190_GUST풍속(m/s)        17945 non-null float64\n",
      "22190_현지기압(hPa)          18001 non-null float64\n",
      "22190_습도(%)              17955 non-null float64\n",
      "22190_기온(°C)             17875 non-null float64\n",
      "22190_수온(°C)             18021 non-null float64\n",
      "22190_최대파고(m)            17994 non-null float64\n",
      "22190_유의파고(m)            17972 non-null float64\n",
      "22190_평균파고(m)            17916 non-null float64\n",
      "22190_파주기(sec)           18017 non-null float64\n",
      "22190_파향(deg)            18020 non-null float64\n",
      "dtypes: float64(62), int64(2), object(1)\n",
      "memory usage: 17.6+ MB\n"
     ]
    }
   ],
   "source": [
    "df = pd.read_csv('./merged_info_data.tsv',sep='\\t',index_col='Unnamed: 0')\n",
    "df.info()"
   ]
  },
  {
   "cell_type": "code",
   "execution_count": 3,
   "metadata": {},
   "outputs": [
    {
     "data": {
      "text/plain": [
       "[2014051807, 2014051808, 2014051809, 2014051810, 2014051811]"
      ]
     },
     "execution_count": 3,
     "metadata": {},
     "output_type": "execute_result"
    }
   ],
   "source": [
    "test_list = df[df['swell'].isnull()]['hour'].tolist()\n",
    "test_list[:5]"
   ]
  },
  {
   "cell_type": "markdown",
   "metadata": {},
   "source": [
    "### 20% 미만 제거"
   ]
  },
  {
   "cell_type": "code",
   "execution_count": 4,
   "metadata": {},
   "outputs": [
    {
     "data": {
      "text/plain": [
       "18029"
      ]
     },
     "execution_count": 4,
     "metadata": {},
     "output_type": "execute_result"
    }
   ],
   "source": [
    "np.sum(df['22190_일시'].notnull())"
   ]
  },
  {
   "cell_type": "code",
   "execution_count": 5,
   "metadata": {},
   "outputs": [
    {
     "data": {
      "text/plain": [
       "27993"
      ]
     },
     "execution_count": 5,
     "metadata": {},
     "output_type": "execute_result"
    }
   ],
   "source": [
    "int(len(df) * 0.8)"
   ]
  },
  {
   "cell_type": "code",
   "execution_count": 6,
   "metadata": {
    "collapsed": true
   },
   "outputs": [],
   "source": [
    "rm_feature = []\n",
    "for col in df.columns:\n",
    "    if np.sum(df[col].notnull()) < int(len(df)*0.8):\n",
    "        rm_feature.append(col)"
   ]
  },
  {
   "cell_type": "code",
   "execution_count": 7,
   "metadata": {
    "scrolled": true
   },
   "outputs": [
    {
     "data": {
      "text/plain": [
       "['21229_GUST풍속 1(m/s)',\n",
       " '21229_GUST풍속(m/s)',\n",
       " '21229_풍속(m/s)',\n",
       " '21229_풍속1(m/s)',\n",
       " '21229_풍향(deg)',\n",
       " '21229_풍향1(deg)',\n",
       " '22105_GUST풍속 1(m/s)',\n",
       " '22105_GUST풍속(m/s)',\n",
       " '22105_풍속(m/s)',\n",
       " '22105_풍속1(m/s)',\n",
       " '22105_풍향(deg)',\n",
       " '22105_풍향1(deg)',\n",
       " '22106_GUST풍속 1(m/s)',\n",
       " '22106_GUST풍속(m/s)',\n",
       " '22106_풍속(m/s)',\n",
       " '22106_풍속1(m/s)',\n",
       " '22106_풍향(deg)',\n",
       " '22106_풍향1(deg)',\n",
       " '22190_일시',\n",
       " '22190_풍속(m/s)',\n",
       " '22190_풍향(deg)',\n",
       " '22190_GUST풍속(m/s)',\n",
       " '22190_현지기압(hPa)',\n",
       " '22190_습도(%)',\n",
       " '22190_기온(°C)',\n",
       " '22190_수온(°C)',\n",
       " '22190_최대파고(m)',\n",
       " '22190_유의파고(m)',\n",
       " '22190_평균파고(m)',\n",
       " '22190_파주기(sec)',\n",
       " '22190_파향(deg)']"
      ]
     },
     "execution_count": 7,
     "metadata": {},
     "output_type": "execute_result"
    }
   ],
   "source": [
    "rm_feature"
   ]
  },
  {
   "cell_type": "code",
   "execution_count": 8,
   "metadata": {},
   "outputs": [
    {
     "name": "stdout",
     "output_type": "stream",
     "text": [
      "<class 'pandas.core.frame.DataFrame'>\n",
      "Int64Index: 34992 entries, 0 to 34991\n",
      "Data columns (total 34 columns):\n",
      "hour                     34992 non-null int64\n",
      "climate                  34992 non-null object\n",
      "weather_deterioration    34992 non-null int64\n",
      "swell                    34392 non-null float64\n",
      "21229_기온(°C)             33915 non-null float64\n",
      "21229_수온(°C)             34629 non-null float64\n",
      "21229_습도(%)              33939 non-null float64\n",
      "21229_유의파고(m)            34700 non-null float64\n",
      "21229_일시                 34817 non-null float64\n",
      "21229_최대파고(m)            34788 non-null float64\n",
      "21229_파주기(sec)           34800 non-null float64\n",
      "21229_파향(deg)            34808 non-null float64\n",
      "21229_평균파고(m)            34606 non-null float64\n",
      "21229_현지기압(hPa)          33945 non-null float64\n",
      "22105_기온(°C)             33792 non-null float64\n",
      "22105_수온(°C)             33912 non-null float64\n",
      "22105_습도(%)              34071 non-null float64\n",
      "22105_유의파고(m)            34028 non-null float64\n",
      "22105_일시                 34088 non-null float64\n",
      "22105_최대파고(m)            34070 non-null float64\n",
      "22105_파주기(sec)           34038 non-null float64\n",
      "22105_파향(deg)            34069 non-null float64\n",
      "22105_평균파고(m)            33912 non-null float64\n",
      "22105_현지기압(hPa)          33191 non-null float64\n",
      "22106_기온(°C)             34124 non-null float64\n",
      "22106_수온(°C)             34436 non-null float64\n",
      "22106_습도(%)              33797 non-null float64\n",
      "22106_유의파고(m)            34381 non-null float64\n",
      "22106_일시                 34475 non-null float64\n",
      "22106_최대파고(m)            34467 non-null float64\n",
      "22106_파주기(sec)           34407 non-null float64\n",
      "22106_파향(deg)            34444 non-null float64\n",
      "22106_평균파고(m)            34290 non-null float64\n",
      "22106_현지기압(hPa)          34290 non-null float64\n",
      "dtypes: float64(31), int64(2), object(1)\n",
      "memory usage: 9.3+ MB\n"
     ]
    }
   ],
   "source": [
    "refine_df = df.drop(rm_feature, axis=1)\n",
    "refine_df.info()"
   ]
  },
  {
   "cell_type": "code",
   "execution_count": 9,
   "metadata": {
    "collapsed": true
   },
   "outputs": [],
   "source": [
    "refine_df['swell(t+1)'] = refine_df['swell'].shift(-1)"
   ]
  },
  {
   "cell_type": "code",
   "execution_count": 10,
   "metadata": {},
   "outputs": [
    {
     "data": {
      "text/html": [
       "<div>\n",
       "<style>\n",
       "    .dataframe thead tr:only-child th {\n",
       "        text-align: right;\n",
       "    }\n",
       "\n",
       "    .dataframe thead th {\n",
       "        text-align: left;\n",
       "    }\n",
       "\n",
       "    .dataframe tbody tr th {\n",
       "        vertical-align: top;\n",
       "    }\n",
       "</style>\n",
       "<table border=\"1\" class=\"dataframe\">\n",
       "  <thead>\n",
       "    <tr style=\"text-align: right;\">\n",
       "      <th></th>\n",
       "      <th>hour</th>\n",
       "      <th>climate</th>\n",
       "      <th>weather_deterioration</th>\n",
       "      <th>swell</th>\n",
       "      <th>21229_기온(°C)</th>\n",
       "      <th>21229_수온(°C)</th>\n",
       "      <th>21229_습도(%)</th>\n",
       "      <th>21229_유의파고(m)</th>\n",
       "      <th>21229_일시</th>\n",
       "      <th>21229_최대파고(m)</th>\n",
       "      <th>...</th>\n",
       "      <th>22106_수온(°C)</th>\n",
       "      <th>22106_습도(%)</th>\n",
       "      <th>22106_유의파고(m)</th>\n",
       "      <th>22106_일시</th>\n",
       "      <th>22106_최대파고(m)</th>\n",
       "      <th>22106_파주기(sec)</th>\n",
       "      <th>22106_파향(deg)</th>\n",
       "      <th>22106_평균파고(m)</th>\n",
       "      <th>22106_현지기압(hPa)</th>\n",
       "      <th>swell(t+1)</th>\n",
       "    </tr>\n",
       "  </thead>\n",
       "  <tbody>\n",
       "    <tr>\n",
       "      <th>0</th>\n",
       "      <td>2014010407</td>\n",
       "      <td>0</td>\n",
       "      <td>0</td>\n",
       "      <td>0.0</td>\n",
       "      <td>3.6</td>\n",
       "      <td>13.5</td>\n",
       "      <td>72.0</td>\n",
       "      <td>2.1</td>\n",
       "      <td>2.014010e+09</td>\n",
       "      <td>3.8</td>\n",
       "      <td>...</td>\n",
       "      <td>12.9</td>\n",
       "      <td>48.0</td>\n",
       "      <td>1.4</td>\n",
       "      <td>2.014010e+09</td>\n",
       "      <td>2.0</td>\n",
       "      <td>5.8</td>\n",
       "      <td>352.0</td>\n",
       "      <td>1.0</td>\n",
       "      <td>1016.5</td>\n",
       "      <td>0.0</td>\n",
       "    </tr>\n",
       "    <tr>\n",
       "      <th>1</th>\n",
       "      <td>2014010408</td>\n",
       "      <td>0</td>\n",
       "      <td>0</td>\n",
       "      <td>0.0</td>\n",
       "      <td>3.4</td>\n",
       "      <td>13.5</td>\n",
       "      <td>74.0</td>\n",
       "      <td>2.3</td>\n",
       "      <td>2.014010e+09</td>\n",
       "      <td>3.9</td>\n",
       "      <td>...</td>\n",
       "      <td>12.9</td>\n",
       "      <td>47.0</td>\n",
       "      <td>1.4</td>\n",
       "      <td>2.014010e+09</td>\n",
       "      <td>2.1</td>\n",
       "      <td>5.3</td>\n",
       "      <td>356.0</td>\n",
       "      <td>1.0</td>\n",
       "      <td>1016.7</td>\n",
       "      <td>0.0</td>\n",
       "    </tr>\n",
       "    <tr>\n",
       "      <th>2</th>\n",
       "      <td>2014010409</td>\n",
       "      <td>0</td>\n",
       "      <td>0</td>\n",
       "      <td>0.0</td>\n",
       "      <td>2.8</td>\n",
       "      <td>13.5</td>\n",
       "      <td>70.0</td>\n",
       "      <td>2.4</td>\n",
       "      <td>2.014010e+09</td>\n",
       "      <td>4.0</td>\n",
       "      <td>...</td>\n",
       "      <td>12.9</td>\n",
       "      <td>70.0</td>\n",
       "      <td>1.4</td>\n",
       "      <td>2.014010e+09</td>\n",
       "      <td>1.9</td>\n",
       "      <td>5.8</td>\n",
       "      <td>339.0</td>\n",
       "      <td>1.0</td>\n",
       "      <td>1017.1</td>\n",
       "      <td>0.0</td>\n",
       "    </tr>\n",
       "    <tr>\n",
       "      <th>3</th>\n",
       "      <td>2014010410</td>\n",
       "      <td>0</td>\n",
       "      <td>0</td>\n",
       "      <td>0.0</td>\n",
       "      <td>2.4</td>\n",
       "      <td>13.6</td>\n",
       "      <td>71.0</td>\n",
       "      <td>2.7</td>\n",
       "      <td>2.014010e+09</td>\n",
       "      <td>3.8</td>\n",
       "      <td>...</td>\n",
       "      <td>12.9</td>\n",
       "      <td>66.0</td>\n",
       "      <td>1.4</td>\n",
       "      <td>2.014010e+09</td>\n",
       "      <td>2.3</td>\n",
       "      <td>6.4</td>\n",
       "      <td>353.0</td>\n",
       "      <td>1.0</td>\n",
       "      <td>1017.6</td>\n",
       "      <td>0.0</td>\n",
       "    </tr>\n",
       "    <tr>\n",
       "      <th>4</th>\n",
       "      <td>2014010411</td>\n",
       "      <td>0</td>\n",
       "      <td>0</td>\n",
       "      <td>0.0</td>\n",
       "      <td>2.5</td>\n",
       "      <td>13.5</td>\n",
       "      <td>71.0</td>\n",
       "      <td>2.5</td>\n",
       "      <td>2.014010e+09</td>\n",
       "      <td>3.5</td>\n",
       "      <td>...</td>\n",
       "      <td>12.9</td>\n",
       "      <td>72.0</td>\n",
       "      <td>1.5</td>\n",
       "      <td>2.014010e+09</td>\n",
       "      <td>2.5</td>\n",
       "      <td>6.4</td>\n",
       "      <td>2.0</td>\n",
       "      <td>1.0</td>\n",
       "      <td>1017.8</td>\n",
       "      <td>0.0</td>\n",
       "    </tr>\n",
       "  </tbody>\n",
       "</table>\n",
       "<p>5 rows × 35 columns</p>\n",
       "</div>"
      ],
      "text/plain": [
       "         hour climate  weather_deterioration  swell  21229_기온(°C)  \\\n",
       "0  2014010407       0                      0    0.0           3.6   \n",
       "1  2014010408       0                      0    0.0           3.4   \n",
       "2  2014010409       0                      0    0.0           2.8   \n",
       "3  2014010410       0                      0    0.0           2.4   \n",
       "4  2014010411       0                      0    0.0           2.5   \n",
       "\n",
       "   21229_수온(°C)  21229_습도(%)  21229_유의파고(m)      21229_일시  21229_최대파고(m)  \\\n",
       "0          13.5         72.0            2.1  2.014010e+09            3.8   \n",
       "1          13.5         74.0            2.3  2.014010e+09            3.9   \n",
       "2          13.5         70.0            2.4  2.014010e+09            4.0   \n",
       "3          13.6         71.0            2.7  2.014010e+09            3.8   \n",
       "4          13.5         71.0            2.5  2.014010e+09            3.5   \n",
       "\n",
       "      ...      22106_수온(°C)  22106_습도(%)  22106_유의파고(m)      22106_일시  \\\n",
       "0     ...              12.9         48.0            1.4  2.014010e+09   \n",
       "1     ...              12.9         47.0            1.4  2.014010e+09   \n",
       "2     ...              12.9         70.0            1.4  2.014010e+09   \n",
       "3     ...              12.9         66.0            1.4  2.014010e+09   \n",
       "4     ...              12.9         72.0            1.5  2.014010e+09   \n",
       "\n",
       "   22106_최대파고(m)  22106_파주기(sec)  22106_파향(deg)  22106_평균파고(m)  \\\n",
       "0            2.0             5.8          352.0            1.0   \n",
       "1            2.1             5.3          356.0            1.0   \n",
       "2            1.9             5.8          339.0            1.0   \n",
       "3            2.3             6.4          353.0            1.0   \n",
       "4            2.5             6.4            2.0            1.0   \n",
       "\n",
       "   22106_현지기압(hPa)  swell(t+1)  \n",
       "0           1016.5         0.0  \n",
       "1           1016.7         0.0  \n",
       "2           1017.1         0.0  \n",
       "3           1017.6         0.0  \n",
       "4           1017.8         0.0  \n",
       "\n",
       "[5 rows x 35 columns]"
      ]
     },
     "execution_count": 10,
     "metadata": {},
     "output_type": "execute_result"
    }
   ],
   "source": [
    "refine_df.head()"
   ]
  },
  {
   "cell_type": "code",
   "execution_count": 11,
   "metadata": {
    "collapsed": true
   },
   "outputs": [],
   "source": [
    "refine_df.fillna(method='ffill',inplace=True)"
   ]
  },
  {
   "cell_type": "code",
   "execution_count": 12,
   "metadata": {},
   "outputs": [
    {
     "data": {
      "text/plain": [
       "Index(['hour', 'climate', 'weather_deterioration', 'swell', '21229_기온(°C)',\n",
       "       '21229_수온(°C)', '21229_습도(%)', '21229_유의파고(m)', '21229_일시',\n",
       "       '21229_최대파고(m)', '21229_파주기(sec)', '21229_파향(deg)', '21229_평균파고(m)',\n",
       "       '21229_현지기압(hPa)', '22105_기온(°C)', '22105_수온(°C)', '22105_습도(%)',\n",
       "       '22105_유의파고(m)', '22105_일시', '22105_최대파고(m)', '22105_파주기(sec)',\n",
       "       '22105_파향(deg)', '22105_평균파고(m)', '22105_현지기압(hPa)', '22106_기온(°C)',\n",
       "       '22106_수온(°C)', '22106_습도(%)', '22106_유의파고(m)', '22106_일시',\n",
       "       '22106_최대파고(m)', '22106_파주기(sec)', '22106_파향(deg)', '22106_평균파고(m)',\n",
       "       '22106_현지기압(hPa)', 'swell(t+1)'],\n",
       "      dtype='object')"
      ]
     },
     "execution_count": 12,
     "metadata": {},
     "output_type": "execute_result"
    }
   ],
   "source": [
    "refine_df.columns"
   ]
  },
  {
   "cell_type": "code",
   "execution_count": 13,
   "metadata": {
    "collapsed": true
   },
   "outputs": [],
   "source": [
    "swell_stack = []\n",
    "swell_len = []\n",
    "for swell in df['swell']:\n",
    "    if swell == 0 and len(swell_stack) > 0:\n",
    "        swell_len.append(len(swell_stack))\n",
    "        swell_stack = []\n",
    "    \n",
    "    if swell == 0 and len(swell_stack) == 0:\n",
    "        continue\n",
    "        \n",
    "    if swell == 1:\n",
    "        swell_stack.append(1)"
   ]
  },
  {
   "cell_type": "code",
   "execution_count": 14,
   "metadata": {
    "scrolled": true
   },
   "outputs": [
    {
     "data": {
      "text/plain": [
       "20.25"
      ]
     },
     "execution_count": 14,
     "metadata": {},
     "output_type": "execute_result"
    }
   ],
   "source": [
    "np.mean(swell_len)"
   ]
  },
  {
   "cell_type": "code",
   "execution_count": 15,
   "metadata": {
    "collapsed": true
   },
   "outputs": [],
   "source": [
    "in_seq = 20\n",
    "features = ['hour', 'swell',\n",
    "            '21229_기온(°C)',\n",
    "           '21229_수온(°C)', '21229_습도(%)', '21229_유의파고(m)',\n",
    "           '21229_최대파고(m)', '21229_파주기(sec)', '21229_파향(deg)', '21229_평균파고(m)',\n",
    "           '21229_현지기압(hPa)', '22105_기온(°C)', '22105_수온(°C)', '22105_습도(%)',\n",
    "           '22105_유의파고(m)', '22105_최대파고(m)', '22105_파주기(sec)',\n",
    "           '22105_파향(deg)', '22105_평균파고(m)', '22105_현지기압(hPa)', '22106_기온(°C)',\n",
    "           '22106_수온(°C)', '22106_습도(%)', '22106_유의파고(m)',\n",
    "           '22106_최대파고(m)', '22106_파주기(sec)', '22106_파향(deg)', '22106_평균파고(m)',\n",
    "           '22106_현지기압(hPa)'\n",
    "           ]"
   ]
  },
  {
   "cell_type": "code",
   "execution_count": 16,
   "metadata": {
    "collapsed": true
   },
   "outputs": [],
   "source": [
    "temp_list = []\n",
    "temp_names = []\n",
    "for k in range(in_seq):\n",
    "    temp_names += [(feature_name + '(t-%d)' % k) for feature_name in features]\n",
    "    temp_list.append(refine_df[features].shift(-1 * k))\n",
    "    if (k == in_seq - 1):\n",
    "        temp_names += [('swell' + '(t-%d)' % in_seq)]\n",
    "        temp_list.append(refine_df['swell'].shift(-1 * in_seq))"
   ]
  },
  {
   "cell_type": "code",
   "execution_count": 17,
   "metadata": {
    "collapsed": true
   },
   "outputs": [],
   "source": [
    "temp_df = pd.concat(temp_list, axis=1)\n",
    "temp_df.columns = temp_names\n",
    "temp_df.dropna(inplace=True)"
   ]
  },
  {
   "cell_type": "code",
   "execution_count": 18,
   "metadata": {},
   "outputs": [
    {
     "data": {
      "text/html": [
       "<div>\n",
       "<style>\n",
       "    .dataframe thead tr:only-child th {\n",
       "        text-align: right;\n",
       "    }\n",
       "\n",
       "    .dataframe thead th {\n",
       "        text-align: left;\n",
       "    }\n",
       "\n",
       "    .dataframe tbody tr th {\n",
       "        vertical-align: top;\n",
       "    }\n",
       "</style>\n",
       "<table border=\"1\" class=\"dataframe\">\n",
       "  <thead>\n",
       "    <tr style=\"text-align: right;\">\n",
       "      <th></th>\n",
       "      <th>hour(t-0)</th>\n",
       "      <th>swell(t-0)</th>\n",
       "      <th>21229_기온(°C)(t-0)</th>\n",
       "      <th>21229_수온(°C)(t-0)</th>\n",
       "      <th>21229_습도(%)(t-0)</th>\n",
       "      <th>21229_유의파고(m)(t-0)</th>\n",
       "      <th>21229_최대파고(m)(t-0)</th>\n",
       "      <th>21229_파주기(sec)(t-0)</th>\n",
       "      <th>21229_파향(deg)(t-0)</th>\n",
       "      <th>21229_평균파고(m)(t-0)</th>\n",
       "      <th>...</th>\n",
       "      <th>22106_기온(°C)(t-19)</th>\n",
       "      <th>22106_수온(°C)(t-19)</th>\n",
       "      <th>22106_습도(%)(t-19)</th>\n",
       "      <th>22106_유의파고(m)(t-19)</th>\n",
       "      <th>22106_최대파고(m)(t-19)</th>\n",
       "      <th>22106_파주기(sec)(t-19)</th>\n",
       "      <th>22106_파향(deg)(t-19)</th>\n",
       "      <th>22106_평균파고(m)(t-19)</th>\n",
       "      <th>22106_현지기압(hPa)(t-19)</th>\n",
       "      <th>swell(t-20)</th>\n",
       "    </tr>\n",
       "  </thead>\n",
       "  <tbody>\n",
       "    <tr>\n",
       "      <th>0</th>\n",
       "      <td>2014010407</td>\n",
       "      <td>0.0</td>\n",
       "      <td>3.6</td>\n",
       "      <td>13.5</td>\n",
       "      <td>72.0</td>\n",
       "      <td>2.1</td>\n",
       "      <td>3.8</td>\n",
       "      <td>5.8</td>\n",
       "      <td>126.0</td>\n",
       "      <td>1.5</td>\n",
       "      <td>...</td>\n",
       "      <td>6.5</td>\n",
       "      <td>12.9</td>\n",
       "      <td>61.0</td>\n",
       "      <td>2.0</td>\n",
       "      <td>3.5</td>\n",
       "      <td>6.4</td>\n",
       "      <td>319.0</td>\n",
       "      <td>1.4</td>\n",
       "      <td>1019.4</td>\n",
       "      <td>0.0</td>\n",
       "    </tr>\n",
       "    <tr>\n",
       "      <th>1</th>\n",
       "      <td>2014010408</td>\n",
       "      <td>0.0</td>\n",
       "      <td>3.4</td>\n",
       "      <td>13.5</td>\n",
       "      <td>74.0</td>\n",
       "      <td>2.3</td>\n",
       "      <td>3.9</td>\n",
       "      <td>6.4</td>\n",
       "      <td>121.0</td>\n",
       "      <td>1.6</td>\n",
       "      <td>...</td>\n",
       "      <td>6.1</td>\n",
       "      <td>12.9</td>\n",
       "      <td>67.0</td>\n",
       "      <td>1.8</td>\n",
       "      <td>2.7</td>\n",
       "      <td>8.0</td>\n",
       "      <td>268.0</td>\n",
       "      <td>1.3</td>\n",
       "      <td>1020.0</td>\n",
       "      <td>0.0</td>\n",
       "    </tr>\n",
       "    <tr>\n",
       "      <th>2</th>\n",
       "      <td>2014010409</td>\n",
       "      <td>0.0</td>\n",
       "      <td>2.8</td>\n",
       "      <td>13.5</td>\n",
       "      <td>70.0</td>\n",
       "      <td>2.4</td>\n",
       "      <td>4.0</td>\n",
       "      <td>8.0</td>\n",
       "      <td>111.0</td>\n",
       "      <td>1.7</td>\n",
       "      <td>...</td>\n",
       "      <td>5.3</td>\n",
       "      <td>12.9</td>\n",
       "      <td>72.0</td>\n",
       "      <td>2.1</td>\n",
       "      <td>3.0</td>\n",
       "      <td>7.1</td>\n",
       "      <td>306.0</td>\n",
       "      <td>1.5</td>\n",
       "      <td>1020.3</td>\n",
       "      <td>0.0</td>\n",
       "    </tr>\n",
       "    <tr>\n",
       "      <th>3</th>\n",
       "      <td>2014010410</td>\n",
       "      <td>0.0</td>\n",
       "      <td>2.4</td>\n",
       "      <td>13.6</td>\n",
       "      <td>71.0</td>\n",
       "      <td>2.7</td>\n",
       "      <td>3.8</td>\n",
       "      <td>7.1</td>\n",
       "      <td>136.0</td>\n",
       "      <td>1.9</td>\n",
       "      <td>...</td>\n",
       "      <td>5.9</td>\n",
       "      <td>12.9</td>\n",
       "      <td>65.0</td>\n",
       "      <td>1.7</td>\n",
       "      <td>3.0</td>\n",
       "      <td>7.1</td>\n",
       "      <td>288.0</td>\n",
       "      <td>1.2</td>\n",
       "      <td>1020.2</td>\n",
       "      <td>0.0</td>\n",
       "    </tr>\n",
       "    <tr>\n",
       "      <th>4</th>\n",
       "      <td>2014010411</td>\n",
       "      <td>0.0</td>\n",
       "      <td>2.5</td>\n",
       "      <td>13.5</td>\n",
       "      <td>71.0</td>\n",
       "      <td>2.5</td>\n",
       "      <td>3.5</td>\n",
       "      <td>6.4</td>\n",
       "      <td>142.0</td>\n",
       "      <td>1.7</td>\n",
       "      <td>...</td>\n",
       "      <td>6.1</td>\n",
       "      <td>12.9</td>\n",
       "      <td>70.0</td>\n",
       "      <td>2.0</td>\n",
       "      <td>3.4</td>\n",
       "      <td>8.0</td>\n",
       "      <td>302.0</td>\n",
       "      <td>1.4</td>\n",
       "      <td>1020.2</td>\n",
       "      <td>0.0</td>\n",
       "    </tr>\n",
       "  </tbody>\n",
       "</table>\n",
       "<p>5 rows × 581 columns</p>\n",
       "</div>"
      ],
      "text/plain": [
       "    hour(t-0)  swell(t-0)  21229_기온(°C)(t-0)  21229_수온(°C)(t-0)  \\\n",
       "0  2014010407         0.0                3.6               13.5   \n",
       "1  2014010408         0.0                3.4               13.5   \n",
       "2  2014010409         0.0                2.8               13.5   \n",
       "3  2014010410         0.0                2.4               13.6   \n",
       "4  2014010411         0.0                2.5               13.5   \n",
       "\n",
       "   21229_습도(%)(t-0)  21229_유의파고(m)(t-0)  21229_최대파고(m)(t-0)  \\\n",
       "0              72.0                 2.1                 3.8   \n",
       "1              74.0                 2.3                 3.9   \n",
       "2              70.0                 2.4                 4.0   \n",
       "3              71.0                 2.7                 3.8   \n",
       "4              71.0                 2.5                 3.5   \n",
       "\n",
       "   21229_파주기(sec)(t-0)  21229_파향(deg)(t-0)  21229_평균파고(m)(t-0)     ...       \\\n",
       "0                  5.8               126.0                 1.5     ...        \n",
       "1                  6.4               121.0                 1.6     ...        \n",
       "2                  8.0               111.0                 1.7     ...        \n",
       "3                  7.1               136.0                 1.9     ...        \n",
       "4                  6.4               142.0                 1.7     ...        \n",
       "\n",
       "   22106_기온(°C)(t-19)  22106_수온(°C)(t-19)  22106_습도(%)(t-19)  \\\n",
       "0                 6.5                12.9               61.0   \n",
       "1                 6.1                12.9               67.0   \n",
       "2                 5.3                12.9               72.0   \n",
       "3                 5.9                12.9               65.0   \n",
       "4                 6.1                12.9               70.0   \n",
       "\n",
       "   22106_유의파고(m)(t-19)  22106_최대파고(m)(t-19)  22106_파주기(sec)(t-19)  \\\n",
       "0                  2.0                  3.5                   6.4   \n",
       "1                  1.8                  2.7                   8.0   \n",
       "2                  2.1                  3.0                   7.1   \n",
       "3                  1.7                  3.0                   7.1   \n",
       "4                  2.0                  3.4                   8.0   \n",
       "\n",
       "   22106_파향(deg)(t-19)  22106_평균파고(m)(t-19)  22106_현지기압(hPa)(t-19)  \\\n",
       "0                319.0                  1.4                 1019.4   \n",
       "1                268.0                  1.3                 1020.0   \n",
       "2                306.0                  1.5                 1020.3   \n",
       "3                288.0                  1.2                 1020.2   \n",
       "4                302.0                  1.4                 1020.2   \n",
       "\n",
       "   swell(t-20)  \n",
       "0          0.0  \n",
       "1          0.0  \n",
       "2          0.0  \n",
       "3          0.0  \n",
       "4          0.0  \n",
       "\n",
       "[5 rows x 581 columns]"
      ]
     },
     "execution_count": 18,
     "metadata": {},
     "output_type": "execute_result"
    }
   ],
   "source": [
    "temp_df.head()"
   ]
  },
  {
   "cell_type": "code",
   "execution_count": 19,
   "metadata": {},
   "outputs": [
    {
     "name": "stdout",
     "output_type": "stream",
     "text": [
      "<class 'pandas.core.frame.DataFrame'>\n",
      "Int64Index: 34972 entries, 0 to 34971\n",
      "Columns: 581 entries, hour(t-0) to swell(t-20)\n",
      "dtypes: float64(580), int64(1)\n",
      "memory usage: 155.3 MB\n"
     ]
    }
   ],
   "source": [
    "temp_df.info()"
   ]
  },
  {
   "cell_type": "code",
   "execution_count": 20,
   "metadata": {
    "scrolled": true
   },
   "outputs": [
    {
     "name": "stdout",
     "output_type": "stream",
     "text": [
      "0\n",
      "1\n",
      "2\n",
      "3\n",
      "4\n",
      "5\n",
      "6\n",
      "7\n",
      "8\n",
      "9\n",
      "10\n",
      "11\n",
      "12\n",
      "13\n",
      "14\n",
      "15\n",
      "16\n",
      "17\n",
      "18\n",
      "19\n"
     ]
    }
   ],
   "source": [
    "for seq in range(in_seq):\n",
    "    print(seq)\n",
    "    temp_df['hour(t-%s)'%seq] = temp_df['hour(t-%s)'%seq].astype(int)\n",
    "    if seq == 0:\n",
    "        temp_df.set_index('hour(t-%s)'%seq,drop=False,inplace=True)\n",
    "    else:\n",
    "        temp_df.set_index('hour(t-%s)'%seq,drop=True,inplace=True)\n",
    "    temp_df.drop(test_list,inplace=True,errors='ignore')"
   ]
  },
  {
   "cell_type": "code",
   "execution_count": 21,
   "metadata": {},
   "outputs": [
    {
     "data": {
      "text/html": [
       "<div>\n",
       "<style>\n",
       "    .dataframe thead tr:only-child th {\n",
       "        text-align: right;\n",
       "    }\n",
       "\n",
       "    .dataframe thead th {\n",
       "        text-align: left;\n",
       "    }\n",
       "\n",
       "    .dataframe tbody tr th {\n",
       "        vertical-align: top;\n",
       "    }\n",
       "</style>\n",
       "<table border=\"1\" class=\"dataframe\">\n",
       "  <thead>\n",
       "    <tr style=\"text-align: right;\">\n",
       "      <th></th>\n",
       "      <th>swell(t-0)</th>\n",
       "      <th>21229_기온(°C)(t-0)</th>\n",
       "      <th>21229_수온(°C)(t-0)</th>\n",
       "      <th>21229_습도(%)(t-0)</th>\n",
       "      <th>21229_유의파고(m)(t-0)</th>\n",
       "      <th>21229_최대파고(m)(t-0)</th>\n",
       "      <th>21229_파주기(sec)(t-0)</th>\n",
       "      <th>21229_파향(deg)(t-0)</th>\n",
       "      <th>21229_평균파고(m)(t-0)</th>\n",
       "      <th>21229_현지기압(hPa)(t-0)</th>\n",
       "      <th>...</th>\n",
       "      <th>22106_기온(°C)(t-19)</th>\n",
       "      <th>22106_수온(°C)(t-19)</th>\n",
       "      <th>22106_습도(%)(t-19)</th>\n",
       "      <th>22106_유의파고(m)(t-19)</th>\n",
       "      <th>22106_최대파고(m)(t-19)</th>\n",
       "      <th>22106_파주기(sec)(t-19)</th>\n",
       "      <th>22106_파향(deg)(t-19)</th>\n",
       "      <th>22106_평균파고(m)(t-19)</th>\n",
       "      <th>22106_현지기압(hPa)(t-19)</th>\n",
       "      <th>swell(t-20)</th>\n",
       "    </tr>\n",
       "    <tr>\n",
       "      <th>hour(t-0)</th>\n",
       "      <th></th>\n",
       "      <th></th>\n",
       "      <th></th>\n",
       "      <th></th>\n",
       "      <th></th>\n",
       "      <th></th>\n",
       "      <th></th>\n",
       "      <th></th>\n",
       "      <th></th>\n",
       "      <th></th>\n",
       "      <th></th>\n",
       "      <th></th>\n",
       "      <th></th>\n",
       "      <th></th>\n",
       "      <th></th>\n",
       "      <th></th>\n",
       "      <th></th>\n",
       "      <th></th>\n",
       "      <th></th>\n",
       "      <th></th>\n",
       "      <th></th>\n",
       "    </tr>\n",
       "  </thead>\n",
       "  <tbody>\n",
       "    <tr>\n",
       "      <th>2014010407</th>\n",
       "      <td>0.0</td>\n",
       "      <td>3.6</td>\n",
       "      <td>13.5</td>\n",
       "      <td>72.0</td>\n",
       "      <td>2.1</td>\n",
       "      <td>3.8</td>\n",
       "      <td>5.8</td>\n",
       "      <td>126.0</td>\n",
       "      <td>1.5</td>\n",
       "      <td>1015.3</td>\n",
       "      <td>...</td>\n",
       "      <td>6.5</td>\n",
       "      <td>12.9</td>\n",
       "      <td>61.0</td>\n",
       "      <td>2.0</td>\n",
       "      <td>3.5</td>\n",
       "      <td>6.4</td>\n",
       "      <td>319.0</td>\n",
       "      <td>1.4</td>\n",
       "      <td>1019.4</td>\n",
       "      <td>0.0</td>\n",
       "    </tr>\n",
       "    <tr>\n",
       "      <th>2014010408</th>\n",
       "      <td>0.0</td>\n",
       "      <td>3.4</td>\n",
       "      <td>13.5</td>\n",
       "      <td>74.0</td>\n",
       "      <td>2.3</td>\n",
       "      <td>3.9</td>\n",
       "      <td>6.4</td>\n",
       "      <td>121.0</td>\n",
       "      <td>1.6</td>\n",
       "      <td>1016.5</td>\n",
       "      <td>...</td>\n",
       "      <td>6.1</td>\n",
       "      <td>12.9</td>\n",
       "      <td>67.0</td>\n",
       "      <td>1.8</td>\n",
       "      <td>2.7</td>\n",
       "      <td>8.0</td>\n",
       "      <td>268.0</td>\n",
       "      <td>1.3</td>\n",
       "      <td>1020.0</td>\n",
       "      <td>0.0</td>\n",
       "    </tr>\n",
       "    <tr>\n",
       "      <th>2014010409</th>\n",
       "      <td>0.0</td>\n",
       "      <td>2.8</td>\n",
       "      <td>13.5</td>\n",
       "      <td>70.0</td>\n",
       "      <td>2.4</td>\n",
       "      <td>4.0</td>\n",
       "      <td>8.0</td>\n",
       "      <td>111.0</td>\n",
       "      <td>1.7</td>\n",
       "      <td>1016.9</td>\n",
       "      <td>...</td>\n",
       "      <td>5.3</td>\n",
       "      <td>12.9</td>\n",
       "      <td>72.0</td>\n",
       "      <td>2.1</td>\n",
       "      <td>3.0</td>\n",
       "      <td>7.1</td>\n",
       "      <td>306.0</td>\n",
       "      <td>1.5</td>\n",
       "      <td>1020.3</td>\n",
       "      <td>0.0</td>\n",
       "    </tr>\n",
       "    <tr>\n",
       "      <th>2014010410</th>\n",
       "      <td>0.0</td>\n",
       "      <td>2.4</td>\n",
       "      <td>13.6</td>\n",
       "      <td>71.0</td>\n",
       "      <td>2.7</td>\n",
       "      <td>3.8</td>\n",
       "      <td>7.1</td>\n",
       "      <td>136.0</td>\n",
       "      <td>1.9</td>\n",
       "      <td>1017.1</td>\n",
       "      <td>...</td>\n",
       "      <td>5.9</td>\n",
       "      <td>12.9</td>\n",
       "      <td>65.0</td>\n",
       "      <td>1.7</td>\n",
       "      <td>3.0</td>\n",
       "      <td>7.1</td>\n",
       "      <td>288.0</td>\n",
       "      <td>1.2</td>\n",
       "      <td>1020.2</td>\n",
       "      <td>0.0</td>\n",
       "    </tr>\n",
       "    <tr>\n",
       "      <th>2014010411</th>\n",
       "      <td>0.0</td>\n",
       "      <td>2.5</td>\n",
       "      <td>13.5</td>\n",
       "      <td>71.0</td>\n",
       "      <td>2.5</td>\n",
       "      <td>3.5</td>\n",
       "      <td>6.4</td>\n",
       "      <td>142.0</td>\n",
       "      <td>1.7</td>\n",
       "      <td>1019.1</td>\n",
       "      <td>...</td>\n",
       "      <td>6.1</td>\n",
       "      <td>12.9</td>\n",
       "      <td>70.0</td>\n",
       "      <td>2.0</td>\n",
       "      <td>3.4</td>\n",
       "      <td>8.0</td>\n",
       "      <td>302.0</td>\n",
       "      <td>1.4</td>\n",
       "      <td>1020.2</td>\n",
       "      <td>0.0</td>\n",
       "    </tr>\n",
       "  </tbody>\n",
       "</table>\n",
       "<p>5 rows × 561 columns</p>\n",
       "</div>"
      ],
      "text/plain": [
       "            swell(t-0)  21229_기온(°C)(t-0)  21229_수온(°C)(t-0)  \\\n",
       "hour(t-0)                                                      \n",
       "2014010407         0.0                3.6               13.5   \n",
       "2014010408         0.0                3.4               13.5   \n",
       "2014010409         0.0                2.8               13.5   \n",
       "2014010410         0.0                2.4               13.6   \n",
       "2014010411         0.0                2.5               13.5   \n",
       "\n",
       "            21229_습도(%)(t-0)  21229_유의파고(m)(t-0)  21229_최대파고(m)(t-0)  \\\n",
       "hour(t-0)                                                              \n",
       "2014010407              72.0                 2.1                 3.8   \n",
       "2014010408              74.0                 2.3                 3.9   \n",
       "2014010409              70.0                 2.4                 4.0   \n",
       "2014010410              71.0                 2.7                 3.8   \n",
       "2014010411              71.0                 2.5                 3.5   \n",
       "\n",
       "            21229_파주기(sec)(t-0)  21229_파향(deg)(t-0)  21229_평균파고(m)(t-0)  \\\n",
       "hour(t-0)                                                                 \n",
       "2014010407                  5.8               126.0                 1.5   \n",
       "2014010408                  6.4               121.0                 1.6   \n",
       "2014010409                  8.0               111.0                 1.7   \n",
       "2014010410                  7.1               136.0                 1.9   \n",
       "2014010411                  6.4               142.0                 1.7   \n",
       "\n",
       "            21229_현지기압(hPa)(t-0)     ...       22106_기온(°C)(t-19)  \\\n",
       "hour(t-0)                            ...                            \n",
       "2014010407                1015.3     ...                      6.5   \n",
       "2014010408                1016.5     ...                      6.1   \n",
       "2014010409                1016.9     ...                      5.3   \n",
       "2014010410                1017.1     ...                      5.9   \n",
       "2014010411                1019.1     ...                      6.1   \n",
       "\n",
       "            22106_수온(°C)(t-19)  22106_습도(%)(t-19)  22106_유의파고(m)(t-19)  \\\n",
       "hour(t-0)                                                                \n",
       "2014010407                12.9               61.0                  2.0   \n",
       "2014010408                12.9               67.0                  1.8   \n",
       "2014010409                12.9               72.0                  2.1   \n",
       "2014010410                12.9               65.0                  1.7   \n",
       "2014010411                12.9               70.0                  2.0   \n",
       "\n",
       "            22106_최대파고(m)(t-19)  22106_파주기(sec)(t-19)  22106_파향(deg)(t-19)  \\\n",
       "hour(t-0)                                                                    \n",
       "2014010407                  3.5                   6.4                319.0   \n",
       "2014010408                  2.7                   8.0                268.0   \n",
       "2014010409                  3.0                   7.1                306.0   \n",
       "2014010410                  3.0                   7.1                288.0   \n",
       "2014010411                  3.4                   8.0                302.0   \n",
       "\n",
       "            22106_평균파고(m)(t-19)  22106_현지기압(hPa)(t-19)  swell(t-20)  \n",
       "hour(t-0)                                                            \n",
       "2014010407                  1.4                 1019.4          0.0  \n",
       "2014010408                  1.3                 1020.0          0.0  \n",
       "2014010409                  1.5                 1020.3          0.0  \n",
       "2014010410                  1.2                 1020.2          0.0  \n",
       "2014010411                  1.4                 1020.2          0.0  \n",
       "\n",
       "[5 rows x 561 columns]"
      ]
     },
     "execution_count": 21,
     "metadata": {},
     "output_type": "execute_result"
    }
   ],
   "source": [
    "temp_df.set_index('hour(t-0)',drop=True,inplace=True)\n",
    "temp_df.head()"
   ]
  },
  {
   "cell_type": "code",
   "execution_count": 22,
   "metadata": {},
   "outputs": [
    {
     "name": "stdout",
     "output_type": "stream",
     "text": [
      "<class 'pandas.core.frame.DataFrame'>\n",
      "Int64Index: 33897 entries, 2014010407 to 2017123110\n",
      "Columns: 561 entries, swell(t-0) to swell(t-20)\n",
      "dtypes: float64(561)\n",
      "memory usage: 145.3 MB\n"
     ]
    }
   ],
   "source": [
    "temp_df.info()"
   ]
  },
  {
   "cell_type": "code",
   "execution_count": 23,
   "metadata": {
    "collapsed": true
   },
   "outputs": [],
   "source": [
    "X = temp_df.drop(['swell(t-20)'],axis=1).values.reshape(-1,in_seq,len(features)-1)\n",
    "Y = temp_df['swell(t-20)'].values"
   ]
  },
  {
   "cell_type": "code",
   "execution_count": 24,
   "metadata": {},
   "outputs": [
    {
     "name": "stdout",
     "output_type": "stream",
     "text": [
      "(33897, 20, 28) (33897,)\n"
     ]
    }
   ],
   "source": [
    "print(X.shape, Y.shape)"
   ]
  },
  {
   "cell_type": "markdown",
   "metadata": {},
   "source": [
    "### lstm model"
   ]
  },
  {
   "cell_type": "code",
   "execution_count": 79,
   "metadata": {},
   "outputs": [],
   "source": [
    "from keras.layers import Input, LSTM, Dense, BatchNormalization\n",
    "from keras.models import Model"
   ]
  },
  {
   "cell_type": "code",
   "execution_count": 87,
   "metadata": {
    "collapsed": true
   },
   "outputs": [],
   "source": [
    "def baseline_model(shape, batch_size):\n",
    "    main_input = Input(shape=(shape[1], shape[2]),\n",
    "                       batch_shape=(batch_size, shape[1], shape[2]), name='main_input')\n",
    "\n",
    "    x = LSTM(128, return_sequences=True, stateful=True)(main_input)\n",
    "    x = LSTM(128, return_sequences=True, stateful=True)(x)\n",
    "    x = LSTM(128, return_sequences=True, stateful=True)(x)\n",
    "    x = LSTM(128, stateful=True)(x)\n",
    "\n",
    "    x = BatchNormalization()(x)\n",
    "    x = Dense(64, activation='relu')(x)\n",
    "    x = BatchNormalization()(x)\n",
    "    x = Dense(32, activation='relu')(x)\n",
    "    x = BatchNormalization()(x)\n",
    "    main_output = Dense(1, activation='sigmoid')(x)\n",
    "\n",
    "    model = Model(inputs=main_input, outputs=main_output)\n",
    "    model.compile(loss='binary_crossentropy', optimizer='sgd', metrics=['accuracy'])\n",
    "    model.summary()\n",
    "    return model"
   ]
  },
  {
   "cell_type": "code",
   "execution_count": 88,
   "metadata": {},
   "outputs": [
    {
     "name": "stdout",
     "output_type": "stream",
     "text": [
      "_________________________________________________________________\n",
      "Layer (type)                 Output Shape              Param #   \n",
      "=================================================================\n",
      "main_input (InputLayer)      (100, 20, 28)             0         \n",
      "_________________________________________________________________\n",
      "lstm_29 (LSTM)               (100, 20, 128)            80384     \n",
      "_________________________________________________________________\n",
      "lstm_30 (LSTM)               (100, 20, 128)            131584    \n",
      "_________________________________________________________________\n",
      "lstm_31 (LSTM)               (100, 20, 128)            131584    \n",
      "_________________________________________________________________\n",
      "lstm_32 (LSTM)               (100, 128)                131584    \n",
      "_________________________________________________________________\n",
      "batch_normalization_4 (Batch (100, 128)                512       \n",
      "_________________________________________________________________\n",
      "dense_22 (Dense)             (100, 64)                 8256      \n",
      "_________________________________________________________________\n",
      "batch_normalization_5 (Batch (100, 64)                 256       \n",
      "_________________________________________________________________\n",
      "dense_23 (Dense)             (100, 32)                 2080      \n",
      "_________________________________________________________________\n",
      "batch_normalization_6 (Batch (100, 32)                 128       \n",
      "_________________________________________________________________\n",
      "dense_24 (Dense)             (100, 1)                  33        \n",
      "=================================================================\n",
      "Total params: 486,401\n",
      "Trainable params: 485,953\n",
      "Non-trainable params: 448\n",
      "_________________________________________________________________\n"
     ]
    }
   ],
   "source": [
    "model = baseline_model((-1,20,28),batch_size=100)"
   ]
  },
  {
   "cell_type": "code",
   "execution_count": 89,
   "metadata": {},
   "outputs": [
    {
     "name": "stdout",
     "output_type": "stream",
     "text": [
      "Epoch 1/2\n",
      "30000/30000 [==============================] - 100s - loss: 0.4024 - acc: 0.8922   \n",
      "Epoch 2/2\n",
      "30000/30000 [==============================] - 96s - loss: 0.2801 - acc: 0.9231    \n"
     ]
    },
    {
     "data": {
      "text/plain": [
       "<keras.callbacks.History at 0x165d799b0>"
      ]
     },
     "execution_count": 89,
     "metadata": {},
     "output_type": "execute_result"
    }
   ],
   "source": [
    "model.fit(X[:30000],Y[:30000],batch_size=100,epochs=2)"
   ]
  },
  {
   "cell_type": "markdown",
   "metadata": {},
   "source": [
    "### evaluate"
   ]
  },
  {
   "cell_type": "code",
   "execution_count": 83,
   "metadata": {},
   "outputs": [
    {
     "name": "stdout",
     "output_type": "stream",
     "text": [
      "3800/3800 [==============================] - 4s     \n",
      "0.209566345929 0.952894736277\n"
     ]
    }
   ],
   "source": [
    "score, acc = model.evaluate(X[30000:33800],Y[30000:33800],batch_size=100)\n",
    "print(score, acc)"
   ]
  },
  {
   "cell_type": "code",
   "execution_count": 84,
   "metadata": {
    "scrolled": false
   },
   "outputs": [
    {
     "data": {
      "text/plain": [
       "0.016044    54\n",
       "0.016044    44\n",
       "0.016044    44\n",
       "0.016038    41\n",
       "0.016762    38\n",
       "0.015968    38\n",
       "0.017868    38\n",
       "0.016011    38\n",
       "0.016001    38\n",
       "0.016044    37\n",
       "0.016011    37\n",
       "0.016016    37\n",
       "0.016041    36\n",
       "0.016030    36\n",
       "0.015927    36\n",
       "0.015906    34\n",
       "0.015946    34\n",
       "0.017820    34\n",
       "0.016043    33\n",
       "0.015953    33\n",
       "0.017692    33\n",
       "0.018080    33\n",
       "0.016044    32\n",
       "0.015977    32\n",
       "0.016008    31\n",
       "0.015936    30\n",
       "0.016537    30\n",
       "0.018161    28\n",
       "0.016044    28\n",
       "0.016044    28\n",
       "            ..\n",
       "0.018100     1\n",
       "0.017001     1\n",
       "0.018100     1\n",
       "0.018126     1\n",
       "0.017692     1\n",
       "0.016042     1\n",
       "0.016007     1\n",
       "0.018064     1\n",
       "0.015906     1\n",
       "0.016038     1\n",
       "0.016044     1\n",
       "0.018007     1\n",
       "0.018126     1\n",
       "0.016043     1\n",
       "0.016024     1\n",
       "0.016036     1\n",
       "0.016690     1\n",
       "0.016038     1\n",
       "0.016007     1\n",
       "0.018064     1\n",
       "0.015977     1\n",
       "0.016004     1\n",
       "0.016689     1\n",
       "0.015961     1\n",
       "0.016040     1\n",
       "0.016040     1\n",
       "0.016042     1\n",
       "0.016044     1\n",
       "0.015906     1\n",
       "0.016044     1\n",
       "Length: 530, dtype: int64"
      ]
     },
     "execution_count": 84,
     "metadata": {},
     "output_type": "execute_result"
    }
   ],
   "source": [
    "pred = model.predict(X[30000:33800],batch_size=100)\n",
    "pd.Series(pred.reshape(-1,)).value_counts()"
   ]
  },
  {
   "cell_type": "code",
   "execution_count": 78,
   "metadata": {},
   "outputs": [
    {
     "data": {
      "text/plain": [
       "0.95289473684210524"
      ]
     },
     "execution_count": 78,
     "metadata": {},
     "output_type": "execute_result"
    }
   ],
   "source": [
    "np.sum([0]*3800 == Y[30000:33800]) / 3800"
   ]
  },
  {
   "cell_type": "code",
   "execution_count": 67,
   "metadata": {},
   "outputs": [
    {
     "data": {
      "text/plain": [
       "0.0    27692\n",
       "1.0     2308\n",
       "dtype: int64"
      ]
     },
     "execution_count": 67,
     "metadata": {},
     "output_type": "execute_result"
    }
   ],
   "source": [
    "pd.Series(Y[:30000]).value_counts()"
   ]
  },
  {
   "cell_type": "code",
   "execution_count": 71,
   "metadata": {},
   "outputs": [
    {
     "data": {
      "text/plain": [
       "0.9230666666666667"
      ]
     },
     "execution_count": 71,
     "metadata": {},
     "output_type": "execute_result"
    }
   ],
   "source": [
    "np.sum([0]*30000 == Y[:30000]) / 30000"
   ]
  }
 ],
 "metadata": {
  "kernelspec": {
   "display_name": "Python 3",
   "language": "python",
   "name": "python3"
  },
  "language_info": {
   "codemirror_mode": {
    "name": "ipython",
    "version": 3
   },
   "file_extension": ".py",
   "mimetype": "text/x-python",
   "name": "python",
   "nbconvert_exporter": "python",
   "pygments_lexer": "ipython3",
   "version": "3.6.1"
  }
 },
 "nbformat": 4,
 "nbformat_minor": 2
}
