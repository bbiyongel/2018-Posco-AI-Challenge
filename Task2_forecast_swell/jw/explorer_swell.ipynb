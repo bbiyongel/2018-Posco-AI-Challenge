{
 "cells": [
  {
   "cell_type": "code",
   "execution_count": 1,
   "metadata": {
    "collapsed": true
   },
   "outputs": [],
   "source": [
    "import pandas as pd\n",
    "import numpy as np\n",
    "from datetime import date, timedelta, datetime\n",
    "from sklearn.preprocessing import MinMaxScaler\n",
    "from sklearn.model_selection import cross_val_score\n",
    "from sklearn.svm import LinearSVC\n",
    "from sklearn.metrics import log_loss, accuracy_score\n",
    "from sklearn.linear_model import LogisticRegression\n",
    "import matplotlib.pyplot as plt\n",
    "%matplotlib inline\n",
    "\n",
    "plt.rcParams[\"figure.figsize\"] = (20,3)"
   ]
  },
  {
   "cell_type": "markdown",
   "metadata": {},
   "source": [
    "### 지점정보\n",
    "1. 22453: 구룡포\n",
    "2. 22490: 월포\n",
    "---\n",
    "3. 21229: 울릉도\n",
    "4. 22105: 동해\n",
    "5. 22106: 포항 앞바다\n",
    "6. 22190: 울진\n",
    "7. 22189: 울산"
   ]
  },
  {
   "cell_type": "code",
   "execution_count": 2,
   "metadata": {
    "scrolled": true
   },
   "outputs": [
    {
     "name": "stdout",
     "output_type": "stream",
     "text": [
      "<class 'pandas.core.frame.DataFrame'>\n",
      "Int64Index: 34992 entries, 0 to 34991\n",
      "Data columns (total 90 columns):\n",
      "hour                     34992 non-null object\n",
      "climate                  34992 non-null object\n",
      "weather_deterioration    34992 non-null int64\n",
      "swell                    34392 non-null float64\n",
      "22453_일시                 33979 non-null float64\n",
      "22453_수온(°C)             33082 non-null float64\n",
      "22453_최대파고(m)            33632 non-null float64\n",
      "22453_유의파고(m)            33632 non-null float64\n",
      "22453_평균파고(m)            33632 non-null float64\n",
      "22453_파주기(sec)           33634 non-null float64\n",
      "22490_일시                 19639 non-null float64\n",
      "22490_수온(°C)             19464 non-null float64\n",
      "22490_최대파고(m)            19224 non-null float64\n",
      "22490_유의파고(m)            19224 non-null float64\n",
      "22490_평균파고(m)            19224 non-null float64\n",
      "22490_파주기(sec)           19562 non-null float64\n",
      "21229_GUST풍속 1(m/s)      8637 non-null float64\n",
      "21229_GUST풍속(m/s)        26091 non-null float64\n",
      "21229_기온(°C)             33915 non-null float64\n",
      "21229_수온(°C)             34629 non-null float64\n",
      "21229_습도(%)              33939 non-null float64\n",
      "21229_유의파고(m)            34700 non-null float64\n",
      "21229_일시                 34817 non-null float64\n",
      "21229_최대파고(m)            34788 non-null float64\n",
      "21229_파주기(sec)           34800 non-null float64\n",
      "21229_파향(deg)            34808 non-null float64\n",
      "21229_평균파고(m)            34606 non-null float64\n",
      "21229_풍속(m/s)            26122 non-null float64\n",
      "21229_풍속1(m/s)           8638 non-null float64\n",
      "21229_풍향(deg)            26121 non-null float64\n",
      "21229_풍향1(deg)           8639 non-null float64\n",
      "21229_현지기압(hPa)          33945 non-null float64\n",
      "22105_GUST풍속 1(m/s)      7978 non-null float64\n",
      "22105_GUST풍속(m/s)        25301 non-null float64\n",
      "22105_기온(°C)             33792 non-null float64\n",
      "22105_수온(°C)             33912 non-null float64\n",
      "22105_습도(%)              34071 non-null float64\n",
      "22105_유의파고(m)            34028 non-null float64\n",
      "22105_일시                 34088 non-null float64\n",
      "22105_최대파고(m)            34070 non-null float64\n",
      "22105_파주기(sec)           34038 non-null float64\n",
      "22105_파향(deg)            34069 non-null float64\n",
      "22105_평균파고(m)            33912 non-null float64\n",
      "22105_풍속(m/s)            25304 non-null float64\n",
      "22105_풍속1(m/s)           7981 non-null float64\n",
      "22105_풍향(deg)            25293 non-null float64\n",
      "22105_풍향1(deg)           7981 non-null float64\n",
      "22105_현지기압(hPa)          33191 non-null float64\n",
      "22106_GUST풍속 1(m/s)      7685 non-null float64\n",
      "22106_GUST풍속(m/s)        25453 non-null float64\n",
      "22106_기온(°C)             34124 non-null float64\n",
      "22106_수온(°C)             34436 non-null float64\n",
      "22106_습도(%)              33797 non-null float64\n",
      "22106_유의파고(m)            34381 non-null float64\n",
      "22106_일시                 34475 non-null float64\n",
      "22106_최대파고(m)            34467 non-null float64\n",
      "22106_파주기(sec)           34407 non-null float64\n",
      "22106_파향(deg)            34444 non-null float64\n",
      "22106_평균파고(m)            34290 non-null float64\n",
      "22106_풍속(m/s)            25376 non-null float64\n",
      "22106_풍속1(m/s)           7685 non-null float64\n",
      "22106_풍향(deg)            25379 non-null float64\n",
      "22106_풍향1(deg)           7845 non-null float64\n",
      "22106_현지기압(hPa)          34290 non-null float64\n",
      "22190_일시                 18029 non-null float64\n",
      "22190_풍속(m/s)            17951 non-null float64\n",
      "22190_풍향(deg)            17951 non-null float64\n",
      "22190_GUST풍속(m/s)        17945 non-null float64\n",
      "22190_현지기압(hPa)          18001 non-null float64\n",
      "22190_습도(%)              17955 non-null float64\n",
      "22190_기온(°C)             17875 non-null float64\n",
      "22190_수온(°C)             18021 non-null float64\n",
      "22190_최대파고(m)            17994 non-null float64\n",
      "22190_유의파고(m)            17972 non-null float64\n",
      "22190_평균파고(m)            17916 non-null float64\n",
      "22190_파주기(sec)           18017 non-null float64\n",
      "22190_파향(deg)            18020 non-null float64\n",
      "22189_일시                 17218 non-null float64\n",
      "22189_풍속(m/s)            17208 non-null float64\n",
      "22189_풍향(deg)            17208 non-null float64\n",
      "22189_GUST풍속(m/s)        17206 non-null float64\n",
      "22189_현지기압(hPa)          17201 non-null float64\n",
      "22189_습도(%)              16998 non-null float64\n",
      "22189_기온(°C)             17196 non-null float64\n",
      "22189_수온(°C)             17193 non-null float64\n",
      "22189_최대파고(m)            17058 non-null float64\n",
      "22189_유의파고(m)            17070 non-null float64\n",
      "22189_평균파고(m)            17000 non-null float64\n",
      "22189_파주기(sec)           17103 non-null float64\n",
      "22189_파향(deg)            17110 non-null float64\n",
      "dtypes: float64(87), int64(1), object(2)\n",
      "memory usage: 24.3+ MB\n"
     ]
    }
   ],
   "source": [
    "df = pd.read_csv('./all_merged_info_data.tsv',sep='\\t',index_col='Unnamed: 0')\n",
    "df['hour'] = df['hour'].astype(str)\n",
    "df.info()"
   ]
  },
  {
   "cell_type": "code",
   "execution_count": 3,
   "metadata": {
    "collapsed": true
   },
   "outputs": [],
   "source": [
    "df.set_index('hour',inplace=True)"
   ]
  },
  {
   "cell_type": "code",
   "execution_count": 4,
   "metadata": {
    "collapsed": true
   },
   "outputs": [],
   "source": [
    "st = 24 * 30"
   ]
  },
  {
   "cell_type": "markdown",
   "metadata": {
    "collapsed": true
   },
   "source": [
    "### shift하여 row에 시간정보를 포함시킨다"
   ]
  },
  {
   "cell_type": "code",
   "execution_count": 5,
   "metadata": {
    "collapsed": true
   },
   "outputs": [],
   "source": [
    "def check_isin(col_name):\n",
    "    for name in expr_features:\n",
    "        if name in col_name:\n",
    "            return True\n",
    "    return False"
   ]
  },
  {
   "cell_type": "code",
   "execution_count": 8,
   "metadata": {
    "collapsed": true
   },
   "outputs": [],
   "source": [
    " expr_features = ['파고','파주기']"
   ]
  },
  {
   "cell_type": "code",
   "execution_count": 10,
   "metadata": {
    "scrolled": false
   },
   "outputs": [
    {
     "data": {
      "text/plain": [
       "['22453_최대파고(m)',\n",
       " '22453_유의파고(m)',\n",
       " '22453_평균파고(m)',\n",
       " '22453_파주기(sec)',\n",
       " '22490_최대파고(m)',\n",
       " '22490_유의파고(m)',\n",
       " '22490_평균파고(m)',\n",
       " '22490_파주기(sec)',\n",
       " '21229_유의파고(m)',\n",
       " '21229_최대파고(m)',\n",
       " '21229_파주기(sec)',\n",
       " '21229_평균파고(m)',\n",
       " '22105_유의파고(m)',\n",
       " '22105_최대파고(m)',\n",
       " '22105_파주기(sec)',\n",
       " '22105_평균파고(m)',\n",
       " '22106_유의파고(m)',\n",
       " '22106_최대파고(m)',\n",
       " '22106_파주기(sec)',\n",
       " '22106_평균파고(m)',\n",
       " '22190_최대파고(m)',\n",
       " '22190_유의파고(m)',\n",
       " '22190_평균파고(m)',\n",
       " '22190_파주기(sec)',\n",
       " '22189_최대파고(m)',\n",
       " '22189_유의파고(m)',\n",
       " '22189_평균파고(m)',\n",
       " '22189_파주기(sec)']"
      ]
     },
     "execution_count": 10,
     "metadata": {},
     "output_type": "execute_result"
    }
   ],
   "source": [
    "shift_features = [col for col in df.columns if check_isin(col)]\n",
    "shift_features"
   ]
  },
  {
   "cell_type": "code",
   "execution_count": 43,
   "metadata": {
    "collapsed": true
   },
   "outputs": [],
   "source": [
    "inseq=6\n",
    "temp_cols = []\n",
    "temp_names = []\n",
    "for i in range(1,inseq):\n",
    "    temp_cols.append(df[shift_features].shift(-i))\n",
    "    temp_names += [features_name+'(t-{})'.format(i) for features_name in shift_features]"
   ]
  },
  {
   "cell_type": "code",
   "execution_count": 44,
   "metadata": {},
   "outputs": [],
   "source": [
    "temp_df = pd.concat(temp_cols,axis=1)\n",
    "temp_df.columns = temp_names"
   ]
  },
  {
   "cell_type": "code",
   "execution_count": 59,
   "metadata": {
    "scrolled": true
   },
   "outputs": [
    {
     "data": {
      "text/plain": [
       "['22453_평균파고(m)(t-1)',\n",
       " '22490_평균파고(m)(t-1)',\n",
       " '21229_평균파고(m)(t-1)',\n",
       " '22105_평균파고(m)(t-1)',\n",
       " '22106_평균파고(m)(t-1)',\n",
       " '22190_평균파고(m)(t-1)',\n",
       " '22189_평균파고(m)(t-1)',\n",
       " '22453_평균파고(m)(t-2)',\n",
       " '22490_평균파고(m)(t-2)',\n",
       " '21229_평균파고(m)(t-2)',\n",
       " '22105_평균파고(m)(t-2)',\n",
       " '22106_평균파고(m)(t-2)',\n",
       " '22190_평균파고(m)(t-2)',\n",
       " '22189_평균파고(m)(t-2)',\n",
       " '22453_평균파고(m)(t-3)',\n",
       " '22490_평균파고(m)(t-3)',\n",
       " '21229_평균파고(m)(t-3)',\n",
       " '22105_평균파고(m)(t-3)',\n",
       " '22106_평균파고(m)(t-3)',\n",
       " '22190_평균파고(m)(t-3)',\n",
       " '22189_평균파고(m)(t-3)',\n",
       " '22453_평균파고(m)(t-4)',\n",
       " '22490_평균파고(m)(t-4)',\n",
       " '21229_평균파고(m)(t-4)',\n",
       " '22105_평균파고(m)(t-4)',\n",
       " '22106_평균파고(m)(t-4)',\n",
       " '22190_평균파고(m)(t-4)',\n",
       " '22189_평균파고(m)(t-4)',\n",
       " '22453_평균파고(m)(t-5)',\n",
       " '22490_평균파고(m)(t-5)',\n",
       " '21229_평균파고(m)(t-5)',\n",
       " '22105_평균파고(m)(t-5)',\n",
       " '22106_평균파고(m)(t-5)',\n",
       " '22190_평균파고(m)(t-5)',\n",
       " '22189_평균파고(m)(t-5)']"
      ]
     },
     "execution_count": 59,
     "metadata": {},
     "output_type": "execute_result"
    }
   ],
   "source": [
    "re_cols = [col for col in temp_df.columns if '평균파고' in col]\n",
    "re_cols "
   ]
  },
  {
   "cell_type": "code",
   "execution_count": 77,
   "metadata": {
    "collapsed": true
   },
   "outputs": [],
   "source": [
    "pos_cols = [col for col in re_cols if '22106' in col]"
   ]
  },
  {
   "cell_type": "code",
   "execution_count": 78,
   "metadata": {
    "scrolled": true
   },
   "outputs": [
    {
     "data": {
      "text/plain": [
       "22106_평균파고(m)(t-1)    0.816898\n",
       "22106_평균파고(m)(t-2)    0.810810\n",
       "22106_평균파고(m)(t-3)    0.800124\n",
       "22106_평균파고(m)(t-4)    0.785060\n",
       "22106_평균파고(m)(t-5)    0.767104\n",
       "Name: 22453_평균파고(m)(t-1), dtype: float64"
      ]
     },
     "execution_count": 78,
     "metadata": {},
     "output_type": "execute_result"
    }
   ],
   "source": [
    "temp_df[re_cols].corr()['22453_평균파고(m)(t-1)'][pos_cols].sort_values(ascending=False)"
   ]
  },
  {
   "cell_type": "code",
   "execution_count": null,
   "metadata": {
    "collapsed": true
   },
   "outputs": [],
   "source": []
  }
 ],
 "metadata": {
  "kernelspec": {
   "display_name": "Python 3",
   "language": "python",
   "name": "python3"
  },
  "language_info": {
   "codemirror_mode": {
    "name": "ipython",
    "version": 3
   },
   "file_extension": ".py",
   "mimetype": "text/x-python",
   "name": "python",
   "nbconvert_exporter": "python",
   "pygments_lexer": "ipython3",
   "version": "3.6.1"
  }
 },
 "nbformat": 4,
 "nbformat_minor": 2
}
