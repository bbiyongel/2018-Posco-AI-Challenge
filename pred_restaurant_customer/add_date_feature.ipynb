{
 "cells": [
  {
   "cell_type": "code",
   "execution_count": 1,
   "metadata": {
    "collapsed": true
   },
   "outputs": [],
   "source": [
    "import pandas as pd\n",
    "import numpy as np\n",
    "import math\n",
    "import matplotlib.pyplot as plt\n",
    "from datetime import datetime\n",
    "%matplotlib inline\n",
    "\n",
    "plt.rcParams[\"figure.figsize\"] = (20,3)"
   ]
  },
  {
   "cell_type": "code",
   "execution_count": 2,
   "metadata": {
    "collapsed": true
   },
   "outputs": [],
   "source": [
    "fig_size = plt.rcParams[\"figure.figsize\"]"
   ]
  },
  {
   "cell_type": "code",
   "execution_count": 3,
   "metadata": {},
   "outputs": [
    {
     "data": {
      "text/plain": [
       "[20.0, 3.0]"
      ]
     },
     "execution_count": 3,
     "metadata": {},
     "output_type": "execute_result"
    }
   ],
   "source": [
    "fig_size"
   ]
  },
  {
   "cell_type": "code",
   "execution_count": 4,
   "metadata": {
    "collapsed": true
   },
   "outputs": [],
   "source": [
    "from sklearn.model_selection import train_test_split\n",
    "from sklearn.metrics import explained_variance_score"
   ]
  },
  {
   "cell_type": "code",
   "execution_count": 5,
   "metadata": {},
   "outputs": [
    {
     "name": "stdout",
     "output_type": "stream",
     "text": [
      "<class 'pandas.core.frame.DataFrame'>\n",
      "RangeIndex: 20010 entries, 0 to 20009\n",
      "Data columns (total 5 columns):\n",
      "일자      20010 non-null int64\n",
      "time    20010 non-null object\n",
      "식사내용    20010 non-null object\n",
      "매출일자    20010 non-null float64\n",
      "수량      20010 non-null float64\n",
      "dtypes: float64(2), int64(1), object(2)\n",
      "memory usage: 781.7+ KB\n"
     ]
    }
   ],
   "source": [
    "train_df = pd.read_csv('./train_data.tsv',sep='\\t')\n",
    "train_df.info()"
   ]
  },
  {
   "cell_type": "code",
   "execution_count": 6,
   "metadata": {
    "collapsed": true,
    "scrolled": true
   },
   "outputs": [],
   "source": [
    "time_dummy = pd.get_dummies(train_df['time'])"
   ]
  },
  {
   "cell_type": "code",
   "execution_count": 7,
   "metadata": {
    "collapsed": true
   },
   "outputs": [],
   "source": [
    "train_df = pd.concat([train_df, time_dummy],axis=1)"
   ]
  },
  {
   "cell_type": "code",
   "execution_count": 8,
   "metadata": {
    "scrolled": true
   },
   "outputs": [
    {
     "name": "stdout",
     "output_type": "stream",
     "text": [
      "[   0.           51.42857143  102.85714286  154.28571429  205.71428571\n",
      "  257.14285714  308.57142857]\n",
      "[ 0.          0.78183148  0.97492791  0.43388374 -0.43388374 -0.97492791\n",
      " -0.78183148]\n",
      "[ 1.          0.6234898  -0.22252093 -0.90096887 -0.90096887 -0.22252093\n",
      "  0.6234898 ]\n",
      "[   0.   30.   60.   90.  120.  150.  180.  210.  240.  270.  300.  330.]\n",
      "[  0.00000000e+00   5.00000000e-01   8.66025404e-01   1.00000000e+00\n",
      "   8.66025404e-01   5.00000000e-01   1.22464680e-16  -5.00000000e-01\n",
      "  -8.66025404e-01  -1.00000000e+00  -8.66025404e-01  -5.00000000e-01]\n",
      "[  1.00000000e+00   8.66025404e-01   5.00000000e-01   6.12323400e-17\n",
      "  -5.00000000e-01  -8.66025404e-01  -1.00000000e+00  -8.66025404e-01\n",
      "  -5.00000000e-01  -1.83697020e-16   5.00000000e-01   8.66025404e-01]\n",
      "[   0.           11.61290323   23.22580645   34.83870968   46.4516129\n",
      "   58.06451613   69.67741935   81.29032258   92.90322581  104.51612903\n",
      "  116.12903226  127.74193548  139.35483871  150.96774194  162.58064516\n",
      "  174.19354839  185.80645161  197.41935484  209.03225806  220.64516129\n",
      "  232.25806452  243.87096774  255.48387097  267.09677419  278.70967742\n",
      "  290.32258065  301.93548387  313.5483871   325.16129032  336.77419355\n",
      "  348.38709677]\n",
      "[ 0.          0.20129852  0.39435586  0.57126822  0.72479279  0.84864426\n",
      "  0.93775213  0.98846832  0.99871651  0.96807712  0.89780454  0.79077574\n",
      "  0.65137248  0.48530196  0.29936312  0.10116832 -0.10116832 -0.29936312\n",
      " -0.48530196 -0.65137248 -0.79077574 -0.89780454 -0.96807712 -0.99871651\n",
      " -0.98846832 -0.93775213 -0.84864426 -0.72479279 -0.57126822 -0.39435586\n",
      " -0.20129852]\n",
      "[ 1.          0.97952994  0.91895781  0.82076344  0.68896692  0.52896401\n",
      "  0.34730525  0.15142778 -0.05064917 -0.25065253 -0.44039415 -0.61210598\n",
      " -0.75875812 -0.87434662 -0.95413926 -0.99486932 -0.99486932 -0.95413926\n",
      " -0.87434662 -0.75875812 -0.61210598 -0.44039415 -0.25065253 -0.05064917\n",
      "  0.15142778  0.34730525  0.52896401  0.68896692  0.82076344  0.91895781\n",
      "  0.97952994]\n"
     ]
    }
   ],
   "source": [
    "num_values = 7\n",
    "degrees_week = np.linspace(0, 360, num_values + 1)[:-1]\n",
    "print(degrees_week)\n",
    "sin_week = np.sin(np.deg2rad(degrees_week))\n",
    "print(sin_week)\n",
    "cos_week = np.cos(np.deg2rad(degrees_week))\n",
    "print(cos_week)\n",
    "\n",
    "num_values = 12\n",
    "degrees_month = np.linspace(0, 360, num_values + 1)[:-1]\n",
    "print(degrees_month)\n",
    "sin_month = np.sin(np.deg2rad(degrees_month))\n",
    "print(sin_month)\n",
    "cos_month = np.cos(np.deg2rad(degrees_month))\n",
    "print(cos_month)\n",
    "\n",
    "num_values = 31\n",
    "degrees_day = np.linspace(0, 360, num_values + 1)[:-1]\n",
    "print(degrees_day)\n",
    "sin_day = np.sin(np.deg2rad(degrees_day))\n",
    "print(sin_day)\n",
    "cos_day = np.cos(np.deg2rad(degrees_day))\n",
    "print(cos_day)"
   ]
  },
  {
   "cell_type": "code",
   "execution_count": 9,
   "metadata": {
    "collapsed": true
   },
   "outputs": [],
   "source": [
    "def make_coord(date,num_class):\n",
    "    # 1 ~ 12, 1 ~ 7, 1 ~ 31\n",
    "    degrees = np.linspace(0,360,num_values + 1)[:-1]\n",
    "    sin = np.sin(np.deg2rad(degrees))\n",
    "    cos = np.cos(np.deg2rad(degrees))\n",
    "    return sin, cos\n",
    "\n",
    "\n",
    "def date2coord(date, sin, cos):\n",
    "    return cos[date-1], sin[date-1]\n",
    "\n",
    "\n",
    "def date2week(x):\n",
    "    y = int(str(x)[:4])\n",
    "    m = int(str(x)[4:6])\n",
    "    d = int(str(x)[6:])\n",
    "    day = datetime(y, m, d)\n",
    "    return day.weekday()"
   ]
  },
  {
   "cell_type": "code",
   "execution_count": 10,
   "metadata": {
    "collapsed": true
   },
   "outputs": [],
   "source": [
    "train_df['month'] = train_df['일자'].apply(lambda x:int(str(x)[4:6]))\n",
    "train_df['day'] = train_df['일자'].apply(lambda x:int(str(x)[6:]))\n",
    "train_df['week'] = train_df['일자'].apply(date2week)\n",
    "train_df['week'] = train_df['week'] + 1 \n",
    "train_df['year'] = train_df['일자'].apply(lambda x:int(str(x)[:4]))"
   ]
  },
  {
   "cell_type": "code",
   "execution_count": 11,
   "metadata": {
    "collapsed": true
   },
   "outputs": [],
   "source": [
    "train_df['day_coord'] = train_df['day'].apply(date2coord, args=(sin_day, cos_day,))\n",
    "train_df['month_coord'] = train_df['month'].apply(date2coord, args=(sin_month, cos_month))\n",
    "train_df['week_coord'] = train_df['week'].apply(date2coord, args=(sin_week, cos_week,))"
   ]
  },
  {
   "cell_type": "code",
   "execution_count": 12,
   "metadata": {
    "collapsed": true
   },
   "outputs": [],
   "source": [
    "x_list = []"
   ]
  },
  {
   "cell_type": "code",
   "execution_count": 13,
   "metadata": {},
   "outputs": [],
   "source": [
    "X_arr = pd.get_dummies(train_df['year']).values\n",
    "x_list.append(X_arr)"
   ]
  },
  {
   "cell_type": "code",
   "execution_count": 14,
   "metadata": {
    "collapsed": true
   },
   "outputs": [],
   "source": [
    "X_arr = np.array(train_df['day_coord'].apply(lambda x:np.array(x)).tolist())\n",
    "x_list.append(X_arr)"
   ]
  },
  {
   "cell_type": "code",
   "execution_count": 15,
   "metadata": {
    "collapsed": true
   },
   "outputs": [],
   "source": [
    "X_arr = np.array(train_df['month_coord'].apply(lambda x:np.array(x)).tolist())\n",
    "x_list.append(X_arr)"
   ]
  },
  {
   "cell_type": "code",
   "execution_count": 16,
   "metadata": {
    "collapsed": true
   },
   "outputs": [],
   "source": [
    "X_arr = np.array(train_df['week_coord'].apply(lambda x:np.array(x)).tolist())\n",
    "x_list.append(X_arr)"
   ]
  },
  {
   "cell_type": "code",
   "execution_count": 17,
   "metadata": {
    "collapsed": true
   },
   "outputs": [],
   "source": [
    "X_arr = train_df['아침'].values.reshape(-1,1)\n",
    "x_list.append(X_arr)\n",
    "X_arr = train_df['점심'].values.reshape(-1,1)\n",
    "x_list.append(X_arr)\n",
    "X_arr = train_df['점심2'].values.reshape(-1,1)\n",
    "x_list.append(X_arr)\n",
    "X_arr = train_df['저녁'].values.reshape(-1,1)\n",
    "x_list.append(X_arr)"
   ]
  },
  {
   "cell_type": "code",
   "execution_count": 18,
   "metadata": {},
   "outputs": [
    {
     "data": {
      "text/plain": [
       "(20010, 1)"
      ]
     },
     "execution_count": 18,
     "metadata": {},
     "output_type": "execute_result"
    }
   ],
   "source": [
    "X_arr.shape"
   ]
  },
  {
   "cell_type": "code",
   "execution_count": 19,
   "metadata": {
    "collapsed": true
   },
   "outputs": [],
   "source": [
    "from konlpy.tag import Twitter\n",
    "twitter = Twitter()"
   ]
  },
  {
   "cell_type": "code",
   "execution_count": 20,
   "metadata": {
    "collapsed": true
   },
   "outputs": [],
   "source": [
    "doc_list = train_df['식사내용'].apply(lambda x: ' '.join(x[:-1].split(','))).tolist()"
   ]
  },
  {
   "cell_type": "code",
   "execution_count": 21,
   "metadata": {
    "collapsed": true
   },
   "outputs": [],
   "source": [
    "#doc_list = train_df['식사내용'].apply(lambda x: ' '.join(twitter.morphs(' '.join(x[:-1].split(','))))).tolist()"
   ]
  },
  {
   "cell_type": "code",
   "execution_count": 22,
   "metadata": {},
   "outputs": [
    {
     "data": {
      "text/plain": [
       "'과일샐러드 닭죽 돈육마늘장조림 떡만두국 부추김무침 쌀밥 딸기잼(중) 비엔나구이 스크램블에그(경양식) 야채샐러드 크림스프(경양식) 토스트&모닝빵'"
      ]
     },
     "execution_count": 22,
     "metadata": {},
     "output_type": "execute_result"
    }
   ],
   "source": [
    "doc_list[0]"
   ]
  },
  {
   "cell_type": "code",
   "execution_count": 23,
   "metadata": {
    "collapsed": true
   },
   "outputs": [],
   "source": [
    "from sklearn.feature_extraction.text import TfidfVectorizer\n",
    "vectorizer = TfidfVectorizer(max_features=2000,ngram_range=range(1,3))"
   ]
  },
  {
   "cell_type": "code",
   "execution_count": 24,
   "metadata": {},
   "outputs": [
    {
     "name": "stdout",
     "output_type": "stream",
     "text": [
      "(20010, 2000)\n"
     ]
    }
   ],
   "source": [
    "X_food = vectorizer.fit_transform(doc_list)\n",
    "\n",
    "print(X_food.shape)"
   ]
  },
  {
   "cell_type": "code",
   "execution_count": 25,
   "metadata": {
    "collapsed": true
   },
   "outputs": [],
   "source": [
    "from sklearn.decomposition import TruncatedSVD\n",
    "from sklearn.preprocessing import Normalizer\n",
    "from sklearn.pipeline import make_pipeline"
   ]
  },
  {
   "cell_type": "code",
   "execution_count": 26,
   "metadata": {
    "collapsed": true
   },
   "outputs": [],
   "source": [
    "svd = TruncatedSVD(n_components=1000)\n",
    "normalizer = Normalizer(copy=False)\n",
    "lsa = make_pipeline(svd,normalizer)"
   ]
  },
  {
   "cell_type": "code",
   "execution_count": 27,
   "metadata": {
    "collapsed": true
   },
   "outputs": [],
   "source": [
    "X_lsa = lsa.fit_transform(X_food)\n",
    "exp_var = svd.explained_variance_ratio_.sum()\n",
    "print(X_lsa.shape, exp_var)"
   ]
  },
  {
   "cell_type": "code",
   "execution_count": 29,
   "metadata": {},
   "outputs": [
    {
     "name": "stdout",
     "output_type": "stream",
     "text": [
      "(20010, 25) (20010, 1)\n"
     ]
    }
   ],
   "source": [
    "X_coord = np.concatenate(x_list,axis=1)\n",
    "y = train_df['수량'].values.reshape(-1,1)\n",
    "print(X_coord.shape, y.shape)"
   ]
  },
  {
   "cell_type": "code",
   "execution_count": 30,
   "metadata": {
    "collapsed": true
   },
   "outputs": [],
   "source": [
    "from scipy import sparse"
   ]
  },
  {
   "cell_type": "code",
   "execution_count": 31,
   "metadata": {},
   "outputs": [
    {
     "data": {
      "text/plain": [
       "(20010, 2000)"
      ]
     },
     "execution_count": 31,
     "metadata": {},
     "output_type": "execute_result"
    }
   ],
   "source": [
    "X_food.shape"
   ]
  },
  {
   "cell_type": "code",
   "execution_count": 32,
   "metadata": {
    "collapsed": true
   },
   "outputs": [],
   "source": [
    "X = np.concatenate([X_lsa, X_coord],axis=1)"
   ]
  },
  {
   "cell_type": "code",
   "execution_count": 33,
   "metadata": {
    "collapsed": true,
    "scrolled": true
   },
   "outputs": [],
   "source": [
    "#X = sparse.hstack((X_lsa,X_coord))"
   ]
  },
  {
   "cell_type": "code",
   "execution_count": 34,
   "metadata": {},
   "outputs": [
    {
     "data": {
      "text/plain": [
       "(20010, 1025)"
      ]
     },
     "execution_count": 34,
     "metadata": {},
     "output_type": "execute_result"
    }
   ],
   "source": [
    "X.shape"
   ]
  },
  {
   "cell_type": "code",
   "execution_count": 35,
   "metadata": {
    "collapsed": true
   },
   "outputs": [],
   "source": [
    "from sklearn.linear_model import LinearRegression\n",
    "from sklearn.model_selection import cross_val_score"
   ]
  },
  {
   "cell_type": "code",
   "execution_count": 36,
   "metadata": {
    "collapsed": true
   },
   "outputs": [],
   "source": [
    "model = LinearRegression(normalize=True)"
   ]
  },
  {
   "cell_type": "code",
   "execution_count": 37,
   "metadata": {},
   "outputs": [
    {
     "name": "stderr",
     "output_type": "stream",
     "text": [
      "/Users/1003874/anaconda/envs/gcp-vision/lib/python3.6/site-packages/sklearn/metrics/scorer.py:90: DeprecationWarning: Scoring method mean_squared_error was renamed to neg_mean_squared_error in version 0.18 and will be removed in 0.20.\n",
      "  sample_weight=sample_weight)\n",
      "/Users/1003874/anaconda/envs/gcp-vision/lib/python3.6/site-packages/sklearn/metrics/scorer.py:90: DeprecationWarning: Scoring method mean_squared_error was renamed to neg_mean_squared_error in version 0.18 and will be removed in 0.20.\n",
      "  sample_weight=sample_weight)\n",
      "/Users/1003874/anaconda/envs/gcp-vision/lib/python3.6/site-packages/sklearn/metrics/scorer.py:90: DeprecationWarning: Scoring method mean_squared_error was renamed to neg_mean_squared_error in version 0.18 and will be removed in 0.20.\n",
      "  sample_weight=sample_weight)\n",
      "/Users/1003874/anaconda/envs/gcp-vision/lib/python3.6/site-packages/sklearn/metrics/scorer.py:90: DeprecationWarning: Scoring method mean_squared_error was renamed to neg_mean_squared_error in version 0.18 and will be removed in 0.20.\n",
      "  sample_weight=sample_weight)\n",
      "/Users/1003874/anaconda/envs/gcp-vision/lib/python3.6/site-packages/sklearn/metrics/scorer.py:90: DeprecationWarning: Scoring method mean_squared_error was renamed to neg_mean_squared_error in version 0.18 and will be removed in 0.20.\n",
      "  sample_weight=sample_weight)\n",
      "[Parallel(n_jobs=1)]: Done   5 out of   5 | elapsed:    7.1s finished\n"
     ]
    },
    {
     "data": {
      "text/plain": [
       "array([ -8.95444274e+29,  -2.56419309e+29,  -5.54810686e+28,\n",
       "        -1.08946730e+28,  -2.12207418e+26])"
      ]
     },
     "execution_count": 37,
     "metadata": {},
     "output_type": "execute_result"
    }
   ],
   "source": [
    "cross_val_score(model,X=X,y=y,cv=5, verbose=True,scoring='mean_squared_error')"
   ]
  },
  {
   "cell_type": "code",
   "execution_count": 109,
   "metadata": {},
   "outputs": [
    {
     "data": {
      "text/plain": [
       "0.68479938932862949"
      ]
     },
     "execution_count": 109,
     "metadata": {},
     "output_type": "execute_result"
    }
   ],
   "source": [
    "X_train, X_test, y_train, y_test = train_test_split(X, y, test_size=0.2,)\n",
    "model.fit(X_train,y_train)\n",
    "model.score(X_test,y_test)"
   ]
  },
  {
   "cell_type": "code",
   "execution_count": 110,
   "metadata": {},
   "outputs": [
    {
     "name": "stdout",
     "output_type": "stream",
     "text": [
      "RMSE: 6.55\n"
     ]
    }
   ],
   "source": [
    "print(\"RMSE: %.2f\"% math.sqrt(np.mean(( model.predict(X_test) - y_test) ** 2)))"
   ]
  },
  {
   "cell_type": "code",
   "execution_count": 111,
   "metadata": {},
   "outputs": [
    {
     "name": "stdout",
     "output_type": "stream",
     "text": [
      "RMSE: 6.43\n"
     ]
    }
   ],
   "source": [
    "print(\"RMSE: %.2f\"% math.sqrt(np.mean(( model.predict(X_train) - y_train) ** 2)))"
   ]
  },
  {
   "cell_type": "code",
   "execution_count": 112,
   "metadata": {
    "collapsed": true
   },
   "outputs": [],
   "source": [
    "pred = model.predict(X_test)"
   ]
  },
  {
   "cell_type": "code",
   "execution_count": 113,
   "metadata": {},
   "outputs": [
    {
     "data": {
      "text/plain": [
       "[<matplotlib.lines.Line2D at 0x195ad84a8>]"
      ]
     },
     "execution_count": 113,
     "metadata": {},
     "output_type": "execute_result"
    },
    {
     "name": "stderr",
     "output_type": "stream",
     "text": [
      "/Users/1003874/anaconda/envs/gcp-vision/lib/python3.6/site-packages/matplotlib/font_manager.py:1297: UserWarning: findfont: Font family ['nanumgothic'] not found. Falling back to DejaVu Sans\n",
      "  (prop.get_family(), self.defaultFamily[fontext]))\n"
     ]
    },
    {
     "data": {
      "image/png": "[encoded data removed]",
      "text/plain": [
       "<matplotlib.figure.Figure at 0x195ad8da0>"
      ]
     },
     "metadata": {},
     "output_type": "display_data"
    }
   ],
   "source": [
    "index = 1400\n",
    "plt.plot(pred[index:index+100])\n",
    "plt.plot(y_test[index:index+100])"
   ]
  },
  {
   "cell_type": "markdown",
   "metadata": {},
   "source": [
    "### sklearn dnn"
   ]
  },
  {
   "cell_type": "code",
   "execution_count": 43,
   "metadata": {
    "collapsed": true
   },
   "outputs": [],
   "source": [
    "from sklearn.neural_network import MLPRegressor"
   ]
  },
  {
   "cell_type": "code",
   "execution_count": 44,
   "metadata": {
    "collapsed": true
   },
   "outputs": [],
   "source": [
    "mlpr = MLPRegressor(hidden_layer_sizes=(100, 5))"
   ]
  },
  {
   "cell_type": "code",
   "execution_count": 45,
   "metadata": {},
   "outputs": [
    {
     "data": {
      "text/plain": [
       "MLPRegressor(activation='relu', alpha=0.0001, batch_size='auto', beta_1=0.9,\n",
       "       beta_2=0.999, early_stopping=False, epsilon=1e-08,\n",
       "       hidden_layer_sizes=(100, 5), learning_rate='constant',\n",
       "       learning_rate_init=0.001, max_iter=200, momentum=0.9,\n",
       "       nesterovs_momentum=True, power_t=0.5, random_state=None,\n",
       "       shuffle=True, solver='adam', tol=0.0001, validation_fraction=0.1,\n",
       "       verbose=False, warm_start=False)"
      ]
     },
     "execution_count": 45,
     "metadata": {},
     "output_type": "execute_result"
    }
   ],
   "source": [
    "mlpr.fit(X_train,y_train.reshape(len(y_train),))"
   ]
  },
  {
   "cell_type": "code",
   "execution_count": 46,
   "metadata": {},
   "outputs": [
    {
     "name": "stdout",
     "output_type": "stream",
     "text": [
      "RMSE: 16.71\n"
     ]
    }
   ],
   "source": [
    "print(\"RMSE: %.2f\"% math.sqrt(np.mean(( mlpr.predict(X_test) - y_test) ** 2)))"
   ]
  },
  {
   "cell_type": "markdown",
   "metadata": {},
   "source": [
    "### keras dnn model"
   ]
  },
  {
   "cell_type": "code",
   "execution_count": 47,
   "metadata": {},
   "outputs": [
    {
     "name": "stderr",
     "output_type": "stream",
     "text": [
      "Using TensorFlow backend.\n"
     ]
    }
   ],
   "source": [
    "from keras.models import Sequential, Model\n",
    "from keras.layers import Dense, Flatten, Input"
   ]
  },
  {
   "cell_type": "code",
   "execution_count": 51,
   "metadata": {
    "collapsed": true
   },
   "outputs": [],
   "source": [
    "# define base model\n",
    "def baseline_model():\n",
    "    visible = Input(shape=(1025,))\n",
    "    hidden1 = Dense(10, activation='relu')(visible)\n",
    "    hidden1 = Dense(10, activation='relu')(hidden1)\n",
    "    hidden1 = Dense(10, activation='relu')(hidden1)\n",
    "    output = Dense(1, activation='tanh')(hidden1)\n",
    "    model = Model(inputs=visible, outputs=output)\n",
    "    model.compile(optimizer='adam',loss='mean_squared_error')\n",
    "    model.summary()\n",
    "    \n",
    "    return model"
   ]
  },
  {
   "cell_type": "code",
   "execution_count": 52,
   "metadata": {},
   "outputs": [
    {
     "name": "stdout",
     "output_type": "stream",
     "text": [
      "_________________________________________________________________\n",
      "Layer (type)                 Output Shape              Param #   \n",
      "=================================================================\n",
      "input_2 (InputLayer)         (None, 1025)              0         \n",
      "_________________________________________________________________\n",
      "dense_5 (Dense)              (None, 10)                10260     \n",
      "_________________________________________________________________\n",
      "dense_6 (Dense)              (None, 10)                110       \n",
      "_________________________________________________________________\n",
      "dense_7 (Dense)              (None, 10)                110       \n",
      "_________________________________________________________________\n",
      "dense_8 (Dense)              (None, 1)                 11        \n",
      "=================================================================\n",
      "Total params: 10,491\n",
      "Trainable params: 10,491\n",
      "Non-trainable params: 0\n",
      "_________________________________________________________________\n"
     ]
    }
   ],
   "source": [
    "dnn = baseline_model()"
   ]
  },
  {
   "cell_type": "code",
   "execution_count": 53,
   "metadata": {},
   "outputs": [
    {
     "name": "stdout",
     "output_type": "stream",
     "text": [
      "Epoch 1/3\n",
      "16008/16008 [==============================] - 1s 36us/step - loss: 664.5794\n",
      "Epoch 2/3\n",
      "16008/16008 [==============================] - 0s 29us/step - loss: 647.9875\n",
      "Epoch 3/3\n",
      "16008/16008 [==============================] - 0s 28us/step - loss: 647.8469\n"
     ]
    },
    {
     "data": {
      "text/plain": [
       "<keras.callbacks.History at 0x135678a58>"
      ]
     },
     "execution_count": 53,
     "metadata": {},
     "output_type": "execute_result"
    }
   ],
   "source": [
    "dnn.fit(x=X_train,y=y_train,batch_size=100,epochs=3)"
   ]
  },
  {
   "cell_type": "code",
   "execution_count": 54,
   "metadata": {},
   "outputs": [
    {
     "name": "stdout",
     "output_type": "stream",
     "text": [
      "RMSE: 25.53\n"
     ]
    }
   ],
   "source": [
    "print(\"RMSE: %.2f\"% math.sqrt(np.mean(( dnn.predict(X_test) - y_test) ** 2)))"
   ]
  },
  {
   "cell_type": "markdown",
   "metadata": {},
   "source": [
    "### randomforest"
   ]
  },
  {
   "cell_type": "code",
   "execution_count": 55,
   "metadata": {},
   "outputs": [
    {
     "name": "stderr",
     "output_type": "stream",
     "text": [
      "/Users/1003874/anaconda/envs/gcp-vision/lib/python3.6/site-packages/ipykernel_launcher.py:3: DataConversionWarning: A column-vector y was passed when a 1d array was expected. Please change the shape of y to (n_samples,), for example using ravel().\n",
      "  This is separate from the ipykernel package so we can avoid doing imports until\n"
     ]
    },
    {
     "data": {
      "text/plain": [
       "RandomForestRegressor(bootstrap=True, criterion='mse', max_depth=None,\n",
       "           max_features='auto', max_leaf_nodes=None,\n",
       "           min_impurity_split=1e-07, min_samples_leaf=1,\n",
       "           min_samples_split=2, min_weight_fraction_leaf=0.0,\n",
       "           n_estimators=100, n_jobs=-1, oob_score=False, random_state=None,\n",
       "           verbose=0, warm_start=False)"
      ]
     },
     "execution_count": 55,
     "metadata": {},
     "output_type": "execute_result"
    }
   ],
   "source": [
    "from sklearn.ensemble import RandomForestRegressor\n",
    "model_rfr = RandomForestRegressor(n_estimators=100, n_jobs=-1)\n",
    "model_rfr.fit(X_train,y_train)"
   ]
  },
  {
   "cell_type": "code",
   "execution_count": 56,
   "metadata": {},
   "outputs": [
    {
     "name": "stdout",
     "output_type": "stream",
     "text": [
      "RMSE: 15.88\n"
     ]
    }
   ],
   "source": [
    "print(\"RMSE: %.2f\"% math.sqrt(np.mean((model_rfr.predict(X_test) - y_test) ** 2)))"
   ]
  },
  {
   "cell_type": "markdown",
   "metadata": {},
   "source": [
    "### xgboost"
   ]
  },
  {
   "cell_type": "code",
   "execution_count": 57,
   "metadata": {
    "collapsed": true
   },
   "outputs": [],
   "source": [
    "import xgboost"
   ]
  },
  {
   "cell_type": "code",
   "execution_count": 58,
   "metadata": {
    "collapsed": true
   },
   "outputs": [],
   "source": [
    "xgb = xgboost.XGBRegressor(n_estimators=100, booster='gblinear', learning_rate=0.1, gamma=0, subsample=0.75,\n",
    "                           colsample_bytree=1, max_depth=3, n_job=4)"
   ]
  },
  {
   "cell_type": "code",
   "execution_count": 59,
   "metadata": {},
   "outputs": [
    {
     "name": "stdout",
     "output_type": "stream",
     "text": [
      "CPU times: user 7.48 s, sys: 54.4 ms, total: 7.53 s\n",
      "Wall time: 7.53 s\n"
     ]
    },
    {
     "data": {
      "text/plain": [
       "XGBRegressor(base_score=0.5, booster='gblinear', colsample_bylevel=1,\n",
       "       colsample_bytree=1, gamma=0, learning_rate=0.1, max_delta_step=0,\n",
       "       max_depth=3, min_child_weight=1, missing=None, n_estimators=100,\n",
       "       n_job=4, n_jobs=1, nthread=None, objective='reg:linear',\n",
       "       random_state=0, reg_alpha=0, reg_lambda=1, scale_pos_weight=1,\n",
       "       seed=None, silent=True, subsample=0.75)"
      ]
     },
     "execution_count": 59,
     "metadata": {},
     "output_type": "execute_result"
    }
   ],
   "source": [
    "%%time\n",
    "xgb.fit(X_train,y_train)"
   ]
  },
  {
   "cell_type": "code",
   "execution_count": 60,
   "metadata": {},
   "outputs": [
    {
     "name": "stdout",
     "output_type": "stream",
     "text": [
      "RMSE: 12.03\n"
     ]
    }
   ],
   "source": [
    "print(\"RMSE: %.2f\"% math.sqrt(np.mean((xgb.predict(X_test) - y_test) ** 2)))"
   ]
  },
  {
   "cell_type": "markdown",
   "metadata": {},
   "source": [
    "### svr"
   ]
  },
  {
   "cell_type": "code",
   "execution_count": 61,
   "metadata": {
    "collapsed": true
   },
   "outputs": [],
   "source": [
    "from sklearn.svm import LinearSVR"
   ]
  },
  {
   "cell_type": "code",
   "execution_count": 62,
   "metadata": {},
   "outputs": [
    {
     "name": "stderr",
     "output_type": "stream",
     "text": [
      "/Users/1003874/anaconda/envs/gcp-vision/lib/python3.6/site-packages/sklearn/utils/validation.py:526: DataConversionWarning: A column-vector y was passed when a 1d array was expected. Please change the shape of y to (n_samples, ), for example using ravel().\n",
      "  y = column_or_1d(y, warn=True)\n"
     ]
    },
    {
     "data": {
      "text/plain": [
       "LinearSVR(C=1.0, dual=True, epsilon=0.2, fit_intercept=True,\n",
       "     intercept_scaling=1.0, loss='epsilon_insensitive', max_iter=100000,\n",
       "     random_state=None, tol=1e-06, verbose=0)"
      ]
     },
     "execution_count": 62,
     "metadata": {},
     "output_type": "execute_result"
    }
   ],
   "source": [
    "clf = LinearSVR(C=1.0,epsilon=0.2, max_iter=100000,tol=0.000001)\n",
    "clf.fit(X_train, y_train)"
   ]
  },
  {
   "cell_type": "code",
   "execution_count": 63,
   "metadata": {},
   "outputs": [
    {
     "name": "stdout",
     "output_type": "stream",
     "text": [
      "RMSE: 14.88\n"
     ]
    }
   ],
   "source": [
    "print(\"RMSE: %.2f\"% math.sqrt(np.mean((clf.predict(X_test) - y_test) ** 2)))"
   ]
  },
  {
   "cell_type": "code",
   "execution_count": null,
   "metadata": {
    "collapsed": true
   },
   "outputs": [],
   "source": []
  }
 ],
 "metadata": {
  "kernelspec": {
   "display_name": "Python 3",
   "language": "python",
   "name": "python3"
  },
  "language_info": {
   "codemirror_mode": {
    "name": "ipython",
    "version": 3
   },
   "file_extension": ".py",
   "mimetype": "text/x-python",
   "name": "python",
   "nbconvert_exporter": "python",
   "pygments_lexer": "ipython3",
   "version": "3.6.1"
  }
 },
 "nbformat": 4,
 "nbformat_minor": 2
}
